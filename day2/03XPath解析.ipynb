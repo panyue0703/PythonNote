{
 "cells": [
  {
   "cell_type": "markdown",
   "source": [
    "# 1. XPath"
   ],
   "metadata": {
    "collapsed": false
   }
  },
  {
   "cell_type": "code",
   "execution_count": 1,
   "metadata": {
    "collapsed": true
   },
   "outputs": [],
   "source": [
    "from lxml import etree"
   ]
  },
  {
   "cell_type": "code",
   "execution_count": 2,
   "outputs": [],
   "source": [
    "xml_str = \"\"\"\n",
    "<supermarket>\n",
    "    <name>永辉超市</name>\n",
    "    <address>肖家河大厦</address>\n",
    "    <goodsList>\n",
    "        <goods name=\"泡面\" price=\"3.5\" count=\"20\"></goods>\n",
    "        <goods name=\"矿泉水\" price=\"2\" count=\"50\"></goods>\n",
    "        <goods name=\"面包\" price=\"5\" count=\"15\"></goods>\n",
    "    </goodsList>\n",
    "    <worker_list>\n",
    "        <cashier name=\"张三\" pay=\"4000\"></cashier>\n",
    "        <shoppingGuide name=\"李四\" pay=\"3500\"></shoppingGuide>\n",
    "    </worker_list>\n",
    "    <goods price=\"50\" count=\"15\">\n",
    "         <name>烟</name>\n",
    "    </goods>\n",
    "\n",
    "</supermarket>\n",
    "\"\"\""
   ],
   "metadata": {
    "collapsed": false
   }
  },
  {
   "cell_type": "markdown",
   "source": [
    "### 将其转化为tree的结构"
   ],
   "metadata": {
    "collapsed": false
   }
  },
  {
   "cell_type": "markdown",
   "source": [
    "XPath写法：节点对象.xpath（路径表达式）\n",
    "找到对应节点后返回保存节点对象的列表"
   ],
   "metadata": {
    "collapsed": false
   }
  },
  {
   "cell_type": "code",
   "execution_count": 4,
   "outputs": [
    {
     "name": "stdout",
     "output_type": "stream",
     "text": [
      "<Element supermarket at 0x163621bcbc0>\n"
     ]
    }
   ],
   "source": [
    "supermarket=etree.XML(xml_str)\n",
    "print(supermarket)"
   ],
   "metadata": {
    "collapsed": false
   }
  },
  {
   "cell_type": "markdown",
   "source": [
    "### 1. 获取标签（获取节点）"
   ],
   "metadata": {
    "collapsed": false
   }
  },
  {
   "cell_type": "markdown",
   "source": [
    "### 绝对路径 相对路径 双斜杠路径"
   ],
   "metadata": {
    "collapsed": false
   }
  },
  {
   "cell_type": "markdown",
   "source": [
    "### （1）绝对路径\n",
    "\n",
    "单斜杠后面+绝对路径  /绝对路径\n",
    "不管xpath前面是什么，都从根节点选起"
   ],
   "metadata": {
    "collapsed": false
   }
  },
  {
   "cell_type": "code",
   "execution_count": 4,
   "outputs": [
    {
     "name": "stdout",
     "output_type": "stream",
     "text": [
      "[<Element cashier at 0x2178ec97dc0>]\n"
     ]
    }
   ],
   "source": [
    "cashier = supermarket.xpath('/supermarket/worker_list/cashier')\n",
    "print(cashier)"
   ],
   "metadata": {
    "collapsed": false
   }
  },
  {
   "cell_type": "code",
   "execution_count": 5,
   "outputs": [
    {
     "name": "stdout",
     "output_type": "stream",
     "text": [
      "[<Element worker_list at 0x2178edad800>]\n"
     ]
    }
   ],
   "source": [
    "# 以worker_list为当前节点\n",
    "# 取出来\n",
    "worker_list=supermarket.xpath('/supermarket/worker_list')\n",
    "print(worker_list)"
   ],
   "metadata": {
    "collapsed": false
   }
  },
  {
   "cell_type": "markdown",
   "source": [
    "取出来是列表对象 没有xpath!不能直接解析"
   ],
   "metadata": {
    "collapsed": false
   }
  },
  {
   "cell_type": "code",
   "execution_count": 6,
   "outputs": [
    {
     "ename": "AttributeError",
     "evalue": "'list' object has no attribute 'xpath'",
     "output_type": "error",
     "traceback": [
      "\u001B[1;31m---------------------------------------------------------------------------\u001B[0m",
      "\u001B[1;31mAttributeError\u001B[0m                            Traceback (most recent call last)",
      "Cell \u001B[1;32mIn[6], line 1\u001B[0m\n\u001B[1;32m----> 1\u001B[0m cashier \u001B[38;5;241m=\u001B[39m \u001B[43mworker_list\u001B[49m\u001B[38;5;241;43m.\u001B[39;49m\u001B[43mxpath\u001B[49m(\u001B[38;5;124m'\u001B[39m\u001B[38;5;124m/worker_list/cashier\u001B[39m\u001B[38;5;124m'\u001B[39m)\n\u001B[0;32m      2\u001B[0m \u001B[38;5;28mprint\u001B[39m(cashier)\n",
      "\u001B[1;31mAttributeError\u001B[0m: 'list' object has no attribute 'xpath'"
     ]
    }
   ],
   "source": [
    "cashier = worker_list.xpath('/worker_list/cashier')\n",
    "print(cashier)"
   ],
   "metadata": {
    "collapsed": false
   }
  },
  {
   "cell_type": "markdown",
   "source": [
    "把列表里的元素取出来"
   ],
   "metadata": {
    "collapsed": false
   }
  },
  {
   "cell_type": "code",
   "execution_count": 12,
   "outputs": [
    {
     "name": "stdout",
     "output_type": "stream",
     "text": [
      "[]\n"
     ]
    }
   ],
   "source": [
    "#没写根节点\n",
    "cashier = worker_list[0].xpath('/worker_list/cashier')\n",
    "print(cashier)"
   ],
   "metadata": {
    "collapsed": false
   }
  },
  {
   "cell_type": "code",
   "execution_count": 13,
   "outputs": [
    {
     "name": "stdout",
     "output_type": "stream",
     "text": [
      "[<Element cashier at 0x2178ec97dc0>]\n"
     ]
    }
   ],
   "source": [
    "cashier = worker_list[0].xpath('/supermarket/worker_list/cashier')\n",
    "print(cashier)"
   ],
   "metadata": {
    "collapsed": false
   }
  },
  {
   "cell_type": "markdown",
   "source": [
    "### （2）相对路径\n",
    "xpath前面是谁，当前节点就是谁\n",
    "通常会用一个点.来表示当前节点\n",
    "其中的./是可以省略的"
   ],
   "metadata": {
    "collapsed": false
   }
  },
  {
   "cell_type": "code",
   "execution_count": 14,
   "outputs": [
    {
     "name": "stdout",
     "output_type": "stream",
     "text": [
      "[<Element cashier at 0x2178ec97dc0>]\n"
     ]
    }
   ],
   "source": [
    "cashier = supermarket.xpath('./worker_list/cashier')\n",
    "print(cashier)"
   ],
   "metadata": {
    "collapsed": false
   }
  },
  {
   "cell_type": "code",
   "execution_count": 20,
   "outputs": [
    {
     "name": "stdout",
     "output_type": "stream",
     "text": [
      "[<Element cashier at 0x2178ec97dc0>]\n"
     ]
    }
   ],
   "source": [
    "#worker_list=supermarket.xpath('/supermarket/worker_list')[0]\n",
    "#cashier = worker_list.xpath('./cashier')\n",
    "cashier = worker_list[0].xpath('../cashier')\n",
    "print(cashier)"
   ],
   "metadata": {
    "collapsed": false
   }
  },
  {
   "cell_type": "markdown",
   "source": [
    "requests 请求、xpath解析\n",
    "1.做好请求 拿到源码\n",
    "2.解析需要的内容\n",
    "\n",
    "乱码问题-->转码\n",
    "请求太赤裸-->header伪装\n",
    "UA --> 提供浏览器的身份\n",
    "cooike--> 提供人的身份\n",
    "\n",
    "xml语言 选取标签的两种方式\n",
    "绝对路径 相对路径"
   ],
   "metadata": {
    "collapsed": false
   }
  },
  {
   "cell_type": "markdown",
   "source": [
    "### （3） 双斜杠\n",
    "从任意位置开始查找 查找方式和XPath前面解点无关"
   ],
   "metadata": {
    "collapsed": false
   }
  },
  {
   "cell_type": "code",
   "execution_count": 5,
   "outputs": [
    {
     "name": "stdout",
     "output_type": "stream",
     "text": [
      "[<Element cashier at 0x163621bc9c0>]\n"
     ]
    }
   ],
   "source": [
    "cashier = supermarket.xpath('//cashier')\n",
    "print(cashier)"
   ],
   "metadata": {
    "collapsed": false
   }
  },
  {
   "cell_type": "markdown",
   "source": [
    "#### 用双斜杠直接取标签是无视层级的！"
   ],
   "metadata": {
    "collapsed": false
   }
  },
  {
   "cell_type": "code",
   "execution_count": 15,
   "outputs": [
    {
     "name": "stdout",
     "output_type": "stream",
     "text": [
      "[<Element goods at 0x163621aa740>, <Element goods at 0x163621aa380>, <Element goods at 0x163621aa8c0>, <Element goods at 0x163621aa980>]\n"
     ]
    }
   ],
   "source": [
    "goods = supermarket.xpath('//goods')\n",
    "print(goods)"
   ],
   "metadata": {
    "collapsed": false
   }
  },
  {
   "cell_type": "markdown",
   "source": [
    "指定层级"
   ],
   "metadata": {
    "collapsed": false
   }
  },
  {
   "cell_type": "code",
   "execution_count": 24,
   "outputs": [
    {
     "name": "stdout",
     "output_type": "stream",
     "text": [
      "[<Element goods at 0x1636220ee40>, <Element goods at 0x1636220ef00>, <Element goods at 0x1636220ef40>]\n"
     ]
    }
   ],
   "source": [
    "goods = supermarket.xpath('//goodsList/goods')\n",
    "print(goods)"
   ],
   "metadata": {
    "collapsed": false
   }
  },
  {
   "cell_type": "markdown",
   "source": [
    "# 2. 获取节点内容"
   ],
   "metadata": {
    "collapsed": false
   }
  },
  {
   "cell_type": "markdown",
   "source": [
    "### 获取标签值"
   ],
   "metadata": {
    "collapsed": false
   }
  },
  {
   "cell_type": "markdown",
   "source": [
    "#### 语法：获取节点的路径/text()"
   ],
   "metadata": {
    "collapsed": false
   }
  },
  {
   "cell_type": "code",
   "execution_count": 14,
   "outputs": [
    {
     "name": "stdout",
     "output_type": "stream",
     "text": [
      "['永辉超市']\n"
     ]
    }
   ],
   "source": [
    "name = supermarket.xpath('./name/text()')\n",
    "print(name)"
   ],
   "metadata": {
    "collapsed": false
   }
  },
  {
   "cell_type": "markdown",
   "source": [
    "查找所有name标签内容"
   ],
   "metadata": {
    "collapsed": false
   }
  },
  {
   "cell_type": "code",
   "execution_count": 19,
   "outputs": [
    {
     "name": "stdout",
     "output_type": "stream",
     "text": [
      "['永辉超市', '烟']\n"
     ]
    }
   ],
   "source": [
    "name = supermarket.xpath('//name/text()')\n",
    "print(name)"
   ],
   "metadata": {
    "collapsed": false
   }
  },
  {
   "cell_type": "markdown",
   "source": [
    "### 获取属性值"
   ],
   "metadata": {
    "collapsed": false
   }
  },
  {
   "cell_type": "markdown",
   "source": [
    "#### 语法：获取节点路径/@属性名"
   ],
   "metadata": {
    "collapsed": false
   }
  },
  {
   "cell_type": "code",
   "execution_count": 25,
   "outputs": [
    {
     "name": "stdout",
     "output_type": "stream",
     "text": [
      "['3.5', '2', '5']\n"
     ]
    }
   ],
   "source": [
    "price = supermarket.xpath('./goodsList/goods/@price')\n",
    "print(price)"
   ],
   "metadata": {
    "collapsed": false
   }
  },
  {
   "cell_type": "code",
   "execution_count": 32,
   "outputs": [
    {
     "name": "stdout",
     "output_type": "stream",
     "text": [
      "['50']\n"
     ]
    }
   ],
   "source": [
    "price = supermarket.xpath('goods/@price')\n",
    "print(price)"
   ],
   "metadata": {
    "collapsed": false
   }
  },
  {
   "cell_type": "markdown",
   "source": [
    "# 3. XPath 谓语"
   ],
   "metadata": {
    "collapsed": false
   }
  },
  {
   "cell_type": "code",
   "execution_count": 38,
   "outputs": [
    {
     "name": "stdout",
     "output_type": "stream",
     "text": [
      "['3.5']\n"
     ]
    }
   ],
   "source": [
    "price = supermarket.xpath('./goodsList/goods[1]/@price')\n",
    "print(price)"
   ],
   "metadata": {
    "collapsed": false
   }
  },
  {
   "cell_type": "code",
   "execution_count": 39,
   "outputs": [
    {
     "name": "stdout",
     "output_type": "stream",
     "text": [
      "['2']\n"
     ]
    }
   ],
   "source": [
    "price = supermarket.xpath('./goodsList/goods[2]/@price')\n",
    "print(price)"
   ],
   "metadata": {
    "collapsed": false
   }
  },
  {
   "cell_type": "code",
   "execution_count": 37,
   "outputs": [
    {
     "name": "stdout",
     "output_type": "stream",
     "text": [
      "['5']\n"
     ]
    }
   ],
   "source": [
    "price = supermarket.xpath('./goodsList/goods[3]/@price')\n",
    "print(price)"
   ],
   "metadata": {
    "collapsed": false
   }
  },
  {
   "cell_type": "code",
   "execution_count": 40,
   "outputs": [
    {
     "name": "stdout",
     "output_type": "stream",
     "text": [
      "['5']\n"
     ]
    }
   ],
   "source": [
    "price = supermarket.xpath('./goodsList/goods[last()]/@price')\n",
    "print(price)"
   ],
   "metadata": {
    "collapsed": false
   }
  },
  {
   "cell_type": "code",
   "execution_count": 41,
   "outputs": [
    {
     "name": "stdout",
     "output_type": "stream",
     "text": [
      "['5']\n"
     ]
    }
   ],
   "source": [
    "price = supermarket.xpath('./goodsList/goods[@name=\"面包\"]/@price')\n",
    "print(price)"
   ],
   "metadata": {
    "collapsed": false
   }
  }
 ],
 "metadata": {
  "kernelspec": {
   "display_name": "Python 3",
   "language": "python",
   "name": "python3"
  },
  "language_info": {
   "codemirror_mode": {
    "name": "ipython",
    "version": 2
   },
   "file_extension": ".py",
   "mimetype": "text/x-python",
   "name": "python",
   "nbconvert_exporter": "python",
   "pygments_lexer": "ipython2",
   "version": "2.7.6"
  }
 },
 "nbformat": 4,
 "nbformat_minor": 0
}
