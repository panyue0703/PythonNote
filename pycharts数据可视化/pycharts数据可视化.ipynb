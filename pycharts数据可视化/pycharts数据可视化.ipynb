{
 "cells": [
  {
   "cell_type": "markdown",
   "source": [
    "## 制作饼图"
   ],
   "metadata": {
    "collapsed": false
   }
  },
  {
   "cell_type": "code",
   "execution_count": 1,
   "outputs": [],
   "source": [
    "from pyecharts import options as opts\n",
    "from pyecharts.charts import Pie\n",
    "from pyecharts.faker import Faker"
   ],
   "metadata": {
    "collapsed": false
   }
  },
  {
   "cell_type": "code",
   "execution_count": 3,
   "outputs": [
    {
     "data": {
      "text/plain": "['哈士奇', '萨摩耶', '泰迪', '金毛', '牧羊犬', '吉娃娃', '柯基']"
     },
     "execution_count": 3,
     "metadata": {},
     "output_type": "execute_result"
    }
   ],
   "source": [
    "Faker.choose()"
   ],
   "metadata": {
    "collapsed": false
   }
  },
  {
   "cell_type": "code",
   "execution_count": 4,
   "outputs": [
    {
     "data": {
      "text/plain": "[32, 73, 67, 141, 58, 45, 105]"
     },
     "execution_count": 4,
     "metadata": {},
     "output_type": "execute_result"
    }
   ],
   "source": [
    "Faker.values()"
   ],
   "metadata": {
    "collapsed": false
   }
  },
  {
   "cell_type": "code",
   "execution_count": 6,
   "outputs": [
    {
     "name": "stdout",
     "output_type": "stream",
     "text": [
      "('周一', 39)\n",
      "('周二', 55)\n",
      "('周三', 111)\n",
      "('周四', 85)\n",
      "('周五', 90)\n",
      "('周六', 47)\n",
      "('周日', 134)\n"
     ]
    }
   ],
   "source": [
    "a = zip(Faker.choose(),Faker.values())\n",
    "for i in a:\n",
    "    print(i)"
   ],
   "metadata": {
    "collapsed": false
   }
  },
  {
   "cell_type": "code",
   "execution_count": 11,
   "outputs": [],
   "source": [
    "c = (\n",
    "    Pie()\n",
    "    .add(\n",
    "        \"OP1\",[z for z in zip(Faker.choose(),Faker.values())])\n",
    "    .set_global_opts(\n",
    "    title_opts=opts.TitleOpts(title=\"主标题喵~\",subtitle='副标题喵~'))\n",
    "    .set_series_opts(label_opts=opts.LabelOpts(formatter=\"{b}:{c}\"))\n",
    "    # 生成图表\n",
    "    # .render(\"pie_base.html\")\n",
    "    .render_notebook()\n",
    ")"
   ],
   "metadata": {
    "collapsed": false
   }
  },
  {
   "cell_type": "code",
   "execution_count": 12,
   "outputs": [
    {
     "data": {
      "text/plain": "<pyecharts.render.display.HTML at 0x1fa7eb360a0>",
      "text/html": "\n<script>\n    require.config({\n        paths: {\n            'echarts':'https://assets.pyecharts.org/assets/v5/echarts.min'\n        }\n    });\n</script>\n\n        <div id=\"22165218c3dc479ba1068a81ce35dd56\" style=\"width:900px; height:500px;\"></div>\n\n<script>\n        require(['echarts'], function(echarts) {\n                var chart_22165218c3dc479ba1068a81ce35dd56 = echarts.init(\n                    document.getElementById('22165218c3dc479ba1068a81ce35dd56'), 'white', {renderer: 'canvas'});\n                var option_22165218c3dc479ba1068a81ce35dd56 = {\n    \"animation\": true,\n    \"animationThreshold\": 2000,\n    \"animationDuration\": 1000,\n    \"animationEasing\": \"cubicOut\",\n    \"animationDelay\": 0,\n    \"animationDurationUpdate\": 300,\n    \"animationEasingUpdate\": \"cubicOut\",\n    \"animationDelayUpdate\": 0,\n    \"aria\": {\n        \"enabled\": false\n    },\n    \"color\": [\n        \"#5470c6\",\n        \"#91cc75\",\n        \"#fac858\",\n        \"#ee6666\",\n        \"#73c0de\",\n        \"#3ba272\",\n        \"#fc8452\",\n        \"#9a60b4\",\n        \"#ea7ccc\"\n    ],\n    \"series\": [\n        {\n            \"type\": \"pie\",\n            \"name\": \"OP1\",\n            \"colorBy\": \"data\",\n            \"legendHoverLink\": true,\n            \"selectedMode\": false,\n            \"selectedOffset\": 10,\n            \"clockwise\": true,\n            \"startAngle\": 90,\n            \"minAngle\": 0,\n            \"minShowLabelAngle\": 0,\n            \"avoidLabelOverlap\": true,\n            \"stillShowZeroSum\": true,\n            \"percentPrecision\": 2,\n            \"showEmptyCircle\": true,\n            \"emptyCircleStyle\": {\n                \"color\": \"lightgray\",\n                \"borderColor\": \"#000\",\n                \"borderWidth\": 0,\n                \"borderType\": \"solid\",\n                \"borderDashOffset\": 0,\n                \"borderCap\": \"butt\",\n                \"borderJoin\": \"bevel\",\n                \"borderMiterLimit\": 10,\n                \"opacity\": 1\n            },\n            \"data\": [\n                {\n                    \"name\": \"\\u6cb3\\u9a6c\",\n                    \"value\": 122\n                },\n                {\n                    \"name\": \"\\u87d2\\u86c7\",\n                    \"value\": 83\n                },\n                {\n                    \"name\": \"\\u8001\\u864e\",\n                    \"value\": 91\n                },\n                {\n                    \"name\": \"\\u5927\\u8c61\",\n                    \"value\": 142\n                },\n                {\n                    \"name\": \"\\u5154\\u5b50\",\n                    \"value\": 110\n                },\n                {\n                    \"name\": \"\\u718a\\u732b\",\n                    \"value\": 136\n                },\n                {\n                    \"name\": \"\\u72ee\\u5b50\",\n                    \"value\": 150\n                }\n            ],\n            \"radius\": [\n                \"0%\",\n                \"75%\"\n            ],\n            \"center\": [\n                \"50%\",\n                \"50%\"\n            ],\n            \"label\": {\n                \"show\": true,\n                \"margin\": 8,\n                \"formatter\": \"{b}:{c}\"\n            },\n            \"labelLine\": {\n                \"show\": true,\n                \"showAbove\": false,\n                \"length\": 15,\n                \"length2\": 15,\n                \"smooth\": false,\n                \"minTurnAngle\": 90,\n                \"maxSurfaceAngle\": 90\n            },\n            \"rippleEffect\": {\n                \"show\": true,\n                \"brushType\": \"stroke\",\n                \"scale\": 2.5,\n                \"period\": 4\n            }\n        }\n    ],\n    \"legend\": [\n        {\n            \"data\": [\n                \"\\u6cb3\\u9a6c\",\n                \"\\u87d2\\u86c7\",\n                \"\\u8001\\u864e\",\n                \"\\u5927\\u8c61\",\n                \"\\u5154\\u5b50\",\n                \"\\u718a\\u732b\",\n                \"\\u72ee\\u5b50\"\n            ],\n            \"selected\": {},\n            \"show\": true,\n            \"padding\": 5,\n            \"itemGap\": 10,\n            \"itemWidth\": 25,\n            \"itemHeight\": 14,\n            \"backgroundColor\": \"transparent\",\n            \"borderColor\": \"#ccc\",\n            \"borderWidth\": 1,\n            \"borderRadius\": 0,\n            \"pageButtonItemGap\": 5,\n            \"pageButtonPosition\": \"end\",\n            \"pageFormatter\": \"{current}/{total}\",\n            \"pageIconColor\": \"#2f4554\",\n            \"pageIconInactiveColor\": \"#aaa\",\n            \"pageIconSize\": 15,\n            \"animationDurationUpdate\": 800,\n            \"selector\": false,\n            \"selectorPosition\": \"auto\",\n            \"selectorItemGap\": 7,\n            \"selectorButtonGap\": 10\n        }\n    ],\n    \"tooltip\": {\n        \"show\": true,\n        \"trigger\": \"item\",\n        \"triggerOn\": \"mousemove|click\",\n        \"axisPointer\": {\n            \"type\": \"line\"\n        },\n        \"showContent\": true,\n        \"alwaysShowContent\": false,\n        \"showDelay\": 0,\n        \"hideDelay\": 100,\n        \"enterable\": false,\n        \"confine\": false,\n        \"appendToBody\": false,\n        \"transitionDuration\": 0.4,\n        \"textStyle\": {\n            \"fontSize\": 14\n        },\n        \"borderWidth\": 0,\n        \"padding\": 5,\n        \"order\": \"seriesAsc\"\n    },\n    \"title\": [\n        {\n            \"show\": true,\n            \"text\": \"\\u4e3b\\u6807\\u9898\\u55b5~\",\n            \"target\": \"blank\",\n            \"subtext\": \"\\u526f\\u6807\\u9898\\u55b5~\",\n            \"subtarget\": \"blank\",\n            \"padding\": 5,\n            \"itemGap\": 10,\n            \"textAlign\": \"auto\",\n            \"textVerticalAlign\": \"auto\",\n            \"triggerEvent\": false\n        }\n    ]\n};\n                chart_22165218c3dc479ba1068a81ce35dd56.setOption(option_22165218c3dc479ba1068a81ce35dd56);\n        });\n    </script>\n"
     },
     "execution_count": 12,
     "metadata": {},
     "output_type": "execute_result"
    }
   ],
   "source": [
    "c"
   ],
   "metadata": {
    "collapsed": false
   }
  },
  {
   "cell_type": "markdown",
   "source": [
    "## 柱状图喵"
   ],
   "metadata": {
    "collapsed": false
   }
  },
  {
   "cell_type": "code",
   "execution_count": 13,
   "outputs": [],
   "source": [
    "from pyecharts.charts import Bar"
   ],
   "metadata": {
    "collapsed": false
   }
  },
  {
   "cell_type": "code",
   "execution_count": 18,
   "outputs": [],
   "source": [
    "A = (\n",
    "    Bar()\n",
    "    .add_xaxis(Faker.choose())\n",
    "    .add_yaxis(\"A喵\",Faker.values())\n",
    "    .add_yaxis(\"B喵\",Faker.values())\n",
    "    .set_global_opts(\n",
    "        title_opts=opts.TitleOpts(title='主标题喵',subtitle='副标题喵'),\n",
    "        yaxis_opts=opts.AxisOpts(name='y轴喵'),\n",
    "        xaxis_opts=opts.AxisOpts(name='x轴喵')\n",
    "    )\n",
    "#    .render_notebook()\n",
    "    .render(\"bar_base.html\")\n",
    ")"
   ],
   "metadata": {
    "collapsed": false
   }
  },
  {
   "cell_type": "code",
   "execution_count": 17,
   "outputs": [
    {
     "data": {
      "text/plain": "<pyecharts.render.display.HTML at 0x1fa7ee52760>",
      "text/html": "\n<script>\n    require.config({\n        paths: {\n            'echarts':'https://assets.pyecharts.org/assets/v5/echarts.min'\n        }\n    });\n</script>\n\n        <div id=\"d11be53daaac41f483de8879d6fc20c4\" style=\"width:900px; height:500px;\"></div>\n\n<script>\n        require(['echarts'], function(echarts) {\n                var chart_d11be53daaac41f483de8879d6fc20c4 = echarts.init(\n                    document.getElementById('d11be53daaac41f483de8879d6fc20c4'), 'white', {renderer: 'canvas'});\n                var option_d11be53daaac41f483de8879d6fc20c4 = {\n    \"animation\": true,\n    \"animationThreshold\": 2000,\n    \"animationDuration\": 1000,\n    \"animationEasing\": \"cubicOut\",\n    \"animationDelay\": 0,\n    \"animationDurationUpdate\": 300,\n    \"animationEasingUpdate\": \"cubicOut\",\n    \"animationDelayUpdate\": 0,\n    \"aria\": {\n        \"enabled\": false\n    },\n    \"color\": [\n        \"#5470c6\",\n        \"#91cc75\",\n        \"#fac858\",\n        \"#ee6666\",\n        \"#73c0de\",\n        \"#3ba272\",\n        \"#fc8452\",\n        \"#9a60b4\",\n        \"#ea7ccc\"\n    ],\n    \"series\": [\n        {\n            \"type\": \"bar\",\n            \"name\": \"A\\u55b5\",\n            \"legendHoverLink\": true,\n            \"data\": [\n                104,\n                113,\n                36,\n                64,\n                56,\n                115,\n                106\n            ],\n            \"realtimeSort\": false,\n            \"showBackground\": false,\n            \"stackStrategy\": \"samesign\",\n            \"cursor\": \"pointer\",\n            \"barMinHeight\": 0,\n            \"barCategoryGap\": \"20%\",\n            \"barGap\": \"30%\",\n            \"large\": false,\n            \"largeThreshold\": 400,\n            \"seriesLayoutBy\": \"column\",\n            \"datasetIndex\": 0,\n            \"clip\": true,\n            \"zlevel\": 0,\n            \"z\": 2,\n            \"label\": {\n                \"show\": true,\n                \"margin\": 8\n            }\n        },\n        {\n            \"type\": \"bar\",\n            \"name\": \"B\\u55b5\",\n            \"legendHoverLink\": true,\n            \"data\": [\n                119,\n                136,\n                65,\n                138,\n                123,\n                41,\n                87\n            ],\n            \"realtimeSort\": false,\n            \"showBackground\": false,\n            \"stackStrategy\": \"samesign\",\n            \"cursor\": \"pointer\",\n            \"barMinHeight\": 0,\n            \"barCategoryGap\": \"20%\",\n            \"barGap\": \"30%\",\n            \"large\": false,\n            \"largeThreshold\": 400,\n            \"seriesLayoutBy\": \"column\",\n            \"datasetIndex\": 0,\n            \"clip\": true,\n            \"zlevel\": 0,\n            \"z\": 2,\n            \"label\": {\n                \"show\": true,\n                \"margin\": 8\n            }\n        }\n    ],\n    \"legend\": [\n        {\n            \"data\": [\n                \"A\\u55b5\",\n                \"B\\u55b5\"\n            ],\n            \"selected\": {\n                \"A\\u55b5\": true,\n                \"B\\u55b5\": true\n            },\n            \"show\": true,\n            \"padding\": 5,\n            \"itemGap\": 10,\n            \"itemWidth\": 25,\n            \"itemHeight\": 14,\n            \"backgroundColor\": \"transparent\",\n            \"borderColor\": \"#ccc\",\n            \"borderWidth\": 1,\n            \"borderRadius\": 0,\n            \"pageButtonItemGap\": 5,\n            \"pageButtonPosition\": \"end\",\n            \"pageFormatter\": \"{current}/{total}\",\n            \"pageIconColor\": \"#2f4554\",\n            \"pageIconInactiveColor\": \"#aaa\",\n            \"pageIconSize\": 15,\n            \"animationDurationUpdate\": 800,\n            \"selector\": false,\n            \"selectorPosition\": \"auto\",\n            \"selectorItemGap\": 7,\n            \"selectorButtonGap\": 10\n        }\n    ],\n    \"tooltip\": {\n        \"show\": true,\n        \"trigger\": \"item\",\n        \"triggerOn\": \"mousemove|click\",\n        \"axisPointer\": {\n            \"type\": \"line\"\n        },\n        \"showContent\": true,\n        \"alwaysShowContent\": false,\n        \"showDelay\": 0,\n        \"hideDelay\": 100,\n        \"enterable\": false,\n        \"confine\": false,\n        \"appendToBody\": false,\n        \"transitionDuration\": 0.4,\n        \"textStyle\": {\n            \"fontSize\": 14\n        },\n        \"borderWidth\": 0,\n        \"padding\": 5,\n        \"order\": \"seriesAsc\"\n    },\n    \"xAxis\": [\n        {\n            \"name\": \"x\\u8f74\\u55b5\",\n            \"show\": true,\n            \"scale\": false,\n            \"nameLocation\": \"end\",\n            \"nameGap\": 15,\n            \"gridIndex\": 0,\n            \"inverse\": false,\n            \"offset\": 0,\n            \"splitNumber\": 5,\n            \"minInterval\": 0,\n            \"splitLine\": {\n                \"show\": true,\n                \"lineStyle\": {\n                    \"show\": true,\n                    \"width\": 1,\n                    \"opacity\": 1,\n                    \"curveness\": 0,\n                    \"type\": \"solid\"\n                }\n            },\n            \"data\": [\n                \"\\u5468\\u4e00\",\n                \"\\u5468\\u4e8c\",\n                \"\\u5468\\u4e09\",\n                \"\\u5468\\u56db\",\n                \"\\u5468\\u4e94\",\n                \"\\u5468\\u516d\",\n                \"\\u5468\\u65e5\"\n            ]\n        }\n    ],\n    \"yAxis\": [\n        {\n            \"name\": \"y\\u8f74\\u55b5\",\n            \"show\": true,\n            \"scale\": false,\n            \"nameLocation\": \"end\",\n            \"nameGap\": 15,\n            \"gridIndex\": 0,\n            \"inverse\": false,\n            \"offset\": 0,\n            \"splitNumber\": 5,\n            \"minInterval\": 0,\n            \"splitLine\": {\n                \"show\": true,\n                \"lineStyle\": {\n                    \"show\": true,\n                    \"width\": 1,\n                    \"opacity\": 1,\n                    \"curveness\": 0,\n                    \"type\": \"solid\"\n                }\n            }\n        }\n    ],\n    \"title\": [\n        {\n            \"show\": true,\n            \"text\": \"\\u4e3b\\u6807\\u9898\\u55b5\",\n            \"target\": \"blank\",\n            \"subtext\": \"\\u526f\\u6807\\u9898\\u55b5\",\n            \"subtarget\": \"blank\",\n            \"padding\": 5,\n            \"itemGap\": 10,\n            \"textAlign\": \"auto\",\n            \"textVerticalAlign\": \"auto\",\n            \"triggerEvent\": false\n        }\n    ]\n};\n                chart_d11be53daaac41f483de8879d6fc20c4.setOption(option_d11be53daaac41f483de8879d6fc20c4);\n        });\n    </script>\n"
     },
     "execution_count": 17,
     "metadata": {},
     "output_type": "execute_result"
    }
   ],
   "source": [
    "A"
   ],
   "metadata": {
    "collapsed": false
   }
  },
  {
   "cell_type": "markdown",
   "source": [],
   "metadata": {
    "collapsed": false
   }
  },
  {
   "cell_type": "markdown",
   "source": [
    "智联招聘 学历avg柱状图pycharts\n",
    "\n",
    "index   value\n",
    "\n",
    "xxxx_list = .index.to_list()\n"
   ],
   "metadata": {
    "collapsed": false
   }
  }
 ],
 "metadata": {
  "kernelspec": {
   "display_name": "Python 3",
   "language": "python",
   "name": "python3"
  },
  "language_info": {
   "codemirror_mode": {
    "name": "ipython",
    "version": 2
   },
   "file_extension": ".py",
   "mimetype": "text/x-python",
   "name": "python",
   "nbconvert_exporter": "python",
   "pygments_lexer": "ipython2",
   "version": "2.7.6"
  }
 },
 "nbformat": 4,
 "nbformat_minor": 0
}
