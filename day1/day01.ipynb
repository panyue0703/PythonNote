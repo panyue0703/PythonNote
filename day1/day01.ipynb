{
 "cells": [
  {
   "cell_type": "markdown",
   "source": [
    "# 数据元素与变量"
   ],
   "metadata": {
    "collapsed": false
   }
  },
  {
   "cell_type": "markdown",
   "source": [
    "## 1.python中数据元素与变量"
   ],
   "metadata": {
    "collapsed": false
   }
  },
  {
   "cell_type": "code",
   "execution_count": 6,
   "outputs": [
    {
     "name": "stdout",
     "output_type": "stream",
     "text": [
      "1\n"
     ]
    }
   ],
   "source": [
    "a = 1\n",
    "print(a)"
   ],
   "metadata": {
    "collapsed": false
   }
  },
  {
   "cell_type": "markdown",
   "source": [
    "## 2.变量名定义规则\n",
    "    (1 硬性规则\n",
    "        a.变量名必须由三个（数字、字母、下划线），并且一定不能有数字开头\n",
    "        b.大小写敏感\n",
    "        c.变量名不能和关键字重名\n",
    "        ['False', 'None', 'True', 'and', 'as', 'assert', 'break', 'class', 'continue', 'def', 'del', 'elif', 'else',\n",
    "        'except', 'finally', 'for', 'from', 'global', 'if', 'import', 'in', 'is', 'lambda', 'nonlocal', 'not', 'or',\n",
    "        'pass', 'raise', 'return', 'try', 'while', 'with', 'yield']\n",
    "    (2 非硬性规则\n",
    "        a.变量名尽量小写\n",
    "        b.见名知意(提高代码易读性)\n",
    "        c.尽量使用单词而不是拼音\n"
   ],
   "metadata": {
    "collapsed": false
   }
  },
  {
   "cell_type": "markdown",
   "source": [
    "## 3.python中数据类型\n",
    "    (1 int 整型 --> 整数\n",
    "    (2 float 浮点型 --> 小数\n",
    "    (3 string 字符串 -->''/\"\"/'''''' 单双三引号都行\n",
    "    (4 bool 布尔型 --> true、false"
   ],
   "metadata": {
    "collapsed": false
   }
  },
  {
   "cell_type": "markdown",
   "source": [
    "## 4.判断数据类型"
   ],
   "metadata": {
    "collapsed": false
   }
  },
  {
   "cell_type": "code",
   "execution_count": 7,
   "outputs": [
    {
     "name": "stdout",
     "output_type": "stream",
     "text": [
      "<class 'float'>\n"
     ]
    }
   ],
   "source": [
    "#type(a)\n",
    "b=1.0\n",
    "print(type(b))"
   ],
   "metadata": {
    "collapsed": false
   }
  },
  {
   "cell_type": "markdown",
   "source": [
    "## 5.数据类型？"
   ],
   "metadata": {
    "collapsed": false
   }
  },
  {
   "cell_type": "code",
   "execution_count": 8,
   "outputs": [
    {
     "name": "stdout",
     "output_type": "stream",
     "text": [
      "1.0\n"
     ]
    }
   ],
   "source": [
    "a=1\n",
    "print(float(a))"
   ],
   "metadata": {
    "collapsed": false
   }
  },
  {
   "cell_type": "code",
   "execution_count": 5,
   "outputs": [
    {
     "name": "stdout",
     "output_type": "stream",
     "text": [
      "1\n"
     ]
    }
   ],
   "source": [
    "print(a)"
   ],
   "metadata": {
    "collapsed": false
   }
  },
  {
   "cell_type": "markdown",
   "source": [
    "# Python中运算符"
   ],
   "metadata": {
    "collapsed": false
   }
  },
  {
   "cell_type": "markdown",
   "source": [
    "<img alt=\"image\" src=\"E:\\MyCode\\Python\\Artificial-Intelligence\\day1\\运算符.png\"/>"
   ],
   "metadata": {
    "collapsed": false
   }
  },
  {
   "cell_type": "markdown",
   "source": [
    "## 1.基本运算符"
   ],
   "metadata": {
    "collapsed": false
   }
  },
  {
   "cell_type": "markdown",
   "source": [
    "### 算数运算"
   ],
   "metadata": {
    "collapsed": false
   }
  },
  {
   "cell_type": "code",
   "execution_count": 9,
   "outputs": [
    {
     "name": "stdout",
     "output_type": "stream",
     "text": [
      "31\n"
     ]
    }
   ],
   "source": [
    "f1=11\n",
    "f2=20\n",
    "print(f1+f2)"
   ],
   "metadata": {
    "collapsed": false
   }
  },
  {
   "cell_type": "code",
   "execution_count": 10,
   "outputs": [
    {
     "name": "stdout",
     "output_type": "stream",
     "text": [
      "213\n"
     ]
    }
   ],
   "source": [
    "# % 用于求余数\n",
    "print(2305%523)"
   ],
   "metadata": {
    "collapsed": false
   }
  },
  {
   "cell_type": "code",
   "execution_count": 11,
   "outputs": [
    {
     "name": "stdout",
     "output_type": "stream",
     "text": [
      "35\n"
     ]
    }
   ],
   "source": [
    "# //用于求整除\n",
    "\n",
    "print(1585//45)"
   ],
   "metadata": {
    "collapsed": false
   }
  },
  {
   "cell_type": "markdown",
   "source": [
    "### 赋值运算符"
   ],
   "metadata": {
    "collapsed": false
   }
  },
  {
   "cell_type": "code",
   "execution_count": 13,
   "outputs": [
    {
     "name": "stdout",
     "output_type": "stream",
     "text": [
      "25\n"
     ]
    }
   ],
   "source": [
    "a = 10\n",
    "b = 15\n",
    "a+=b\n",
    "print(a)"
   ],
   "metadata": {
    "collapsed": false
   }
  },
  {
   "cell_type": "code",
   "execution_count": 14,
   "outputs": [
    {
     "name": "stdout",
     "output_type": "stream",
     "text": [
      "150\n"
     ]
    }
   ],
   "source": [
    "a = 10\n",
    "b = 15\n",
    "a*=b\n",
    "print(a)"
   ],
   "metadata": {
    "collapsed": false
   }
  },
  {
   "cell_type": "markdown",
   "source": [
    "## 2.逻辑运算"
   ],
   "metadata": {
    "collapsed": false
   }
  },
  {
   "cell_type": "markdown",
   "source": [
    "### 比较运算"
   ],
   "metadata": {
    "collapsed": false
   }
  },
  {
   "cell_type": "code",
   "execution_count": 15,
   "outputs": [
    {
     "name": "stdout",
     "output_type": "stream",
     "text": [
      "False\n"
     ]
    }
   ],
   "source": [
    "c1=5\n",
    "c2=6\n",
    "print(c1>c2)"
   ],
   "metadata": {
    "collapsed": false
   }
  },
  {
   "cell_type": "code",
   "execution_count": 16,
   "outputs": [
    {
     "name": "stdout",
     "output_type": "stream",
     "text": [
      "True\n"
     ]
    }
   ],
   "source": [
    "print(c1<c2)"
   ],
   "metadata": {
    "collapsed": false
   }
  },
  {
   "cell_type": "markdown",
   "source": [
    "### 与或非"
   ],
   "metadata": {
    "collapsed": false
   }
  },
  {
   "cell_type": "code",
   "execution_count": 17,
   "outputs": [
    {
     "name": "stdout",
     "output_type": "stream",
     "text": [
      "6\n"
     ]
    }
   ],
   "source": [
    "print(c1 and c2)"
   ],
   "metadata": {
    "collapsed": false
   }
  },
  {
   "cell_type": "code",
   "execution_count": 19,
   "outputs": [
    {
     "name": "stdout",
     "output_type": "stream",
     "text": [
      "5\n"
     ]
    }
   ],
   "source": [
    "print(c2 and c1)"
   ],
   "metadata": {
    "collapsed": false
   }
  },
  {
   "cell_type": "code",
   "execution_count": 20,
   "outputs": [
    {
     "name": "stdout",
     "output_type": "stream",
     "text": [
      "5\n"
     ]
    }
   ],
   "source": [
    "c3=c1==c2\n",
    "print(c1 or c3)"
   ],
   "metadata": {
    "collapsed": false
   }
  },
  {
   "cell_type": "code",
   "execution_count": 21,
   "outputs": [
    {
     "name": "stdout",
     "output_type": "stream",
     "text": [
      "6\n"
     ]
    }
   ],
   "source": [
    "print(c2 or c3)"
   ],
   "metadata": {
    "collapsed": false
   }
  },
  {
   "cell_type": "code",
   "execution_count": 22,
   "outputs": [
    {
     "name": "stdout",
     "output_type": "stream",
     "text": [
      "False\n"
     ]
    }
   ],
   "source": [
    "print(not c1)"
   ],
   "metadata": {
    "collapsed": false
   }
  },
  {
   "cell_type": "markdown",
   "source": [
    "## 练习1"
   ],
   "metadata": {
    "collapsed": false
   }
  },
  {
   "cell_type": "code",
   "execution_count": 28,
   "outputs": [
    {
     "name": "stdout",
     "output_type": "stream",
     "text": [
      "100.0华氏度 = 37.8摄氏度\n"
     ]
    }
   ],
   "source": [
    "fahrenheit = float(input('请输入华氏度：'))\n",
    "celsius = (fahrenheit - 32) / 1.8\n",
    "print('%.1f华氏度 = %.1f摄氏度' % (fahrenheit, celsius))"
   ],
   "metadata": {
    "collapsed": false
   }
  },
  {
   "cell_type": "markdown",
   "source": [
    "# 分支循环结构"
   ],
   "metadata": {
    "collapsed": false
   }
  },
  {
   "cell_type": "markdown",
   "source": [
    "## 1. if语句"
   ],
   "metadata": {
    "collapsed": false
   }
  },
  {
   "cell_type": "code",
   "execution_count": 31,
   "outputs": [
    {
     "name": "stdout",
     "output_type": "stream",
     "text": [
      "登陆成功！\n"
     ]
    }
   ],
   "source": [
    "# 登录案例\n",
    "username =str(input('请输入用户名：'))\n",
    "psw = int(input('请输入密码：'))\n",
    "if username == 'kunkunqaq' and psw == 123456:\n",
    "    print('登陆成功！')\n",
    "else:\n",
    "    print('登陆失败！')"
   ],
   "metadata": {
    "collapsed": false
   }
  },
  {
   "cell_type": "markdown",
   "source": [
    "### if...elif...elif...."
   ],
   "metadata": {
    "collapsed": false
   }
  },
  {
   "cell_type": "markdown",
   "source": [
    "![image](E:\\MyCode\\Python\\Artificial-Intelligence\\day1\\分段函数.png)"
   ],
   "metadata": {
    "collapsed": false
   }
  },
  {
   "cell_type": "code",
   "execution_count": 36,
   "outputs": [
    {
     "name": "stdout",
     "output_type": "stream",
     "text": [
      "10.0\n"
     ]
    }
   ],
   "source": [
    "x = float(input('请输入x:'))\n",
    "if x>1:\n",
    "    num=3*x-5\n",
    "elif -1<=x<=1:\n",
    "    num=x+2\n",
    "elif x<-1:\n",
    "    num=5*x+3\n",
    "print(num)"
   ],
   "metadata": {
    "collapsed": false
   }
  },
  {
   "cell_type": "code",
   "execution_count": 37,
   "outputs": [
    {
     "name": "stdout",
     "output_type": "stream",
     "text": [
      "B\n"
     ]
    }
   ],
   "source": [
    "# 练习\n",
    "score = int(input('请输入成绩：'))\n",
    "if score >= 90:\n",
    "    print('A')\n",
    "elif score >= 80:\n",
    "    print('B')\n",
    "elif score >= 70:\n",
    "    print('C')\n",
    "elif score >= 60:\n",
    "    print('D')\n",
    "else:\n",
    "    print('E')"
   ],
   "metadata": {
    "collapsed": false
   }
  },
  {
   "cell_type": "markdown",
   "source": [
    "## 2. for in 循环 明确知道有多少次循环"
   ],
   "metadata": {
    "collapsed": false
   }
  },
  {
   "cell_type": "code",
   "execution_count": 40,
   "outputs": [
    {
     "name": "stdout",
     "output_type": "stream",
     "text": [
      "5050\n"
     ]
    }
   ],
   "source": [
    "num=0\n",
    "for x in range(1,101):\n",
    "    num+=x\n",
    "print (num)"
   ],
   "metadata": {
    "collapsed": false
   }
  },
  {
   "cell_type": "markdown",
   "source": [
    "## 3. while循环"
   ],
   "metadata": {
    "collapsed": false
   }
  },
  {
   "cell_type": "code",
   "execution_count": 51,
   "outputs": [
    {
     "name": "stdout",
     "output_type": "stream",
     "text": [
      "Too low. Try again.\n",
      "Too low. Try again.\n",
      "Too low. Try again.\n",
      "Too low. Try again.\n",
      "You got it! The number was 5\n"
     ]
    }
   ],
   "source": [
    "import random\n",
    "\n",
    "random_number = random.randint(1, 10)\n",
    "guessed = False\n",
    "\n",
    "while not guessed:\n",
    "    user_input = int(input(\"Guess a number between 1 and 10: \"))\n",
    "    if user_input == random_number:\n",
    "        print(\"You got it! The number was {}\".format(random_number))\n",
    "        guessed = True\n",
    "        break\n",
    "    elif user_input < random_number:\n",
    "        print(\"Too low. Try again.\")\n",
    "    elif user_input > random_number:\n",
    "        print(\"Too high. Try again.\")\n"
   ],
   "metadata": {
    "collapsed": false
   }
  },
  {
   "cell_type": "code",
   "execution_count": 52,
   "outputs": [
    {
     "name": "stdout",
     "output_type": "stream",
     "text": [
      "banker wins\n"
     ]
    }
   ],
   "source": [
    "'''\n",
    "赌博游戏\n",
    "玩家摇两个色子，如果第一次摇出了7点或者11点，玩家胜\n",
    "如果第一次摇出2点3点或者12点庄家胜\n",
    "如果摇出其他的数字则继续摇\n",
    "第二次如果玩家摇到了7点则庄家胜\n",
    "如果摇到了第一次摇到的数字玩家胜\n",
    "如果没有分出胜负，游戏继续\n",
    "'''\n",
    "\n",
    "import random\n",
    "\n",
    "def roll_dice():\n",
    "    return random.randint(2, 12)\n",
    "\n",
    "def bet_game():\n",
    "    roll1 = roll_dice()\n",
    "    if roll1 in [7, 11]:\n",
    "        return \"player wins\"\n",
    "    elif roll1 in [2, 3, 12]:\n",
    "        return \"banker wins\"\n",
    "    else:\n",
    "        point = roll1\n",
    "        while True:\n",
    "            roll2 = roll_dice()\n",
    "            if roll2 == 7:\n",
    "                return \"banker wins\"\n",
    "            elif roll2 == point:\n",
    "                return \"player wins\"\n",
    "\n",
    "print(bet_game())"
   ],
   "metadata": {
    "collapsed": false
   }
  },
  {
   "cell_type": "markdown",
   "source": [],
   "metadata": {
    "collapsed": false
   }
  },
  {
   "cell_type": "code",
   "execution_count": 54,
   "outputs": [
    {
     "name": "stdout",
     "output_type": "stream",
     "text": [
      "您当前有 1000 元钱.\n",
      "第一次摇到了 8 点.\n",
      "点数是 8.\n",
      "第二次摇到了 8 点.\n",
      "恭喜您，您赢了！\n",
      "您当前有 2000 元钱.\n",
      "第一次摇到了 4 点.\n",
      "点数是 4.\n",
      "第二次摇到了 8 点.\n",
      "第二次摇到了 10 点.\n",
      "第二次摇到了 8 点.\n",
      "第二次摇到了 8 点.\n",
      "第二次摇到了 11 点.\n",
      "第二次摇到了 9 点.\n",
      "第二次摇到了 2 点.\n",
      "第二次摇到了 5 点.\n",
      "第二次摇到了 11 点.\n",
      "第二次摇到了 7 点.\n",
      "很遗憾，庄家赢了。\n",
      "您当前有 1800 元钱.\n",
      "第一次摇到了 8 点.\n",
      "点数是 8.\n",
      "第二次摇到了 5 点.\n",
      "第二次摇到了 8 点.\n",
      "恭喜您，您赢了！\n",
      "您当前有 2300 元钱.\n",
      "第一次摇到了 8 点.\n",
      "点数是 8.\n",
      "第二次摇到了 4 点.\n",
      "第二次摇到了 6 点.\n",
      "第二次摇到了 6 点.\n",
      "第二次摇到了 10 点.\n",
      "第二次摇到了 5 点.\n",
      "第二次摇到了 11 点.\n",
      "第二次摇到了 9 点.\n",
      "第二次摇到了 12 点.\n",
      "第二次摇到了 10 点.\n",
      "第二次摇到了 11 点.\n",
      "第二次摇到了 5 点.\n",
      "第二次摇到了 10 点.\n",
      "第二次摇到了 5 点.\n",
      "第二次摇到了 8 点.\n",
      "恭喜您，您赢了！\n",
      "您当前有 3300 元钱.\n",
      "第一次摇到了 6 点.\n",
      "点数是 6.\n",
      "第二次摇到了 4 点.\n",
      "第二次摇到了 7 点.\n",
      "很遗憾，庄家赢了。\n",
      "您当前有 3000 元钱.\n",
      "第一次摇到了 6 点.\n",
      "点数是 6.\n",
      "第二次摇到了 9 点.\n",
      "第二次摇到了 3 点.\n",
      "第二次摇到了 4 点.\n",
      "第二次摇到了 5 点.\n",
      "第二次摇到了 11 点.\n",
      "第二次摇到了 12 点.\n",
      "第二次摇到了 9 点.\n",
      "第二次摇到了 5 点.\n",
      "第二次摇到了 9 点.\n",
      "第二次摇到了 7 点.\n",
      "很遗憾，庄家赢了。\n"
     ]
    }
   ],
   "source": [
    "'''\n",
    "赌博游戏\n",
    "玩家摇两个色子，如果第一次摇出了7点或者11点，玩家胜\n",
    "如果第一次摇出2点3点或者12点庄家胜\n",
    "如果摇出其他的数字则继续摇\n",
    "第二次如果玩家摇到了7点则庄家胜\n",
    "如果摇到了第一次摇到的数字玩家胜\n",
    "如果没有分出胜负，游戏继续\n",
    "玩家有1000块钱的赌注，游戏结束的条件是玩家破产\n",
    "'''\n",
    "import random\n",
    "\n",
    "def play_bat():\n",
    "    money = 1000\n",
    "    while money > 0:\n",
    "        print(\"您当前有 {} 元钱.\".format(money))\n",
    "        bet = int(input(\"请下注：\"))\n",
    "        if bet > money:\n",
    "            print(\"您没有足够的钱，请重新下注：\")\n",
    "            continue\n",
    "        first_roll = random.randint(1, 6) + random.randint(1, 6)\n",
    "        print(\"第一次摇到了 {} 点.\".format(first_roll))\n",
    "        if first_roll == 7 or first_roll == 11:\n",
    "            print(\"恭喜您，您赢了！\")\n",
    "            money += bet\n",
    "        elif first_roll == 2 or first_roll == 3 or first_roll == 12:\n",
    "            print(\"很遗憾，庄家赢了。\")\n",
    "            money -= bet\n",
    "        else:\n",
    "            point = first_roll\n",
    "            print(\"点数是 {}.\".format(point))\n",
    "            while True:\n",
    "                second_roll = random.randint(1, 6) + random.randint(1, 6)\n",
    "                print(\"第二次摇到了 {} 点.\".format(second_roll))\n",
    "                if second_roll == 7:\n",
    "                    print(\"很遗憾，庄家赢了。\")\n",
    "                    money -= bet\n",
    "                    break\n",
    "                elif second_roll == point:\n",
    "                    print(\"恭喜您，您赢了！\")\n",
    "                    money += bet\n",
    "                    break\n",
    "\n",
    "if __name__ == '__main__':\n",
    "    play_bat()\n",
    "\n"
   ],
   "metadata": {
    "collapsed": false
   }
  }
 ],
 "metadata": {
  "kernelspec": {
   "display_name": "Python 3",
   "language": "python",
   "name": "python3"
  },
  "language_info": {
   "codemirror_mode": {
    "name": "ipython",
    "version": 2
   },
   "file_extension": ".py",
   "mimetype": "text/x-python",
   "name": "python",
   "nbconvert_exporter": "python",
   "pygments_lexer": "ipython2",
   "version": "2.7.6"
  }
 },
 "nbformat": 4,
 "nbformat_minor": 0
}
