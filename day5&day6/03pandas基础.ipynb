{
 "cells": [
  {
   "cell_type": "markdown",
   "source": [
    "# pandas --> series类型/DataFrame类型"
   ],
   "metadata": {
    "collapsed": false
   }
  },
  {
   "cell_type": "code",
   "execution_count": 2,
   "metadata": {
    "collapsed": true
   },
   "outputs": [],
   "source": [
    "import pandas as pd\n",
    "import numpy as np\n",
    "import matplotlib.pyplot as plt"
   ]
  },
  {
   "cell_type": "markdown",
   "source": [
    "## 1. Series"
   ],
   "metadata": {
    "collapsed": false
   }
  },
  {
   "cell_type": "markdown",
   "source": [
    "本身有索引的一维数组"
   ],
   "metadata": {
    "collapsed": false
   }
  },
  {
   "cell_type": "markdown",
   "source": [
    "### 直接创建"
   ],
   "metadata": {
    "collapsed": false
   }
  },
  {
   "cell_type": "code",
   "execution_count": 3,
   "outputs": [],
   "source": [
    "#  创建series\n",
    "ser1 = pd.Series(np.random.randint(100,500,4),index=[f'{x}季度' for x in '一二三四'])"
   ],
   "metadata": {
    "collapsed": false
   }
  },
  {
   "cell_type": "code",
   "execution_count": 4,
   "outputs": [
    {
     "data": {
      "text/plain": "一季度    253\n二季度    262\n三季度    292\n四季度    211\ndtype: int32"
     },
     "execution_count": 4,
     "metadata": {},
     "output_type": "execute_result"
    }
   ],
   "source": [
    "ser1"
   ],
   "metadata": {
    "collapsed": false
   }
  },
  {
   "cell_type": "markdown",
   "source": [
    "### 使用字典创建Series数据类型"
   ],
   "metadata": {
    "collapsed": false
   }
  },
  {
   "cell_type": "code",
   "execution_count": 5,
   "outputs": [],
   "source": [
    "ser2 = pd.Series(data={\n",
    "    '一季度':520,\n",
    "    '二季度':430,\n",
    "    '三季度':660,\n",
    "    '四季度':100\n",
    "})"
   ],
   "metadata": {
    "collapsed": false
   }
  },
  {
   "cell_type": "code",
   "execution_count": 6,
   "outputs": [
    {
     "data": {
      "text/plain": "一季度    520\n二季度    430\n三季度    660\n四季度    100\ndtype: int64"
     },
     "execution_count": 6,
     "metadata": {},
     "output_type": "execute_result"
    }
   ],
   "source": [
    "ser2"
   ],
   "metadata": {
    "collapsed": false
   }
  },
  {
   "cell_type": "code",
   "execution_count": 7,
   "outputs": [],
   "source": [
    "#配置字体参数雅黑\n",
    "plt.rcParams['font.sans-serif'] = 'Microsoft YaHei'\n",
    "#安装字体\n",
    "plt.rcParams['font.sans-serif'] = 'SimHei'\n",
    "#配置矢量图\n",
    "%config InlineBackend.figure_format = 'svg'"
   ],
   "metadata": {
    "collapsed": false
   }
  },
  {
   "cell_type": "code",
   "execution_count": 8,
   "outputs": [
    {
     "data": {
      "text/plain": "<Axes: >"
     },
     "execution_count": 8,
     "metadata": {},
     "output_type": "execute_result"
    },
    {
     "data": {
      "text/plain": "<Figure size 640x480 with 1 Axes>",
      "image/svg+xml": "<?xml version=\"1.0\" encoding=\"utf-8\" standalone=\"no\"?>\n<!DOCTYPE svg PUBLIC \"-//W3C//DTD SVG 1.1//EN\"\n  \"http://www.w3.org/Graphics/SVG/1.1/DTD/svg11.dtd\">\n<svg xmlns:xlink=\"http://www.w3.org/1999/xlink\" width=\"295.409323pt\" height=\"280.512pt\" viewBox=\"0 0 295.409323 280.512\" xmlns=\"http://www.w3.org/2000/svg\" version=\"1.1\">\n <metadata>\n  <rdf:RDF xmlns:dc=\"http://purl.org/dc/elements/1.1/\" xmlns:cc=\"http://creativecommons.org/ns#\" xmlns:rdf=\"http://www.w3.org/1999/02/22-rdf-syntax-ns#\">\n   <cc:Work>\n    <dc:type rdf:resource=\"http://purl.org/dc/dcmitype/StillImage\"/>\n    <dc:date>2023-02-18T14:48:24.069046</dc:date>\n    <dc:format>image/svg+xml</dc:format>\n    <dc:creator>\n     <cc:Agent>\n      <dc:title>Matplotlib v3.7.0, https://matplotlib.org/</dc:title>\n     </cc:Agent>\n    </dc:creator>\n   </cc:Work>\n  </rdf:RDF>\n </metadata>\n <defs>\n  <style type=\"text/css\">*{stroke-linejoin: round; stroke-linecap: butt}</style>\n </defs>\n <g id=\"figure_1\">\n  <g id=\"patch_1\">\n   <path d=\"M 0 280.512 \nL 295.409323 280.512 \nL 295.409323 0 \nL 0 0 \nz\n\" style=\"fill: #ffffff\"/>\n  </g>\n  <g id=\"axes_1\">\n   <g id=\"patch_2\">\n    <path d=\"M 249.535329 140.256 \nC 249.535329 123.227387 245.449075 106.444801 237.620844 91.322219 \nC 229.792614 76.199638 218.448609 63.174038 204.544593 53.342863 \nC 190.640578 43.511688 174.578317 37.159015 157.7111 34.820075 \nC 140.843882 32.481134 123.659098 34.223511 107.604612 39.900406 \nL 143.090529 140.256 \nz\n\" style=\"fill: #1f77b4\"/>\n   </g>\n   <g id=\"patch_3\">\n    <path d=\"M 107.604612 39.900406 \nC 94.348474 44.5878 82.15151 51.855614 71.719846 61.283086 \nC 61.288182 70.710559 52.827089 82.11218 46.826412 94.827867 \nC 40.825734 107.543555 37.40355 121.323095 36.757984 135.368738 \nC 36.112417 149.414381 38.256171 163.449743 43.065135 176.662264 \nL 143.090529 140.256 \nz\n\" style=\"fill: #ff7f0e\"/>\n   </g>\n   <g id=\"patch_4\">\n    <path d=\"M 43.065135 176.662264 \nC 50.47837 197.02996 63.938751 214.655534 81.63646 227.169134 \nC 99.334169 239.682734 120.438805 246.497207 142.11274 246.696309 \nC 163.786675 246.895411 185.012939 240.469802 202.937548 228.283437 \nC 220.862157 216.097073 234.644066 198.721754 242.430224 178.493683 \nL 143.090529 140.256 \nz\n\" style=\"fill: #2ca02c\"/>\n   </g>\n   <g id=\"patch_5\">\n    <path d=\"M 242.430224 178.493683 \nC 244.77353 172.405883 246.552269 166.115544 247.743978 159.702103 \nC 248.935687 153.288662 249.535328 146.77923 249.535329 140.25601 \nL 143.090529 140.256 \nz\n\" style=\"fill: #d62728\"/>\n   </g>\n   <g id=\"matplotlib.axis_1\"/>\n   <g id=\"matplotlib.axis_2\"/>\n   <g id=\"text_1\">\n    <!-- 一季度 -->\n    <g transform=\"translate(210.69 48.030456) scale(0.1 -0.1)\">\n     <defs>\n      <path id=\"SimHei-4e00\" d=\"M 4875 2675 \nQ 5525 2675 6050 2700 \nL 6050 2050 \nQ 5525 2075 4900 2075 \nL 1600 2075 \nQ 950 2075 350 2050 \nL 350 2700 \nQ 950 2675 1600 2675 \nL 4875 2675 \nz\n\" transform=\"scale(0.015625)\"/>\n      <path id=\"SimHei-5b63\" d=\"M 2975 4475 \nQ 2550 4450 1125 4375 \nQ 1075 4650 975 4800 \nQ 2400 4800 3412 4887 \nQ 4425 4975 5025 5125 \nQ 5150 4900 5300 4675 \nQ 5050 4650 3400 4525 \nL 3400 3925 \nL 4900 3925 \nQ 5375 3925 5850 3975 \nL 5850 3525 \nQ 5375 3550 4900 3550 \nL 4100 3550 \nQ 4250 3325 4712 3012 \nQ 5175 2700 6125 2525 \nQ 5975 2400 5850 1975 \nQ 4750 2350 4250 2800 \nQ 3750 3250 3575 3550 \nL 3400 3550 \nL 3400 3125 \nQ 3400 2725 3425 2350 \nL 2950 2350 \nQ 2975 2725 2975 3125 \nL 2975 3550 \nQ 2700 3175 2175 2775 \nQ 1650 2375 650 1850 \nQ 500 2125 300 2325 \nQ 675 2400 1275 2700 \nQ 1875 3000 2350 3550 \nL 1800 3550 \nQ 1100 3550 500 3525 \nL 500 3950 \nQ 1025 3925 1725 3925 \nL 2975 3925 \nL 2975 4475 \nz\nM 4525 2250 \nL 4525 1825 \nQ 4325 1750 4087 1612 \nQ 3850 1475 3600 1250 \nL 3600 1175 \nL 5175 1175 \nQ 5475 1175 5925 1200 \nL 5925 750 \nQ 5475 775 5175 775 \nL 3600 775 \nL 3600 50 \nQ 3600 -425 3325 -500 \nQ 3050 -575 2550 -625 \nQ 2500 -400 2375 -125 \nQ 2825 -125 2975 -100 \nQ 3125 -75 3125 150 \nL 3125 775 \nL 1375 775 \nQ 1175 775 575 750 \nL 575 1200 \nQ 1175 1175 1425 1175 \nL 3100 1175 \nQ 3100 1325 3075 1425 \nQ 3525 1700 3675 1850 \nL 2575 1850 \nQ 2075 1850 1675 1825 \nL 1675 2275 \nQ 2250 2250 2550 2250 \nL 4525 2250 \nz\n\" transform=\"scale(0.015625)\"/>\n      <path id=\"SimHei-5ea6\" d=\"M 1750 1675 \nQ 2450 1650 2875 1650 \nL 5200 1650 \nQ 4975 1250 4650 850 \nQ 4325 450 4025 200 \nQ 4350 50 4950 -50 \nQ 5550 -150 6100 -150 \nQ 5950 -300 5825 -650 \nQ 5100 -550 4550 -412 \nQ 4000 -275 3625 -100 \nQ 3100 -325 2587 -462 \nQ 2075 -600 1525 -675 \nQ 1450 -475 1225 -250 \nQ 1675 -250 2250 -125 \nQ 2825 0 3250 200 \nQ 2825 550 2400 1275 \nL 1750 1250 \nL 1750 1675 \nz\nM 2975 5075 \nQ 3250 5150 3475 5250 \nQ 3625 4975 3775 4525 \nL 4700 4525 \nQ 4975 4525 5700 4550 \nL 5700 4100 \nQ 5000 4125 4650 4125 \nL 1375 4125 \nQ 1375 3000 1350 2312 \nQ 1325 1625 1212 950 \nQ 1100 275 725 -525 \nQ 500 -375 250 -300 \nQ 650 400 762 1075 \nQ 875 1750 887 2800 \nQ 900 3850 875 4525 \nL 3200 4525 \nQ 3100 4850 2975 5075 \nz\nM 2475 3300 \nQ 2475 3700 2450 3925 \nL 2975 3925 \nQ 2950 3725 2950 3300 \nL 4300 3300 \nQ 4300 3700 4275 3950 \nL 4800 3950 \nQ 4775 3650 4775 3300 \nQ 5325 3300 5725 3325 \nL 5725 2900 \nQ 5350 2925 4775 2925 \nQ 4775 2250 4800 1950 \nL 2450 1950 \nQ 2475 2350 2475 2925 \nQ 2175 2925 1600 2900 \nL 1600 3325 \nQ 2175 3300 2475 3300 \nz\nM 4300 2350 \nL 4300 2925 \nL 2950 2925 \nL 2950 2350 \nL 4300 2350 \nz\nM 2875 1275 \nQ 3200 775 3650 425 \nQ 4025 700 4425 1275 \nL 2900 1275 \nL 2875 1275 \nz\n\" transform=\"scale(0.015625)\"/>\n     </defs>\n     <use xlink:href=\"#SimHei-4e00\"/>\n     <use xlink:href=\"#SimHei-5b63\" x=\"100\"/>\n     <use xlink:href=\"#SimHei-5ea6\" x=\"200\"/>\n    </g>\n   </g>\n   <g id=\"text_2\">\n    <!-- 二季度 -->\n    <g transform=\"translate(7.2 93.66396) scale(0.1 -0.1)\">\n     <defs>\n      <path id=\"SimHei-4e8c\" d=\"M 5050 625 \nQ 5650 625 6025 675 \nL 6025 50 \nQ 5625 75 5050 75 \nL 1425 75 \nQ 775 75 350 50 \nL 350 650 \nQ 800 625 1400 625 \nL 5050 625 \nz\nM 4350 4150 \nQ 4900 4175 5350 4200 \nL 5350 3575 \nQ 4900 3600 4375 3600 \nL 2050 3600 \nQ 1450 3600 1000 3575 \nL 1000 4175 \nQ 1450 4150 2025 4150 \nL 4350 4150 \nz\n\" transform=\"scale(0.015625)\"/>\n     </defs>\n     <use xlink:href=\"#SimHei-4e8c\"/>\n     <use xlink:href=\"#SimHei-5b63\" x=\"100\"/>\n     <use xlink:href=\"#SimHei-5ea6\" x=\"200\"/>\n    </g>\n   </g>\n   <g id=\"text_3\">\n    <!-- 三季度 -->\n    <g transform=\"translate(112.014961 260.719246) scale(0.1 -0.1)\">\n     <defs>\n      <path id=\"SimHei-4e09\" d=\"M 6000 -200 \nQ 5550 -175 5200 -175 \nL 1300 -175 \nQ 900 -175 375 -200 \nL 375 350 \nQ 850 325 1300 325 \nL 5200 325 \nQ 5575 325 6000 375 \nL 6000 -200 \nz\nM 900 4600 \nQ 1400 4575 1825 4575 \nL 4600 4575 \nQ 5075 4575 5475 4600 \nL 5475 4075 \nQ 5100 4100 4600 4100 \nL 1800 4100 \nQ 1375 4100 900 4075 \nL 900 4600 \nz\nM 2075 2100 \nQ 1700 2100 1275 2075 \nL 1275 2625 \nQ 1675 2600 2075 2600 \nL 4225 2600 \nQ 4600 2600 5050 2625 \nL 5050 2075 \nQ 4550 2100 4225 2100 \nL 2075 2100 \nz\n\" transform=\"scale(0.015625)\"/>\n     </defs>\n     <use xlink:href=\"#SimHei-4e09\"/>\n     <use xlink:href=\"#SimHei-5b63\" x=\"100\"/>\n     <use xlink:href=\"#SimHei-5ea6\" x=\"200\"/>\n    </g>\n   </g>\n   <g id=\"text_4\">\n    <!-- 四季度 -->\n    <g transform=\"translate(258.209323 165.02562) scale(0.1 -0.1)\">\n     <defs>\n      <path id=\"SimHei-56db\" d=\"M 5750 4750 \nQ 5725 4125 5725 3425 \nL 5725 950 \nQ 5725 300 5750 -450 \nL 5225 -450 \nL 5225 25 \nL 1150 25 \nL 1150 -500 \nL 625 -500 \nQ 650 300 650 1000 \nL 650 3425 \nQ 650 4050 625 4750 \nL 5750 4750 \nz\nM 5225 450 \nL 5225 4350 \nL 3975 4350 \nL 3975 2225 \nQ 3975 1950 4225 1950 \nQ 4475 1950 5025 1975 \nQ 4900 1700 4875 1500 \nQ 4225 1500 3887 1512 \nQ 3550 1525 3500 1975 \nL 3500 4350 \nL 2850 4350 \nQ 2850 3050 2562 2412 \nQ 2275 1775 1700 1200 \nQ 1575 1375 1275 1525 \nQ 1650 1800 1900 2175 \nQ 2150 2550 2262 3000 \nQ 2375 3450 2375 4350 \nL 1150 4350 \nL 1150 450 \nL 5225 450 \nz\n\" transform=\"scale(0.015625)\"/>\n     </defs>\n     <use xlink:href=\"#SimHei-56db\"/>\n     <use xlink:href=\"#SimHei-5b63\" x=\"100\"/>\n     <use xlink:href=\"#SimHei-5ea6\" x=\"200\"/>\n    </g>\n   </g>\n  </g>\n </g>\n</svg>\n"
     },
     "metadata": {},
     "output_type": "display_data"
    }
   ],
   "source": [
    "ser2.plot(kind='pie')"
   ],
   "metadata": {
    "collapsed": false
   }
  },
  {
   "cell_type": "markdown",
   "source": [],
   "metadata": {
    "collapsed": false
   }
  },
  {
   "cell_type": "code",
   "execution_count": 9,
   "outputs": [
    {
     "data": {
      "text/plain": "<Axes: >"
     },
     "execution_count": 9,
     "metadata": {},
     "output_type": "execute_result"
    },
    {
     "data": {
      "text/plain": "<Figure size 640x480 with 1 Axes>",
      "image/svg+xml": "<?xml version=\"1.0\" encoding=\"utf-8\" standalone=\"no\"?>\n<!DOCTYPE svg PUBLIC \"-//W3C//DTD SVG 1.1//EN\"\n  \"http://www.w3.org/Graphics/SVG/1.1/DTD/svg11.dtd\">\n<svg xmlns:xlink=\"http://www.w3.org/1999/xlink\" width=\"393.52pt\" height=\"317.512pt\" viewBox=\"0 0 393.52 317.512\" xmlns=\"http://www.w3.org/2000/svg\" version=\"1.1\">\n <metadata>\n  <rdf:RDF xmlns:dc=\"http://purl.org/dc/elements/1.1/\" xmlns:cc=\"http://creativecommons.org/ns#\" xmlns:rdf=\"http://www.w3.org/1999/02/22-rdf-syntax-ns#\">\n   <cc:Work>\n    <dc:type rdf:resource=\"http://purl.org/dc/dcmitype/StillImage\"/>\n    <dc:date>2023-02-18T14:48:24.176634</dc:date>\n    <dc:format>image/svg+xml</dc:format>\n    <dc:creator>\n     <cc:Agent>\n      <dc:title>Matplotlib v3.7.0, https://matplotlib.org/</dc:title>\n     </cc:Agent>\n    </dc:creator>\n   </cc:Work>\n  </rdf:RDF>\n </metadata>\n <defs>\n  <style type=\"text/css\">*{stroke-linejoin: round; stroke-linecap: butt}</style>\n </defs>\n <g id=\"figure_1\">\n  <g id=\"patch_1\">\n   <path d=\"M 0 317.512 \nL 393.52 317.512 \nL 393.52 0 \nL 0 0 \nz\n\" style=\"fill: #ffffff\"/>\n  </g>\n  <g id=\"axes_1\">\n   <g id=\"patch_2\">\n    <path d=\"M 29.2 273.312 \nL 386.32 273.312 \nL 386.32 7.2 \nL 29.2 7.2 \nz\n\" style=\"fill: #ffffff\"/>\n   </g>\n   <g id=\"patch_3\">\n    <path d=\"M 51.52 273.312 \nL 96.16 273.312 \nL 96.16 73.632 \nL 51.52 73.632 \nz\n\" clip-path=\"url(#pa2069c6ea1)\" style=\"fill: #1f77b4\"/>\n   </g>\n   <g id=\"patch_4\">\n    <path d=\"M 140.8 273.312 \nL 185.44 273.312 \nL 185.44 108.192 \nL 140.8 108.192 \nz\n\" clip-path=\"url(#pa2069c6ea1)\" style=\"fill: #1f77b4\"/>\n   </g>\n   <g id=\"patch_5\">\n    <path d=\"M 230.08 273.312 \nL 274.72 273.312 \nL 274.72 19.872 \nL 230.08 19.872 \nz\n\" clip-path=\"url(#pa2069c6ea1)\" style=\"fill: #1f77b4\"/>\n   </g>\n   <g id=\"patch_6\">\n    <path d=\"M 319.36 273.312 \nL 364 273.312 \nL 364 234.912 \nL 319.36 234.912 \nz\n\" clip-path=\"url(#pa2069c6ea1)\" style=\"fill: #1f77b4\"/>\n   </g>\n   <g id=\"matplotlib.axis_1\">\n    <g id=\"xtick_1\">\n     <g id=\"line2d_1\">\n      <defs>\n       <path id=\"m98b916e752\" d=\"M 0 0 \nL 0 3.5 \n\" style=\"stroke: #000000; stroke-width: 0.8\"/>\n      </defs>\n      <g>\n       <use xlink:href=\"#m98b916e752\" x=\"73.84\" y=\"273.312\" style=\"stroke: #000000; stroke-width: 0.8\"/>\n      </g>\n     </g>\n     <g id=\"text_1\">\n      <!-- 一季度 -->\n      <g transform=\"translate(77.218906 310.312) rotate(-90) scale(0.1 -0.1)\">\n       <defs>\n        <path id=\"SimHei-4e00\" d=\"M 4875 2675 \nQ 5525 2675 6050 2700 \nL 6050 2050 \nQ 5525 2075 4900 2075 \nL 1600 2075 \nQ 950 2075 350 2050 \nL 350 2700 \nQ 950 2675 1600 2675 \nL 4875 2675 \nz\n\" transform=\"scale(0.015625)\"/>\n        <path id=\"SimHei-5b63\" d=\"M 2975 4475 \nQ 2550 4450 1125 4375 \nQ 1075 4650 975 4800 \nQ 2400 4800 3412 4887 \nQ 4425 4975 5025 5125 \nQ 5150 4900 5300 4675 \nQ 5050 4650 3400 4525 \nL 3400 3925 \nL 4900 3925 \nQ 5375 3925 5850 3975 \nL 5850 3525 \nQ 5375 3550 4900 3550 \nL 4100 3550 \nQ 4250 3325 4712 3012 \nQ 5175 2700 6125 2525 \nQ 5975 2400 5850 1975 \nQ 4750 2350 4250 2800 \nQ 3750 3250 3575 3550 \nL 3400 3550 \nL 3400 3125 \nQ 3400 2725 3425 2350 \nL 2950 2350 \nQ 2975 2725 2975 3125 \nL 2975 3550 \nQ 2700 3175 2175 2775 \nQ 1650 2375 650 1850 \nQ 500 2125 300 2325 \nQ 675 2400 1275 2700 \nQ 1875 3000 2350 3550 \nL 1800 3550 \nQ 1100 3550 500 3525 \nL 500 3950 \nQ 1025 3925 1725 3925 \nL 2975 3925 \nL 2975 4475 \nz\nM 4525 2250 \nL 4525 1825 \nQ 4325 1750 4087 1612 \nQ 3850 1475 3600 1250 \nL 3600 1175 \nL 5175 1175 \nQ 5475 1175 5925 1200 \nL 5925 750 \nQ 5475 775 5175 775 \nL 3600 775 \nL 3600 50 \nQ 3600 -425 3325 -500 \nQ 3050 -575 2550 -625 \nQ 2500 -400 2375 -125 \nQ 2825 -125 2975 -100 \nQ 3125 -75 3125 150 \nL 3125 775 \nL 1375 775 \nQ 1175 775 575 750 \nL 575 1200 \nQ 1175 1175 1425 1175 \nL 3100 1175 \nQ 3100 1325 3075 1425 \nQ 3525 1700 3675 1850 \nL 2575 1850 \nQ 2075 1850 1675 1825 \nL 1675 2275 \nQ 2250 2250 2550 2250 \nL 4525 2250 \nz\n\" transform=\"scale(0.015625)\"/>\n        <path id=\"SimHei-5ea6\" d=\"M 1750 1675 \nQ 2450 1650 2875 1650 \nL 5200 1650 \nQ 4975 1250 4650 850 \nQ 4325 450 4025 200 \nQ 4350 50 4950 -50 \nQ 5550 -150 6100 -150 \nQ 5950 -300 5825 -650 \nQ 5100 -550 4550 -412 \nQ 4000 -275 3625 -100 \nQ 3100 -325 2587 -462 \nQ 2075 -600 1525 -675 \nQ 1450 -475 1225 -250 \nQ 1675 -250 2250 -125 \nQ 2825 0 3250 200 \nQ 2825 550 2400 1275 \nL 1750 1250 \nL 1750 1675 \nz\nM 2975 5075 \nQ 3250 5150 3475 5250 \nQ 3625 4975 3775 4525 \nL 4700 4525 \nQ 4975 4525 5700 4550 \nL 5700 4100 \nQ 5000 4125 4650 4125 \nL 1375 4125 \nQ 1375 3000 1350 2312 \nQ 1325 1625 1212 950 \nQ 1100 275 725 -525 \nQ 500 -375 250 -300 \nQ 650 400 762 1075 \nQ 875 1750 887 2800 \nQ 900 3850 875 4525 \nL 3200 4525 \nQ 3100 4850 2975 5075 \nz\nM 2475 3300 \nQ 2475 3700 2450 3925 \nL 2975 3925 \nQ 2950 3725 2950 3300 \nL 4300 3300 \nQ 4300 3700 4275 3950 \nL 4800 3950 \nQ 4775 3650 4775 3300 \nQ 5325 3300 5725 3325 \nL 5725 2900 \nQ 5350 2925 4775 2925 \nQ 4775 2250 4800 1950 \nL 2450 1950 \nQ 2475 2350 2475 2925 \nQ 2175 2925 1600 2900 \nL 1600 3325 \nQ 2175 3300 2475 3300 \nz\nM 4300 2350 \nL 4300 2925 \nL 2950 2925 \nL 2950 2350 \nL 4300 2350 \nz\nM 2875 1275 \nQ 3200 775 3650 425 \nQ 4025 700 4425 1275 \nL 2900 1275 \nL 2875 1275 \nz\n\" transform=\"scale(0.015625)\"/>\n       </defs>\n       <use xlink:href=\"#SimHei-4e00\"/>\n       <use xlink:href=\"#SimHei-5b63\" x=\"100\"/>\n       <use xlink:href=\"#SimHei-5ea6\" x=\"200\"/>\n      </g>\n     </g>\n    </g>\n    <g id=\"xtick_2\">\n     <g id=\"line2d_2\">\n      <g>\n       <use xlink:href=\"#m98b916e752\" x=\"163.12\" y=\"273.312\" style=\"stroke: #000000; stroke-width: 0.8\"/>\n      </g>\n     </g>\n     <g id=\"text_2\">\n      <!-- 二季度 -->\n      <g transform=\"translate(166.498906 310.312) rotate(-90) scale(0.1 -0.1)\">\n       <defs>\n        <path id=\"SimHei-4e8c\" d=\"M 5050 625 \nQ 5650 625 6025 675 \nL 6025 50 \nQ 5625 75 5050 75 \nL 1425 75 \nQ 775 75 350 50 \nL 350 650 \nQ 800 625 1400 625 \nL 5050 625 \nz\nM 4350 4150 \nQ 4900 4175 5350 4200 \nL 5350 3575 \nQ 4900 3600 4375 3600 \nL 2050 3600 \nQ 1450 3600 1000 3575 \nL 1000 4175 \nQ 1450 4150 2025 4150 \nL 4350 4150 \nz\n\" transform=\"scale(0.015625)\"/>\n       </defs>\n       <use xlink:href=\"#SimHei-4e8c\"/>\n       <use xlink:href=\"#SimHei-5b63\" x=\"100\"/>\n       <use xlink:href=\"#SimHei-5ea6\" x=\"200\"/>\n      </g>\n     </g>\n    </g>\n    <g id=\"xtick_3\">\n     <g id=\"line2d_3\">\n      <g>\n       <use xlink:href=\"#m98b916e752\" x=\"252.4\" y=\"273.312\" style=\"stroke: #000000; stroke-width: 0.8\"/>\n      </g>\n     </g>\n     <g id=\"text_3\">\n      <!-- 三季度 -->\n      <g transform=\"translate(255.778906 310.312) rotate(-90) scale(0.1 -0.1)\">\n       <defs>\n        <path id=\"SimHei-4e09\" d=\"M 6000 -200 \nQ 5550 -175 5200 -175 \nL 1300 -175 \nQ 900 -175 375 -200 \nL 375 350 \nQ 850 325 1300 325 \nL 5200 325 \nQ 5575 325 6000 375 \nL 6000 -200 \nz\nM 900 4600 \nQ 1400 4575 1825 4575 \nL 4600 4575 \nQ 5075 4575 5475 4600 \nL 5475 4075 \nQ 5100 4100 4600 4100 \nL 1800 4100 \nQ 1375 4100 900 4075 \nL 900 4600 \nz\nM 2075 2100 \nQ 1700 2100 1275 2075 \nL 1275 2625 \nQ 1675 2600 2075 2600 \nL 4225 2600 \nQ 4600 2600 5050 2625 \nL 5050 2075 \nQ 4550 2100 4225 2100 \nL 2075 2100 \nz\n\" transform=\"scale(0.015625)\"/>\n       </defs>\n       <use xlink:href=\"#SimHei-4e09\"/>\n       <use xlink:href=\"#SimHei-5b63\" x=\"100\"/>\n       <use xlink:href=\"#SimHei-5ea6\" x=\"200\"/>\n      </g>\n     </g>\n    </g>\n    <g id=\"xtick_4\">\n     <g id=\"line2d_4\">\n      <g>\n       <use xlink:href=\"#m98b916e752\" x=\"341.68\" y=\"273.312\" style=\"stroke: #000000; stroke-width: 0.8\"/>\n      </g>\n     </g>\n     <g id=\"text_4\">\n      <!-- 四季度 -->\n      <g transform=\"translate(345.058906 310.312) rotate(-90) scale(0.1 -0.1)\">\n       <defs>\n        <path id=\"SimHei-56db\" d=\"M 5750 4750 \nQ 5725 4125 5725 3425 \nL 5725 950 \nQ 5725 300 5750 -450 \nL 5225 -450 \nL 5225 25 \nL 1150 25 \nL 1150 -500 \nL 625 -500 \nQ 650 300 650 1000 \nL 650 3425 \nQ 650 4050 625 4750 \nL 5750 4750 \nz\nM 5225 450 \nL 5225 4350 \nL 3975 4350 \nL 3975 2225 \nQ 3975 1950 4225 1950 \nQ 4475 1950 5025 1975 \nQ 4900 1700 4875 1500 \nQ 4225 1500 3887 1512 \nQ 3550 1525 3500 1975 \nL 3500 4350 \nL 2850 4350 \nQ 2850 3050 2562 2412 \nQ 2275 1775 1700 1200 \nQ 1575 1375 1275 1525 \nQ 1650 1800 1900 2175 \nQ 2150 2550 2262 3000 \nQ 2375 3450 2375 4350 \nL 1150 4350 \nL 1150 450 \nL 5225 450 \nz\n\" transform=\"scale(0.015625)\"/>\n       </defs>\n       <use xlink:href=\"#SimHei-56db\"/>\n       <use xlink:href=\"#SimHei-5b63\" x=\"100\"/>\n       <use xlink:href=\"#SimHei-5ea6\" x=\"200\"/>\n      </g>\n     </g>\n    </g>\n   </g>\n   <g id=\"matplotlib.axis_2\">\n    <g id=\"ytick_1\">\n     <g id=\"line2d_5\">\n      <defs>\n       <path id=\"m9832947064\" d=\"M 0 0 \nL -3.5 0 \n\" style=\"stroke: #000000; stroke-width: 0.8\"/>\n      </defs>\n      <g>\n       <use xlink:href=\"#m9832947064\" x=\"29.2\" y=\"273.312\" style=\"stroke: #000000; stroke-width: 0.8\"/>\n      </g>\n     </g>\n     <g id=\"text_5\">\n      <!-- 0 -->\n      <g transform=\"translate(17.2 276.7495) scale(0.1 -0.1)\">\n       <defs>\n        <path id=\"SimHei-30\" d=\"M 225 2537 \nQ 250 3200 412 3587 \nQ 575 3975 875 4225 \nQ 1175 4475 1612 4475 \nQ 2050 4475 2375 4112 \nQ 2700 3750 2800 3200 \nQ 2900 2650 2862 1937 \nQ 2825 1225 2612 775 \nQ 2400 325 1975 150 \nQ 1550 -25 1125 187 \nQ 700 400 525 750 \nQ 350 1100 275 1487 \nQ 200 1875 225 2537 \nz\nM 750 2687 \nQ 675 2000 800 1462 \nQ 925 925 1212 700 \nQ 1500 475 1800 612 \nQ 2100 750 2237 1162 \nQ 2375 1575 2375 2062 \nQ 2375 2550 2337 2950 \nQ 2300 3350 2112 3675 \nQ 1925 4000 1612 4012 \nQ 1300 4025 1062 3700 \nQ 825 3375 750 2687 \nz\n\" transform=\"scale(0.015625)\"/>\n       </defs>\n       <use xlink:href=\"#SimHei-30\"/>\n      </g>\n     </g>\n    </g>\n    <g id=\"ytick_2\">\n     <g id=\"line2d_6\">\n      <g>\n       <use xlink:href=\"#m9832947064\" x=\"29.2\" y=\"234.912\" style=\"stroke: #000000; stroke-width: 0.8\"/>\n      </g>\n     </g>\n     <g id=\"text_6\">\n      <!-- 100 -->\n      <g transform=\"translate(7.2 238.3495) scale(0.1 -0.1)\">\n       <defs>\n        <path id=\"SimHei-31\" d=\"M 1400 3600 \nQ 1075 3275 575 2975 \nL 575 3450 \nQ 1200 3875 1600 4450 \nL 1900 4450 \nL 1900 150 \nL 1400 150 \nL 1400 3600 \nz\n\" transform=\"scale(0.015625)\"/>\n       </defs>\n       <use xlink:href=\"#SimHei-31\"/>\n       <use xlink:href=\"#SimHei-30\" x=\"50\"/>\n       <use xlink:href=\"#SimHei-30\" x=\"100\"/>\n      </g>\n     </g>\n    </g>\n    <g id=\"ytick_3\">\n     <g id=\"line2d_7\">\n      <g>\n       <use xlink:href=\"#m9832947064\" x=\"29.2\" y=\"196.512\" style=\"stroke: #000000; stroke-width: 0.8\"/>\n      </g>\n     </g>\n     <g id=\"text_7\">\n      <!-- 200 -->\n      <g transform=\"translate(7.2 199.9495) scale(0.1 -0.1)\">\n       <defs>\n        <path id=\"SimHei-32\" d=\"M 300 250 \nQ 325 625 650 925 \nQ 975 1225 1475 1862 \nQ 1975 2500 2125 2850 \nQ 2275 3200 2237 3450 \nQ 2200 3700 2000 3862 \nQ 1800 4025 1537 4000 \nQ 1275 3975 1037 3800 \nQ 800 3625 675 3275 \nL 200 3350 \nQ 400 3925 712 4187 \nQ 1025 4450 1450 4475 \nQ 1700 4500 1900 4462 \nQ 2100 4425 2312 4287 \nQ 2525 4150 2662 3875 \nQ 2800 3600 2762 3212 \nQ 2725 2825 2375 2287 \nQ 2025 1750 1025 600 \nL 2825 600 \nL 2825 150 \nL 300 150 \nL 300 250 \nz\n\" transform=\"scale(0.015625)\"/>\n       </defs>\n       <use xlink:href=\"#SimHei-32\"/>\n       <use xlink:href=\"#SimHei-30\" x=\"50\"/>\n       <use xlink:href=\"#SimHei-30\" x=\"100\"/>\n      </g>\n     </g>\n    </g>\n    <g id=\"ytick_4\">\n     <g id=\"line2d_8\">\n      <g>\n       <use xlink:href=\"#m9832947064\" x=\"29.2\" y=\"158.112\" style=\"stroke: #000000; stroke-width: 0.8\"/>\n      </g>\n     </g>\n     <g id=\"text_8\">\n      <!-- 300 -->\n      <g transform=\"translate(7.2 161.5495) scale(0.1 -0.1)\">\n       <defs>\n        <path id=\"SimHei-33\" d=\"M 250 1225 \nL 700 1300 \nQ 800 975 1025 762 \nQ 1250 550 1587 562 \nQ 1925 575 2125 837 \nQ 2325 1100 2300 1437 \nQ 2275 1775 2037 1962 \nQ 1800 2150 1275 2225 \nL 1275 2550 \nQ 1800 2600 2037 2825 \nQ 2275 3050 2250 3412 \nQ 2225 3775 1925 3937 \nQ 1625 4100 1287 3975 \nQ 950 3850 750 3275 \nL 300 3350 \nQ 450 3800 712 4100 \nQ 975 4400 1425 4450 \nQ 1875 4500 2212 4337 \nQ 2550 4175 2687 3837 \nQ 2825 3500 2725 3100 \nQ 2625 2700 2150 2400 \nQ 2500 2250 2687 1950 \nQ 2875 1650 2812 1162 \nQ 2750 675 2375 375 \nQ 2000 75 1525 87 \nQ 1050 100 700 387 \nQ 350 675 250 1225 \nz\n\" transform=\"scale(0.015625)\"/>\n       </defs>\n       <use xlink:href=\"#SimHei-33\"/>\n       <use xlink:href=\"#SimHei-30\" x=\"50\"/>\n       <use xlink:href=\"#SimHei-30\" x=\"100\"/>\n      </g>\n     </g>\n    </g>\n    <g id=\"ytick_5\">\n     <g id=\"line2d_9\">\n      <g>\n       <use xlink:href=\"#m9832947064\" x=\"29.2\" y=\"119.712\" style=\"stroke: #000000; stroke-width: 0.8\"/>\n      </g>\n     </g>\n     <g id=\"text_9\">\n      <!-- 400 -->\n      <g transform=\"translate(7.2 123.1495) scale(0.1 -0.1)\">\n       <defs>\n        <path id=\"SimHei-34\" d=\"M 2000 1100 \nL 75 1100 \nL 75 1525 \nL 2100 4450 \nL 2475 4450 \nL 2475 1525 \nL 3075 1525 \nL 3075 1100 \nL 2475 1100 \nL 2475 150 \nL 2000 150 \nL 2000 1100 \nz\nM 2000 1525 \nL 2000 3500 \nL 600 1525 \nL 2000 1525 \nz\n\" transform=\"scale(0.015625)\"/>\n       </defs>\n       <use xlink:href=\"#SimHei-34\"/>\n       <use xlink:href=\"#SimHei-30\" x=\"50\"/>\n       <use xlink:href=\"#SimHei-30\" x=\"100\"/>\n      </g>\n     </g>\n    </g>\n    <g id=\"ytick_6\">\n     <g id=\"line2d_10\">\n      <g>\n       <use xlink:href=\"#m9832947064\" x=\"29.2\" y=\"81.312\" style=\"stroke: #000000; stroke-width: 0.8\"/>\n      </g>\n     </g>\n     <g id=\"text_10\">\n      <!-- 500 -->\n      <g transform=\"translate(7.2 84.7495) scale(0.1 -0.1)\">\n       <defs>\n        <path id=\"SimHei-35\" d=\"M 550 1325 \nQ 725 650 1150 575 \nQ 1575 500 1837 662 \nQ 2100 825 2212 1087 \nQ 2325 1350 2312 1675 \nQ 2300 2000 2137 2225 \nQ 1975 2450 1725 2525 \nQ 1475 2600 1162 2525 \nQ 850 2450 650 2175 \nL 225 2225 \nQ 275 2375 700 4375 \nL 2675 4375 \nL 2675 3925 \nL 1075 3925 \nQ 950 3250 825 2850 \nQ 1200 3025 1525 3012 \nQ 1850 3000 2150 2862 \nQ 2450 2725 2587 2487 \nQ 2725 2250 2787 2012 \nQ 2850 1775 2837 1500 \nQ 2825 1225 2725 937 \nQ 2625 650 2425 462 \nQ 2225 275 1937 162 \nQ 1650 50 1275 75 \nQ 900 100 562 350 \nQ 225 600 100 1200 \nL 550 1325 \nz\n\" transform=\"scale(0.015625)\"/>\n       </defs>\n       <use xlink:href=\"#SimHei-35\"/>\n       <use xlink:href=\"#SimHei-30\" x=\"50\"/>\n       <use xlink:href=\"#SimHei-30\" x=\"100\"/>\n      </g>\n     </g>\n    </g>\n    <g id=\"ytick_7\">\n     <g id=\"line2d_11\">\n      <g>\n       <use xlink:href=\"#m9832947064\" x=\"29.2\" y=\"42.912\" style=\"stroke: #000000; stroke-width: 0.8\"/>\n      </g>\n     </g>\n     <g id=\"text_11\">\n      <!-- 600 -->\n      <g transform=\"translate(7.2 46.3495) scale(0.1 -0.1)\">\n       <defs>\n        <path id=\"SimHei-36\" d=\"M 250 1612 \nQ 275 1975 387 2225 \nQ 500 2475 725 2850 \nL 1750 4450 \nL 2325 4450 \nL 1275 2800 \nQ 1950 2975 2350 2750 \nQ 2750 2525 2887 2237 \nQ 3025 1950 3037 1612 \nQ 3050 1275 2937 950 \nQ 2825 625 2537 362 \nQ 2250 100 1737 75 \nQ 1225 50 862 262 \nQ 500 475 362 862 \nQ 225 1250 250 1612 \nz\nM 1025 787 \nQ 1250 550 1625 525 \nQ 2000 500 2250 775 \nQ 2500 1050 2500 1575 \nQ 2500 2100 2187 2300 \nQ 1875 2500 1487 2450 \nQ 1100 2400 925 2075 \nQ 750 1750 775 1387 \nQ 800 1025 1025 787 \nz\n\" transform=\"scale(0.015625)\"/>\n       </defs>\n       <use xlink:href=\"#SimHei-36\"/>\n       <use xlink:href=\"#SimHei-30\" x=\"50\"/>\n       <use xlink:href=\"#SimHei-30\" x=\"100\"/>\n      </g>\n     </g>\n    </g>\n   </g>\n   <g id=\"patch_7\">\n    <path d=\"M 29.2 273.312 \nL 29.2 7.2 \n\" style=\"fill: none; stroke: #000000; stroke-width: 0.8; stroke-linejoin: miter; stroke-linecap: square\"/>\n   </g>\n   <g id=\"patch_8\">\n    <path d=\"M 386.32 273.312 \nL 386.32 7.2 \n\" style=\"fill: none; stroke: #000000; stroke-width: 0.8; stroke-linejoin: miter; stroke-linecap: square\"/>\n   </g>\n   <g id=\"patch_9\">\n    <path d=\"M 29.2 273.312 \nL 386.32 273.312 \n\" style=\"fill: none; stroke: #000000; stroke-width: 0.8; stroke-linejoin: miter; stroke-linecap: square\"/>\n   </g>\n   <g id=\"patch_10\">\n    <path d=\"M 29.2 7.2 \nL 386.32 7.2 \n\" style=\"fill: none; stroke: #000000; stroke-width: 0.8; stroke-linejoin: miter; stroke-linecap: square\"/>\n   </g>\n  </g>\n </g>\n <defs>\n  <clipPath id=\"pa2069c6ea1\">\n   <rect x=\"29.2\" y=\"7.2\" width=\"357.12\" height=\"266.112\"/>\n  </clipPath>\n </defs>\n</svg>\n"
     },
     "metadata": {},
     "output_type": "display_data"
    }
   ],
   "source": [
    "ser2.plot(kind='bar')"
   ],
   "metadata": {
    "collapsed": false
   }
  },
  {
   "cell_type": "markdown",
   "source": [],
   "metadata": {
    "collapsed": false
   }
  },
  {
   "cell_type": "markdown",
   "source": [
    "### Series数据类型的描述性统计数据"
   ],
   "metadata": {
    "collapsed": false
   }
  },
  {
   "cell_type": "markdown",
   "source": [
    "中位数"
   ],
   "metadata": {
    "collapsed": false
   }
  },
  {
   "cell_type": "code",
   "execution_count": 10,
   "outputs": [
    {
     "data": {
      "text/plain": "475.0"
     },
     "execution_count": 10,
     "metadata": {},
     "output_type": "execute_result"
    }
   ],
   "source": [
    "ser2.median()"
   ],
   "metadata": {
    "collapsed": false
   }
  },
  {
   "cell_type": "markdown",
   "source": [
    "描述"
   ],
   "metadata": {
    "collapsed": false
   }
  },
  {
   "cell_type": "code",
   "execution_count": 11,
   "outputs": [
    {
     "data": {
      "text/plain": "count      4.000000\nmean     427.500000\nstd      237.960081\nmin      100.000000\n25%      347.500000\n50%      475.000000\n75%      555.000000\nmax      660.000000\ndtype: float64"
     },
     "execution_count": 11,
     "metadata": {},
     "output_type": "execute_result"
    }
   ],
   "source": [
    "ser2.describe()    #ser3 = ser2.describe()"
   ],
   "metadata": {
    "collapsed": false
   }
  },
  {
   "cell_type": "markdown",
   "source": [
    "### 对数据的观察"
   ],
   "metadata": {
    "collapsed": false
   }
  },
  {
   "cell_type": "markdown",
   "source": [
    "查看数据索引"
   ],
   "metadata": {
    "collapsed": false
   }
  },
  {
   "cell_type": "code",
   "execution_count": 12,
   "outputs": [
    {
     "data": {
      "text/plain": "Index(['一季度', '二季度', '三季度', '四季度'], dtype='object')"
     },
     "execution_count": 12,
     "metadata": {},
     "output_type": "execute_result"
    }
   ],
   "source": [
    "ser2.index"
   ],
   "metadata": {
    "collapsed": false
   }
  },
  {
   "cell_type": "markdown",
   "source": [
    "查看值"
   ],
   "metadata": {
    "collapsed": false
   }
  },
  {
   "cell_type": "code",
   "execution_count": 13,
   "outputs": [
    {
     "data": {
      "text/plain": "array([520, 430, 660, 100], dtype=int64)"
     },
     "execution_count": 13,
     "metadata": {},
     "output_type": "execute_result"
    }
   ],
   "source": [
    "ser2.values"
   ],
   "metadata": {
    "collapsed": false
   }
  },
  {
   "cell_type": "markdown",
   "source": [
    "查看大小"
   ],
   "metadata": {
    "collapsed": false
   }
  },
  {
   "cell_type": "code",
   "execution_count": 14,
   "outputs": [
    {
     "data": {
      "text/plain": "4"
     },
     "execution_count": 14,
     "metadata": {},
     "output_type": "execute_result"
    }
   ],
   "source": [
    "ser2.size"
   ],
   "metadata": {
    "collapsed": false
   }
  },
  {
   "cell_type": "markdown",
   "source": [
    "查看数据是否有空值"
   ],
   "metadata": {
    "collapsed": false
   }
  },
  {
   "cell_type": "code",
   "execution_count": 15,
   "outputs": [
    {
     "data": {
      "text/plain": "False"
     },
     "execution_count": 15,
     "metadata": {},
     "output_type": "execute_result"
    }
   ],
   "source": [
    "ser2.hasnans"
   ],
   "metadata": {
    "collapsed": false
   }
  },
  {
   "cell_type": "markdown",
   "source": [
    "### Series的索引"
   ],
   "metadata": {
    "collapsed": false
   }
  },
  {
   "cell_type": "markdown",
   "source": [
    "#### 数据切片"
   ],
   "metadata": {
    "collapsed": false
   }
  },
  {
   "cell_type": "code",
   "execution_count": 16,
   "outputs": [
    {
     "data": {
      "text/plain": "一季度    520\n二季度    430\n三季度    660\n四季度    100\ndtype: int64"
     },
     "execution_count": 16,
     "metadata": {},
     "output_type": "execute_result"
    }
   ],
   "source": [
    "ser2"
   ],
   "metadata": {
    "collapsed": false
   }
  },
  {
   "cell_type": "code",
   "execution_count": 17,
   "outputs": [
    {
     "data": {
      "text/plain": "二季度    430\n三季度    660\ndtype: int64"
     },
     "execution_count": 17,
     "metadata": {},
     "output_type": "execute_result"
    }
   ],
   "source": [
    "ser2[1:3]"
   ],
   "metadata": {
    "collapsed": false
   }
  },
  {
   "cell_type": "code",
   "execution_count": 18,
   "outputs": [
    {
     "data": {
      "text/plain": "二季度    430\n三季度    660\ndtype: int64"
     },
     "execution_count": 18,
     "metadata": {},
     "output_type": "execute_result"
    }
   ],
   "source": [
    "ser2['二季度':'三季度']"
   ],
   "metadata": {
    "collapsed": false
   }
  },
  {
   "cell_type": "code",
   "execution_count": 19,
   "outputs": [
    {
     "data": {
      "text/plain": "一季度    520\n二季度    430\n三季度    660\ndtype: int64"
     },
     "execution_count": 19,
     "metadata": {},
     "output_type": "execute_result"
    }
   ],
   "source": [
    "ser2[ser2>400]"
   ],
   "metadata": {
    "collapsed": false
   }
  },
  {
   "cell_type": "markdown",
   "source": [
    "### 空值的处理"
   ],
   "metadata": {
    "collapsed": false
   }
  },
  {
   "cell_type": "code",
   "execution_count": 23,
   "outputs": [],
   "source": [
    "ser2 = pd.Series(data={\n",
    "    '一季度':520,\n",
    "    '二季度':430,\n",
    "    '三季度':np.NAN,\n",
    "    '四季度':100\n",
    "})"
   ],
   "metadata": {
    "collapsed": false
   }
  },
  {
   "cell_type": "markdown",
   "source": [
    "#### 1. 删除空值"
   ],
   "metadata": {
    "collapsed": false
   }
  },
  {
   "cell_type": "markdown",
   "source": [
    "数据是否有意义？\n",
    "空值的量级？（比率很小，对整体数据没多大影响）\n"
   ],
   "metadata": {
    "collapsed": false
   }
  },
  {
   "cell_type": "code",
   "execution_count": 21,
   "outputs": [
    {
     "data": {
      "text/plain": "True"
     },
     "execution_count": 21,
     "metadata": {},
     "output_type": "execute_result"
    }
   ],
   "source": [
    "ser2.hasnans"
   ],
   "metadata": {
    "collapsed": false
   }
  },
  {
   "cell_type": "code",
   "execution_count": 22,
   "outputs": [],
   "source": [
    "ser2.dropna(inplace = True)"
   ],
   "metadata": {
    "collapsed": false
   }
  },
  {
   "cell_type": "code",
   "execution_count": 24,
   "outputs": [
    {
     "data": {
      "text/plain": "一季度    520.0\n二季度    430.0\n四季度    100.0\ndtype: float64"
     },
     "execution_count": 24,
     "metadata": {},
     "output_type": "execute_result"
    }
   ],
   "source": [
    "ser2"
   ],
   "metadata": {
    "collapsed": false
   }
  },
  {
   "cell_type": "markdown",
   "source": [
    "#### 2.空值填充"
   ],
   "metadata": {
    "collapsed": false
   }
  },
  {
   "cell_type": "markdown",
   "source": [
    "查看空值"
   ],
   "metadata": {
    "collapsed": false
   }
  },
  {
   "cell_type": "code",
   "execution_count": 30,
   "outputs": [
    {
     "data": {
      "text/plain": "三季度   NaN\ndtype: float64"
     },
     "execution_count": 30,
     "metadata": {},
     "output_type": "execute_result"
    }
   ],
   "source": [
    "ser2[ser2.isnull()]     #布尔索引 提取空值\n",
    "# ser2[ser2.notnull()]"
   ],
   "metadata": {
    "collapsed": false
   }
  },
  {
   "cell_type": "markdown",
   "source": [
    "（1）根据统计学依据"
   ],
   "metadata": {
    "collapsed": false
   }
  },
  {
   "cell_type": "code",
   "execution_count": 24,
   "outputs": [
    {
     "data": {
      "text/plain": "一季度    520.0\n二季度    430.0\n三季度    430.0\n四季度    100.0\ndtype: float64"
     },
     "execution_count": 24,
     "metadata": {},
     "output_type": "execute_result"
    }
   ],
   "source": [
    "# 数据连续的情况下\n",
    "# 前面的值填充\n",
    "ser2.fillna(method='ffill')"
   ],
   "metadata": {
    "collapsed": false
   }
  },
  {
   "cell_type": "code",
   "execution_count": 25,
   "outputs": [
    {
     "data": {
      "text/plain": "一季度    520.0\n二季度    430.0\n三季度    100.0\n四季度    100.0\ndtype: float64"
     },
     "execution_count": 25,
     "metadata": {},
     "output_type": "execute_result"
    }
   ],
   "source": [
    "# 后面的值填充\n",
    "ser2.fillna(method='bfill')"
   ],
   "metadata": {
    "collapsed": false
   }
  },
  {
   "cell_type": "code",
   "execution_count": 27,
   "outputs": [
    {
     "data": {
      "text/plain": "一季度    520.0\n二季度    430.0\n三季度    350.0\n四季度    100.0\ndtype: float64"
     },
     "execution_count": 27,
     "metadata": {},
     "output_type": "execute_result"
    }
   ],
   "source": [
    "# 用描述性统计信息\n",
    "# 平均值\n",
    "ser2.fillna(ser2.mean())"
   ],
   "metadata": {
    "collapsed": false
   }
  },
  {
   "cell_type": "code",
   "execution_count": 28,
   "outputs": [
    {
     "data": {
      "text/plain": "一季度    520.0\n二季度    430.0\n三季度    430.0\n四季度    100.0\ndtype: float64"
     },
     "execution_count": 28,
     "metadata": {},
     "output_type": "execute_result"
    }
   ],
   "source": [
    "# 中位数\n",
    "ser2.fillna(ser2.median())"
   ],
   "metadata": {
    "collapsed": false
   }
  },
  {
   "cell_type": "code",
   "execution_count": 29,
   "outputs": [
    {
     "data": {
      "text/plain": "一季度    520.0\n二季度    430.0\n三季度    200.0\n四季度    100.0\ndtype: float64"
     },
     "execution_count": 29,
     "metadata": {},
     "output_type": "execute_result"
    }
   ],
   "source": [
    "# 直接填充\n",
    "ser2.fillna(200)"
   ],
   "metadata": {
    "collapsed": false
   }
  },
  {
   "cell_type": "markdown",
   "source": [],
   "metadata": {
    "collapsed": false
   }
  },
  {
   "cell_type": "markdown",
   "source": [
    "## 2.DataFrame 数据表"
   ],
   "metadata": {
    "collapsed": false
   }
  },
  {
   "cell_type": "markdown",
   "source": [
    "### （1）创建DataFrame数据"
   ],
   "metadata": {
    "collapsed": false
   }
  },
  {
   "cell_type": "markdown",
   "source": [
    "① 直接创建"
   ],
   "metadata": {
    "collapsed": false
   }
  },
  {
   "cell_type": "markdown",
   "source": [
    "② 使用字典的方式创建"
   ],
   "metadata": {
    "collapsed": false
   }
  },
  {
   "cell_type": "code",
   "execution_count": 31,
   "outputs": [],
   "source": [
    "data_dict = {\n",
    "    '语文':[43,56,76,80,90],\n",
    "    '数学':[99,56,65,33,44],\n",
    "    '英语':[45,57,67,87,98]\n",
    "}"
   ],
   "metadata": {
    "collapsed": false
   }
  },
  {
   "cell_type": "code",
   "execution_count": 32,
   "outputs": [],
   "source": [
    "students_id = np.arange(1001,1006)"
   ],
   "metadata": {
    "collapsed": false
   }
  },
  {
   "cell_type": "code",
   "execution_count": 33,
   "outputs": [],
   "source": [
    "df1 = pd.DataFrame(data=data_dict,index=students_id)"
   ],
   "metadata": {
    "collapsed": false
   }
  },
  {
   "cell_type": "code",
   "execution_count": 34,
   "outputs": [
    {
     "data": {
      "text/plain": "      语文  数学  英语\n1001  43  99  45\n1002  56  56  57\n1003  76  65  67\n1004  80  33  87\n1005  90  44  98",
      "text/html": "<div>\n<style scoped>\n    .dataframe tbody tr th:only-of-type {\n        vertical-align: middle;\n    }\n\n    .dataframe tbody tr th {\n        vertical-align: top;\n    }\n\n    .dataframe thead th {\n        text-align: right;\n    }\n</style>\n<table border=\"1\" class=\"dataframe\">\n  <thead>\n    <tr style=\"text-align: right;\">\n      <th></th>\n      <th>语文</th>\n      <th>数学</th>\n      <th>英语</th>\n    </tr>\n  </thead>\n  <tbody>\n    <tr>\n      <th>1001</th>\n      <td>43</td>\n      <td>99</td>\n      <td>45</td>\n    </tr>\n    <tr>\n      <th>1002</th>\n      <td>56</td>\n      <td>56</td>\n      <td>57</td>\n    </tr>\n    <tr>\n      <th>1003</th>\n      <td>76</td>\n      <td>65</td>\n      <td>67</td>\n    </tr>\n    <tr>\n      <th>1004</th>\n      <td>80</td>\n      <td>33</td>\n      <td>87</td>\n    </tr>\n    <tr>\n      <th>1005</th>\n      <td>90</td>\n      <td>44</td>\n      <td>98</td>\n    </tr>\n  </tbody>\n</table>\n</div>"
     },
     "execution_count": 34,
     "metadata": {},
     "output_type": "execute_result"
    }
   ],
   "source": [
    "df1"
   ],
   "metadata": {
    "collapsed": false
   }
  },
  {
   "cell_type": "markdown",
   "source": [
    "③ 读取csv文件"
   ],
   "metadata": {
    "collapsed": false
   }
  },
  {
   "cell_type": "markdown",
   "source": [
    "默认创建索引"
   ],
   "metadata": {
    "collapsed": false
   }
  },
  {
   "cell_type": "code",
   "execution_count": 35,
   "outputs": [],
   "source": [
    "df = pd.read_csv('./2018年北京积分落户数据.csv')"
   ],
   "metadata": {
    "collapsed": false
   }
  },
  {
   "cell_type": "code",
   "execution_count": 36,
   "outputs": [
    {
     "data": {
      "text/plain": "        id name birthday              company   score\n0        1  杨效丰  1972-12       北京利德华福电气技术有限公司  122.59\n1        2  纪丰伟  1974-12         北京航天数据股份有限公司  121.25\n2        3   王永  1974-05       品牌联盟(北京)咨询股份公司  118.96\n3        4   杨静  1975-07       中科专利商标代理有限责任公司  118.21\n4        5  张凯江  1974-11      北京阿里巴巴云计算技术有限公司  117.79\n...    ...  ...      ...                  ...     ...\n6014  6015  孙宏波  1978-08    华为海洋网络有限公司北京科技分公司   90.75\n6015  6016  刘丽香  1976-11  福斯（上海）流体设备有限公司北京分公司   90.75\n6016  6017   周崧  1977-10      赢创德固赛（中国）投资有限公司   90.75\n6017  6018   赵妍  1979-07     澳科利耳医疗器械（北京）有限公司   90.75\n6018  6019   贺锐  1981-06           北京宝洁技术有限公司   90.75\n\n[6019 rows x 5 columns]",
      "text/html": "<div>\n<style scoped>\n    .dataframe tbody tr th:only-of-type {\n        vertical-align: middle;\n    }\n\n    .dataframe tbody tr th {\n        vertical-align: top;\n    }\n\n    .dataframe thead th {\n        text-align: right;\n    }\n</style>\n<table border=\"1\" class=\"dataframe\">\n  <thead>\n    <tr style=\"text-align: right;\">\n      <th></th>\n      <th>id</th>\n      <th>name</th>\n      <th>birthday</th>\n      <th>company</th>\n      <th>score</th>\n    </tr>\n  </thead>\n  <tbody>\n    <tr>\n      <th>0</th>\n      <td>1</td>\n      <td>杨效丰</td>\n      <td>1972-12</td>\n      <td>北京利德华福电气技术有限公司</td>\n      <td>122.59</td>\n    </tr>\n    <tr>\n      <th>1</th>\n      <td>2</td>\n      <td>纪丰伟</td>\n      <td>1974-12</td>\n      <td>北京航天数据股份有限公司</td>\n      <td>121.25</td>\n    </tr>\n    <tr>\n      <th>2</th>\n      <td>3</td>\n      <td>王永</td>\n      <td>1974-05</td>\n      <td>品牌联盟(北京)咨询股份公司</td>\n      <td>118.96</td>\n    </tr>\n    <tr>\n      <th>3</th>\n      <td>4</td>\n      <td>杨静</td>\n      <td>1975-07</td>\n      <td>中科专利商标代理有限责任公司</td>\n      <td>118.21</td>\n    </tr>\n    <tr>\n      <th>4</th>\n      <td>5</td>\n      <td>张凯江</td>\n      <td>1974-11</td>\n      <td>北京阿里巴巴云计算技术有限公司</td>\n      <td>117.79</td>\n    </tr>\n    <tr>\n      <th>...</th>\n      <td>...</td>\n      <td>...</td>\n      <td>...</td>\n      <td>...</td>\n      <td>...</td>\n    </tr>\n    <tr>\n      <th>6014</th>\n      <td>6015</td>\n      <td>孙宏波</td>\n      <td>1978-08</td>\n      <td>华为海洋网络有限公司北京科技分公司</td>\n      <td>90.75</td>\n    </tr>\n    <tr>\n      <th>6015</th>\n      <td>6016</td>\n      <td>刘丽香</td>\n      <td>1976-11</td>\n      <td>福斯（上海）流体设备有限公司北京分公司</td>\n      <td>90.75</td>\n    </tr>\n    <tr>\n      <th>6016</th>\n      <td>6017</td>\n      <td>周崧</td>\n      <td>1977-10</td>\n      <td>赢创德固赛（中国）投资有限公司</td>\n      <td>90.75</td>\n    </tr>\n    <tr>\n      <th>6017</th>\n      <td>6018</td>\n      <td>赵妍</td>\n      <td>1979-07</td>\n      <td>澳科利耳医疗器械（北京）有限公司</td>\n      <td>90.75</td>\n    </tr>\n    <tr>\n      <th>6018</th>\n      <td>6019</td>\n      <td>贺锐</td>\n      <td>1981-06</td>\n      <td>北京宝洁技术有限公司</td>\n      <td>90.75</td>\n    </tr>\n  </tbody>\n</table>\n<p>6019 rows × 5 columns</p>\n</div>"
     },
     "execution_count": 36,
     "metadata": {},
     "output_type": "execute_result"
    }
   ],
   "source": [
    "df"
   ],
   "metadata": {
    "collapsed": false
   }
  },
  {
   "cell_type": "code",
   "execution_count": 37,
   "outputs": [],
   "source": [
    "df = pd.read_csv('./2018年北京积分落户数据.csv',index_col='id')"
   ],
   "metadata": {
    "collapsed": false
   }
  },
  {
   "cell_type": "code",
   "execution_count": 38,
   "outputs": [
    {
     "data": {
      "text/plain": "     name birthday              company   score\nid                                             \n1     杨效丰  1972-12       北京利德华福电气技术有限公司  122.59\n2     纪丰伟  1974-12         北京航天数据股份有限公司  121.25\n3      王永  1974-05       品牌联盟(北京)咨询股份公司  118.96\n4      杨静  1975-07       中科专利商标代理有限责任公司  118.21\n5     张凯江  1974-11      北京阿里巴巴云计算技术有限公司  117.79\n...   ...      ...                  ...     ...\n6015  孙宏波  1978-08    华为海洋网络有限公司北京科技分公司   90.75\n6016  刘丽香  1976-11  福斯（上海）流体设备有限公司北京分公司   90.75\n6017   周崧  1977-10      赢创德固赛（中国）投资有限公司   90.75\n6018   赵妍  1979-07     澳科利耳医疗器械（北京）有限公司   90.75\n6019   贺锐  1981-06           北京宝洁技术有限公司   90.75\n\n[6019 rows x 4 columns]",
      "text/html": "<div>\n<style scoped>\n    .dataframe tbody tr th:only-of-type {\n        vertical-align: middle;\n    }\n\n    .dataframe tbody tr th {\n        vertical-align: top;\n    }\n\n    .dataframe thead th {\n        text-align: right;\n    }\n</style>\n<table border=\"1\" class=\"dataframe\">\n  <thead>\n    <tr style=\"text-align: right;\">\n      <th></th>\n      <th>name</th>\n      <th>birthday</th>\n      <th>company</th>\n      <th>score</th>\n    </tr>\n    <tr>\n      <th>id</th>\n      <th></th>\n      <th></th>\n      <th></th>\n      <th></th>\n    </tr>\n  </thead>\n  <tbody>\n    <tr>\n      <th>1</th>\n      <td>杨效丰</td>\n      <td>1972-12</td>\n      <td>北京利德华福电气技术有限公司</td>\n      <td>122.59</td>\n    </tr>\n    <tr>\n      <th>2</th>\n      <td>纪丰伟</td>\n      <td>1974-12</td>\n      <td>北京航天数据股份有限公司</td>\n      <td>121.25</td>\n    </tr>\n    <tr>\n      <th>3</th>\n      <td>王永</td>\n      <td>1974-05</td>\n      <td>品牌联盟(北京)咨询股份公司</td>\n      <td>118.96</td>\n    </tr>\n    <tr>\n      <th>4</th>\n      <td>杨静</td>\n      <td>1975-07</td>\n      <td>中科专利商标代理有限责任公司</td>\n      <td>118.21</td>\n    </tr>\n    <tr>\n      <th>5</th>\n      <td>张凯江</td>\n      <td>1974-11</td>\n      <td>北京阿里巴巴云计算技术有限公司</td>\n      <td>117.79</td>\n    </tr>\n    <tr>\n      <th>...</th>\n      <td>...</td>\n      <td>...</td>\n      <td>...</td>\n      <td>...</td>\n    </tr>\n    <tr>\n      <th>6015</th>\n      <td>孙宏波</td>\n      <td>1978-08</td>\n      <td>华为海洋网络有限公司北京科技分公司</td>\n      <td>90.75</td>\n    </tr>\n    <tr>\n      <th>6016</th>\n      <td>刘丽香</td>\n      <td>1976-11</td>\n      <td>福斯（上海）流体设备有限公司北京分公司</td>\n      <td>90.75</td>\n    </tr>\n    <tr>\n      <th>6017</th>\n      <td>周崧</td>\n      <td>1977-10</td>\n      <td>赢创德固赛（中国）投资有限公司</td>\n      <td>90.75</td>\n    </tr>\n    <tr>\n      <th>6018</th>\n      <td>赵妍</td>\n      <td>1979-07</td>\n      <td>澳科利耳医疗器械（北京）有限公司</td>\n      <td>90.75</td>\n    </tr>\n    <tr>\n      <th>6019</th>\n      <td>贺锐</td>\n      <td>1981-06</td>\n      <td>北京宝洁技术有限公司</td>\n      <td>90.75</td>\n    </tr>\n  </tbody>\n</table>\n<p>6019 rows × 4 columns</p>\n</div>"
     },
     "execution_count": 38,
     "metadata": {},
     "output_type": "execute_result"
    }
   ],
   "source": [
    "df"
   ],
   "metadata": {
    "collapsed": false
   }
  },
  {
   "cell_type": "code",
   "execution_count": 39,
   "outputs": [],
   "source": [
    "df = pd.read_csv('./2018年北京积分落户数据.csv',index_col='id',usecols=['id','name','score'])   #取哪几列"
   ],
   "metadata": {
    "collapsed": false
   }
  },
  {
   "cell_type": "code",
   "execution_count": 40,
   "outputs": [
    {
     "data": {
      "text/plain": "     name   score\nid               \n1     杨效丰  122.59\n2     纪丰伟  121.25\n3      王永  118.96\n4      杨静  118.21\n5     张凯江  117.79\n...   ...     ...\n6015  孙宏波   90.75\n6016  刘丽香   90.75\n6017   周崧   90.75\n6018   赵妍   90.75\n6019   贺锐   90.75\n\n[6019 rows x 2 columns]",
      "text/html": "<div>\n<style scoped>\n    .dataframe tbody tr th:only-of-type {\n        vertical-align: middle;\n    }\n\n    .dataframe tbody tr th {\n        vertical-align: top;\n    }\n\n    .dataframe thead th {\n        text-align: right;\n    }\n</style>\n<table border=\"1\" class=\"dataframe\">\n  <thead>\n    <tr style=\"text-align: right;\">\n      <th></th>\n      <th>name</th>\n      <th>score</th>\n    </tr>\n    <tr>\n      <th>id</th>\n      <th></th>\n      <th></th>\n    </tr>\n  </thead>\n  <tbody>\n    <tr>\n      <th>1</th>\n      <td>杨效丰</td>\n      <td>122.59</td>\n    </tr>\n    <tr>\n      <th>2</th>\n      <td>纪丰伟</td>\n      <td>121.25</td>\n    </tr>\n    <tr>\n      <th>3</th>\n      <td>王永</td>\n      <td>118.96</td>\n    </tr>\n    <tr>\n      <th>4</th>\n      <td>杨静</td>\n      <td>118.21</td>\n    </tr>\n    <tr>\n      <th>5</th>\n      <td>张凯江</td>\n      <td>117.79</td>\n    </tr>\n    <tr>\n      <th>...</th>\n      <td>...</td>\n      <td>...</td>\n    </tr>\n    <tr>\n      <th>6015</th>\n      <td>孙宏波</td>\n      <td>90.75</td>\n    </tr>\n    <tr>\n      <th>6016</th>\n      <td>刘丽香</td>\n      <td>90.75</td>\n    </tr>\n    <tr>\n      <th>6017</th>\n      <td>周崧</td>\n      <td>90.75</td>\n    </tr>\n    <tr>\n      <th>6018</th>\n      <td>赵妍</td>\n      <td>90.75</td>\n    </tr>\n    <tr>\n      <th>6019</th>\n      <td>贺锐</td>\n      <td>90.75</td>\n    </tr>\n  </tbody>\n</table>\n<p>6019 rows × 2 columns</p>\n</div>"
     },
     "execution_count": 40,
     "metadata": {},
     "output_type": "execute_result"
    }
   ],
   "source": [
    "df"
   ],
   "metadata": {
    "collapsed": false
   }
  },
  {
   "cell_type": "code",
   "execution_count": 42,
   "outputs": [],
   "source": [
    "df = pd.read_csv('./2018年北京积分落户数据.csv',index_col='id',usecols=['id','name','score'],nrows=100)  #取多少行"
   ],
   "metadata": {
    "collapsed": false
   }
  },
  {
   "cell_type": "code",
   "execution_count": 43,
   "outputs": [
    {
     "data": {
      "text/plain": "    name   score\nid              \n1    杨效丰  122.59\n2    纪丰伟  121.25\n3     王永  118.96\n4     杨静  118.21\n5    张凯江  117.79\n..   ...     ...\n96   郭学文  108.17\n97    张崙  108.17\n98   沈桂芳  108.16\n99    王彬  108.16\n100   张黎  108.16\n\n[100 rows x 2 columns]",
      "text/html": "<div>\n<style scoped>\n    .dataframe tbody tr th:only-of-type {\n        vertical-align: middle;\n    }\n\n    .dataframe tbody tr th {\n        vertical-align: top;\n    }\n\n    .dataframe thead th {\n        text-align: right;\n    }\n</style>\n<table border=\"1\" class=\"dataframe\">\n  <thead>\n    <tr style=\"text-align: right;\">\n      <th></th>\n      <th>name</th>\n      <th>score</th>\n    </tr>\n    <tr>\n      <th>id</th>\n      <th></th>\n      <th></th>\n    </tr>\n  </thead>\n  <tbody>\n    <tr>\n      <th>1</th>\n      <td>杨效丰</td>\n      <td>122.59</td>\n    </tr>\n    <tr>\n      <th>2</th>\n      <td>纪丰伟</td>\n      <td>121.25</td>\n    </tr>\n    <tr>\n      <th>3</th>\n      <td>王永</td>\n      <td>118.96</td>\n    </tr>\n    <tr>\n      <th>4</th>\n      <td>杨静</td>\n      <td>118.21</td>\n    </tr>\n    <tr>\n      <th>5</th>\n      <td>张凯江</td>\n      <td>117.79</td>\n    </tr>\n    <tr>\n      <th>...</th>\n      <td>...</td>\n      <td>...</td>\n    </tr>\n    <tr>\n      <th>96</th>\n      <td>郭学文</td>\n      <td>108.17</td>\n    </tr>\n    <tr>\n      <th>97</th>\n      <td>张崙</td>\n      <td>108.17</td>\n    </tr>\n    <tr>\n      <th>98</th>\n      <td>沈桂芳</td>\n      <td>108.16</td>\n    </tr>\n    <tr>\n      <th>99</th>\n      <td>王彬</td>\n      <td>108.16</td>\n    </tr>\n    <tr>\n      <th>100</th>\n      <td>张黎</td>\n      <td>108.16</td>\n    </tr>\n  </tbody>\n</table>\n<p>100 rows × 2 columns</p>\n</div>"
     },
     "execution_count": 43,
     "metadata": {},
     "output_type": "execute_result"
    }
   ],
   "source": [
    "df"
   ],
   "metadata": {
    "collapsed": false
   }
  },
  {
   "cell_type": "markdown",
   "source": [
    "### 通过接口访问网页数据"
   ],
   "metadata": {
    "collapsed": false
   }
  },
  {
   "cell_type": "code",
   "execution_count": 44,
   "outputs": [],
   "source": [
    "import pandas_datareader as pdr\n",
    "import pandas_datareader.data as web"
   ],
   "metadata": {
    "collapsed": false
   }
  },
  {
   "cell_type": "code",
   "execution_count": 45,
   "outputs": [],
   "source": [
    "df2 = web.DataReader('BABA','stooq')"
   ],
   "metadata": {
    "collapsed": false
   }
  },
  {
   "cell_type": "code",
   "execution_count": 46,
   "outputs": [
    {
     "data": {
      "text/plain": "              Open    High     Low   Close    Volume\nDate                                                \n2023-02-17  101.00  101.09   99.25  100.01  18121644\n2023-02-16  102.71  104.52  102.03  103.11  21747094\n2023-02-15  102.39  103.44  102.00  103.08  18910236\n2023-02-14  103.55  104.48  101.85  104.22  12978395\n2023-02-13  105.99  106.35  104.15  104.79  17577825\n...            ...     ...     ...     ...       ...\n2018-02-26  194.46  195.15  190.65  194.19  19444679\n2018-02-23  190.18  193.40  189.95  193.29  16926868\n2018-02-22  190.20  190.74  187.77  188.75  12269486\n2018-02-21  189.37  193.17  188.46  188.82  22048610\n2018-02-20  187.19  188.83  187.19  187.19  14842927\n\n[1259 rows x 5 columns]",
      "text/html": "<div>\n<style scoped>\n    .dataframe tbody tr th:only-of-type {\n        vertical-align: middle;\n    }\n\n    .dataframe tbody tr th {\n        vertical-align: top;\n    }\n\n    .dataframe thead th {\n        text-align: right;\n    }\n</style>\n<table border=\"1\" class=\"dataframe\">\n  <thead>\n    <tr style=\"text-align: right;\">\n      <th></th>\n      <th>Open</th>\n      <th>High</th>\n      <th>Low</th>\n      <th>Close</th>\n      <th>Volume</th>\n    </tr>\n    <tr>\n      <th>Date</th>\n      <th></th>\n      <th></th>\n      <th></th>\n      <th></th>\n      <th></th>\n    </tr>\n  </thead>\n  <tbody>\n    <tr>\n      <th>2023-02-17</th>\n      <td>101.00</td>\n      <td>101.09</td>\n      <td>99.25</td>\n      <td>100.01</td>\n      <td>18121644</td>\n    </tr>\n    <tr>\n      <th>2023-02-16</th>\n      <td>102.71</td>\n      <td>104.52</td>\n      <td>102.03</td>\n      <td>103.11</td>\n      <td>21747094</td>\n    </tr>\n    <tr>\n      <th>2023-02-15</th>\n      <td>102.39</td>\n      <td>103.44</td>\n      <td>102.00</td>\n      <td>103.08</td>\n      <td>18910236</td>\n    </tr>\n    <tr>\n      <th>2023-02-14</th>\n      <td>103.55</td>\n      <td>104.48</td>\n      <td>101.85</td>\n      <td>104.22</td>\n      <td>12978395</td>\n    </tr>\n    <tr>\n      <th>2023-02-13</th>\n      <td>105.99</td>\n      <td>106.35</td>\n      <td>104.15</td>\n      <td>104.79</td>\n      <td>17577825</td>\n    </tr>\n    <tr>\n      <th>...</th>\n      <td>...</td>\n      <td>...</td>\n      <td>...</td>\n      <td>...</td>\n      <td>...</td>\n    </tr>\n    <tr>\n      <th>2018-02-26</th>\n      <td>194.46</td>\n      <td>195.15</td>\n      <td>190.65</td>\n      <td>194.19</td>\n      <td>19444679</td>\n    </tr>\n    <tr>\n      <th>2018-02-23</th>\n      <td>190.18</td>\n      <td>193.40</td>\n      <td>189.95</td>\n      <td>193.29</td>\n      <td>16926868</td>\n    </tr>\n    <tr>\n      <th>2018-02-22</th>\n      <td>190.20</td>\n      <td>190.74</td>\n      <td>187.77</td>\n      <td>188.75</td>\n      <td>12269486</td>\n    </tr>\n    <tr>\n      <th>2018-02-21</th>\n      <td>189.37</td>\n      <td>193.17</td>\n      <td>188.46</td>\n      <td>188.82</td>\n      <td>22048610</td>\n    </tr>\n    <tr>\n      <th>2018-02-20</th>\n      <td>187.19</td>\n      <td>188.83</td>\n      <td>187.19</td>\n      <td>187.19</td>\n      <td>14842927</td>\n    </tr>\n  </tbody>\n</table>\n<p>1259 rows × 5 columns</p>\n</div>"
     },
     "execution_count": 46,
     "metadata": {},
     "output_type": "execute_result"
    }
   ],
   "source": [
    "df2"
   ],
   "metadata": {
    "collapsed": false
   }
  },
  {
   "cell_type": "code",
   "execution_count": 47,
   "outputs": [
    {
     "data": {
      "text/plain": "<Axes: xlabel='Date'>"
     },
     "execution_count": 47,
     "metadata": {},
     "output_type": "execute_result"
    },
    {
     "data": {
      "text/plain": "<Figure size 640x480 with 1 Axes>",
      "image/svg+xml": "<?xml version=\"1.0\" encoding=\"utf-8\" standalone=\"no\"?>\n<!DOCTYPE svg PUBLIC \"-//W3C//DTD SVG 1.1//EN\"\n  \"http://www.w3.org/Graphics/SVG/1.1/DTD/svg11.dtd\">\n<svg xmlns:xlink=\"http://www.w3.org/1999/xlink\" width=\"393.52pt\" height=\"295.444456pt\" viewBox=\"0 0 393.52 295.444456\" xmlns=\"http://www.w3.org/2000/svg\" version=\"1.1\">\n <metadata>\n  <rdf:RDF xmlns:dc=\"http://purl.org/dc/elements/1.1/\" xmlns:cc=\"http://creativecommons.org/ns#\" xmlns:rdf=\"http://www.w3.org/1999/02/22-rdf-syntax-ns#\">\n   <cc:Work>\n    <dc:type rdf:resource=\"http://purl.org/dc/dcmitype/StillImage\"/>\n    <dc:date>2023-02-18T15:50:21.027953</dc:date>\n    <dc:format>image/svg+xml</dc:format>\n    <dc:creator>\n     <cc:Agent>\n      <dc:title>Matplotlib v3.7.0, https://matplotlib.org/</dc:title>\n     </cc:Agent>\n    </dc:creator>\n   </cc:Work>\n  </rdf:RDF>\n </metadata>\n <defs>\n  <style type=\"text/css\">*{stroke-linejoin: round; stroke-linecap: butt}</style>\n </defs>\n <g id=\"figure_1\">\n  <g id=\"patch_1\">\n   <path d=\"M 0 295.444456 \nL 393.52 295.444456 \nL 393.52 0 \nL 0 0 \nz\n\" style=\"fill: #ffffff\"/>\n  </g>\n  <g id=\"axes_1\">\n   <g id=\"patch_2\">\n    <path d=\"M 29.2 252.083 \nL 386.32 252.083 \nL 386.32 17.075 \nL 29.2 17.075 \nz\n\" style=\"fill: #ffffff\"/>\n   </g>\n   <g id=\"matplotlib.axis_1\">\n    <g id=\"xtick_1\">\n     <g id=\"line2d_1\">\n      <defs>\n       <path id=\"m6e66e3c823\" d=\"M 0 0 \nL 0 3.5 \n\" style=\"stroke: #000000; stroke-width: 0.8\"/>\n      </defs>\n      <g>\n       <use xlink:href=\"#m6e66e3c823\" x=\"36.528324\" y=\"252.083\" style=\"stroke: #000000; stroke-width: 0.8\"/>\n      </g>\n     </g>\n     <g id=\"text_1\">\n      <!-- 2018 -->\n      <g transform=\"translate(18.582816 275.036925) rotate(-30) scale(0.1 -0.1)\">\n       <defs>\n        <path id=\"SimHei-32\" d=\"M 300 250 \nQ 325 625 650 925 \nQ 975 1225 1475 1862 \nQ 1975 2500 2125 2850 \nQ 2275 3200 2237 3450 \nQ 2200 3700 2000 3862 \nQ 1800 4025 1537 4000 \nQ 1275 3975 1037 3800 \nQ 800 3625 675 3275 \nL 200 3350 \nQ 400 3925 712 4187 \nQ 1025 4450 1450 4475 \nQ 1700 4500 1900 4462 \nQ 2100 4425 2312 4287 \nQ 2525 4150 2662 3875 \nQ 2800 3600 2762 3212 \nQ 2725 2825 2375 2287 \nQ 2025 1750 1025 600 \nL 2825 600 \nL 2825 150 \nL 300 150 \nL 300 250 \nz\n\" transform=\"scale(0.015625)\"/>\n        <path id=\"SimHei-30\" d=\"M 225 2537 \nQ 250 3200 412 3587 \nQ 575 3975 875 4225 \nQ 1175 4475 1612 4475 \nQ 2050 4475 2375 4112 \nQ 2700 3750 2800 3200 \nQ 2900 2650 2862 1937 \nQ 2825 1225 2612 775 \nQ 2400 325 1975 150 \nQ 1550 -25 1125 187 \nQ 700 400 525 750 \nQ 350 1100 275 1487 \nQ 200 1875 225 2537 \nz\nM 750 2687 \nQ 675 2000 800 1462 \nQ 925 925 1212 700 \nQ 1500 475 1800 612 \nQ 2100 750 2237 1162 \nQ 2375 1575 2375 2062 \nQ 2375 2550 2337 2950 \nQ 2300 3350 2112 3675 \nQ 1925 4000 1612 4012 \nQ 1300 4025 1062 3700 \nQ 825 3375 750 2687 \nz\n\" transform=\"scale(0.015625)\"/>\n        <path id=\"SimHei-31\" d=\"M 1400 3600 \nQ 1075 3275 575 2975 \nL 575 3450 \nQ 1200 3875 1600 4450 \nL 1900 4450 \nL 1900 150 \nL 1400 150 \nL 1400 3600 \nz\n\" transform=\"scale(0.015625)\"/>\n        <path id=\"SimHei-38\" d=\"M 175 1375 \nQ 175 1675 325 1962 \nQ 475 2250 825 2425 \nQ 525 2600 425 2812 \nQ 325 3025 312 3300 \nQ 300 3575 387 3775 \nQ 475 3975 650 4150 \nQ 825 4325 1037 4387 \nQ 1250 4450 1500 4450 \nQ 1750 4450 1950 4400 \nQ 2150 4350 2375 4187 \nQ 2600 4025 2700 3725 \nQ 2800 3425 2687 3025 \nQ 2575 2625 2100 2400 \nQ 2525 2275 2700 2012 \nQ 2875 1750 2875 1375 \nQ 2875 1000 2762 775 \nQ 2650 550 2512 400 \nQ 2375 250 2137 162 \nQ 1900 75 1537 75 \nQ 1175 75 912 162 \nQ 650 250 475 425 \nQ 300 600 237 837 \nQ 175 1075 175 1375 \nz\nM 687 1400 \nQ 675 1100 787 875 \nQ 900 650 1200 587 \nQ 1500 525 1825 600 \nQ 2150 675 2275 950 \nQ 2400 1225 2362 1500 \nQ 2325 1775 2050 1962 \nQ 1775 2150 1450 2125 \nQ 1125 2100 912 1900 \nQ 700 1700 687 1400 \nz\nM 775 3350 \nQ 775 3100 950 2875 \nQ 1125 2650 1500 2650 \nQ 1875 2650 2062 2875 \nQ 2250 3100 2237 3412 \nQ 2225 3725 2012 3875 \nQ 1800 4025 1437 4000 \nQ 1075 3975 925 3787 \nQ 775 3600 775 3350 \nz\n\" transform=\"scale(0.015625)\"/>\n       </defs>\n       <use xlink:href=\"#SimHei-32\"/>\n       <use xlink:href=\"#SimHei-30\" x=\"50\"/>\n       <use xlink:href=\"#SimHei-31\" x=\"100\"/>\n       <use xlink:href=\"#SimHei-38\" x=\"150\"/>\n      </g>\n     </g>\n    </g>\n    <g id=\"xtick_2\">\n     <g id=\"line2d_2\">\n      <g>\n       <use xlink:href=\"#m6e66e3c823\" x=\"101.530468\" y=\"252.083\" style=\"stroke: #000000; stroke-width: 0.8\"/>\n      </g>\n     </g>\n     <g id=\"text_2\">\n      <!-- 2019 -->\n      <g transform=\"translate(83.58496 275.036925) rotate(-30) scale(0.1 -0.1)\">\n       <defs>\n        <path id=\"SimHei-39\" d=\"M 800 75 \nQ 1350 1000 1700 1750 \nQ 1075 1650 662 1912 \nQ 250 2175 162 2625 \nQ 75 3075 175 3437 \nQ 275 3800 487 4037 \nQ 700 4275 1000 4375 \nQ 1300 4475 1537 4475 \nQ 1775 4475 2025 4375 \nQ 2275 4275 2475 4075 \nQ 2675 3875 2750 3662 \nQ 2825 3450 2825 3112 \nQ 2825 2775 2575 2250 \nQ 2325 1725 1350 75 \nL 800 75 \nz\nM 662 2875 \nQ 700 2550 937 2337 \nQ 1175 2125 1450 2150 \nQ 1725 2175 1887 2300 \nQ 2050 2425 2200 2725 \nQ 2300 3100 2250 3362 \nQ 2200 3625 1987 3800 \nQ 1775 3975 1525 3975 \nQ 1375 4000 1137 3900 \nQ 900 3800 762 3500 \nQ 625 3200 662 2875 \nz\n\" transform=\"scale(0.015625)\"/>\n       </defs>\n       <use xlink:href=\"#SimHei-32\"/>\n       <use xlink:href=\"#SimHei-30\" x=\"50\"/>\n       <use xlink:href=\"#SimHei-31\" x=\"100\"/>\n       <use xlink:href=\"#SimHei-39\" x=\"150\"/>\n      </g>\n     </g>\n    </g>\n    <g id=\"xtick_3\">\n     <g id=\"line2d_3\">\n      <g>\n       <use xlink:href=\"#m6e66e3c823\" x=\"166.532613\" y=\"252.083\" style=\"stroke: #000000; stroke-width: 0.8\"/>\n      </g>\n     </g>\n     <g id=\"text_3\">\n      <!-- 2020 -->\n      <g transform=\"translate(148.587105 275.036925) rotate(-30) scale(0.1 -0.1)\">\n       <use xlink:href=\"#SimHei-32\"/>\n       <use xlink:href=\"#SimHei-30\" x=\"50\"/>\n       <use xlink:href=\"#SimHei-32\" x=\"100\"/>\n       <use xlink:href=\"#SimHei-30\" x=\"150\"/>\n      </g>\n     </g>\n    </g>\n    <g id=\"xtick_4\">\n     <g id=\"line2d_4\">\n      <g>\n       <use xlink:href=\"#m6e66e3c823\" x=\"231.712845\" y=\"252.083\" style=\"stroke: #000000; stroke-width: 0.8\"/>\n      </g>\n     </g>\n     <g id=\"text_4\">\n      <!-- 2021 -->\n      <g transform=\"translate(213.767337 275.036925) rotate(-30) scale(0.1 -0.1)\">\n       <use xlink:href=\"#SimHei-32\"/>\n       <use xlink:href=\"#SimHei-30\" x=\"50\"/>\n       <use xlink:href=\"#SimHei-32\" x=\"100\"/>\n       <use xlink:href=\"#SimHei-31\" x=\"150\"/>\n      </g>\n     </g>\n    </g>\n    <g id=\"xtick_5\">\n     <g id=\"line2d_5\">\n      <g>\n       <use xlink:href=\"#m6e66e3c823\" x=\"296.714989\" y=\"252.083\" style=\"stroke: #000000; stroke-width: 0.8\"/>\n      </g>\n     </g>\n     <g id=\"text_5\">\n      <!-- 2022 -->\n      <g transform=\"translate(278.769481 275.036925) rotate(-30) scale(0.1 -0.1)\">\n       <use xlink:href=\"#SimHei-32\"/>\n       <use xlink:href=\"#SimHei-30\" x=\"50\"/>\n       <use xlink:href=\"#SimHei-32\" x=\"100\"/>\n       <use xlink:href=\"#SimHei-32\" x=\"150\"/>\n      </g>\n     </g>\n    </g>\n    <g id=\"xtick_6\">\n     <g id=\"line2d_6\">\n      <g>\n       <use xlink:href=\"#m6e66e3c823\" x=\"361.717134\" y=\"252.083\" style=\"stroke: #000000; stroke-width: 0.8\"/>\n      </g>\n     </g>\n     <g id=\"text_6\">\n      <!-- 2023 -->\n      <g transform=\"translate(343.771626 275.036925) rotate(-30) scale(0.1 -0.1)\">\n       <defs>\n        <path id=\"SimHei-33\" d=\"M 250 1225 \nL 700 1300 \nQ 800 975 1025 762 \nQ 1250 550 1587 562 \nQ 1925 575 2125 837 \nQ 2325 1100 2300 1437 \nQ 2275 1775 2037 1962 \nQ 1800 2150 1275 2225 \nL 1275 2550 \nQ 1800 2600 2037 2825 \nQ 2275 3050 2250 3412 \nQ 2225 3775 1925 3937 \nQ 1625 4100 1287 3975 \nQ 950 3850 750 3275 \nL 300 3350 \nQ 450 3800 712 4100 \nQ 975 4400 1425 4450 \nQ 1875 4500 2212 4337 \nQ 2550 4175 2687 3837 \nQ 2825 3500 2725 3100 \nQ 2625 2700 2150 2400 \nQ 2500 2250 2687 1950 \nQ 2875 1650 2812 1162 \nQ 2750 675 2375 375 \nQ 2000 75 1525 87 \nQ 1050 100 700 387 \nQ 350 675 250 1225 \nz\n\" transform=\"scale(0.015625)\"/>\n       </defs>\n       <use xlink:href=\"#SimHei-32\"/>\n       <use xlink:href=\"#SimHei-30\" x=\"50\"/>\n       <use xlink:href=\"#SimHei-32\" x=\"100\"/>\n       <use xlink:href=\"#SimHei-33\" x=\"150\"/>\n      </g>\n     </g>\n    </g>\n    <g id=\"text_7\">\n     <!-- Date -->\n     <g transform=\"translate(197.76 286.994456) scale(0.1 -0.1)\">\n      <defs>\n       <path id=\"SimHei-44\" d=\"M 2925 2250 \nQ 2925 1100 2437 612 \nQ 1950 125 1125 125 \nL 275 125 \nL 275 4400 \nL 1125 4400 \nQ 2050 4400 2487 3900 \nQ 2925 3400 2925 2250 \nz\nM 2325 2250 \nQ 2325 3175 2025 3550 \nQ 1725 3925 1125 3925 \nL 850 3925 \nL 850 600 \nL 1125 600 \nQ 1725 600 2025 962 \nQ 2325 1325 2325 2250 \nz\n\" transform=\"scale(0.015625)\"/>\n       <path id=\"SimHei-61\" d=\"M 2875 125 \nL 2275 125 \nQ 2225 175 2200 262 \nQ 2175 350 2175 475 \nQ 2000 275 1750 175 \nQ 1500 75 1225 75 \nQ 825 75 550 275 \nQ 275 475 275 850 \nQ 275 1225 525 1450 \nQ 775 1675 1300 1750 \nQ 1650 1800 1912 1875 \nQ 2175 1950 2175 2075 \nQ 2175 2225 2062 2375 \nQ 1950 2525 1575 2525 \nQ 1275 2525 1137 2412 \nQ 1000 2300 950 2100 \nL 400 2100 \nQ 450 2500 762 2737 \nQ 1075 2975 1575 2975 \nQ 2125 2975 2400 2725 \nQ 2675 2475 2675 2025 \nL 2675 650 \nQ 2675 500 2725 375 \nQ 2775 250 2875 125 \nz\nM 2175 1050 \nL 2175 1550 \nQ 2025 1500 1887 1462 \nQ 1750 1425 1425 1375 \nQ 1050 1325 937 1200 \nQ 825 1075 825 900 \nQ 825 750 937 637 \nQ 1050 525 1275 525 \nQ 1500 525 1762 650 \nQ 2025 775 2175 1050 \nz\n\" transform=\"scale(0.015625)\"/>\n       <path id=\"SimHei-74\" d=\"M 2750 200 \nQ 2625 150 2462 112 \nQ 2300 75 2025 75 \nQ 1575 75 1300 325 \nQ 1025 575 1025 1025 \nL 1025 2525 \nL 175 2525 \nL 175 2925 \nL 1025 2925 \nL 1025 3900 \nL 1525 3900 \nL 1525 2925 \nL 2550 2925 \nL 2550 2525 \nL 1525 2525 \nL 1525 1000 \nQ 1525 800 1625 662 \nQ 1725 525 2000 525 \nQ 2275 525 2450 575 \nQ 2625 625 2750 700 \nL 2750 200 \nz\n\" transform=\"scale(0.015625)\"/>\n       <path id=\"SimHei-65\" d=\"M 2850 1075 \nQ 2800 625 2450 350 \nQ 2100 75 1625 75 \nQ 1025 75 637 462 \nQ 250 850 250 1525 \nQ 250 2200 637 2587 \nQ 1025 2975 1625 2975 \nQ 2150 2975 2487 2637 \nQ 2825 2300 2825 1525 \nL 800 1525 \nQ 800 975 1037 750 \nQ 1275 525 1625 525 \nQ 1900 525 2075 662 \nQ 2250 800 2300 1075 \nL 2850 1075 \nz\nM 2250 1925 \nQ 2200 2275 2025 2412 \nQ 1850 2550 1575 2550 \nQ 1325 2550 1125 2412 \nQ 925 2275 825 1925 \nL 2250 1925 \nz\n\" transform=\"scale(0.015625)\"/>\n      </defs>\n      <use xlink:href=\"#SimHei-44\"/>\n      <use xlink:href=\"#SimHei-61\" x=\"50\"/>\n      <use xlink:href=\"#SimHei-74\" x=\"100\"/>\n      <use xlink:href=\"#SimHei-65\" x=\"150\"/>\n     </g>\n    </g>\n   </g>\n   <g id=\"matplotlib.axis_2\">\n    <g id=\"ytick_1\">\n     <g id=\"line2d_7\">\n      <defs>\n       <path id=\"me15471dc57\" d=\"M 0 0 \nL -3.5 0 \n\" style=\"stroke: #000000; stroke-width: 0.8\"/>\n      </defs>\n      <g>\n       <use xlink:href=\"#me15471dc57\" x=\"29.2\" y=\"249.047379\" style=\"stroke: #000000; stroke-width: 0.8\"/>\n      </g>\n     </g>\n     <g id=\"text_8\">\n      <!-- 0.0 -->\n      <g transform=\"translate(7.2 252.484879) scale(0.1 -0.1)\">\n       <defs>\n        <path id=\"SimHei-2e\" d=\"M 1075 125 \nL 500 125 \nL 500 675 \nL 1075 675 \nL 1075 125 \nz\n\" transform=\"scale(0.015625)\"/>\n       </defs>\n       <use xlink:href=\"#SimHei-30\"/>\n       <use xlink:href=\"#SimHei-2e\" x=\"50\"/>\n       <use xlink:href=\"#SimHei-30\" x=\"100\"/>\n      </g>\n     </g>\n    </g>\n    <g id=\"ytick_2\">\n     <g id=\"line2d_8\">\n      <g>\n       <use xlink:href=\"#me15471dc57\" x=\"29.2\" y=\"221.357431\" style=\"stroke: #000000; stroke-width: 0.8\"/>\n      </g>\n     </g>\n     <g id=\"text_9\">\n      <!-- 0.2 -->\n      <g transform=\"translate(7.2 224.794931) scale(0.1 -0.1)\">\n       <use xlink:href=\"#SimHei-30\"/>\n       <use xlink:href=\"#SimHei-2e\" x=\"50\"/>\n       <use xlink:href=\"#SimHei-32\" x=\"100\"/>\n      </g>\n     </g>\n    </g>\n    <g id=\"ytick_3\">\n     <g id=\"line2d_9\">\n      <g>\n       <use xlink:href=\"#me15471dc57\" x=\"29.2\" y=\"193.667482\" style=\"stroke: #000000; stroke-width: 0.8\"/>\n      </g>\n     </g>\n     <g id=\"text_10\">\n      <!-- 0.4 -->\n      <g transform=\"translate(7.2 197.104982) scale(0.1 -0.1)\">\n       <defs>\n        <path id=\"SimHei-34\" d=\"M 2000 1100 \nL 75 1100 \nL 75 1525 \nL 2100 4450 \nL 2475 4450 \nL 2475 1525 \nL 3075 1525 \nL 3075 1100 \nL 2475 1100 \nL 2475 150 \nL 2000 150 \nL 2000 1100 \nz\nM 2000 1525 \nL 2000 3500 \nL 600 1525 \nL 2000 1525 \nz\n\" transform=\"scale(0.015625)\"/>\n       </defs>\n       <use xlink:href=\"#SimHei-30\"/>\n       <use xlink:href=\"#SimHei-2e\" x=\"50\"/>\n       <use xlink:href=\"#SimHei-34\" x=\"100\"/>\n      </g>\n     </g>\n    </g>\n    <g id=\"ytick_4\">\n     <g id=\"line2d_10\">\n      <g>\n       <use xlink:href=\"#me15471dc57\" x=\"29.2\" y=\"165.977534\" style=\"stroke: #000000; stroke-width: 0.8\"/>\n      </g>\n     </g>\n     <g id=\"text_11\">\n      <!-- 0.6 -->\n      <g transform=\"translate(7.2 169.415034) scale(0.1 -0.1)\">\n       <defs>\n        <path id=\"SimHei-36\" d=\"M 250 1612 \nQ 275 1975 387 2225 \nQ 500 2475 725 2850 \nL 1750 4450 \nL 2325 4450 \nL 1275 2800 \nQ 1950 2975 2350 2750 \nQ 2750 2525 2887 2237 \nQ 3025 1950 3037 1612 \nQ 3050 1275 2937 950 \nQ 2825 625 2537 362 \nQ 2250 100 1737 75 \nQ 1225 50 862 262 \nQ 500 475 362 862 \nQ 225 1250 250 1612 \nz\nM 1025 787 \nQ 1250 550 1625 525 \nQ 2000 500 2250 775 \nQ 2500 1050 2500 1575 \nQ 2500 2100 2187 2300 \nQ 1875 2500 1487 2450 \nQ 1100 2400 925 2075 \nQ 750 1750 775 1387 \nQ 800 1025 1025 787 \nz\n\" transform=\"scale(0.015625)\"/>\n       </defs>\n       <use xlink:href=\"#SimHei-30\"/>\n       <use xlink:href=\"#SimHei-2e\" x=\"50\"/>\n       <use xlink:href=\"#SimHei-36\" x=\"100\"/>\n      </g>\n     </g>\n    </g>\n    <g id=\"ytick_5\">\n     <g id=\"line2d_11\">\n      <g>\n       <use xlink:href=\"#me15471dc57\" x=\"29.2\" y=\"138.287585\" style=\"stroke: #000000; stroke-width: 0.8\"/>\n      </g>\n     </g>\n     <g id=\"text_12\">\n      <!-- 0.8 -->\n      <g transform=\"translate(7.2 141.725085) scale(0.1 -0.1)\">\n       <use xlink:href=\"#SimHei-30\"/>\n       <use xlink:href=\"#SimHei-2e\" x=\"50\"/>\n       <use xlink:href=\"#SimHei-38\" x=\"100\"/>\n      </g>\n     </g>\n    </g>\n    <g id=\"ytick_6\">\n     <g id=\"line2d_12\">\n      <g>\n       <use xlink:href=\"#me15471dc57\" x=\"29.2\" y=\"110.597637\" style=\"stroke: #000000; stroke-width: 0.8\"/>\n      </g>\n     </g>\n     <g id=\"text_13\">\n      <!-- 1.0 -->\n      <g transform=\"translate(7.2 114.035137) scale(0.1 -0.1)\">\n       <use xlink:href=\"#SimHei-31\"/>\n       <use xlink:href=\"#SimHei-2e\" x=\"50\"/>\n       <use xlink:href=\"#SimHei-30\" x=\"100\"/>\n      </g>\n     </g>\n    </g>\n    <g id=\"ytick_7\">\n     <g id=\"line2d_13\">\n      <g>\n       <use xlink:href=\"#me15471dc57\" x=\"29.2\" y=\"82.907688\" style=\"stroke: #000000; stroke-width: 0.8\"/>\n      </g>\n     </g>\n     <g id=\"text_14\">\n      <!-- 1.2 -->\n      <g transform=\"translate(7.2 86.345188) scale(0.1 -0.1)\">\n       <use xlink:href=\"#SimHei-31\"/>\n       <use xlink:href=\"#SimHei-2e\" x=\"50\"/>\n       <use xlink:href=\"#SimHei-32\" x=\"100\"/>\n      </g>\n     </g>\n    </g>\n    <g id=\"ytick_8\">\n     <g id=\"line2d_14\">\n      <g>\n       <use xlink:href=\"#me15471dc57\" x=\"29.2\" y=\"55.21774\" style=\"stroke: #000000; stroke-width: 0.8\"/>\n      </g>\n     </g>\n     <g id=\"text_15\">\n      <!-- 1.4 -->\n      <g transform=\"translate(7.2 58.65524) scale(0.1 -0.1)\">\n       <use xlink:href=\"#SimHei-31\"/>\n       <use xlink:href=\"#SimHei-2e\" x=\"50\"/>\n       <use xlink:href=\"#SimHei-34\" x=\"100\"/>\n      </g>\n     </g>\n    </g>\n    <g id=\"ytick_9\">\n     <g id=\"line2d_15\">\n      <g>\n       <use xlink:href=\"#me15471dc57\" x=\"29.2\" y=\"27.527791\" style=\"stroke: #000000; stroke-width: 0.8\"/>\n      </g>\n     </g>\n     <g id=\"text_16\">\n      <!-- 1.6 -->\n      <g transform=\"translate(7.2 30.965291) scale(0.1 -0.1)\">\n       <use xlink:href=\"#SimHei-31\"/>\n       <use xlink:href=\"#SimHei-2e\" x=\"50\"/>\n       <use xlink:href=\"#SimHei-36\" x=\"100\"/>\n      </g>\n     </g>\n    </g>\n    <g id=\"text_17\">\n     <!-- 1e8 -->\n     <g transform=\"translate(29.2 14.075) scale(0.1 -0.1)\">\n      <use xlink:href=\"#SimHei-31\"/>\n      <use xlink:href=\"#SimHei-65\" x=\"50\"/>\n      <use xlink:href=\"#SimHei-38\" x=\"100\"/>\n     </g>\n    </g>\n   </g>\n   <g id=\"line2d_16\">\n    <path d=\"M 45.432727 228.497385 \nL 45.610815 218.521136 \nL 45.788903 232.060308 \nL 45.966991 225.612174 \nL 46.501256 222.126271 \nL 46.679344 216.901495 \nL 47.03552 225.114529 \nL 47.213608 222.867817 \nL 47.747872 227.370773 \nL 47.92596 224.325672 \nL 48.104048 230.039739 \nL 48.282136 229.205593 \nL 48.460224 229.375947 \nL 48.994489 224.367071 \nL 49.172577 228.5199 \nL 49.350665 221.312752 \nL 49.528753 202.491166 \nL 49.706841 211.73703 \nL 50.241105 221.798503 \nL 50.419193 232.499833 \nL 50.597281 232.367922 \nL 50.775369 213.942478 \nL 50.953457 223.137335 \nL 51.487722 225.844987 \nL 51.66581 226.026132 \nL 51.843898 221.245188 \nL 52.021986 226.370882 \nL 52.734338 226.855621 \nL 53.090514 215.025303 \nL 53.268602 223.77899 \nL 53.44669 223.835724 \nL 53.980954 228.693663 \nL 54.159043 220.532002 \nL 54.337131 234.966299 \nL 54.515219 233.632564 \nL 54.693307 230.320393 \nL 55.227571 235.373796 \nL 55.405659 226.499724 \nL 55.583747 225.548677 \nL 55.761835 232.448672 \nL 55.939923 229.009439 \nL 56.474187 232.386487 \nL 56.830364 225.326964 \nL 57.008452 230.497832 \nL 57.18654 228.193363 \nL 57.720804 228.758986 \nL 57.898892 234.111838 \nL 58.255068 212.693733 \nL 58.433156 169.039572 \nL 59.323596 229.968137 \nL 59.501685 219.564454 \nL 59.679773 231.407345 \nL 60.214037 224.642663 \nL 60.392125 231.471383 \nL 60.570213 231.20473 \nL 60.926389 229.328945 \nL 61.460653 229.899052 \nL 61.638741 235.617587 \nL 61.816829 231.3156 \nL 62.173006 219.599186 \nL 62.885358 223.062103 \nL 63.063446 229.760453 \nL 63.419622 217.0213 \nL 64.131974 224.420349 \nL 64.310062 229.940596 \nL 64.48815 212.015164 \nL 64.666238 224.78376 \nL 65.200503 232.348444 \nL 65.378591 227.018835 \nL 65.556679 229.880134 \nL 65.734767 222.965838 \nL 65.912855 209.359967 \nL 66.447119 228.771163 \nL 66.625207 215.149117 \nL 66.803295 227.505177 \nL 66.981383 229.714494 \nL 67.159471 235.723555 \nL 67.693736 203.703888 \nL 67.871824 220.332411 \nL 68.049912 215.975916 \nL 68.228 221.975199 \nL 68.406088 213.018041 \nL 68.940352 225.059692 \nL 69.11844 232.885173 \nL 69.474616 223.555831 \nL 69.652704 225.461606 \nL 70.186969 227.634184 \nL 70.365057 231.58689 \nL 70.721233 224.901256 \nL 70.899321 231.660991 \nL 71.433585 232.148695 \nL 71.611673 230.674141 \nL 71.789761 234.099512 \nL 71.967849 230.532407 \nL 72.680201 233.823238 \nL 72.85829 223.552187 \nL 73.036378 220.333832 \nL 73.214466 229.822913 \nL 73.392554 221.472916 \nL 73.926818 221.487189 \nL 74.282994 229.151116 \nL 74.461082 220.005436 \nL 74.63917 223.870204 \nL 75.173434 200.009918 \nL 75.351522 220.498627 \nL 75.529611 219.761918 \nL 75.707699 200.284087 \nL 75.885787 218.520349 \nL 76.420051 228.722061 \nL 76.598139 195.732333 \nL 76.776227 191.897246 \nL 77.132403 214.856719 \nL 77.666667 213.187985 \nL 77.844755 220.890317 \nL 78.022843 211.474207 \nL 78.200932 139.888916 \nL 78.37902 206.899389 \nL 78.913284 216.464875 \nL 79.26946 232.556543 \nL 79.447548 225.391618 \nL 79.625636 230.03706 \nL 80.337988 216.580286 \nL 80.516076 199.628098 \nL 80.694164 203.287034 \nL 80.872253 222.115614 \nL 81.406517 194.923587 \nL 81.584605 213.170884 \nL 81.762693 204.064431 \nL 81.940781 213.470672 \nL 82.118869 216.625622 \nL 82.653133 220.771516 \nL 82.831221 211.332872 \nL 83.009309 217.164748 \nL 83.187397 217.455741 \nL 83.365485 218.475046 \nL 84.077838 235.771819 \nL 84.255926 230.22853 \nL 84.434014 231.479262 \nL 84.612102 234.528903 \nL 85.146366 234.350703 \nL 85.324454 228.653068 \nL 85.502542 230.884412 \nL 85.68063 204.499609 \nL 85.858718 220.982274 \nL 86.392983 214.351337 \nL 86.571071 206.030726 \nL 86.749159 171.752608 \nL 87.105335 206.454097 \nL 87.639599 223.341269 \nL 87.817687 223.619815 \nL 87.995775 225.687557 \nL 88.173863 220.500572 \nL 88.351951 228.480517 \nL 88.886216 217.772575 \nL 89.42048 230.141987 \nL 90.132832 200.421478 \nL 90.31092 214.116458 \nL 90.489008 216.29769 \nL 90.667096 183.921584 \nL 90.845184 185.380217 \nL 91.379448 226.622302 \nL 91.557537 224.334361 \nL 91.735625 224.286494 \nL 92.091801 226.590827 \nL 92.626065 226.180375 \nL 92.982241 218.884743 \nL 93.160329 207.396891 \nL 93.338417 221.302905 \nL 93.872681 224.004824 \nL 94.050769 222.086811 \nL 94.585034 238.750209 \nL 95.475474 220.295441 \nL 95.653562 220.620552 \nL 95.83165 200.491447 \nL 96.365914 206.019265 \nL 96.544002 218.313417 \nL 96.900179 213.970495 \nL 97.078267 224.890765 \nL 97.612531 227.552379 \nL 97.790619 230.146419 \nL 97.968707 226.038086 \nL 98.146795 232.079263 \nL 98.324883 227.50364 \nL 98.859147 227.188782 \nL 99.037235 224.338741 \nL 99.215323 210.755282 \nL 99.393411 215.675703 \nL 99.5715 209.186832 \nL 100.105764 233.484629 \nL 100.46194 228.470365 \nL 100.640028 233.184655 \nL 100.818116 232.495335 \nL 101.35238 233.559896 \nL 102.064732 217.417934 \nL 102.777085 226.220275 \nL 102.955173 221.061046 \nL 103.311349 235.770859 \nL 104.023701 228.275676 \nL 104.201789 228.541872 \nL 104.379877 226.683331 \nL 104.557965 221.895502 \nL 105.270318 219.564541 \nL 105.448406 234.931332 \nL 105.626494 233.820824 \nL 105.804582 226.259168 \nL 106.338846 235.007058 \nL 106.516934 223.644302 \nL 106.695022 197.82412 \nL 107.051198 234.134331 \nL 107.585463 238.829232 \nL 107.763551 231.32333 \nL 107.941639 233.447134 \nL 108.119727 232.556451 \nL 108.297815 237.51249 \nL 108.832079 238.995488 \nL 109.010167 237.148453 \nL 109.366343 236.971663 \nL 109.544431 232.295621 \nL 110.256784 231.073413 \nL 110.434872 231.803598 \nL 110.61296 237.369463 \nL 110.791048 226.652289 \nL 111.325312 217.436818 \nL 111.5034 229.843036 \nL 111.681488 225.868716 \nL 111.859576 231.920588 \nL 112.037664 229.181928 \nL 112.571928 228.609863 \nL 112.928105 235.189792 \nL 113.106193 226.21852 \nL 113.284281 228.730958 \nL 113.818545 229.9911 \nL 113.996633 237.057643 \nL 114.174721 236.769388 \nL 114.352809 236.210305 \nL 114.530897 234.033783 \nL 115.065161 238.182119 \nL 115.243249 234.872028 \nL 115.421337 227.03186 \nL 115.599426 235.542355 \nL 115.777514 232.864762 \nL 116.311778 238.6478 \nL 116.667954 237.45779 \nL 116.846042 239.033321 \nL 117.02413 229.870893 \nL 117.558394 231.443817 \nL 117.736482 237.941633 \nL 117.91457 211.916506 \nL 118.092658 225.50751 \nL 118.270747 223.150307 \nL 118.805011 228.659857 \nL 118.983099 233.017379 \nL 119.161187 234.295529 \nL 119.339275 236.724938 \nL 119.517363 231.602659 \nL 120.051627 228.810736 \nL 120.229715 232.162172 \nL 120.407803 232.967592 \nL 120.585891 238.134085 \nL 121.298244 237.033036 \nL 121.476332 233.249425 \nL 121.65442 236.468858 \nL 121.832508 234.747002 \nL 122.010596 236.003863 \nL 122.54486 237.056746 \nL 122.722948 228.174025 \nL 122.901036 224.949534 \nL 123.079124 233.169816 \nL 123.791477 215.900818 \nL 123.969565 217.670171 \nL 124.147653 226.04936 \nL 124.325741 217.580867 \nL 124.503829 222.759948 \nL 125.038093 218.130532 \nL 125.216181 224.30072 \nL 125.394269 196.975855 \nL 125.572357 220.555518 \nL 125.750445 217.84166 \nL 126.28471 202.786023 \nL 126.462798 218.579928 \nL 126.640886 213.284118 \nL 126.818974 211.815663 \nL 126.997062 219.294922 \nL 127.709414 195.601679 \nL 128.06559 225.033752 \nL 128.243678 211.830401 \nL 128.777942 214.082683 \nL 128.956031 211.088273 \nL 129.134119 216.915141 \nL 129.312207 227.223614 \nL 129.490295 224.378648 \nL 130.024559 198.550205 \nL 130.380735 226.439526 \nL 130.558823 224.71983 \nL 130.736911 228.305461 \nL 131.271175 226.784884 \nL 131.449263 199.544909 \nL 131.627352 220.252504 \nL 131.80544 215.812866 \nL 131.983528 224.935281 \nL 132.517792 223.541395 \nL 132.873968 218.011883 \nL 133.052056 223.642742 \nL 133.230144 221.393062 \nL 133.764408 213.173667 \nL 134.120584 237.234031 \nL 134.476761 231.576975 \nL 135.011025 226.160229 \nL 135.189113 227.196133 \nL 135.367201 225.960089 \nL 135.545289 228.561796 \nL 135.723377 223.982925 \nL 136.257641 218.312853 \nL 136.613817 228.236186 \nL 136.791905 227.430941 \nL 136.969994 230.152809 \nL 137.682346 220.136933 \nL 137.860434 228.372524 \nL 138.038522 229.596586 \nL 138.21661 227.890848 \nL 138.750874 228.099499 \nL 138.928962 229.248187 \nL 139.10705 228.793752 \nL 139.285138 203.735312 \nL 139.463226 211.521031 \nL 139.997491 209.017973 \nL 140.175579 214.44009 \nL 140.353667 224.240809 \nL 140.531755 222.3713 \nL 140.709843 232.579761 \nL 141.244107 229.893331 \nL 141.422195 216.860704 \nL 141.600283 220.244742 \nL 141.778371 198.729908 \nL 141.956459 213.116159 \nL 142.490724 226.877705 \nL 142.668812 234.732201 \nL 142.8469 234.333628 \nL 143.024988 233.017445 \nL 143.203076 220.097814 \nL 143.73734 237.074037 \nL 143.915428 231.348394 \nL 144.093516 235.880417 \nL 144.271604 233.018716 \nL 144.449692 234.780308 \nL 145.162045 237.265961 \nL 145.340133 239.057556 \nL 145.518221 233.584645 \nL 145.696309 237.550546 \nL 146.230573 239.450399 \nL 146.408661 235.430886 \nL 146.586749 239.301501 \nL 146.764837 231.728111 \nL 146.942925 235.922704 \nL 147.477189 234.198455 \nL 147.655278 238.56232 \nL 147.833366 236.1879 \nL 148.011454 228.057308 \nL 148.189542 214.681308 \nL 148.723806 229.461296 \nL 148.901894 228.904087 \nL 149.25807 235.195933 \nL 149.436158 202.926161 \nL 149.970422 228.355829 \nL 150.14851 229.395557 \nL 150.504687 234.66017 \nL 150.682775 236.786216 \nL 151.217039 232.385341 \nL 151.395127 226.983562 \nL 151.573215 233.555692 \nL 151.751303 233.073386 \nL 151.929391 222.230361 \nL 152.463655 238.165594 \nL 152.641743 229.921457 \nL 152.99792 237.92604 \nL 153.176008 228.85358 \nL 153.710272 236.510513 \nL 153.88836 233.93237 \nL 154.244536 238.741877 \nL 154.422624 235.352263 \nL 154.956888 232.7939 \nL 155.134976 237.934881 \nL 155.313064 234.907174 \nL 155.491152 228.115114 \nL 155.669241 209.002013 \nL 156.203505 187.380153 \nL 156.559681 228.508561 \nL 156.737769 221.132324 \nL 156.915857 221.721179 \nL 157.450121 220.564898 \nL 157.628209 232.713565 \nL 157.806297 227.686668 \nL 158.162473 233.385198 \nL 158.696738 232.667521 \nL 158.874826 230.415698 \nL 159.052914 225.93403 \nL 159.231002 234.849725 \nL 159.40909 234.453346 \nL 159.943354 222.47409 \nL 160.121442 177.212162 \nL 160.29953 203.322685 \nL 160.655706 223.305261 \nL 161.189971 222.168165 \nL 161.368059 223.516737 \nL 161.546147 228.470209 \nL 161.724235 218.1589 \nL 161.902323 229.531986 \nL 162.436587 229.192418 \nL 162.614675 232.937444 \nL 162.792763 232.750528 \nL 162.970851 217.90404 \nL 163.148939 222.349012 \nL 163.683204 225.864708 \nL 163.861292 233.403806 \nL 164.03938 230.360541 \nL 164.217468 232.200168 \nL 164.395556 212.118896 \nL 165.107908 241.400818 \nL 165.464084 239.470195 \nL 165.642172 232.878292 \nL 166.176436 236.938645 \nL 166.354525 239.665927 \nL 166.710701 227.057541 \nL 166.888789 237.129237 \nL 167.423053 232.582266 \nL 167.601141 235.840642 \nL 167.957317 230.849703 \nL 168.135405 232.015119 \nL 168.669669 224.71914 \nL 168.847757 225.092579 \nL 169.025846 234.173214 \nL 169.203934 230.062387 \nL 169.382022 231.109554 \nL 170.094374 227.12928 \nL 170.272462 235.119918 \nL 170.45055 223.406645 \nL 170.628638 223.927242 \nL 171.162902 215.023798 \nL 171.519078 231.192488 \nL 171.697167 229.143851 \nL 171.875255 223.87526 \nL 172.409519 229.481818 \nL 172.587607 225.933 \nL 172.765695 227.2193 \nL 172.943783 234.107517 \nL 173.121871 229.954807 \nL 173.656135 224.929015 \nL 173.834223 226.79371 \nL 174.012311 223.196174 \nL 174.190399 210.184999 \nL 174.368488 234.247171 \nL 175.08084 231.014443 \nL 175.258928 234.097427 \nL 175.615104 224.540666 \nL 176.149368 222.215506 \nL 176.327456 223.943149 \nL 176.505544 221.988385 \nL 176.683632 217.562274 \nL 176.86172 205.745565 \nL 177.395985 219.222205 \nL 177.574073 220.230727 \nL 177.752161 231.776631 \nL 177.930249 230.408042 \nL 178.108337 219.003079 \nL 178.642601 213.739141 \nL 178.820689 222.710608 \nL 178.998777 222.836357 \nL 179.176865 207.170347 \nL 179.354953 216.303318 \nL 179.889218 212.180316 \nL 180.067306 222.359055 \nL 180.245394 218.513391 \nL 180.423482 220.10351 \nL 180.60157 219.964513 \nL 181.135834 217.820435 \nL 181.49201 221.903965 \nL 181.848186 230.527852 \nL 182.382451 232.081157 \nL 182.560539 222.624552 \nL 182.738627 224.197646 \nL 183.094803 235.917997 \nL 183.807155 228.370641 \nL 183.985243 230.207204 \nL 184.163331 224.373791 \nL 184.875683 226.732237 \nL 185.053772 225.847153 \nL 185.23186 234.139013 \nL 185.409948 226.405565 \nL 185.588036 230.275709 \nL 186.1223 222.332946 \nL 186.300388 229.515434 \nL 186.478476 230.375963 \nL 186.656564 220.770342 \nL 186.834652 228.71967 \nL 187.368916 225.113818 \nL 187.547004 225.228785 \nL 188.081269 218.206046 \nL 188.615533 213.45281 \nL 189.149797 226.667478 \nL 189.327885 216.054622 \nL 189.862149 224.236254 \nL 190.040237 224.366208 \nL 190.218325 217.993516 \nL 190.574502 225.220922 \nL 191.108766 216.308485 \nL 191.286854 219.366399 \nL 191.464942 195.98781 \nL 191.64303 207.719186 \nL 191.821118 177.082237 \nL 192.889646 223.036573 \nL 193.067735 189.221202 \nL 193.601999 226.660426 \nL 193.780087 217.915832 \nL 193.958175 221.358104 \nL 194.314351 232.456667 \nL 194.848615 231.421056 \nL 195.026703 229.470456 \nL 195.204791 230.533312 \nL 195.382879 227.504238 \nL 195.560967 231.441363 \nL 196.095232 224.929631 \nL 196.27332 225.216866 \nL 196.629496 234.705674 \nL 196.807584 221.987109 \nL 197.341848 230.628625 \nL 197.519936 223.761713 \nL 197.698024 232.212638 \nL 198.0542 222.270316 \nL 198.588465 231.972312 \nL 198.766553 231.140575 \nL 198.944641 232.726803 \nL 199.122729 223.948252 \nL 199.835081 202.385779 \nL 200.013169 226.214749 \nL 200.191257 193.774475 \nL 200.369345 198.092516 \nL 200.547433 220.893574 \nL 201.081698 219.185508 \nL 201.259786 221.658411 \nL 201.437874 231.582345 \nL 201.615962 224.081928 \nL 201.79405 223.083975 \nL 202.328314 222.721212 \nL 202.506402 225.330547 \nL 202.68449 221.797408 \nL 202.862578 213.449241 \nL 203.040666 225.204301 \nL 203.57493 222.787808 \nL 203.753019 235.370296 \nL 203.931107 233.134554 \nL 204.109195 239.310348 \nL 204.287283 232.003289 \nL 204.821547 233.077851 \nL 205.177723 234.192868 \nL 205.355811 234.704716 \nL 205.533899 217.855148 \nL 206.246251 234.258513 \nL 206.42434 233.651223 \nL 206.780516 238.142493 \nL 207.31478 235.534707 \nL 207.492868 230.678104 \nL 207.670956 229.530795 \nL 208.027132 213.537489 \nL 208.561396 217.929752 \nL 208.739484 210.924598 \nL 209.09566 228.54879 \nL 209.273749 235.632139 \nL 209.986101 229.919271 \nL 210.164189 231.549335 \nL 210.342277 225.834552 \nL 211.232717 231.417123 \nL 211.410805 235.942192 \nL 211.588893 234.265435 \nL 211.766981 236.015377 \nL 212.301246 238.133011 \nL 212.479334 237.568013 \nL 212.657422 235.76833 \nL 212.83551 237.947984 \nL 213.013598 232.774731 \nL 213.547862 236.481084 \nL 213.72595 235.654718 \nL 213.904038 238.866892 \nL 214.260214 233.171957 \nL 214.972567 238.4154 \nL 215.150655 214.742669 \nL 215.506831 233.149539 \nL 216.041095 224.297534 \nL 216.219183 227.088709 \nL 216.397271 225.968781 \nL 216.575359 228.133431 \nL 216.753447 233.205619 \nL 217.287712 228.584412 \nL 217.4658 233.958386 \nL 217.643888 228.021859 \nL 217.821976 235.604051 \nL 218.000064 231.953732 \nL 218.534328 229.515881 \nL 218.712416 236.855332 \nL 218.890504 233.624549 \nL 219.24668 240.41997 \nL 219.780944 236.102165 \nL 219.959033 230.805421 \nL 220.137121 230.156672 \nL 220.315209 233.576292 \nL 220.493297 228.385342 \nL 221.027561 232.63051 \nL 221.205649 168.563102 \nL 221.383737 209.18604 \nL 221.561825 179.980546 \nL 221.739913 214.075574 \nL 222.274177 217.813299 \nL 222.452265 164.504459 \nL 222.808442 211.415288 \nL 222.98653 202.085285 \nL 223.520794 220.161004 \nL 223.698882 221.718147 \nL 223.87697 209.856242 \nL 224.055058 220.315143 \nL 224.233146 201.727445 \nL 224.945498 220.443002 \nL 225.123586 227.962451 \nL 225.479763 235.779468 \nL 226.014027 206.853264 \nL 226.192115 228.825015 \nL 226.370203 229.775635 \nL 226.548291 227.559304 \nL 226.726379 227.549503 \nL 227.616819 236.523039 \nL 227.794907 234.800549 \nL 227.972996 238.288048 \nL 228.50726 223.61431 \nL 228.863436 227.165738 \nL 229.041524 229.23997 \nL 229.219612 226.920679 \nL 229.753876 233.953893 \nL 229.931964 233.145398 \nL 230.110052 234.192896 \nL 230.28814 52.68411 \nL 231.000493 147.270066 \nL 231.178581 152.525829 \nL 231.534757 216.578356 \nL 232.247109 214.576359 \nL 232.425197 199.449383 \nL 232.603285 197.618759 \nL 232.781373 180.706038 \nL 232.959461 200.749277 \nL 233.671814 222.682491 \nL 233.849902 195.32186 \nL 234.206078 219.195337 \nL 234.91843 216.259871 \nL 235.096518 187.242254 \nL 235.274606 220.3746 \nL 235.452694 230.331401 \nL 235.986959 222.079374 \nL 236.165047 228.72126 \nL 236.343135 226.825653 \nL 236.521223 234.863299 \nL 236.699311 228.704974 \nL 237.233575 227.879383 \nL 237.411663 206.77267 \nL 237.589751 208.648177 \nL 237.945927 233.792058 \nL 238.480191 234.152747 \nL 239.014456 227.870395 \nL 239.192544 236.095293 \nL 239.904896 225.914285 \nL 240.082984 230.685626 \nL 240.261072 227.750558 \nL 240.43916 228.669733 \nL 240.973424 229.105786 \nL 241.151512 226.922744 \nL 241.329601 231.281989 \nL 241.507689 224.171767 \nL 241.685777 224.859298 \nL 242.220041 229.604399 \nL 242.398129 228.772532 \nL 242.576217 230.25744 \nL 242.754305 217.252607 \nL 242.932393 226.911513 \nL 243.466657 225.319336 \nL 243.644745 227.876669 \nL 243.822833 234.522373 \nL 244.17901 224.433167 \nL 244.713274 228.944014 \nL 244.891362 222.275918 \nL 245.247538 228.506865 \nL 245.425626 226.951274 \nL 245.95989 232.34595 \nL 246.137978 232.0242 \nL 246.316066 226.964853 \nL 246.494154 214.684409 \nL 246.672243 218.545863 \nL 247.206507 224.08613 \nL 247.384595 228.517139 \nL 247.562683 225.752656 \nL 247.740771 216.515201 \nL 248.453123 228.332342 \nL 248.631211 223.987473 \nL 248.809299 224.078173 \nL 248.987387 232.140827 \nL 249.165475 221.685511 \nL 249.69974 169.438408 \nL 249.877828 220.259469 \nL 250.055916 231.872455 \nL 250.234004 233.417866 \nL 250.412092 229.084594 \nL 250.946356 233.518836 \nL 251.124444 232.303338 \nL 251.302532 229.227062 \nL 251.658708 236.625615 \nL 252.192973 238.258163 \nL 252.371061 232.923042 \nL 252.549149 236.327014 \nL 252.727237 235.821587 \nL 252.905325 236.135007 \nL 253.439589 230.189314 \nL 253.617677 230.688269 \nL 253.795765 239.019179 \nL 253.973853 232.090517 \nL 254.151941 234.440868 \nL 254.686206 225.141663 \nL 254.864294 229.819925 \nL 255.042382 220.849482 \nL 255.22047 177.47733 \nL 255.398558 205.2601 \nL 255.932822 220.623905 \nL 256.11091 222.022753 \nL 256.288998 225.468805 \nL 256.467086 222.57104 \nL 256.645174 217.445503 \nL 257.357527 229.503738 \nL 257.535615 236.025107 \nL 257.713703 223.184695 \nL 257.891791 234.646565 \nL 258.604143 217.130769 \nL 258.782231 230.873889 \nL 258.960319 231.812994 \nL 259.138407 236.58816 \nL 259.672671 235.30126 \nL 259.850759 235.973502 \nL 260.385024 232.050472 \nL 260.919288 234.132082 \nL 261.097376 232.202262 \nL 261.275464 233.931731 \nL 261.453552 233.494311 \nL 261.63164 230.04567 \nL 262.165904 236.207768 \nL 262.52208 229.961003 \nL 262.700169 230.37294 \nL 262.878257 211.134397 \nL 263.590609 234.823382 \nL 263.768697 236.104227 \nL 263.946785 230.595161 \nL 264.124873 231.051633 \nL 264.837225 216.207217 \nL 265.015313 223.65511 \nL 265.193401 201.984856 \nL 265.37149 225.633775 \nL 265.905754 233.458657 \nL 266.083842 224.990517 \nL 266.26193 222.071535 \nL 266.618106 233.609895 \nL 267.15237 227.081194 \nL 267.508546 238.455519 \nL 267.686634 234.422778 \nL 267.864722 213.687508 \nL 268.398987 171.879968 \nL 268.577075 166.994226 \nL 268.933251 216.701044 \nL 269.111339 225.163975 \nL 269.645603 224.279836 \nL 270.001779 218.135316 \nL 270.179867 235.366594 \nL 270.357955 232.478103 \nL 270.89222 228.754582 \nL 271.070308 235.225 \nL 271.248396 236.607566 \nL 271.604572 227.75799 \nL 272.138836 219.911867 \nL 272.316924 192.894967 \nL 272.495012 201.50397 \nL 272.6731 156.752693 \nL 272.851188 143.896367 \nL 273.385453 126.24363 \nL 273.919717 222.995985 \nL 274.097805 205.133821 \nL 274.632069 216.138716 \nL 274.810157 214.948447 \nL 274.988245 208.135211 \nL 275.166333 208.377917 \nL 275.344421 226.285551 \nL 276.056774 214.977012 \nL 276.234862 222.751577 \nL 276.591038 228.190931 \nL 277.125302 227.644978 \nL 277.30339 220.075494 \nL 277.481478 205.025026 \nL 277.659566 215.322495 \nL 277.837654 213.682755 \nL 278.371918 198.959764 \nL 278.550006 222.057009 \nL 278.728095 221.589974 \nL 279.084271 204.650203 \nL 279.618535 215.421477 \nL 279.796623 212.635609 \nL 279.974711 225.010692 \nL 280.152799 229.26085 \nL 280.330887 221.065367 \nL 280.865151 214.13241 \nL 281.043239 229.61999 \nL 281.221327 228.451729 \nL 281.399416 185.310847 \nL 281.577504 202.66783 \nL 282.111768 190.630483 \nL 282.289856 215.109676 \nL 282.467944 223.302648 \nL 282.646032 224.951959 \nL 282.82412 220.301401 \nL 283.358384 222.816867 \nL 283.536472 202.612924 \nL 283.71456 202.369838 \nL 283.892648 226.280707 \nL 284.070737 220.239676 \nL 284.605001 230.883173 \nL 284.783089 224.712085 \nL 284.961177 232.707833 \nL 285.139265 231.824035 \nL 285.317353 225.295818 \nL 285.851617 224.667089 \nL 286.029705 222.641018 \nL 286.207793 230.26019 \nL 286.385881 225.968847 \nL 286.563969 218.452454 \nL 287.276322 229.650396 \nL 287.45441 225.210767 \nL 287.632498 225.860577 \nL 287.810586 230.021927 \nL 288.34485 235.679072 \nL 288.522938 232.589159 \nL 288.701026 222.977946 \nL 288.879114 163.801864 \nL 289.057202 209.484338 \nL 289.591467 212.509947 \nL 289.769555 215.677029 \nL 289.947643 221.342973 \nL 290.303819 228.536191 \nL 290.838083 223.228092 \nL 291.016171 203.877535 \nL 291.194259 208.425529 \nL 291.372347 201.311786 \nL 291.550435 151.763627 \nL 292.440876 218.207652 \nL 292.618964 216.512658 \nL 292.797052 228.268454 \nL 293.331316 227.143952 \nL 293.509404 224.55354 \nL 293.687492 214.582444 \nL 294.043668 221.66045 \nL 294.577932 215.860294 \nL 294.756021 224.076203 \nL 294.934109 215.12441 \nL 295.112197 224.7311 \nL 295.824549 224.314202 \nL 296.002637 225.438788 \nL 296.180725 219.833843 \nL 296.358813 186.139789 \nL 296.536901 215.422025 \nL 297.071165 225.802563 \nL 297.249253 220.216605 \nL 297.427342 198.304066 \nL 297.60543 204.680077 \nL 297.783518 196.280025 \nL 298.317782 216.688587 \nL 298.49587 216.350493 \nL 298.673958 213.104331 \nL 298.852046 221.51294 \nL 299.030134 223.275078 \nL 299.742486 212.854246 \nL 299.920574 228.743517 \nL 300.098663 208.943418 \nL 300.276751 212.577733 \nL 300.811015 209.516711 \nL 300.989103 218.278205 \nL 301.167191 210.955404 \nL 301.523367 222.890871 \nL 302.057631 220.877766 \nL 302.235719 228.229958 \nL 302.413807 229.59504 \nL 302.591895 225.993484 \nL 302.769984 230.303736 \nL 303.304248 209.465703 \nL 303.660424 223.77536 \nL 304.0166 229.816908 \nL 304.550864 230.83441 \nL 304.728952 228.785689 \nL 304.90704 224.13572 \nL 305.085128 227.025579 \nL 305.263216 219.694028 \nL 305.975569 218.927523 \nL 306.153657 215.142098 \nL 306.331745 200.181906 \nL 306.509833 219.379847 \nL 307.044097 217.116008 \nL 307.222185 219.670417 \nL 307.400273 220.261136 \nL 307.578361 218.967964 \nL 307.756449 215.000284 \nL 308.290714 220.416748 \nL 308.468802 216.822561 \nL 308.64689 220.175582 \nL 308.824978 196.891761 \nL 309.003066 194.578757 \nL 309.715418 129.690862 \nL 309.893506 27.757182 \nL 310.071594 137.36937 \nL 310.249682 133.051719 \nL 310.783947 167.524218 \nL 310.962035 126.943848 \nL 311.140123 136.064545 \nL 311.496299 190.349566 \nL 312.208651 210.197114 \nL 312.386739 209.752976 \nL 312.564827 205.795377 \nL 312.742915 171.691331 \nL 313.455268 200.277019 \nL 313.633356 216.179699 \nL 313.811444 211.9231 \nL 313.989532 220.229246 \nL 314.701884 215.883649 \nL 314.879972 223.668978 \nL 315.05806 220.068127 \nL 315.770412 222.521561 \nL 315.9485 215.99948 \nL 316.126589 220.042563 \nL 316.304677 213.550213 \nL 316.482765 214.254591 \nL 317.017029 214.886315 \nL 317.195117 219.703546 \nL 317.373205 208.410219 \nL 317.551293 224.531394 \nL 317.729381 186.837268 \nL 318.441733 227.980718 \nL 318.619821 224.485531 \nL 318.79791 223.194523 \nL 318.975998 223.339224 \nL 319.510262 216.735187 \nL 319.68835 216.648919 \nL 319.866438 214.486982 \nL 320.044526 216.050546 \nL 320.222614 221.24891 \nL 320.756878 221.849192 \nL 320.934966 211.208613 \nL 321.113054 222.75401 \nL 321.291142 220.28247 \nL 321.469231 219.94409 \nL 322.003495 229.666844 \nL 322.181583 227.983064 \nL 322.359671 217.074206 \nL 322.537759 178.680256 \nL 322.715847 212.059185 \nL 323.428199 202.26518 \nL 323.606287 216.191982 \nL 323.784375 216.888099 \nL 323.962463 227.094887 \nL 324.496728 197.423355 \nL 324.674816 199.26261 \nL 324.852904 121.207073 \nL 325.20908 179.965064 \nL 325.743344 198.656264 \nL 326.09952 215.783368 \nL 326.277608 218.093117 \nL 326.455696 147.952347 \nL 327.346137 215.453271 \nL 327.524225 203.043084 \nL 327.702313 211.624622 \nL 328.236577 218.970105 \nL 328.592753 229.949713 \nL 328.770841 229.891182 \nL 328.948929 225.954789 \nL 329.661282 219.948284 \nL 329.83937 221.049081 \nL 330.195546 211.359382 \nL 330.72981 205.716948 \nL 331.085986 225.70277 \nL 331.264074 200.153994 \nL 331.442162 202.566623 \nL 331.976426 220.660543 \nL 332.154515 221.575456 \nL 332.332603 218.729838 \nL 332.510691 224.312631 \nL 332.688779 222.991372 \nL 333.223043 226.058766 \nL 333.401131 210.275551 \nL 333.579219 222.234344 \nL 333.757307 202.146974 \nL 333.935395 167.082701 \nL 334.469659 199.134967 \nL 334.647747 201.378409 \nL 334.825836 215.927861 \nL 335.003924 190.181549 \nL 335.182012 211.380557 \nL 335.716276 226.62671 \nL 335.894364 225.864097 \nL 336.072452 224.326673 \nL 336.25054 224.789289 \nL 336.428628 224.33905 \nL 336.962892 229.07585 \nL 337.14098 232.429042 \nL 337.319068 228.983997 \nL 337.675245 231.928977 \nL 338.209509 227.525323 \nL 338.387597 225.032053 \nL 338.565685 217.469305 \nL 338.921861 185.674168 \nL 339.456125 223.678581 \nL 339.634213 224.312234 \nL 339.812301 226.661387 \nL 339.990389 232.531603 \nL 340.168478 231.908776 \nL 340.88083 227.485966 \nL 341.058918 231.390482 \nL 341.237006 230.64498 \nL 341.415094 234.151293 \nL 341.949358 227.44368 \nL 342.127446 219.765504 \nL 342.305534 234.034396 \nL 342.483622 232.171952 \nL 342.66171 223.085966 \nL 343.195975 231.295168 \nL 343.552151 216.030792 \nL 343.730239 222.546411 \nL 343.908327 220.676095 \nL 344.620679 225.545389 \nL 344.798767 220.353097 \nL 344.976855 224.246003 \nL 345.154943 225.349118 \nL 345.689208 230.703384 \nL 345.867296 223.777541 \nL 346.045384 230.780333 \nL 346.223472 233.009875 \nL 346.40156 232.942285 \nL 346.935824 229.566296 \nL 347.113912 223.589313 \nL 347.292 230.705739 \nL 347.470088 224.730846 \nL 347.648176 230.083107 \nL 348.182441 228.989611 \nL 348.360529 228.320683 \nL 348.538617 217.073141 \nL 348.716705 222.501865 \nL 348.894793 222.012542 \nL 349.429057 109.181081 \nL 349.785233 175.581365 \nL 349.963321 213.309839 \nL 350.141409 209.398139 \nL 350.675673 220.464058 \nL 350.853762 211.310135 \nL 351.03185 209.868749 \nL 351.209938 216.704802 \nL 351.388026 178.997924 \nL 351.92229 212.929112 \nL 352.278466 218.4509 \nL 352.634642 195.43499 \nL 353.168906 207.082274 \nL 353.346994 175.46066 \nL 353.525083 212.16804 \nL 353.703171 163.138515 \nL 353.881259 208.165481 \nL 354.415523 222.7348 \nL 354.593611 220.396432 \nL 354.771699 222.696687 \nL 355.127875 230.997851 \nL 355.662139 222.576629 \nL 355.840227 215.572895 \nL 356.018315 165.742705 \nL 356.196404 221.020973 \nL 356.374492 200.53095 \nL 356.908756 206.22513 \nL 357.086844 212.114894 \nL 357.264932 222.039429 \nL 357.44302 208.562651 \nL 357.621108 227.653962 \nL 358.155372 228.016577 \nL 358.33346 219.764488 \nL 358.511548 227.483159 \nL 358.689636 206.931798 \nL 358.867725 214.317878 \nL 359.401989 220.337045 \nL 359.580077 227.84321 \nL 359.758165 223.831733 \nL 359.936253 226.888793 \nL 360.114341 224.196623 \nL 360.826693 217.259407 \nL 361.182869 231.692144 \nL 361.360957 232.534875 \nL 362.07331 210.432302 \nL 362.251398 175.265087 \nL 362.607574 219.872758 \nL 363.141838 190.780426 \nL 363.676102 226.077731 \nL 363.85419 213.583333 \nL 364.744631 227.798227 \nL 364.922719 223.448123 \nL 365.100807 223.651975 \nL 365.635071 230.231756 \nL 365.813159 238.23845 \nL 366.169335 233.581191 \nL 366.347423 224.088527 \nL 366.881688 218.701664 \nL 367.059776 227.823069 \nL 367.237864 226.03288 \nL 367.415952 216.654387 \nL 367.59404 226.920126 \nL 368.128304 227.812685 \nL 368.306392 225.702457 \nL 368.48448 229.20824 \nL 368.840656 223.052007 \nL 369.37492 224.710926 \nL 369.553009 231.078825 \nL 369.909185 218.938584 \nL 370.087273 223.95801 \nL 370.087273 223.95801 \n\" clip-path=\"url(#p537e37f028)\" style=\"fill: none; stroke: #1f77b4; stroke-width: 1.5; stroke-linecap: square\"/>\n   </g>\n   <g id=\"patch_3\">\n    <path d=\"M 29.2 252.083 \nL 29.2 17.075 \n\" style=\"fill: none; stroke: #000000; stroke-width: 0.8; stroke-linejoin: miter; stroke-linecap: square\"/>\n   </g>\n   <g id=\"patch_4\">\n    <path d=\"M 386.32 252.083 \nL 386.32 17.075 \n\" style=\"fill: none; stroke: #000000; stroke-width: 0.8; stroke-linejoin: miter; stroke-linecap: square\"/>\n   </g>\n   <g id=\"patch_5\">\n    <path d=\"M 29.2 252.083 \nL 386.32 252.083 \n\" style=\"fill: none; stroke: #000000; stroke-width: 0.8; stroke-linejoin: miter; stroke-linecap: square\"/>\n   </g>\n   <g id=\"patch_6\">\n    <path d=\"M 29.2 17.075 \nL 386.32 17.075 \n\" style=\"fill: none; stroke: #000000; stroke-width: 0.8; stroke-linejoin: miter; stroke-linecap: square\"/>\n   </g>\n   <g id=\"legend_1\">\n    <g id=\"patch_7\">\n     <path d=\"M 317.32 38.325 \nL 379.32 38.325 \nQ 381.32 38.325 381.32 36.325 \nL 381.32 24.075 \nQ 381.32 22.075 379.32 22.075 \nL 317.32 22.075 \nQ 315.32 22.075 315.32 24.075 \nL 315.32 36.325 \nQ 315.32 38.325 317.32 38.325 \nz\n\" style=\"fill: #ffffff; opacity: 0.8; stroke: #cccccc; stroke-linejoin: miter\"/>\n    </g>\n    <g id=\"line2d_17\">\n     <path d=\"M 319.32 29.575 \nL 329.32 29.575 \nL 339.32 29.575 \n\" style=\"fill: none; stroke: #1f77b4; stroke-width: 1.5; stroke-linecap: square\"/>\n    </g>\n    <g id=\"text_18\">\n     <!-- Volume -->\n     <g transform=\"translate(347.32 33.075) scale(0.1 -0.1)\">\n      <defs>\n       <path id=\"SimHei-56\" d=\"M 3050 4400 \nL 1800 75 \nL 1300 75 \nL 50 4400 \nL 650 4400 \nL 1525 1125 \nL 1575 1125 \nL 2450 4400 \nL 3050 4400 \nz\n\" transform=\"scale(0.015625)\"/>\n       <path id=\"SimHei-6f\" d=\"M 2925 1525 \nQ 2925 875 2525 475 \nQ 2125 75 1575 75 \nQ 1025 75 625 475 \nQ 225 875 225 1525 \nQ 225 2175 625 2575 \nQ 1025 2975 1575 2975 \nQ 2125 2975 2525 2575 \nQ 2925 2175 2925 1525 \nz\nM 2375 1525 \nQ 2375 2025 2125 2275 \nQ 1875 2525 1575 2525 \nQ 1275 2525 1025 2275 \nQ 775 2025 775 1525 \nQ 775 1025 1025 775 \nQ 1275 525 1575 525 \nQ 1875 525 2125 775 \nQ 2375 1025 2375 1525 \nz\n\" transform=\"scale(0.015625)\"/>\n       <path id=\"SimHei-6c\" d=\"M 1825 125 \nL 1325 125 \nL 1325 4400 \nL 1825 4400 \nL 1825 125 \nz\n\" transform=\"scale(0.015625)\"/>\n       <path id=\"SimHei-75\" d=\"M 2800 125 \nL 2300 125 \nL 2300 650 \nQ 2100 375 1862 225 \nQ 1625 75 1250 75 \nQ 800 75 575 325 \nQ 350 575 350 950 \nL 350 2925 \nL 850 2925 \nL 850 1125 \nQ 850 825 1000 650 \nQ 1150 475 1400 475 \nQ 1725 475 2012 812 \nQ 2300 1150 2300 1650 \nL 2300 2925 \nL 2800 2925 \nL 2800 125 \nz\n\" transform=\"scale(0.015625)\"/>\n       <path id=\"SimHei-6d\" d=\"M 3050 125 \nL 2550 125 \nL 2550 2150 \nQ 2550 2300 2500 2400 \nQ 2450 2500 2300 2500 \nQ 2125 2500 1975 2312 \nQ 1825 2125 1825 1825 \nL 1825 125 \nL 1325 125 \nL 1325 2150 \nQ 1325 2300 1275 2400 \nQ 1225 2500 1075 2500 \nQ 900 2500 750 2312 \nQ 600 2125 600 1825 \nL 600 125 \nL 100 125 \nL 100 2925 \nL 600 2925 \nL 600 2550 \nQ 725 2750 900 2862 \nQ 1075 2975 1275 2975 \nQ 1475 2975 1612 2862 \nQ 1750 2750 1800 2550 \nQ 1925 2750 2087 2862 \nQ 2250 2975 2450 2975 \nQ 2750 2975 2900 2812 \nQ 3050 2650 3050 2350 \nL 3050 125 \nz\n\" transform=\"scale(0.015625)\"/>\n      </defs>\n      <use xlink:href=\"#SimHei-56\"/>\n      <use xlink:href=\"#SimHei-6f\" x=\"50\"/>\n      <use xlink:href=\"#SimHei-6c\" x=\"100\"/>\n      <use xlink:href=\"#SimHei-75\" x=\"150\"/>\n      <use xlink:href=\"#SimHei-6d\" x=\"200\"/>\n      <use xlink:href=\"#SimHei-65\" x=\"250\"/>\n     </g>\n    </g>\n   </g>\n  </g>\n </g>\n <defs>\n  <clipPath id=\"p537e37f028\">\n   <rect x=\"29.2\" y=\"17.075\" width=\"357.12\" height=\"235.008\"/>\n  </clipPath>\n </defs>\n</svg>\n"
     },
     "metadata": {},
     "output_type": "display_data"
    }
   ],
   "source": [
    "df2.plot(kind='line',y='Volume')"
   ],
   "metadata": {
    "collapsed": false
   }
  },
  {
   "cell_type": "markdown",
   "source": [
    "### (2) 基础方法"
   ],
   "metadata": {
    "collapsed": false
   }
  },
  {
   "cell_type": "markdown",
   "source": [
    "观察数据情况"
   ],
   "metadata": {
    "collapsed": false
   }
  },
  {
   "cell_type": "code",
   "execution_count": 48,
   "outputs": [
    {
     "data": {
      "text/plain": "              Open    High     Low   Close    Volume\nDate                                                \n2023-02-17  101.00  101.09   99.25  100.01  18121644\n2023-02-16  102.71  104.52  102.03  103.11  21747094\n2023-02-15  102.39  103.44  102.00  103.08  18910236\n2023-02-14  103.55  104.48  101.85  104.22  12978395\n2023-02-13  105.99  106.35  104.15  104.79  17577825\n...            ...     ...     ...     ...       ...\n2018-02-26  194.46  195.15  190.65  194.19  19444679\n2018-02-23  190.18  193.40  189.95  193.29  16926868\n2018-02-22  190.20  190.74  187.77  188.75  12269486\n2018-02-21  189.37  193.17  188.46  188.82  22048610\n2018-02-20  187.19  188.83  187.19  187.19  14842927\n\n[1259 rows x 5 columns]",
      "text/html": "<div>\n<style scoped>\n    .dataframe tbody tr th:only-of-type {\n        vertical-align: middle;\n    }\n\n    .dataframe tbody tr th {\n        vertical-align: top;\n    }\n\n    .dataframe thead th {\n        text-align: right;\n    }\n</style>\n<table border=\"1\" class=\"dataframe\">\n  <thead>\n    <tr style=\"text-align: right;\">\n      <th></th>\n      <th>Open</th>\n      <th>High</th>\n      <th>Low</th>\n      <th>Close</th>\n      <th>Volume</th>\n    </tr>\n    <tr>\n      <th>Date</th>\n      <th></th>\n      <th></th>\n      <th></th>\n      <th></th>\n      <th></th>\n    </tr>\n  </thead>\n  <tbody>\n    <tr>\n      <th>2023-02-17</th>\n      <td>101.00</td>\n      <td>101.09</td>\n      <td>99.25</td>\n      <td>100.01</td>\n      <td>18121644</td>\n    </tr>\n    <tr>\n      <th>2023-02-16</th>\n      <td>102.71</td>\n      <td>104.52</td>\n      <td>102.03</td>\n      <td>103.11</td>\n      <td>21747094</td>\n    </tr>\n    <tr>\n      <th>2023-02-15</th>\n      <td>102.39</td>\n      <td>103.44</td>\n      <td>102.00</td>\n      <td>103.08</td>\n      <td>18910236</td>\n    </tr>\n    <tr>\n      <th>2023-02-14</th>\n      <td>103.55</td>\n      <td>104.48</td>\n      <td>101.85</td>\n      <td>104.22</td>\n      <td>12978395</td>\n    </tr>\n    <tr>\n      <th>2023-02-13</th>\n      <td>105.99</td>\n      <td>106.35</td>\n      <td>104.15</td>\n      <td>104.79</td>\n      <td>17577825</td>\n    </tr>\n    <tr>\n      <th>...</th>\n      <td>...</td>\n      <td>...</td>\n      <td>...</td>\n      <td>...</td>\n      <td>...</td>\n    </tr>\n    <tr>\n      <th>2018-02-26</th>\n      <td>194.46</td>\n      <td>195.15</td>\n      <td>190.65</td>\n      <td>194.19</td>\n      <td>19444679</td>\n    </tr>\n    <tr>\n      <th>2018-02-23</th>\n      <td>190.18</td>\n      <td>193.40</td>\n      <td>189.95</td>\n      <td>193.29</td>\n      <td>16926868</td>\n    </tr>\n    <tr>\n      <th>2018-02-22</th>\n      <td>190.20</td>\n      <td>190.74</td>\n      <td>187.77</td>\n      <td>188.75</td>\n      <td>12269486</td>\n    </tr>\n    <tr>\n      <th>2018-02-21</th>\n      <td>189.37</td>\n      <td>193.17</td>\n      <td>188.46</td>\n      <td>188.82</td>\n      <td>22048610</td>\n    </tr>\n    <tr>\n      <th>2018-02-20</th>\n      <td>187.19</td>\n      <td>188.83</td>\n      <td>187.19</td>\n      <td>187.19</td>\n      <td>14842927</td>\n    </tr>\n  </tbody>\n</table>\n<p>1259 rows × 5 columns</p>\n</div>"
     },
     "execution_count": 48,
     "metadata": {},
     "output_type": "execute_result"
    }
   ],
   "source": [
    "df2"
   ],
   "metadata": {
    "collapsed": false
   }
  },
  {
   "cell_type": "code",
   "execution_count": 49,
   "outputs": [
    {
     "data": {
      "text/plain": "              Open    High     Low   Close    Volume\nDate                                                \n2023-02-17  101.00  101.09   99.25  100.01  18121644\n2023-02-16  102.71  104.52  102.03  103.11  21747094\n2023-02-15  102.39  103.44  102.00  103.08  18910236\n2023-02-14  103.55  104.48  101.85  104.22  12978395\n2023-02-13  105.99  106.35  104.15  104.79  17577825",
      "text/html": "<div>\n<style scoped>\n    .dataframe tbody tr th:only-of-type {\n        vertical-align: middle;\n    }\n\n    .dataframe tbody tr th {\n        vertical-align: top;\n    }\n\n    .dataframe thead th {\n        text-align: right;\n    }\n</style>\n<table border=\"1\" class=\"dataframe\">\n  <thead>\n    <tr style=\"text-align: right;\">\n      <th></th>\n      <th>Open</th>\n      <th>High</th>\n      <th>Low</th>\n      <th>Close</th>\n      <th>Volume</th>\n    </tr>\n    <tr>\n      <th>Date</th>\n      <th></th>\n      <th></th>\n      <th></th>\n      <th></th>\n      <th></th>\n    </tr>\n  </thead>\n  <tbody>\n    <tr>\n      <th>2023-02-17</th>\n      <td>101.00</td>\n      <td>101.09</td>\n      <td>99.25</td>\n      <td>100.01</td>\n      <td>18121644</td>\n    </tr>\n    <tr>\n      <th>2023-02-16</th>\n      <td>102.71</td>\n      <td>104.52</td>\n      <td>102.03</td>\n      <td>103.11</td>\n      <td>21747094</td>\n    </tr>\n    <tr>\n      <th>2023-02-15</th>\n      <td>102.39</td>\n      <td>103.44</td>\n      <td>102.00</td>\n      <td>103.08</td>\n      <td>18910236</td>\n    </tr>\n    <tr>\n      <th>2023-02-14</th>\n      <td>103.55</td>\n      <td>104.48</td>\n      <td>101.85</td>\n      <td>104.22</td>\n      <td>12978395</td>\n    </tr>\n    <tr>\n      <th>2023-02-13</th>\n      <td>105.99</td>\n      <td>106.35</td>\n      <td>104.15</td>\n      <td>104.79</td>\n      <td>17577825</td>\n    </tr>\n  </tbody>\n</table>\n</div>"
     },
     "execution_count": 49,
     "metadata": {},
     "output_type": "execute_result"
    }
   ],
   "source": [
    "# 先取前10行数据\n",
    "df2.head()"
   ],
   "metadata": {
    "collapsed": false
   }
  },
  {
   "cell_type": "code",
   "execution_count": 51,
   "outputs": [
    {
     "data": {
      "text/plain": "              Open     High     Low   Close    Volume\nDate                                                 \n2018-03-05  179.41  181.950  177.07  181.60  15656661\n2018-03-02  178.01  180.230  175.45  179.76  18909073\n2018-03-01  186.18  187.480  180.05  181.99  17286309\n2018-02-28  187.25  188.240  185.00  186.14  19367576\n2018-02-27  192.59  193.567  187.21  188.26  23218450\n2018-02-26  194.46  195.150  190.65  194.19  19444679\n2018-02-23  190.18  193.400  189.95  193.29  16926868\n2018-02-22  190.20  190.740  187.77  188.75  12269486\n2018-02-21  189.37  193.170  188.46  188.82  22048610\n2018-02-20  187.19  188.830  187.19  187.19  14842927",
      "text/html": "<div>\n<style scoped>\n    .dataframe tbody tr th:only-of-type {\n        vertical-align: middle;\n    }\n\n    .dataframe tbody tr th {\n        vertical-align: top;\n    }\n\n    .dataframe thead th {\n        text-align: right;\n    }\n</style>\n<table border=\"1\" class=\"dataframe\">\n  <thead>\n    <tr style=\"text-align: right;\">\n      <th></th>\n      <th>Open</th>\n      <th>High</th>\n      <th>Low</th>\n      <th>Close</th>\n      <th>Volume</th>\n    </tr>\n    <tr>\n      <th>Date</th>\n      <th></th>\n      <th></th>\n      <th></th>\n      <th></th>\n      <th></th>\n    </tr>\n  </thead>\n  <tbody>\n    <tr>\n      <th>2018-03-05</th>\n      <td>179.41</td>\n      <td>181.950</td>\n      <td>177.07</td>\n      <td>181.60</td>\n      <td>15656661</td>\n    </tr>\n    <tr>\n      <th>2018-03-02</th>\n      <td>178.01</td>\n      <td>180.230</td>\n      <td>175.45</td>\n      <td>179.76</td>\n      <td>18909073</td>\n    </tr>\n    <tr>\n      <th>2018-03-01</th>\n      <td>186.18</td>\n      <td>187.480</td>\n      <td>180.05</td>\n      <td>181.99</td>\n      <td>17286309</td>\n    </tr>\n    <tr>\n      <th>2018-02-28</th>\n      <td>187.25</td>\n      <td>188.240</td>\n      <td>185.00</td>\n      <td>186.14</td>\n      <td>19367576</td>\n    </tr>\n    <tr>\n      <th>2018-02-27</th>\n      <td>192.59</td>\n      <td>193.567</td>\n      <td>187.21</td>\n      <td>188.26</td>\n      <td>23218450</td>\n    </tr>\n    <tr>\n      <th>2018-02-26</th>\n      <td>194.46</td>\n      <td>195.150</td>\n      <td>190.65</td>\n      <td>194.19</td>\n      <td>19444679</td>\n    </tr>\n    <tr>\n      <th>2018-02-23</th>\n      <td>190.18</td>\n      <td>193.400</td>\n      <td>189.95</td>\n      <td>193.29</td>\n      <td>16926868</td>\n    </tr>\n    <tr>\n      <th>2018-02-22</th>\n      <td>190.20</td>\n      <td>190.740</td>\n      <td>187.77</td>\n      <td>188.75</td>\n      <td>12269486</td>\n    </tr>\n    <tr>\n      <th>2018-02-21</th>\n      <td>189.37</td>\n      <td>193.170</td>\n      <td>188.46</td>\n      <td>188.82</td>\n      <td>22048610</td>\n    </tr>\n    <tr>\n      <th>2018-02-20</th>\n      <td>187.19</td>\n      <td>188.830</td>\n      <td>187.19</td>\n      <td>187.19</td>\n      <td>14842927</td>\n    </tr>\n  </tbody>\n</table>\n</div>"
     },
     "execution_count": 51,
     "metadata": {},
     "output_type": "execute_result"
    }
   ],
   "source": [
    "df2.tail(10)  #不给参数默认5"
   ],
   "metadata": {
    "collapsed": false
   }
  },
  {
   "cell_type": "markdown",
   "source": [
    " info()方法"
   ],
   "metadata": {
    "collapsed": false
   }
  },
  {
   "cell_type": "code",
   "execution_count": 52,
   "outputs": [
    {
     "name": "stdout",
     "output_type": "stream",
     "text": [
      "<class 'pandas.core.frame.DataFrame'>\n",
      "DatetimeIndex: 1259 entries, 2023-02-17 to 2018-02-20\n",
      "Data columns (total 5 columns):\n",
      " #   Column  Non-Null Count  Dtype  \n",
      "---  ------  --------------  -----  \n",
      " 0   Open    1259 non-null   float64\n",
      " 1   High    1259 non-null   float64\n",
      " 2   Low     1259 non-null   float64\n",
      " 3   Close   1259 non-null   float64\n",
      " 4   Volume  1259 non-null   int64  \n",
      "dtypes: float64(4), int64(1)\n",
      "memory usage: 59.0 KB\n"
     ]
    }
   ],
   "source": [
    "df2.info()"
   ],
   "metadata": {
    "collapsed": false
   }
  },
  {
   "cell_type": "markdown",
   "source": [
    "describe()方法"
   ],
   "metadata": {
    "collapsed": false
   }
  },
  {
   "cell_type": "code",
   "execution_count": 53,
   "outputs": [
    {
     "data": {
      "text/plain": "              Open         High          Low        Close        Volume\ncount  1259.000000  1259.000000  1259.000000  1259.000000  1.259000e+03\nmean    175.418068   177.664295   172.796884   175.254361  2.036960e+07\nstd      55.495415    55.716552    55.045698    55.442776  1.270820e+07\nmin      63.200000    64.100000    58.010000    63.150000  5.522987e+06\n25%     135.365000   137.752000   132.135000   136.425000  1.336458e+07\n50%     177.580000   179.240000   175.336000   177.190000  1.747066e+07\n75%     211.195000   213.695000   209.366650   211.480000  2.305818e+07\nmax     313.500000   319.320000   308.910000   317.140000  1.598343e+08",
      "text/html": "<div>\n<style scoped>\n    .dataframe tbody tr th:only-of-type {\n        vertical-align: middle;\n    }\n\n    .dataframe tbody tr th {\n        vertical-align: top;\n    }\n\n    .dataframe thead th {\n        text-align: right;\n    }\n</style>\n<table border=\"1\" class=\"dataframe\">\n  <thead>\n    <tr style=\"text-align: right;\">\n      <th></th>\n      <th>Open</th>\n      <th>High</th>\n      <th>Low</th>\n      <th>Close</th>\n      <th>Volume</th>\n    </tr>\n  </thead>\n  <tbody>\n    <tr>\n      <th>count</th>\n      <td>1259.000000</td>\n      <td>1259.000000</td>\n      <td>1259.000000</td>\n      <td>1259.000000</td>\n      <td>1.259000e+03</td>\n    </tr>\n    <tr>\n      <th>mean</th>\n      <td>175.418068</td>\n      <td>177.664295</td>\n      <td>172.796884</td>\n      <td>175.254361</td>\n      <td>2.036960e+07</td>\n    </tr>\n    <tr>\n      <th>std</th>\n      <td>55.495415</td>\n      <td>55.716552</td>\n      <td>55.045698</td>\n      <td>55.442776</td>\n      <td>1.270820e+07</td>\n    </tr>\n    <tr>\n      <th>min</th>\n      <td>63.200000</td>\n      <td>64.100000</td>\n      <td>58.010000</td>\n      <td>63.150000</td>\n      <td>5.522987e+06</td>\n    </tr>\n    <tr>\n      <th>25%</th>\n      <td>135.365000</td>\n      <td>137.752000</td>\n      <td>132.135000</td>\n      <td>136.425000</td>\n      <td>1.336458e+07</td>\n    </tr>\n    <tr>\n      <th>50%</th>\n      <td>177.580000</td>\n      <td>179.240000</td>\n      <td>175.336000</td>\n      <td>177.190000</td>\n      <td>1.747066e+07</td>\n    </tr>\n    <tr>\n      <th>75%</th>\n      <td>211.195000</td>\n      <td>213.695000</td>\n      <td>209.366650</td>\n      <td>211.480000</td>\n      <td>2.305818e+07</td>\n    </tr>\n    <tr>\n      <th>max</th>\n      <td>313.500000</td>\n      <td>319.320000</td>\n      <td>308.910000</td>\n      <td>317.140000</td>\n      <td>1.598343e+08</td>\n    </tr>\n  </tbody>\n</table>\n</div>"
     },
     "execution_count": 53,
     "metadata": {},
     "output_type": "execute_result"
    }
   ],
   "source": [
    "df2.describe()"
   ],
   "metadata": {
    "collapsed": false
   }
  },
  {
   "cell_type": "markdown",
   "source": [
    "### 数据的转换"
   ],
   "metadata": {
    "collapsed": false
   }
  },
  {
   "cell_type": "code",
   "execution_count": 54,
   "outputs": [],
   "source": [
    "df = pd.read_csv('./2018年北京积分落户数据.csv',index_col='id')"
   ],
   "metadata": {
    "collapsed": false
   }
  },
  {
   "cell_type": "code",
   "execution_count": 55,
   "outputs": [
    {
     "data": {
      "text/plain": "     name birthday              company   score\nid                                             \n1     杨效丰  1972-12       北京利德华福电气技术有限公司  122.59\n2     纪丰伟  1974-12         北京航天数据股份有限公司  121.25\n3      王永  1974-05       品牌联盟(北京)咨询股份公司  118.96\n4      杨静  1975-07       中科专利商标代理有限责任公司  118.21\n5     张凯江  1974-11      北京阿里巴巴云计算技术有限公司  117.79\n...   ...      ...                  ...     ...\n6015  孙宏波  1978-08    华为海洋网络有限公司北京科技分公司   90.75\n6016  刘丽香  1976-11  福斯（上海）流体设备有限公司北京分公司   90.75\n6017   周崧  1977-10      赢创德固赛（中国）投资有限公司   90.75\n6018   赵妍  1979-07     澳科利耳医疗器械（北京）有限公司   90.75\n6019   贺锐  1981-06           北京宝洁技术有限公司   90.75\n\n[6019 rows x 4 columns]",
      "text/html": "<div>\n<style scoped>\n    .dataframe tbody tr th:only-of-type {\n        vertical-align: middle;\n    }\n\n    .dataframe tbody tr th {\n        vertical-align: top;\n    }\n\n    .dataframe thead th {\n        text-align: right;\n    }\n</style>\n<table border=\"1\" class=\"dataframe\">\n  <thead>\n    <tr style=\"text-align: right;\">\n      <th></th>\n      <th>name</th>\n      <th>birthday</th>\n      <th>company</th>\n      <th>score</th>\n    </tr>\n    <tr>\n      <th>id</th>\n      <th></th>\n      <th></th>\n      <th></th>\n      <th></th>\n    </tr>\n  </thead>\n  <tbody>\n    <tr>\n      <th>1</th>\n      <td>杨效丰</td>\n      <td>1972-12</td>\n      <td>北京利德华福电气技术有限公司</td>\n      <td>122.59</td>\n    </tr>\n    <tr>\n      <th>2</th>\n      <td>纪丰伟</td>\n      <td>1974-12</td>\n      <td>北京航天数据股份有限公司</td>\n      <td>121.25</td>\n    </tr>\n    <tr>\n      <th>3</th>\n      <td>王永</td>\n      <td>1974-05</td>\n      <td>品牌联盟(北京)咨询股份公司</td>\n      <td>118.96</td>\n    </tr>\n    <tr>\n      <th>4</th>\n      <td>杨静</td>\n      <td>1975-07</td>\n      <td>中科专利商标代理有限责任公司</td>\n      <td>118.21</td>\n    </tr>\n    <tr>\n      <th>5</th>\n      <td>张凯江</td>\n      <td>1974-11</td>\n      <td>北京阿里巴巴云计算技术有限公司</td>\n      <td>117.79</td>\n    </tr>\n    <tr>\n      <th>...</th>\n      <td>...</td>\n      <td>...</td>\n      <td>...</td>\n      <td>...</td>\n    </tr>\n    <tr>\n      <th>6015</th>\n      <td>孙宏波</td>\n      <td>1978-08</td>\n      <td>华为海洋网络有限公司北京科技分公司</td>\n      <td>90.75</td>\n    </tr>\n    <tr>\n      <th>6016</th>\n      <td>刘丽香</td>\n      <td>1976-11</td>\n      <td>福斯（上海）流体设备有限公司北京分公司</td>\n      <td>90.75</td>\n    </tr>\n    <tr>\n      <th>6017</th>\n      <td>周崧</td>\n      <td>1977-10</td>\n      <td>赢创德固赛（中国）投资有限公司</td>\n      <td>90.75</td>\n    </tr>\n    <tr>\n      <th>6018</th>\n      <td>赵妍</td>\n      <td>1979-07</td>\n      <td>澳科利耳医疗器械（北京）有限公司</td>\n      <td>90.75</td>\n    </tr>\n    <tr>\n      <th>6019</th>\n      <td>贺锐</td>\n      <td>1981-06</td>\n      <td>北京宝洁技术有限公司</td>\n      <td>90.75</td>\n    </tr>\n  </tbody>\n</table>\n<p>6019 rows × 4 columns</p>\n</div>"
     },
     "execution_count": 55,
     "metadata": {},
     "output_type": "execute_result"
    }
   ],
   "source": [
    "df"
   ],
   "metadata": {
    "collapsed": false
   }
  },
  {
   "cell_type": "markdown",
   "source": [
    "#### 删除行"
   ],
   "metadata": {
    "collapsed": false
   }
  },
  {
   "cell_type": "code",
   "execution_count": 56,
   "outputs": [
    {
     "data": {
      "text/plain": "     name birthday                 company   score\nid                                                \n1     杨效丰  1972-12          北京利德华福电气技术有限公司  122.59\n2     纪丰伟  1974-12            北京航天数据股份有限公司  121.25\n4      杨静  1975-07          中科专利商标代理有限责任公司  118.21\n5     张凯江  1974-11         北京阿里巴巴云计算技术有限公司  117.79\n6      罗恒  1974-01  艾美仕市场调研咨询（上海）有限公司北京分公司  117.34\n...   ...      ...                     ...     ...\n6015  孙宏波  1978-08       华为海洋网络有限公司北京科技分公司   90.75\n6016  刘丽香  1976-11     福斯（上海）流体设备有限公司北京分公司   90.75\n6017   周崧  1977-10         赢创德固赛（中国）投资有限公司   90.75\n6018   赵妍  1979-07        澳科利耳医疗器械（北京）有限公司   90.75\n6019   贺锐  1981-06              北京宝洁技术有限公司   90.75\n\n[6018 rows x 4 columns]",
      "text/html": "<div>\n<style scoped>\n    .dataframe tbody tr th:only-of-type {\n        vertical-align: middle;\n    }\n\n    .dataframe tbody tr th {\n        vertical-align: top;\n    }\n\n    .dataframe thead th {\n        text-align: right;\n    }\n</style>\n<table border=\"1\" class=\"dataframe\">\n  <thead>\n    <tr style=\"text-align: right;\">\n      <th></th>\n      <th>name</th>\n      <th>birthday</th>\n      <th>company</th>\n      <th>score</th>\n    </tr>\n    <tr>\n      <th>id</th>\n      <th></th>\n      <th></th>\n      <th></th>\n      <th></th>\n    </tr>\n  </thead>\n  <tbody>\n    <tr>\n      <th>1</th>\n      <td>杨效丰</td>\n      <td>1972-12</td>\n      <td>北京利德华福电气技术有限公司</td>\n      <td>122.59</td>\n    </tr>\n    <tr>\n      <th>2</th>\n      <td>纪丰伟</td>\n      <td>1974-12</td>\n      <td>北京航天数据股份有限公司</td>\n      <td>121.25</td>\n    </tr>\n    <tr>\n      <th>4</th>\n      <td>杨静</td>\n      <td>1975-07</td>\n      <td>中科专利商标代理有限责任公司</td>\n      <td>118.21</td>\n    </tr>\n    <tr>\n      <th>5</th>\n      <td>张凯江</td>\n      <td>1974-11</td>\n      <td>北京阿里巴巴云计算技术有限公司</td>\n      <td>117.79</td>\n    </tr>\n    <tr>\n      <th>6</th>\n      <td>罗恒</td>\n      <td>1974-01</td>\n      <td>艾美仕市场调研咨询（上海）有限公司北京分公司</td>\n      <td>117.34</td>\n    </tr>\n    <tr>\n      <th>...</th>\n      <td>...</td>\n      <td>...</td>\n      <td>...</td>\n      <td>...</td>\n    </tr>\n    <tr>\n      <th>6015</th>\n      <td>孙宏波</td>\n      <td>1978-08</td>\n      <td>华为海洋网络有限公司北京科技分公司</td>\n      <td>90.75</td>\n    </tr>\n    <tr>\n      <th>6016</th>\n      <td>刘丽香</td>\n      <td>1976-11</td>\n      <td>福斯（上海）流体设备有限公司北京分公司</td>\n      <td>90.75</td>\n    </tr>\n    <tr>\n      <th>6017</th>\n      <td>周崧</td>\n      <td>1977-10</td>\n      <td>赢创德固赛（中国）投资有限公司</td>\n      <td>90.75</td>\n    </tr>\n    <tr>\n      <th>6018</th>\n      <td>赵妍</td>\n      <td>1979-07</td>\n      <td>澳科利耳医疗器械（北京）有限公司</td>\n      <td>90.75</td>\n    </tr>\n    <tr>\n      <th>6019</th>\n      <td>贺锐</td>\n      <td>1981-06</td>\n      <td>北京宝洁技术有限公司</td>\n      <td>90.75</td>\n    </tr>\n  </tbody>\n</table>\n<p>6018 rows × 4 columns</p>\n</div>"
     },
     "execution_count": 56,
     "metadata": {},
     "output_type": "execute_result"
    }
   ],
   "source": [
    "df.drop(index=3)    #df.drop(index=3,inplace=True)"
   ],
   "metadata": {
    "collapsed": false
   }
  },
  {
   "cell_type": "markdown",
   "source": [
    "#### 删除列"
   ],
   "metadata": {
    "collapsed": false
   }
  },
  {
   "cell_type": "code",
   "execution_count": 57,
   "outputs": [
    {
     "data": {
      "text/plain": "     name birthday   score\nid                        \n1     杨效丰  1972-12  122.59\n2     纪丰伟  1974-12  121.25\n3      王永  1974-05  118.96\n4      杨静  1975-07  118.21\n5     张凯江  1974-11  117.79\n...   ...      ...     ...\n6015  孙宏波  1978-08   90.75\n6016  刘丽香  1976-11   90.75\n6017   周崧  1977-10   90.75\n6018   赵妍  1979-07   90.75\n6019   贺锐  1981-06   90.75\n\n[6019 rows x 3 columns]",
      "text/html": "<div>\n<style scoped>\n    .dataframe tbody tr th:only-of-type {\n        vertical-align: middle;\n    }\n\n    .dataframe tbody tr th {\n        vertical-align: top;\n    }\n\n    .dataframe thead th {\n        text-align: right;\n    }\n</style>\n<table border=\"1\" class=\"dataframe\">\n  <thead>\n    <tr style=\"text-align: right;\">\n      <th></th>\n      <th>name</th>\n      <th>birthday</th>\n      <th>score</th>\n    </tr>\n    <tr>\n      <th>id</th>\n      <th></th>\n      <th></th>\n      <th></th>\n    </tr>\n  </thead>\n  <tbody>\n    <tr>\n      <th>1</th>\n      <td>杨效丰</td>\n      <td>1972-12</td>\n      <td>122.59</td>\n    </tr>\n    <tr>\n      <th>2</th>\n      <td>纪丰伟</td>\n      <td>1974-12</td>\n      <td>121.25</td>\n    </tr>\n    <tr>\n      <th>3</th>\n      <td>王永</td>\n      <td>1974-05</td>\n      <td>118.96</td>\n    </tr>\n    <tr>\n      <th>4</th>\n      <td>杨静</td>\n      <td>1975-07</td>\n      <td>118.21</td>\n    </tr>\n    <tr>\n      <th>5</th>\n      <td>张凯江</td>\n      <td>1974-11</td>\n      <td>117.79</td>\n    </tr>\n    <tr>\n      <th>...</th>\n      <td>...</td>\n      <td>...</td>\n      <td>...</td>\n    </tr>\n    <tr>\n      <th>6015</th>\n      <td>孙宏波</td>\n      <td>1978-08</td>\n      <td>90.75</td>\n    </tr>\n    <tr>\n      <th>6016</th>\n      <td>刘丽香</td>\n      <td>1976-11</td>\n      <td>90.75</td>\n    </tr>\n    <tr>\n      <th>6017</th>\n      <td>周崧</td>\n      <td>1977-10</td>\n      <td>90.75</td>\n    </tr>\n    <tr>\n      <th>6018</th>\n      <td>赵妍</td>\n      <td>1979-07</td>\n      <td>90.75</td>\n    </tr>\n    <tr>\n      <th>6019</th>\n      <td>贺锐</td>\n      <td>1981-06</td>\n      <td>90.75</td>\n    </tr>\n  </tbody>\n</table>\n<p>6019 rows × 3 columns</p>\n</div>"
     },
     "execution_count": 57,
     "metadata": {},
     "output_type": "execute_result"
    }
   ],
   "source": [
    "df.drop(columns='company')"
   ],
   "metadata": {
    "collapsed": false
   }
  },
  {
   "cell_type": "markdown",
   "source": [
    "#### 添加列"
   ],
   "metadata": {
    "collapsed": false
   }
  },
  {
   "cell_type": "code",
   "execution_count": 58,
   "outputs": [],
   "source": [
    "df['绩优股'] = '是'"
   ],
   "metadata": {
    "collapsed": false
   }
  },
  {
   "cell_type": "code",
   "execution_count": 59,
   "outputs": [
    {
     "data": {
      "text/plain": "     name birthday              company   score 绩优股\nid                                                 \n1     杨效丰  1972-12       北京利德华福电气技术有限公司  122.59   是\n2     纪丰伟  1974-12         北京航天数据股份有限公司  121.25   是\n3      王永  1974-05       品牌联盟(北京)咨询股份公司  118.96   是\n4      杨静  1975-07       中科专利商标代理有限责任公司  118.21   是\n5     张凯江  1974-11      北京阿里巴巴云计算技术有限公司  117.79   是\n...   ...      ...                  ...     ...  ..\n6015  孙宏波  1978-08    华为海洋网络有限公司北京科技分公司   90.75   是\n6016  刘丽香  1976-11  福斯（上海）流体设备有限公司北京分公司   90.75   是\n6017   周崧  1977-10      赢创德固赛（中国）投资有限公司   90.75   是\n6018   赵妍  1979-07     澳科利耳医疗器械（北京）有限公司   90.75   是\n6019   贺锐  1981-06           北京宝洁技术有限公司   90.75   是\n\n[6019 rows x 5 columns]",
      "text/html": "<div>\n<style scoped>\n    .dataframe tbody tr th:only-of-type {\n        vertical-align: middle;\n    }\n\n    .dataframe tbody tr th {\n        vertical-align: top;\n    }\n\n    .dataframe thead th {\n        text-align: right;\n    }\n</style>\n<table border=\"1\" class=\"dataframe\">\n  <thead>\n    <tr style=\"text-align: right;\">\n      <th></th>\n      <th>name</th>\n      <th>birthday</th>\n      <th>company</th>\n      <th>score</th>\n      <th>绩优股</th>\n    </tr>\n    <tr>\n      <th>id</th>\n      <th></th>\n      <th></th>\n      <th></th>\n      <th></th>\n      <th></th>\n    </tr>\n  </thead>\n  <tbody>\n    <tr>\n      <th>1</th>\n      <td>杨效丰</td>\n      <td>1972-12</td>\n      <td>北京利德华福电气技术有限公司</td>\n      <td>122.59</td>\n      <td>是</td>\n    </tr>\n    <tr>\n      <th>2</th>\n      <td>纪丰伟</td>\n      <td>1974-12</td>\n      <td>北京航天数据股份有限公司</td>\n      <td>121.25</td>\n      <td>是</td>\n    </tr>\n    <tr>\n      <th>3</th>\n      <td>王永</td>\n      <td>1974-05</td>\n      <td>品牌联盟(北京)咨询股份公司</td>\n      <td>118.96</td>\n      <td>是</td>\n    </tr>\n    <tr>\n      <th>4</th>\n      <td>杨静</td>\n      <td>1975-07</td>\n      <td>中科专利商标代理有限责任公司</td>\n      <td>118.21</td>\n      <td>是</td>\n    </tr>\n    <tr>\n      <th>5</th>\n      <td>张凯江</td>\n      <td>1974-11</td>\n      <td>北京阿里巴巴云计算技术有限公司</td>\n      <td>117.79</td>\n      <td>是</td>\n    </tr>\n    <tr>\n      <th>...</th>\n      <td>...</td>\n      <td>...</td>\n      <td>...</td>\n      <td>...</td>\n      <td>...</td>\n    </tr>\n    <tr>\n      <th>6015</th>\n      <td>孙宏波</td>\n      <td>1978-08</td>\n      <td>华为海洋网络有限公司北京科技分公司</td>\n      <td>90.75</td>\n      <td>是</td>\n    </tr>\n    <tr>\n      <th>6016</th>\n      <td>刘丽香</td>\n      <td>1976-11</td>\n      <td>福斯（上海）流体设备有限公司北京分公司</td>\n      <td>90.75</td>\n      <td>是</td>\n    </tr>\n    <tr>\n      <th>6017</th>\n      <td>周崧</td>\n      <td>1977-10</td>\n      <td>赢创德固赛（中国）投资有限公司</td>\n      <td>90.75</td>\n      <td>是</td>\n    </tr>\n    <tr>\n      <th>6018</th>\n      <td>赵妍</td>\n      <td>1979-07</td>\n      <td>澳科利耳医疗器械（北京）有限公司</td>\n      <td>90.75</td>\n      <td>是</td>\n    </tr>\n    <tr>\n      <th>6019</th>\n      <td>贺锐</td>\n      <td>1981-06</td>\n      <td>北京宝洁技术有限公司</td>\n      <td>90.75</td>\n      <td>是</td>\n    </tr>\n  </tbody>\n</table>\n<p>6019 rows × 5 columns</p>\n</div>"
     },
     "execution_count": 59,
     "metadata": {},
     "output_type": "execute_result"
    }
   ],
   "source": [
    "df"
   ],
   "metadata": {
    "collapsed": false
   }
  },
  {
   "cell_type": "markdown",
   "source": [
    "#### 加入行"
   ],
   "metadata": {
    "collapsed": false
   }
  },
  {
   "cell_type": "code",
   "execution_count": 60,
   "outputs": [],
   "source": [
    "df.loc[6020] = {'name':'鹅妈妈','birthday':'1998-10','company':'CDU','score':1,'绩优股':'是'}"
   ],
   "metadata": {
    "collapsed": false
   }
  },
  {
   "cell_type": "code",
   "execution_count": 61,
   "outputs": [
    {
     "data": {
      "text/plain": "     name birthday              company   score 绩优股\nid                                                 \n1     杨效丰  1972-12       北京利德华福电气技术有限公司  122.59   是\n2     纪丰伟  1974-12         北京航天数据股份有限公司  121.25   是\n3      王永  1974-05       品牌联盟(北京)咨询股份公司  118.96   是\n4      杨静  1975-07       中科专利商标代理有限责任公司  118.21   是\n5     张凯江  1974-11      北京阿里巴巴云计算技术有限公司  117.79   是\n...   ...      ...                  ...     ...  ..\n6016  刘丽香  1976-11  福斯（上海）流体设备有限公司北京分公司   90.75   是\n6017   周崧  1977-10      赢创德固赛（中国）投资有限公司   90.75   是\n6018   赵妍  1979-07     澳科利耳医疗器械（北京）有限公司   90.75   是\n6019   贺锐  1981-06           北京宝洁技术有限公司   90.75   是\n6020  鹅妈妈  1998-10                  CDU    1.00   是\n\n[6020 rows x 5 columns]",
      "text/html": "<div>\n<style scoped>\n    .dataframe tbody tr th:only-of-type {\n        vertical-align: middle;\n    }\n\n    .dataframe tbody tr th {\n        vertical-align: top;\n    }\n\n    .dataframe thead th {\n        text-align: right;\n    }\n</style>\n<table border=\"1\" class=\"dataframe\">\n  <thead>\n    <tr style=\"text-align: right;\">\n      <th></th>\n      <th>name</th>\n      <th>birthday</th>\n      <th>company</th>\n      <th>score</th>\n      <th>绩优股</th>\n    </tr>\n    <tr>\n      <th>id</th>\n      <th></th>\n      <th></th>\n      <th></th>\n      <th></th>\n      <th></th>\n    </tr>\n  </thead>\n  <tbody>\n    <tr>\n      <th>1</th>\n      <td>杨效丰</td>\n      <td>1972-12</td>\n      <td>北京利德华福电气技术有限公司</td>\n      <td>122.59</td>\n      <td>是</td>\n    </tr>\n    <tr>\n      <th>2</th>\n      <td>纪丰伟</td>\n      <td>1974-12</td>\n      <td>北京航天数据股份有限公司</td>\n      <td>121.25</td>\n      <td>是</td>\n    </tr>\n    <tr>\n      <th>3</th>\n      <td>王永</td>\n      <td>1974-05</td>\n      <td>品牌联盟(北京)咨询股份公司</td>\n      <td>118.96</td>\n      <td>是</td>\n    </tr>\n    <tr>\n      <th>4</th>\n      <td>杨静</td>\n      <td>1975-07</td>\n      <td>中科专利商标代理有限责任公司</td>\n      <td>118.21</td>\n      <td>是</td>\n    </tr>\n    <tr>\n      <th>5</th>\n      <td>张凯江</td>\n      <td>1974-11</td>\n      <td>北京阿里巴巴云计算技术有限公司</td>\n      <td>117.79</td>\n      <td>是</td>\n    </tr>\n    <tr>\n      <th>...</th>\n      <td>...</td>\n      <td>...</td>\n      <td>...</td>\n      <td>...</td>\n      <td>...</td>\n    </tr>\n    <tr>\n      <th>6016</th>\n      <td>刘丽香</td>\n      <td>1976-11</td>\n      <td>福斯（上海）流体设备有限公司北京分公司</td>\n      <td>90.75</td>\n      <td>是</td>\n    </tr>\n    <tr>\n      <th>6017</th>\n      <td>周崧</td>\n      <td>1977-10</td>\n      <td>赢创德固赛（中国）投资有限公司</td>\n      <td>90.75</td>\n      <td>是</td>\n    </tr>\n    <tr>\n      <th>6018</th>\n      <td>赵妍</td>\n      <td>1979-07</td>\n      <td>澳科利耳医疗器械（北京）有限公司</td>\n      <td>90.75</td>\n      <td>是</td>\n    </tr>\n    <tr>\n      <th>6019</th>\n      <td>贺锐</td>\n      <td>1981-06</td>\n      <td>北京宝洁技术有限公司</td>\n      <td>90.75</td>\n      <td>是</td>\n    </tr>\n    <tr>\n      <th>6020</th>\n      <td>鹅妈妈</td>\n      <td>1998-10</td>\n      <td>CDU</td>\n      <td>1.00</td>\n      <td>是</td>\n    </tr>\n  </tbody>\n</table>\n<p>6020 rows × 5 columns</p>\n</div>"
     },
     "execution_count": 61,
     "metadata": {},
     "output_type": "execute_result"
    }
   ],
   "source": [
    "df"
   ],
   "metadata": {
    "collapsed": false
   }
  },
  {
   "cell_type": "markdown",
   "source": [
    "#### 随机取样"
   ],
   "metadata": {
    "collapsed": false
   }
  },
  {
   "cell_type": "code",
   "execution_count": 62,
   "outputs": [
    {
     "data": {
      "text/plain": "     name birthday              company  score 绩优股\nid                                                \n3800  位淑萍  1974-10      北京庆东纳碧安热能设备有限公司  93.25   是\n3935  赵玉兰  1975-10         瑞萨电子（中国）有限公司  93.05   是\n4822  马永征  1979-08              中国食品杂志社  92.00   是\n1372  占德权  1979-06     丹佛斯（天津）有限公司北京分公司  98.16   是\n2032  毕鹏辉  1973-11     泰尔文特控制系统（中国）有限公司  96.25   是\n3084  刘新彩  1976-07       北京京林创新园艺科技有限公司  94.33   是\n3930  刘金梅  1972-10        中交一公局第一工程有限公司  93.05   是\n4468  张利鹏  1976-08    中国国际人才开发中心第二人力资源部  92.38   是\n1499  田晓斌  1974-10       北京罗顿沙河建设发展有限公司  97.75   是\n5959   徐峰  1977-09  联强国际贸易（中国）有限公司北京分公司  90.79   是",
      "text/html": "<div>\n<style scoped>\n    .dataframe tbody tr th:only-of-type {\n        vertical-align: middle;\n    }\n\n    .dataframe tbody tr th {\n        vertical-align: top;\n    }\n\n    .dataframe thead th {\n        text-align: right;\n    }\n</style>\n<table border=\"1\" class=\"dataframe\">\n  <thead>\n    <tr style=\"text-align: right;\">\n      <th></th>\n      <th>name</th>\n      <th>birthday</th>\n      <th>company</th>\n      <th>score</th>\n      <th>绩优股</th>\n    </tr>\n    <tr>\n      <th>id</th>\n      <th></th>\n      <th></th>\n      <th></th>\n      <th></th>\n      <th></th>\n    </tr>\n  </thead>\n  <tbody>\n    <tr>\n      <th>3800</th>\n      <td>位淑萍</td>\n      <td>1974-10</td>\n      <td>北京庆东纳碧安热能设备有限公司</td>\n      <td>93.25</td>\n      <td>是</td>\n    </tr>\n    <tr>\n      <th>3935</th>\n      <td>赵玉兰</td>\n      <td>1975-10</td>\n      <td>瑞萨电子（中国）有限公司</td>\n      <td>93.05</td>\n      <td>是</td>\n    </tr>\n    <tr>\n      <th>4822</th>\n      <td>马永征</td>\n      <td>1979-08</td>\n      <td>中国食品杂志社</td>\n      <td>92.00</td>\n      <td>是</td>\n    </tr>\n    <tr>\n      <th>1372</th>\n      <td>占德权</td>\n      <td>1979-06</td>\n      <td>丹佛斯（天津）有限公司北京分公司</td>\n      <td>98.16</td>\n      <td>是</td>\n    </tr>\n    <tr>\n      <th>2032</th>\n      <td>毕鹏辉</td>\n      <td>1973-11</td>\n      <td>泰尔文特控制系统（中国）有限公司</td>\n      <td>96.25</td>\n      <td>是</td>\n    </tr>\n    <tr>\n      <th>3084</th>\n      <td>刘新彩</td>\n      <td>1976-07</td>\n      <td>北京京林创新园艺科技有限公司</td>\n      <td>94.33</td>\n      <td>是</td>\n    </tr>\n    <tr>\n      <th>3930</th>\n      <td>刘金梅</td>\n      <td>1972-10</td>\n      <td>中交一公局第一工程有限公司</td>\n      <td>93.05</td>\n      <td>是</td>\n    </tr>\n    <tr>\n      <th>4468</th>\n      <td>张利鹏</td>\n      <td>1976-08</td>\n      <td>中国国际人才开发中心第二人力资源部</td>\n      <td>92.38</td>\n      <td>是</td>\n    </tr>\n    <tr>\n      <th>1499</th>\n      <td>田晓斌</td>\n      <td>1974-10</td>\n      <td>北京罗顿沙河建设发展有限公司</td>\n      <td>97.75</td>\n      <td>是</td>\n    </tr>\n    <tr>\n      <th>5959</th>\n      <td>徐峰</td>\n      <td>1977-09</td>\n      <td>联强国际贸易（中国）有限公司北京分公司</td>\n      <td>90.79</td>\n      <td>是</td>\n    </tr>\n  </tbody>\n</table>\n</div>"
     },
     "execution_count": 62,
     "metadata": {},
     "output_type": "execute_result"
    }
   ],
   "source": [
    "df.sample(10)"
   ],
   "metadata": {
    "collapsed": false
   }
  }
 ],
 "metadata": {
  "kernelspec": {
   "display_name": "Python 3",
   "language": "python",
   "name": "python3"
  },
  "language_info": {
   "codemirror_mode": {
    "name": "ipython",
    "version": 2
   },
   "file_extension": ".py",
   "mimetype": "text/x-python",
   "name": "python",
   "nbconvert_exporter": "python",
   "pygments_lexer": "ipython2",
   "version": "2.7.6"
  }
 },
 "nbformat": 4,
 "nbformat_minor": 0
}
