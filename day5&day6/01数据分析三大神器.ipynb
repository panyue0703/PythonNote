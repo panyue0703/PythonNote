{
 "cells": [
  {
   "cell_type": "code",
   "execution_count": 1,
   "metadata": {
    "collapsed": true
   },
   "outputs": [],
   "source": [
    "import numpy as np\n",
    "import pandas as pd\n",
    "import matplotlib.pyplot as plt\n",
    "import random"
   ]
  },
  {
   "cell_type": "markdown",
   "source": [
    "创建一组数据"
   ],
   "metadata": {
    "collapsed": false
   }
  },
  {
   "cell_type": "code",
   "execution_count": 2,
   "outputs": [],
   "source": [
    "# 使用随机数创建：五位同学三门课成绩\n",
    "num_students = 5\n",
    "num_courses = 3\n",
    "# 生成三门课的随机成绩\n",
    "scores = [[random.randint(60, 100) for i in range(num_courses)] for i in range(num_students)]"
   ],
   "metadata": {
    "collapsed": false
   }
  },
  {
   "cell_type": "code",
   "execution_count": 3,
   "outputs": [
    {
     "data": {
      "text/plain": "[[95, 89, 86], [66, 77, 75], [85, 96, 100], [72, 84, 92], [77, 81, 71]]"
     },
     "execution_count": 3,
     "metadata": {},
     "output_type": "execute_result"
    }
   ],
   "source": [
    "scores"
   ],
   "metadata": {
    "collapsed": false
   }
  },
  {
   "cell_type": "code",
   "execution_count": 4,
   "outputs": [
    {
     "name": "stdout",
     "output_type": "stream",
     "text": [
      "Student 1 average score: 90.00\n",
      "Student 2 average score: 72.67\n",
      "Student 3 average score: 93.67\n",
      "Student 4 average score: 82.67\n",
      "Student 5 average score: 76.33\n"
     ]
    }
   ],
   "source": [
    "# 计算每位同学的平均成绩\n",
    "for i in range(num_students):\n",
    "    avg_score = sum(scores[i]) / len(scores[i])\n",
    "    print(f\"Student {i+1} average score: {avg_score:.2f}\")"
   ],
   "metadata": {
    "collapsed": false
   }
  },
  {
   "cell_type": "markdown",
   "source": [
    "## numpy --> ndarray"
   ],
   "metadata": {
    "collapsed": false
   }
  },
  {
   "cell_type": "markdown",
   "source": [
    "将列表转换为ndarray数据类型"
   ],
   "metadata": {
    "collapsed": false
   }
  },
  {
   "cell_type": "code",
   "execution_count": 5,
   "outputs": [
    {
     "name": "stdout",
     "output_type": "stream",
     "text": [
      "[[ 95  89  86]\n",
      " [ 66  77  75]\n",
      " [ 85  96 100]\n",
      " [ 72  84  92]\n",
      " [ 77  81  71]]\n"
     ]
    }
   ],
   "source": [
    "scores = np.array(scores)\n",
    "print(scores)"
   ],
   "metadata": {
    "collapsed": false
   }
  },
  {
   "cell_type": "markdown",
   "source": [
    "取最大值"
   ],
   "metadata": {
    "collapsed": false
   }
  },
  {
   "cell_type": "code",
   "execution_count": 6,
   "outputs": [
    {
     "data": {
      "text/plain": "100"
     },
     "execution_count": 6,
     "metadata": {},
     "output_type": "execute_result"
    }
   ],
   "source": [
    "scores.max()"
   ],
   "metadata": {
    "collapsed": false
   }
  },
  {
   "cell_type": "markdown",
   "source": [
    "横轴：1\n",
    "纵轴：0"
   ],
   "metadata": {
    "collapsed": false
   }
  },
  {
   "cell_type": "code",
   "execution_count": 7,
   "outputs": [
    {
     "data": {
      "text/plain": "array([90.        , 72.66666667, 93.66666667, 82.66666667, 76.33333333])"
     },
     "execution_count": 7,
     "metadata": {},
     "output_type": "execute_result"
    }
   ],
   "source": [
    "# 计算每位同学的平均成绩\n",
    "scores.mean(axis=1)"
   ],
   "metadata": {
    "collapsed": false
   }
  },
  {
   "cell_type": "code",
   "execution_count": 8,
   "outputs": [
    {
     "data": {
      "text/plain": "array([ 95,  96, 100])"
     },
     "execution_count": 8,
     "metadata": {},
     "output_type": "execute_result"
    }
   ],
   "source": [
    "# 每门课程的最大值\n",
    "scores.max(axis=0)"
   ],
   "metadata": {
    "collapsed": false
   }
  },
  {
   "cell_type": "code",
   "execution_count": 9,
   "outputs": [
    {
     "data": {
      "text/plain": "array([ 95,  77, 100,  92,  81])"
     },
     "execution_count": 9,
     "metadata": {},
     "output_type": "execute_result"
    }
   ],
   "source": [
    "# 每位同学的最大值\n",
    "scores.max(axis=1)"
   ],
   "metadata": {
    "collapsed": false
   }
  },
  {
   "cell_type": "code",
   "execution_count": 10,
   "outputs": [
    {
     "data": {
      "text/plain": "array([86, 66, 85, 72, 71])"
     },
     "execution_count": 10,
     "metadata": {},
     "output_type": "execute_result"
    }
   ],
   "source": [
    "# 每位同学最小值\n",
    "scores.min(axis=1)"
   ],
   "metadata": {
    "collapsed": false
   }
  },
  {
   "cell_type": "code",
   "execution_count": 11,
   "outputs": [
    {
     "data": {
      "text/plain": "array([66, 77, 71])"
     },
     "execution_count": 11,
     "metadata": {},
     "output_type": "execute_result"
    }
   ],
   "source": [
    "# 每个学科最小值\n",
    "scores.min(axis=0)"
   ],
   "metadata": {
    "collapsed": false
   }
  },
  {
   "cell_type": "markdown",
   "source": [],
   "metadata": {
    "collapsed": false
   }
  },
  {
   "cell_type": "markdown",
   "source": [
    "## pandas --> DataFrame"
   ],
   "metadata": {
    "collapsed": false
   }
  },
  {
   "cell_type": "markdown",
   "source": [
    "简单理解为数据表"
   ],
   "metadata": {
    "collapsed": false
   }
  },
  {
   "cell_type": "code",
   "execution_count": 12,
   "outputs": [],
   "source": [
    "names = ['A','B','C','D','E']\n",
    "courses = ['语文','数学','英语']\n",
    "df = pd.DataFrame(data=scores,index=names,columns=courses)"
   ],
   "metadata": {
    "collapsed": false
   }
  },
  {
   "cell_type": "code",
   "execution_count": 13,
   "outputs": [
    {
     "data": {
      "text/plain": "   语文  数学   英语\nA  95  89   86\nB  66  77   75\nC  85  96  100\nD  72  84   92\nE  77  81   71",
      "text/html": "<div>\n<style scoped>\n    .dataframe tbody tr th:only-of-type {\n        vertical-align: middle;\n    }\n\n    .dataframe tbody tr th {\n        vertical-align: top;\n    }\n\n    .dataframe thead th {\n        text-align: right;\n    }\n</style>\n<table border=\"1\" class=\"dataframe\">\n  <thead>\n    <tr style=\"text-align: right;\">\n      <th></th>\n      <th>语文</th>\n      <th>数学</th>\n      <th>英语</th>\n    </tr>\n  </thead>\n  <tbody>\n    <tr>\n      <th>A</th>\n      <td>95</td>\n      <td>89</td>\n      <td>86</td>\n    </tr>\n    <tr>\n      <th>B</th>\n      <td>66</td>\n      <td>77</td>\n      <td>75</td>\n    </tr>\n    <tr>\n      <th>C</th>\n      <td>85</td>\n      <td>96</td>\n      <td>100</td>\n    </tr>\n    <tr>\n      <th>D</th>\n      <td>72</td>\n      <td>84</td>\n      <td>92</td>\n    </tr>\n    <tr>\n      <th>E</th>\n      <td>77</td>\n      <td>81</td>\n      <td>71</td>\n    </tr>\n  </tbody>\n</table>\n</div>"
     },
     "execution_count": 13,
     "metadata": {},
     "output_type": "execute_result"
    }
   ],
   "source": [
    "df"
   ],
   "metadata": {
    "collapsed": false
   }
  },
  {
   "cell_type": "markdown",
   "source": [
    "计算每门课每个人平均成绩"
   ],
   "metadata": {
    "collapsed": false
   }
  },
  {
   "cell_type": "code",
   "execution_count": 14,
   "outputs": [
    {
     "data": {
      "text/plain": "语文    79.0\n数学    85.4\n英语    84.8\ndtype: float64"
     },
     "execution_count": 14,
     "metadata": {},
     "output_type": "execute_result"
    }
   ],
   "source": [
    "df.mean()   #默认是沿着纵轴"
   ],
   "metadata": {
    "collapsed": false
   }
  },
  {
   "cell_type": "code",
   "execution_count": 15,
   "outputs": [
    {
     "data": {
      "text/plain": "A    90.000000\nB    72.666667\nC    93.666667\nD    82.666667\nE    76.333333\ndtype: float64"
     },
     "execution_count": 15,
     "metadata": {},
     "output_type": "execute_result"
    }
   ],
   "source": [
    "df.mean(axis=1)     #每个人平均成绩"
   ],
   "metadata": {
    "collapsed": false
   }
  },
  {
   "cell_type": "code",
   "execution_count": 16,
   "outputs": [
    {
     "data": {
      "text/plain": "   语文  数学   英语\nA  95  89   86\nB  66  77   75\nC  85  96  100\nD  72  84   92\nE  77  81   71",
      "text/html": "<div>\n<style scoped>\n    .dataframe tbody tr th:only-of-type {\n        vertical-align: middle;\n    }\n\n    .dataframe tbody tr th {\n        vertical-align: top;\n    }\n\n    .dataframe thead th {\n        text-align: right;\n    }\n</style>\n<table border=\"1\" class=\"dataframe\">\n  <thead>\n    <tr style=\"text-align: right;\">\n      <th></th>\n      <th>语文</th>\n      <th>数学</th>\n      <th>英语</th>\n    </tr>\n  </thead>\n  <tbody>\n    <tr>\n      <th>A</th>\n      <td>95</td>\n      <td>89</td>\n      <td>86</td>\n    </tr>\n    <tr>\n      <th>B</th>\n      <td>66</td>\n      <td>77</td>\n      <td>75</td>\n    </tr>\n    <tr>\n      <th>C</th>\n      <td>85</td>\n      <td>96</td>\n      <td>100</td>\n    </tr>\n    <tr>\n      <th>D</th>\n      <td>72</td>\n      <td>84</td>\n      <td>92</td>\n    </tr>\n    <tr>\n      <th>E</th>\n      <td>77</td>\n      <td>81</td>\n      <td>71</td>\n    </tr>\n  </tbody>\n</table>\n</div>"
     },
     "execution_count": 16,
     "metadata": {},
     "output_type": "execute_result"
    }
   ],
   "source": [
    "np.round(df,1)"
   ],
   "metadata": {
    "collapsed": false
   }
  },
  {
   "cell_type": "code",
   "execution_count": 17,
   "outputs": [
    {
     "name": "stdout",
     "output_type": "stream",
     "text": [
      "   语文  数学   英语   平均分\n",
      "A  95  89   86  90.0\n",
      "B  66  77   75  72.7\n",
      "C  85  96  100  93.7\n",
      "D  72  84   92  82.7\n",
      "E  77  81   71  76.3\n"
     ]
    }
   ],
   "source": [
    "df['平均分'] = np.round(df.mean(axis=1),1)\n",
    "print(df)"
   ],
   "metadata": {
    "collapsed": false
   }
  },
  {
   "cell_type": "code",
   "execution_count": 18,
   "outputs": [
    {
     "data": {
      "text/plain": "   语文  数学   英语   平均分\nA  95  89   86  90.0\nB  66  77   75  72.7\nC  85  96  100  93.7\nD  72  84   92  82.7\nE  77  81   71  76.3",
      "text/html": "<div>\n<style scoped>\n    .dataframe tbody tr th:only-of-type {\n        vertical-align: middle;\n    }\n\n    .dataframe tbody tr th {\n        vertical-align: top;\n    }\n\n    .dataframe thead th {\n        text-align: right;\n    }\n</style>\n<table border=\"1\" class=\"dataframe\">\n  <thead>\n    <tr style=\"text-align: right;\">\n      <th></th>\n      <th>语文</th>\n      <th>数学</th>\n      <th>英语</th>\n      <th>平均分</th>\n    </tr>\n  </thead>\n  <tbody>\n    <tr>\n      <th>A</th>\n      <td>95</td>\n      <td>89</td>\n      <td>86</td>\n      <td>90.0</td>\n    </tr>\n    <tr>\n      <th>B</th>\n      <td>66</td>\n      <td>77</td>\n      <td>75</td>\n      <td>72.7</td>\n    </tr>\n    <tr>\n      <th>C</th>\n      <td>85</td>\n      <td>96</td>\n      <td>100</td>\n      <td>93.7</td>\n    </tr>\n    <tr>\n      <th>D</th>\n      <td>72</td>\n      <td>84</td>\n      <td>92</td>\n      <td>82.7</td>\n    </tr>\n    <tr>\n      <th>E</th>\n      <td>77</td>\n      <td>81</td>\n      <td>71</td>\n      <td>76.3</td>\n    </tr>\n  </tbody>\n</table>\n</div>"
     },
     "execution_count": 18,
     "metadata": {},
     "output_type": "execute_result"
    }
   ],
   "source": [
    "df"
   ],
   "metadata": {
    "collapsed": false
   }
  },
  {
   "cell_type": "code",
   "execution_count": 19,
   "outputs": [],
   "source": [
    "# 最高成绩\n",
    "df.loc['最高分'] = df.max()\n",
    "# 最低成绩\n",
    "df.loc['最低分'] = df.min()"
   ],
   "metadata": {
    "collapsed": false
   }
  },
  {
   "cell_type": "code",
   "execution_count": 20,
   "outputs": [
    {
     "data": {
      "text/plain": "       语文    数学     英语   平均分\nA    95.0  89.0   86.0  90.0\nB    66.0  77.0   75.0  72.7\nC    85.0  96.0  100.0  93.7\nD    72.0  84.0   92.0  82.7\nE    77.0  81.0   71.0  76.3\n最高分  95.0  96.0  100.0  93.7\n最低分  66.0  77.0   71.0  72.7",
      "text/html": "<div>\n<style scoped>\n    .dataframe tbody tr th:only-of-type {\n        vertical-align: middle;\n    }\n\n    .dataframe tbody tr th {\n        vertical-align: top;\n    }\n\n    .dataframe thead th {\n        text-align: right;\n    }\n</style>\n<table border=\"1\" class=\"dataframe\">\n  <thead>\n    <tr style=\"text-align: right;\">\n      <th></th>\n      <th>语文</th>\n      <th>数学</th>\n      <th>英语</th>\n      <th>平均分</th>\n    </tr>\n  </thead>\n  <tbody>\n    <tr>\n      <th>A</th>\n      <td>95.0</td>\n      <td>89.0</td>\n      <td>86.0</td>\n      <td>90.0</td>\n    </tr>\n    <tr>\n      <th>B</th>\n      <td>66.0</td>\n      <td>77.0</td>\n      <td>75.0</td>\n      <td>72.7</td>\n    </tr>\n    <tr>\n      <th>C</th>\n      <td>85.0</td>\n      <td>96.0</td>\n      <td>100.0</td>\n      <td>93.7</td>\n    </tr>\n    <tr>\n      <th>D</th>\n      <td>72.0</td>\n      <td>84.0</td>\n      <td>92.0</td>\n      <td>82.7</td>\n    </tr>\n    <tr>\n      <th>E</th>\n      <td>77.0</td>\n      <td>81.0</td>\n      <td>71.0</td>\n      <td>76.3</td>\n    </tr>\n    <tr>\n      <th>最高分</th>\n      <td>95.0</td>\n      <td>96.0</td>\n      <td>100.0</td>\n      <td>93.7</td>\n    </tr>\n    <tr>\n      <th>最低分</th>\n      <td>66.0</td>\n      <td>77.0</td>\n      <td>71.0</td>\n      <td>72.7</td>\n    </tr>\n  </tbody>\n</table>\n</div>"
     },
     "execution_count": 20,
     "metadata": {},
     "output_type": "execute_result"
    }
   ],
   "source": [
    "df"
   ],
   "metadata": {
    "collapsed": false
   }
  },
  {
   "cell_type": "code",
   "execution_count": 22,
   "outputs": [],
   "source": [
    "#配置字体参数雅黑\n",
    "plt.rcParams['font.sans-serif'] = 'Microsoft YaHei'\n",
    "#安装字体\n",
    "plt.rcParams['font.sans-serif'] = 'SimHei'\n",
    "#配置矢量图\n",
    "%config InlineBackend.figure_format = 'svg'"
   ],
   "metadata": {
    "collapsed": false
   }
  },
  {
   "cell_type": "code",
   "execution_count": 23,
   "outputs": [
    {
     "data": {
      "text/plain": "<Axes: >"
     },
     "execution_count": 23,
     "metadata": {},
     "output_type": "execute_result"
    },
    {
     "data": {
      "text/plain": "<Figure size 640x480 with 1 Axes>",
      "image/svg+xml": "<?xml version=\"1.0\" encoding=\"utf-8\" standalone=\"no\"?>\n<!DOCTYPE svg PUBLIC \"-//W3C//DTD SVG 1.1//EN\"\n  \"http://www.w3.org/Graphics/SVG/1.1/DTD/svg11.dtd\">\n<svg xmlns:xlink=\"http://www.w3.org/1999/xlink\" width=\"393.52pt\" height=\"317.512pt\" viewBox=\"0 0 393.52 317.512\" xmlns=\"http://www.w3.org/2000/svg\" version=\"1.1\">\n <metadata>\n  <rdf:RDF xmlns:dc=\"http://purl.org/dc/elements/1.1/\" xmlns:cc=\"http://creativecommons.org/ns#\" xmlns:rdf=\"http://www.w3.org/1999/02/22-rdf-syntax-ns#\">\n   <cc:Work>\n    <dc:type rdf:resource=\"http://purl.org/dc/dcmitype/StillImage\"/>\n    <dc:date>2023-02-17T15:31:30.202568</dc:date>\n    <dc:format>image/svg+xml</dc:format>\n    <dc:creator>\n     <cc:Agent>\n      <dc:title>Matplotlib v3.7.0, https://matplotlib.org/</dc:title>\n     </cc:Agent>\n    </dc:creator>\n   </cc:Work>\n  </rdf:RDF>\n </metadata>\n <defs>\n  <style type=\"text/css\">*{stroke-linejoin: round; stroke-linecap: butt}</style>\n </defs>\n <g id=\"figure_1\">\n  <g id=\"patch_1\">\n   <path d=\"M 0 317.512 \nL 393.52 317.512 \nL 393.52 0 \nL 0 0 \nz\n\" style=\"fill: #ffffff\"/>\n  </g>\n  <g id=\"axes_1\">\n   <g id=\"patch_2\">\n    <path d=\"M 29.2 273.312 \nL 386.32 273.312 \nL 386.32 7.2 \nL 29.2 7.2 \nz\n\" style=\"fill: #ffffff\"/>\n   </g>\n   <g id=\"patch_3\">\n    <path d=\"M 41.954286 273.312 \nL 48.331429 273.312 \nL 48.331429 32.544 \nL 41.954286 32.544 \nz\n\" clip-path=\"url(#p97d5d4ecea)\" style=\"fill: #1f77b4\"/>\n   </g>\n   <g id=\"patch_4\">\n    <path d=\"M 92.971429 273.312 \nL 99.348571 273.312 \nL 99.348571 106.0416 \nL 92.971429 106.0416 \nz\n\" clip-path=\"url(#p97d5d4ecea)\" style=\"fill: #1f77b4\"/>\n   </g>\n   <g id=\"patch_5\">\n    <path d=\"M 143.988571 273.312 \nL 150.365714 273.312 \nL 150.365714 57.888 \nL 143.988571 57.888 \nz\n\" clip-path=\"url(#p97d5d4ecea)\" style=\"fill: #1f77b4\"/>\n   </g>\n   <g id=\"patch_6\">\n    <path d=\"M 195.005714 273.312 \nL 201.382857 273.312 \nL 201.382857 90.8352 \nL 195.005714 90.8352 \nz\n\" clip-path=\"url(#p97d5d4ecea)\" style=\"fill: #1f77b4\"/>\n   </g>\n   <g id=\"patch_7\">\n    <path d=\"M 246.022857 273.312 \nL 252.4 273.312 \nL 252.4 78.1632 \nL 246.022857 78.1632 \nz\n\" clip-path=\"url(#p97d5d4ecea)\" style=\"fill: #1f77b4\"/>\n   </g>\n   <g id=\"patch_8\">\n    <path d=\"M 297.04 273.312 \nL 303.417143 273.312 \nL 303.417143 32.544 \nL 297.04 32.544 \nz\n\" clip-path=\"url(#p97d5d4ecea)\" style=\"fill: #1f77b4\"/>\n   </g>\n   <g id=\"patch_9\">\n    <path d=\"M 348.057143 273.312 \nL 354.434286 273.312 \nL 354.434286 106.0416 \nL 348.057143 106.0416 \nz\n\" clip-path=\"url(#p97d5d4ecea)\" style=\"fill: #1f77b4\"/>\n   </g>\n   <g id=\"patch_10\">\n    <path d=\"M 48.331429 273.312 \nL 54.708571 273.312 \nL 54.708571 47.7504 \nL 48.331429 47.7504 \nz\n\" clip-path=\"url(#p97d5d4ecea)\" style=\"fill: #ff7f0e\"/>\n   </g>\n   <g id=\"patch_11\">\n    <path d=\"M 99.348571 273.312 \nL 105.725714 273.312 \nL 105.725714 78.1632 \nL 99.348571 78.1632 \nz\n\" clip-path=\"url(#p97d5d4ecea)\" style=\"fill: #ff7f0e\"/>\n   </g>\n   <g id=\"patch_12\">\n    <path d=\"M 150.365714 273.312 \nL 156.742857 273.312 \nL 156.742857 30.0096 \nL 150.365714 30.0096 \nz\n\" clip-path=\"url(#p97d5d4ecea)\" style=\"fill: #ff7f0e\"/>\n   </g>\n   <g id=\"patch_13\">\n    <path d=\"M 201.382857 273.312 \nL 207.76 273.312 \nL 207.76 60.4224 \nL 201.382857 60.4224 \nz\n\" clip-path=\"url(#p97d5d4ecea)\" style=\"fill: #ff7f0e\"/>\n   </g>\n   <g id=\"patch_14\">\n    <path d=\"M 252.4 273.312 \nL 258.777143 273.312 \nL 258.777143 68.0256 \nL 252.4 68.0256 \nz\n\" clip-path=\"url(#p97d5d4ecea)\" style=\"fill: #ff7f0e\"/>\n   </g>\n   <g id=\"patch_15\">\n    <path d=\"M 303.417143 273.312 \nL 309.794286 273.312 \nL 309.794286 30.0096 \nL 303.417143 30.0096 \nz\n\" clip-path=\"url(#p97d5d4ecea)\" style=\"fill: #ff7f0e\"/>\n   </g>\n   <g id=\"patch_16\">\n    <path d=\"M 354.434286 273.312 \nL 360.811429 273.312 \nL 360.811429 78.1632 \nL 354.434286 78.1632 \nz\n\" clip-path=\"url(#p97d5d4ecea)\" style=\"fill: #ff7f0e\"/>\n   </g>\n   <g id=\"patch_17\">\n    <path d=\"M 54.708571 273.312 \nL 61.085714 273.312 \nL 61.085714 55.3536 \nL 54.708571 55.3536 \nz\n\" clip-path=\"url(#p97d5d4ecea)\" style=\"fill: #2ca02c\"/>\n   </g>\n   <g id=\"patch_18\">\n    <path d=\"M 105.725714 273.312 \nL 112.102857 273.312 \nL 112.102857 83.232 \nL 105.725714 83.232 \nz\n\" clip-path=\"url(#p97d5d4ecea)\" style=\"fill: #2ca02c\"/>\n   </g>\n   <g id=\"patch_19\">\n    <path d=\"M 156.742857 273.312 \nL 163.12 273.312 \nL 163.12 19.872 \nL 156.742857 19.872 \nz\n\" clip-path=\"url(#p97d5d4ecea)\" style=\"fill: #2ca02c\"/>\n   </g>\n   <g id=\"patch_20\">\n    <path d=\"M 207.76 273.312 \nL 214.137143 273.312 \nL 214.137143 40.1472 \nL 207.76 40.1472 \nz\n\" clip-path=\"url(#p97d5d4ecea)\" style=\"fill: #2ca02c\"/>\n   </g>\n   <g id=\"patch_21\">\n    <path d=\"M 258.777143 273.312 \nL 265.154286 273.312 \nL 265.154286 93.3696 \nL 258.777143 93.3696 \nz\n\" clip-path=\"url(#p97d5d4ecea)\" style=\"fill: #2ca02c\"/>\n   </g>\n   <g id=\"patch_22\">\n    <path d=\"M 309.794286 273.312 \nL 316.171429 273.312 \nL 316.171429 19.872 \nL 309.794286 19.872 \nz\n\" clip-path=\"url(#p97d5d4ecea)\" style=\"fill: #2ca02c\"/>\n   </g>\n   <g id=\"patch_23\">\n    <path d=\"M 360.811429 273.312 \nL 367.188571 273.312 \nL 367.188571 93.3696 \nL 360.811429 93.3696 \nz\n\" clip-path=\"url(#p97d5d4ecea)\" style=\"fill: #2ca02c\"/>\n   </g>\n   <g id=\"patch_24\">\n    <path d=\"M 61.085714 273.312 \nL 67.462857 273.312 \nL 67.462857 45.216 \nL 61.085714 45.216 \nz\n\" clip-path=\"url(#p97d5d4ecea)\" style=\"fill: #d62728\"/>\n   </g>\n   <g id=\"patch_25\">\n    <path d=\"M 112.102857 273.312 \nL 118.48 273.312 \nL 118.48 89.06112 \nL 112.102857 89.06112 \nz\n\" clip-path=\"url(#p97d5d4ecea)\" style=\"fill: #d62728\"/>\n   </g>\n   <g id=\"patch_26\">\n    <path d=\"M 163.12 273.312 \nL 169.497143 273.312 \nL 169.497143 35.83872 \nL 163.12 35.83872 \nz\n\" clip-path=\"url(#p97d5d4ecea)\" style=\"fill: #d62728\"/>\n   </g>\n   <g id=\"patch_27\">\n    <path d=\"M 214.137143 273.312 \nL 220.514286 273.312 \nL 220.514286 63.71712 \nL 214.137143 63.71712 \nz\n\" clip-path=\"url(#p97d5d4ecea)\" style=\"fill: #d62728\"/>\n   </g>\n   <g id=\"patch_28\">\n    <path d=\"M 265.154286 273.312 \nL 271.531429 273.312 \nL 271.531429 79.93728 \nL 265.154286 79.93728 \nz\n\" clip-path=\"url(#p97d5d4ecea)\" style=\"fill: #d62728\"/>\n   </g>\n   <g id=\"patch_29\">\n    <path d=\"M 316.171429 273.312 \nL 322.548571 273.312 \nL 322.548571 35.83872 \nL 316.171429 35.83872 \nz\n\" clip-path=\"url(#p97d5d4ecea)\" style=\"fill: #d62728\"/>\n   </g>\n   <g id=\"patch_30\">\n    <path d=\"M 367.188571 273.312 \nL 373.565714 273.312 \nL 373.565714 89.06112 \nL 367.188571 89.06112 \nz\n\" clip-path=\"url(#p97d5d4ecea)\" style=\"fill: #d62728\"/>\n   </g>\n   <g id=\"matplotlib.axis_1\">\n    <g id=\"xtick_1\">\n     <g id=\"line2d_1\">\n      <defs>\n       <path id=\"m37a38b5b82\" d=\"M 0 0 \nL 0 3.5 \n\" style=\"stroke: #000000; stroke-width: 0.8\"/>\n      </defs>\n      <g>\n       <use xlink:href=\"#m37a38b5b82\" x=\"54.708571\" y=\"273.312\" style=\"stroke: #000000; stroke-width: 0.8\"/>\n      </g>\n     </g>\n     <g id=\"text_1\">\n      <!-- A -->\n      <g transform=\"translate(57.521071 285.312) rotate(-90) scale(0.1 -0.1)\">\n       <defs>\n        <path id=\"SimHei-41\" d=\"M 3075 125 \nL 2475 125 \nL 2125 1450 \nL 1025 1450 \nL 675 125 \nL 75 125 \nL 1325 4450 \nL 1825 4450 \nL 3075 125 \nz\nM 2000 1925 \nL 1600 3450 \nL 1550 3450 \nL 1150 1925 \nL 2000 1925 \nz\n\" transform=\"scale(0.015625)\"/>\n       </defs>\n       <use xlink:href=\"#SimHei-41\"/>\n      </g>\n     </g>\n    </g>\n    <g id=\"xtick_2\">\n     <g id=\"line2d_2\">\n      <g>\n       <use xlink:href=\"#m37a38b5b82\" x=\"105.725714\" y=\"273.312\" style=\"stroke: #000000; stroke-width: 0.8\"/>\n      </g>\n     </g>\n     <g id=\"text_2\">\n      <!-- B -->\n      <g transform=\"translate(108.538214 285.312) rotate(-90) scale(0.1 -0.1)\">\n       <defs>\n        <path id=\"SimHei-42\" d=\"M 2950 1400 \nQ 2950 675 2550 400 \nQ 2150 125 1525 125 \nL 275 125 \nL 275 4400 \nL 1575 4400 \nQ 2200 4400 2512 4075 \nQ 2825 3750 2825 3300 \nQ 2825 2850 2612 2637 \nQ 2400 2425 2175 2350 \nQ 2475 2275 2712 2037 \nQ 2950 1800 2950 1400 \nz\nM 2250 3300 \nQ 2250 3625 2062 3775 \nQ 1875 3925 1600 3925 \nL 850 3925 \nL 850 2600 \nL 1575 2600 \nQ 1850 2600 2050 2762 \nQ 2250 2925 2250 3300 \nz\nM 2350 1400 \nQ 2350 1800 2087 1962 \nQ 1825 2125 1500 2125 \nL 850 2125 \nL 850 600 \nL 1425 600 \nQ 1875 600 2112 775 \nQ 2350 950 2350 1400 \nz\n\" transform=\"scale(0.015625)\"/>\n       </defs>\n       <use xlink:href=\"#SimHei-42\"/>\n      </g>\n     </g>\n    </g>\n    <g id=\"xtick_3\">\n     <g id=\"line2d_3\">\n      <g>\n       <use xlink:href=\"#m37a38b5b82\" x=\"156.742857\" y=\"273.312\" style=\"stroke: #000000; stroke-width: 0.8\"/>\n      </g>\n     </g>\n     <g id=\"text_3\">\n      <!-- C -->\n      <g transform=\"translate(159.555357 285.312) rotate(-90) scale(0.1 -0.1)\">\n       <defs>\n        <path id=\"SimHei-43\" d=\"M 2975 1825 \nQ 2950 875 2575 475 \nQ 2200 75 1675 75 \nQ 1075 75 650 562 \nQ 225 1050 225 2125 \nQ 225 3300 637 3875 \nQ 1050 4450 1700 4450 \nQ 2250 4450 2612 4037 \nQ 2975 3625 2950 2875 \nL 2400 2875 \nQ 2400 3425 2225 3700 \nQ 2050 3975 1700 3975 \nQ 1300 3975 1062 3562 \nQ 825 3150 825 2175 \nQ 825 1275 1062 912 \nQ 1300 550 1675 550 \nQ 1950 550 2175 812 \nQ 2400 1075 2400 1825 \nL 2975 1825 \nz\n\" transform=\"scale(0.015625)\"/>\n       </defs>\n       <use xlink:href=\"#SimHei-43\"/>\n      </g>\n     </g>\n    </g>\n    <g id=\"xtick_4\">\n     <g id=\"line2d_4\">\n      <g>\n       <use xlink:href=\"#m37a38b5b82\" x=\"207.76\" y=\"273.312\" style=\"stroke: #000000; stroke-width: 0.8\"/>\n      </g>\n     </g>\n     <g id=\"text_4\">\n      <!-- D -->\n      <g transform=\"translate(210.5725 285.312) rotate(-90) scale(0.1 -0.1)\">\n       <defs>\n        <path id=\"SimHei-44\" d=\"M 2925 2250 \nQ 2925 1100 2437 612 \nQ 1950 125 1125 125 \nL 275 125 \nL 275 4400 \nL 1125 4400 \nQ 2050 4400 2487 3900 \nQ 2925 3400 2925 2250 \nz\nM 2325 2250 \nQ 2325 3175 2025 3550 \nQ 1725 3925 1125 3925 \nL 850 3925 \nL 850 600 \nL 1125 600 \nQ 1725 600 2025 962 \nQ 2325 1325 2325 2250 \nz\n\" transform=\"scale(0.015625)\"/>\n       </defs>\n       <use xlink:href=\"#SimHei-44\"/>\n      </g>\n     </g>\n    </g>\n    <g id=\"xtick_5\">\n     <g id=\"line2d_5\">\n      <g>\n       <use xlink:href=\"#m37a38b5b82\" x=\"258.777143\" y=\"273.312\" style=\"stroke: #000000; stroke-width: 0.8\"/>\n      </g>\n     </g>\n     <g id=\"text_5\">\n      <!-- E -->\n      <g transform=\"translate(261.589643 285.312) rotate(-90) scale(0.1 -0.1)\">\n       <defs>\n        <path id=\"SimHei-45\" d=\"M 2900 125 \nL 350 125 \nL 350 4400 \nL 2775 4400 \nL 2775 3925 \nL 925 3925 \nL 925 2600 \nL 2625 2600 \nL 2625 2125 \nL 925 2125 \nL 925 600 \nL 2900 600 \nL 2900 125 \nz\n\" transform=\"scale(0.015625)\"/>\n       </defs>\n       <use xlink:href=\"#SimHei-45\"/>\n      </g>\n     </g>\n    </g>\n    <g id=\"xtick_6\">\n     <g id=\"line2d_6\">\n      <g>\n       <use xlink:href=\"#m37a38b5b82\" x=\"309.794286\" y=\"273.312\" style=\"stroke: #000000; stroke-width: 0.8\"/>\n      </g>\n     </g>\n     <g id=\"text_6\">\n      <!-- 最高分 -->\n      <g transform=\"translate(313.114598 310.312) rotate(-90) scale(0.1 -0.1)\">\n       <defs>\n        <path id=\"SimHei-6700\" d=\"M 475 275 \nQ 675 300 1100 350 \nL 1100 2450 \nQ 775 2450 425 2425 \nL 425 2850 \nQ 775 2825 1125 2825 \nL 5025 2825 \nQ 5475 2825 5900 2850 \nL 5900 2425 \nQ 5475 2450 5025 2450 \nL 3050 2450 \nL 3050 675 \nL 3400 775 \nQ 3400 550 3425 400 \nQ 3225 350 3050 325 \nQ 3050 -125 3075 -550 \nL 2600 -550 \nQ 2625 -125 2625 250 \nQ 2350 200 1812 87 \nQ 1275 -25 650 -175 \nQ 575 100 475 275 \nz\nM 5100 4925 \nQ 5075 4600 5075 4325 \nL 5075 3875 \nQ 5075 3600 5100 3250 \nL 1275 3250 \nQ 1300 3600 1300 3875 \nL 1300 4325 \nQ 1300 4600 1275 4925 \nL 5100 4925 \nz\nM 3300 2050 \nQ 3750 2025 4125 2025 \nL 5375 2025 \nQ 5100 975 4725 400 \nQ 5350 0 5925 -100 \nQ 5700 -275 5650 -500 \nQ 5025 -300 4475 150 \nQ 4150 -200 3600 -575 \nQ 3500 -425 3250 -275 \nQ 3775 -100 4150 350 \nQ 3725 775 3500 1675 \nL 3300 1675 \nL 3300 2050 \nz\nM 4600 4250 \nL 4600 4600 \nL 1750 4600 \nL 1750 4250 \nL 4600 4250 \nz\nM 4600 3575 \nL 4600 3900 \nL 1750 3900 \nL 1750 3575 \nL 4600 3575 \nz\nM 3900 1675 \nQ 4000 1075 4400 625 \nQ 4700 1050 4850 1675 \nL 3900 1675 \nz\nM 2625 1250 \nL 2625 1675 \nL 1525 1675 \nL 1525 1250 \nL 2625 1250 \nz\nM 2625 575 \nL 2625 925 \nL 1525 925 \nL 1525 425 \nL 2625 575 \nz\nM 2625 2025 \nL 2625 2450 \nL 1525 2450 \nL 1525 2025 \nL 2625 2025 \nz\n\" transform=\"scale(0.015625)\"/>\n        <path id=\"SimHei-9ad8\" d=\"M 5825 -25 \nQ 5850 -400 5550 -500 \nQ 5250 -600 4975 -625 \nQ 4875 -325 4725 -100 \nQ 4975 -100 5175 -87 \nQ 5375 -75 5350 250 \nL 5350 1825 \nL 1100 1825 \nL 1100 -575 \nL 600 -575 \nQ 625 -225 625 850 \nQ 625 1950 600 2200 \nL 5850 2200 \nQ 5825 1850 5825 1425 \nL 5825 -25 \nz\nM 4925 3800 \nQ 4900 3475 4900 3175 \nQ 4900 2900 4925 2600 \nL 1400 2600 \nQ 1425 2825 1425 3175 \nQ 1425 3525 1400 3800 \nL 4925 3800 \nz\nM 4500 1400 \nQ 4475 1125 4475 800 \nQ 4475 500 4500 200 \nL 1950 200 \nQ 2000 500 2000 800 \nQ 2000 1125 1950 1400 \nL 4500 1400 \nz\nM 425 4600 \nQ 750 4575 1125 4575 \nL 2925 4575 \nQ 2850 4875 2750 5100 \nQ 3050 5125 3350 5200 \nQ 3400 4950 3525 4575 \nL 5250 4575 \nQ 5600 4575 5975 4600 \nL 5975 4150 \nQ 5600 4175 5050 4175 \nL 1150 4175 \nQ 750 4175 425 4150 \nL 425 4600 \nz\nM 4450 2975 \nL 4450 3425 \nL 1900 3425 \nL 1900 2975 \nL 4450 2975 \nz\nM 4025 550 \nL 4025 1050 \nL 2400 1050 \nL 2400 550 \nL 4025 550 \nz\n\" transform=\"scale(0.015625)\"/>\n        <path id=\"SimHei-5206\" d=\"M 1000 -650 \nQ 825 -375 575 -225 \nQ 975 -75 1300 137 \nQ 1625 350 1875 662 \nQ 2125 975 2250 1350 \nQ 2375 1725 2425 2275 \nQ 1850 2275 1500 2250 \nL 1500 2775 \nQ 1900 2750 2525 2750 \nL 5025 2750 \nQ 4975 2375 4950 2100 \nL 4750 250 \nQ 4700 -200 4350 -350 \nQ 4000 -500 3575 -525 \nQ 3550 -275 3325 50 \nQ 3850 25 4037 87 \nQ 4225 150 4275 525 \nL 4450 2275 \nL 2950 2275 \nQ 2875 1625 2737 1187 \nQ 2600 750 2350 425 \nQ 2100 100 1750 -175 \nQ 1400 -450 1000 -650 \nz\nM 3950 5175 \nQ 4125 4650 4662 3975 \nQ 5200 3300 6175 2800 \nQ 5975 2625 5775 2275 \nQ 5325 2600 4987 2887 \nQ 4650 3175 4425 3425 \nQ 4200 3675 3925 4137 \nQ 3650 4600 3475 5000 \nQ 3750 5075 3950 5175 \nz\nM 2700 4825 \nQ 2475 4425 2325 4125 \nQ 2175 3825 2025 3587 \nQ 1875 3350 1575 2950 \nQ 1275 2550 850 2125 \nQ 625 2350 400 2475 \nQ 900 2925 1187 3300 \nQ 1475 3675 1737 4112 \nQ 2000 4550 2200 5075 \nQ 2400 4925 2700 4825 \nz\n\" transform=\"scale(0.015625)\"/>\n       </defs>\n       <use xlink:href=\"#SimHei-6700\"/>\n       <use xlink:href=\"#SimHei-9ad8\" x=\"100\"/>\n       <use xlink:href=\"#SimHei-5206\" x=\"200\"/>\n      </g>\n     </g>\n    </g>\n    <g id=\"xtick_7\">\n     <g id=\"line2d_7\">\n      <g>\n       <use xlink:href=\"#m37a38b5b82\" x=\"360.811429\" y=\"273.312\" style=\"stroke: #000000; stroke-width: 0.8\"/>\n      </g>\n     </g>\n     <g id=\"text_7\">\n      <!-- 最低分 -->\n      <g transform=\"translate(364.190335 310.312) rotate(-90) scale(0.1 -0.1)\">\n       <defs>\n        <path id=\"SimHei-4f4e\" d=\"M 2300 4550 \nQ 2750 4525 3750 4637 \nQ 4750 4750 5275 5000 \nQ 5425 4725 5600 4475 \nQ 5125 4400 4350 4300 \nQ 4350 3825 4400 2850 \nL 5000 2850 \nQ 5425 2850 5850 2875 \nL 5850 2425 \nQ 5425 2450 5025 2450 \nL 4450 2450 \nQ 4575 1325 4862 762 \nQ 5150 200 5325 75 \nQ 5500 -50 5562 125 \nQ 5625 300 5675 775 \nQ 5925 575 6150 525 \nQ 6000 -100 5850 -337 \nQ 5700 -575 5350 -500 \nQ 5000 -425 4587 262 \nQ 4175 950 4000 2450 \nL 2775 2450 \nL 2775 500 \nQ 3275 950 3575 1275 \nQ 3675 975 3775 800 \nQ 2775 -50 2500 -350 \nQ 2325 -175 2175 25 \nQ 2300 150 2325 500 \nL 2325 3725 \nQ 2325 4075 2300 4550 \nz\nM 2050 5075 \nQ 1900 4900 1600 3950 \nL 1600 425 \nQ 1600 -75 1625 -625 \nL 1100 -625 \nQ 1125 -75 1125 450 \nL 1125 3025 \nQ 875 2500 625 2125 \nQ 400 2350 225 2425 \nQ 600 2900 962 3687 \nQ 1325 4475 1500 5275 \nQ 1575 5200 2050 5075 \nz\nM 3950 2850 \nQ 3900 3775 3900 4225 \nQ 3125 4175 2775 4150 \nL 2775 2850 \nL 3950 2850 \nz\nM 3850 -625 \nQ 3450 -75 3250 100 \nQ 3450 275 3575 425 \nQ 3925 50 4225 -300 \nQ 4025 -450 3850 -625 \nz\n\" transform=\"scale(0.015625)\"/>\n       </defs>\n       <use xlink:href=\"#SimHei-6700\"/>\n       <use xlink:href=\"#SimHei-4f4e\" x=\"100\"/>\n       <use xlink:href=\"#SimHei-5206\" x=\"200\"/>\n      </g>\n     </g>\n    </g>\n   </g>\n   <g id=\"matplotlib.axis_2\">\n    <g id=\"ytick_1\">\n     <g id=\"line2d_8\">\n      <defs>\n       <path id=\"m9f5da9a95b\" d=\"M 0 0 \nL -3.5 0 \n\" style=\"stroke: #000000; stroke-width: 0.8\"/>\n      </defs>\n      <g>\n       <use xlink:href=\"#m9f5da9a95b\" x=\"29.2\" y=\"273.312\" style=\"stroke: #000000; stroke-width: 0.8\"/>\n      </g>\n     </g>\n     <g id=\"text_8\">\n      <!-- 0 -->\n      <g transform=\"translate(17.2 276.7495) scale(0.1 -0.1)\">\n       <defs>\n        <path id=\"SimHei-30\" d=\"M 225 2537 \nQ 250 3200 412 3587 \nQ 575 3975 875 4225 \nQ 1175 4475 1612 4475 \nQ 2050 4475 2375 4112 \nQ 2700 3750 2800 3200 \nQ 2900 2650 2862 1937 \nQ 2825 1225 2612 775 \nQ 2400 325 1975 150 \nQ 1550 -25 1125 187 \nQ 700 400 525 750 \nQ 350 1100 275 1487 \nQ 200 1875 225 2537 \nz\nM 750 2687 \nQ 675 2000 800 1462 \nQ 925 925 1212 700 \nQ 1500 475 1800 612 \nQ 2100 750 2237 1162 \nQ 2375 1575 2375 2062 \nQ 2375 2550 2337 2950 \nQ 2300 3350 2112 3675 \nQ 1925 4000 1612 4012 \nQ 1300 4025 1062 3700 \nQ 825 3375 750 2687 \nz\n\" transform=\"scale(0.015625)\"/>\n       </defs>\n       <use xlink:href=\"#SimHei-30\"/>\n      </g>\n     </g>\n    </g>\n    <g id=\"ytick_2\">\n     <g id=\"line2d_9\">\n      <g>\n       <use xlink:href=\"#m9f5da9a95b\" x=\"29.2\" y=\"222.624\" style=\"stroke: #000000; stroke-width: 0.8\"/>\n      </g>\n     </g>\n     <g id=\"text_9\">\n      <!-- 20 -->\n      <g transform=\"translate(12.2 226.0615) scale(0.1 -0.1)\">\n       <defs>\n        <path id=\"SimHei-32\" d=\"M 300 250 \nQ 325 625 650 925 \nQ 975 1225 1475 1862 \nQ 1975 2500 2125 2850 \nQ 2275 3200 2237 3450 \nQ 2200 3700 2000 3862 \nQ 1800 4025 1537 4000 \nQ 1275 3975 1037 3800 \nQ 800 3625 675 3275 \nL 200 3350 \nQ 400 3925 712 4187 \nQ 1025 4450 1450 4475 \nQ 1700 4500 1900 4462 \nQ 2100 4425 2312 4287 \nQ 2525 4150 2662 3875 \nQ 2800 3600 2762 3212 \nQ 2725 2825 2375 2287 \nQ 2025 1750 1025 600 \nL 2825 600 \nL 2825 150 \nL 300 150 \nL 300 250 \nz\n\" transform=\"scale(0.015625)\"/>\n       </defs>\n       <use xlink:href=\"#SimHei-32\"/>\n       <use xlink:href=\"#SimHei-30\" x=\"50\"/>\n      </g>\n     </g>\n    </g>\n    <g id=\"ytick_3\">\n     <g id=\"line2d_10\">\n      <g>\n       <use xlink:href=\"#m9f5da9a95b\" x=\"29.2\" y=\"171.936\" style=\"stroke: #000000; stroke-width: 0.8\"/>\n      </g>\n     </g>\n     <g id=\"text_10\">\n      <!-- 40 -->\n      <g transform=\"translate(12.2 175.3735) scale(0.1 -0.1)\">\n       <defs>\n        <path id=\"SimHei-34\" d=\"M 2000 1100 \nL 75 1100 \nL 75 1525 \nL 2100 4450 \nL 2475 4450 \nL 2475 1525 \nL 3075 1525 \nL 3075 1100 \nL 2475 1100 \nL 2475 150 \nL 2000 150 \nL 2000 1100 \nz\nM 2000 1525 \nL 2000 3500 \nL 600 1525 \nL 2000 1525 \nz\n\" transform=\"scale(0.015625)\"/>\n       </defs>\n       <use xlink:href=\"#SimHei-34\"/>\n       <use xlink:href=\"#SimHei-30\" x=\"50\"/>\n      </g>\n     </g>\n    </g>\n    <g id=\"ytick_4\">\n     <g id=\"line2d_11\">\n      <g>\n       <use xlink:href=\"#m9f5da9a95b\" x=\"29.2\" y=\"121.248\" style=\"stroke: #000000; stroke-width: 0.8\"/>\n      </g>\n     </g>\n     <g id=\"text_11\">\n      <!-- 60 -->\n      <g transform=\"translate(12.2 124.6855) scale(0.1 -0.1)\">\n       <defs>\n        <path id=\"SimHei-36\" d=\"M 250 1612 \nQ 275 1975 387 2225 \nQ 500 2475 725 2850 \nL 1750 4450 \nL 2325 4450 \nL 1275 2800 \nQ 1950 2975 2350 2750 \nQ 2750 2525 2887 2237 \nQ 3025 1950 3037 1612 \nQ 3050 1275 2937 950 \nQ 2825 625 2537 362 \nQ 2250 100 1737 75 \nQ 1225 50 862 262 \nQ 500 475 362 862 \nQ 225 1250 250 1612 \nz\nM 1025 787 \nQ 1250 550 1625 525 \nQ 2000 500 2250 775 \nQ 2500 1050 2500 1575 \nQ 2500 2100 2187 2300 \nQ 1875 2500 1487 2450 \nQ 1100 2400 925 2075 \nQ 750 1750 775 1387 \nQ 800 1025 1025 787 \nz\n\" transform=\"scale(0.015625)\"/>\n       </defs>\n       <use xlink:href=\"#SimHei-36\"/>\n       <use xlink:href=\"#SimHei-30\" x=\"50\"/>\n      </g>\n     </g>\n    </g>\n    <g id=\"ytick_5\">\n     <g id=\"line2d_12\">\n      <g>\n       <use xlink:href=\"#m9f5da9a95b\" x=\"29.2\" y=\"70.56\" style=\"stroke: #000000; stroke-width: 0.8\"/>\n      </g>\n     </g>\n     <g id=\"text_12\">\n      <!-- 80 -->\n      <g transform=\"translate(12.2 73.9975) scale(0.1 -0.1)\">\n       <defs>\n        <path id=\"SimHei-38\" d=\"M 175 1375 \nQ 175 1675 325 1962 \nQ 475 2250 825 2425 \nQ 525 2600 425 2812 \nQ 325 3025 312 3300 \nQ 300 3575 387 3775 \nQ 475 3975 650 4150 \nQ 825 4325 1037 4387 \nQ 1250 4450 1500 4450 \nQ 1750 4450 1950 4400 \nQ 2150 4350 2375 4187 \nQ 2600 4025 2700 3725 \nQ 2800 3425 2687 3025 \nQ 2575 2625 2100 2400 \nQ 2525 2275 2700 2012 \nQ 2875 1750 2875 1375 \nQ 2875 1000 2762 775 \nQ 2650 550 2512 400 \nQ 2375 250 2137 162 \nQ 1900 75 1537 75 \nQ 1175 75 912 162 \nQ 650 250 475 425 \nQ 300 600 237 837 \nQ 175 1075 175 1375 \nz\nM 687 1400 \nQ 675 1100 787 875 \nQ 900 650 1200 587 \nQ 1500 525 1825 600 \nQ 2150 675 2275 950 \nQ 2400 1225 2362 1500 \nQ 2325 1775 2050 1962 \nQ 1775 2150 1450 2125 \nQ 1125 2100 912 1900 \nQ 700 1700 687 1400 \nz\nM 775 3350 \nQ 775 3100 950 2875 \nQ 1125 2650 1500 2650 \nQ 1875 2650 2062 2875 \nQ 2250 3100 2237 3412 \nQ 2225 3725 2012 3875 \nQ 1800 4025 1437 4000 \nQ 1075 3975 925 3787 \nQ 775 3600 775 3350 \nz\n\" transform=\"scale(0.015625)\"/>\n       </defs>\n       <use xlink:href=\"#SimHei-38\"/>\n       <use xlink:href=\"#SimHei-30\" x=\"50\"/>\n      </g>\n     </g>\n    </g>\n    <g id=\"ytick_6\">\n     <g id=\"line2d_13\">\n      <g>\n       <use xlink:href=\"#m9f5da9a95b\" x=\"29.2\" y=\"19.872\" style=\"stroke: #000000; stroke-width: 0.8\"/>\n      </g>\n     </g>\n     <g id=\"text_13\">\n      <!-- 100 -->\n      <g transform=\"translate(7.2 23.3095) scale(0.1 -0.1)\">\n       <defs>\n        <path id=\"SimHei-31\" d=\"M 1400 3600 \nQ 1075 3275 575 2975 \nL 575 3450 \nQ 1200 3875 1600 4450 \nL 1900 4450 \nL 1900 150 \nL 1400 150 \nL 1400 3600 \nz\n\" transform=\"scale(0.015625)\"/>\n       </defs>\n       <use xlink:href=\"#SimHei-31\"/>\n       <use xlink:href=\"#SimHei-30\" x=\"50\"/>\n       <use xlink:href=\"#SimHei-30\" x=\"100\"/>\n      </g>\n     </g>\n    </g>\n   </g>\n   <g id=\"patch_31\">\n    <path d=\"M 29.2 273.312 \nL 29.2 7.2 \n\" style=\"fill: none; stroke: #000000; stroke-width: 0.8; stroke-linejoin: miter; stroke-linecap: square\"/>\n   </g>\n   <g id=\"patch_32\">\n    <path d=\"M 386.32 273.312 \nL 386.32 7.2 \n\" style=\"fill: none; stroke: #000000; stroke-width: 0.8; stroke-linejoin: miter; stroke-linecap: square\"/>\n   </g>\n   <g id=\"patch_33\">\n    <path d=\"M 29.2 273.312 \nL 386.32 273.312 \n\" style=\"fill: none; stroke: #000000; stroke-width: 0.8; stroke-linejoin: miter; stroke-linecap: square\"/>\n   </g>\n   <g id=\"patch_34\">\n    <path d=\"M 29.2 7.2 \nL 386.32 7.2 \n\" style=\"fill: none; stroke: #000000; stroke-width: 0.8; stroke-linejoin: miter; stroke-linecap: square\"/>\n   </g>\n   <g id=\"legend_1\">\n    <g id=\"patch_35\">\n     <path d=\"M 317.32 72.035937 \nL 379.32 72.035937 \nQ 381.32 72.035937 381.32 70.035937 \nL 381.32 14.2 \nQ 381.32 12.2 379.32 12.2 \nL 317.32 12.2 \nQ 315.32 12.2 315.32 14.2 \nL 315.32 70.035937 \nQ 315.32 72.035937 317.32 72.035937 \nz\n\" style=\"fill: #ffffff; opacity: 0.8; stroke: #cccccc; stroke-linejoin: miter\"/>\n    </g>\n    <g id=\"patch_36\">\n     <path d=\"M 319.32 24.207812 \nL 339.32 24.207812 \nL 339.32 17.207812 \nL 319.32 17.207812 \nz\n\" style=\"fill: #1f77b4\"/>\n    </g>\n    <g id=\"text_14\">\n     <!-- 语文 -->\n     <g transform=\"translate(347.32 24.207812) scale(0.1 -0.1)\">\n      <defs>\n       <path id=\"SimHei-8bed\" d=\"M 5100 5050 \nQ 5500 5050 5875 5075 \nL 5875 4675 \nQ 5500 4700 4125 4700 \nL 4000 3975 \nL 5550 3975 \nL 5400 2600 \nQ 5775 2600 6150 2625 \nL 6150 2200 \nQ 5825 2225 5600 2225 \nL 3000 2225 \nQ 2550 2225 2075 2200 \nL 2075 2625 \nQ 2425 2600 3200 2600 \nL 3400 3625 \nQ 2900 3625 2450 3575 \nL 2450 4025 \nQ 2975 4000 3525 4000 \nL 3625 4700 \nQ 2725 4700 2250 4675 \nL 2250 5075 \nQ 2700 5050 3200 5050 \nL 5100 5050 \nz\nM 5600 1650 \nQ 5575 1350 5575 925 \nL 5575 75 \nQ 5575 -300 5600 -625 \nL 5100 -625 \nL 5100 -250 \nL 3200 -250 \nL 3200 -650 \nL 2700 -650 \nQ 2725 -325 2725 25 \nL 2725 800 \nQ 2725 1350 2700 1650 \nL 5600 1650 \nz\nM 2050 1400 \nQ 2175 1200 2375 925 \nQ 2050 600 1812 312 \nQ 1575 25 1275 -425 \nQ 1100 -225 825 -25 \nQ 975 125 1062 250 \nQ 1150 375 1150 650 \nL 1150 2875 \nL 925 2875 \nQ 600 2875 225 2850 \nL 225 3325 \nQ 575 3300 925 3300 \nL 1650 3300 \nQ 1625 2800 1625 2275 \nL 1625 825 \nQ 1900 1150 2050 1400 \nz\nM 5100 150 \nL 5100 1225 \nL 3200 1225 \nL 3200 150 \nL 5100 150 \nz\nM 4850 2600 \nL 5000 3600 \nL 3900 3600 \nL 3700 2600 \nL 4850 2600 \nz\nM 1425 3975 \nQ 1000 4575 725 4825 \nQ 875 5000 1075 5150 \nQ 1300 4900 1800 4300 \nQ 1600 4150 1425 3975 \nz\n\" transform=\"scale(0.015625)\"/>\n       <path id=\"SimHei-6587\" d=\"M 1250 3450 \nQ 725 3450 350 3400 \nL 350 3925 \nQ 925 3900 1400 3900 \nL 4950 3900 \nQ 5400 3900 6025 3925 \nL 6025 3400 \nQ 5400 3425 4625 3425 \nQ 4500 2650 4175 1987 \nQ 3850 1325 3475 900 \nQ 3950 475 4725 212 \nQ 5500 -50 6075 -100 \nQ 5850 -275 5675 -625 \nQ 5250 -525 4575 -275 \nQ 3900 -25 3125 575 \nQ 2100 -275 675 -675 \nQ 625 -450 325 -175 \nQ 750 -125 1487 137 \nQ 2225 400 2750 875 \nQ 1875 1775 1500 3450 \nL 1250 3450 \nz\nM 2025 3425 \nQ 2225 2075 3100 1200 \nQ 3900 2175 4100 3425 \nL 2025 3425 \nz\nM 2850 5250 \nQ 3125 4825 3500 4175 \nQ 3300 4125 3050 3925 \nQ 2700 4575 2425 5000 \nQ 2600 5050 2850 5250 \nz\n\" transform=\"scale(0.015625)\"/>\n      </defs>\n      <use xlink:href=\"#SimHei-8bed\"/>\n      <use xlink:href=\"#SimHei-6587\" x=\"100\"/>\n     </g>\n    </g>\n    <g id=\"patch_37\">\n     <path d=\"M 319.32 38.582812 \nL 339.32 38.582812 \nL 339.32 31.582812 \nL 319.32 31.582812 \nz\n\" style=\"fill: #ff7f0e\"/>\n    </g>\n    <g id=\"text_15\">\n     <!-- 数学 -->\n     <g transform=\"translate(347.32 38.582812) scale(0.1 -0.1)\">\n      <defs>\n       <path id=\"SimHei-6570\" d=\"M 4525 4925 \nQ 4475 4800 4400 4587 \nQ 4325 4375 4175 3825 \nL 5325 3825 \nQ 5575 3825 5925 3850 \nL 5925 3400 \nQ 5650 3425 5500 3425 \nQ 5500 3025 5362 2162 \nQ 5225 1300 4875 675 \nQ 5125 375 5437 137 \nQ 5750 -100 6025 -200 \nQ 5725 -425 5625 -625 \nQ 5325 -450 5075 -225 \nQ 4825 0 4575 325 \nQ 4300 25 3987 -187 \nQ 3675 -400 3200 -650 \nQ 3075 -425 2850 -300 \nQ 3225 -150 3650 125 \nQ 4075 400 4300 675 \nQ 4125 1025 3962 1425 \nQ 3800 1825 3675 2475 \nQ 3600 2275 3425 1950 \nQ 3250 2050 3000 2150 \nQ 3400 2850 3650 3675 \nQ 3900 4500 3975 5100 \nQ 4275 4975 4525 4925 \nz\nM 2100 2250 \nQ 2000 2150 1875 1925 \nL 3250 1925 \nQ 3100 1300 2725 675 \nQ 3125 525 3350 400 \nQ 3225 225 3125 25 \nQ 2900 175 2450 325 \nQ 1950 -225 725 -650 \nQ 600 -375 400 -275 \nQ 1575 0 2000 475 \nQ 1300 650 850 775 \nQ 1000 1000 1250 1525 \nQ 1000 1525 425 1500 \nL 425 1950 \nQ 900 1925 1400 1925 \nQ 1500 2150 1550 2425 \nQ 1825 2325 2100 2250 \nz\nM 1775 3950 \nQ 1775 4550 1750 5100 \nL 2250 5100 \nQ 2225 4575 2225 3950 \nQ 3075 3950 3425 3975 \nL 3425 3525 \nQ 3075 3550 2225 3550 \nQ 2225 2825 2250 2425 \nL 1750 2425 \nQ 1775 2775 1775 3300 \nQ 1650 3100 1300 2787 \nQ 950 2475 650 2300 \nQ 525 2525 275 2625 \nQ 500 2700 875 2975 \nQ 1250 3250 1450 3550 \nQ 950 3550 500 3525 \nL 500 3975 \nQ 925 3950 1775 3950 \nz\nM 3975 3175 \nQ 4200 1700 4600 1125 \nQ 4850 1700 4937 2287 \nQ 5025 2875 5050 3425 \nL 4075 3425 \nL 3975 3175 \nz\nM 1450 1000 \nQ 1750 925 2275 800 \nQ 2475 1050 2650 1525 \nL 1725 1525 \nQ 1600 1275 1450 1000 \nz\nM 3325 4825 \nQ 3200 4625 3125 4450 \nQ 3050 4275 2925 4025 \nQ 2725 4125 2525 4175 \nQ 2725 4500 2900 5000 \nQ 3150 4875 3325 4825 \nz\nM 2575 3375 \nQ 2900 3050 3200 2725 \nQ 3050 2600 2875 2425 \nQ 2525 2850 2300 3100 \nQ 2450 3225 2575 3375 \nz\nM 925 5000 \nQ 1275 4650 1500 4300 \nL 1125 4075 \nQ 950 4425 600 4725 \nQ 825 4875 925 5000 \nz\n\" transform=\"scale(0.015625)\"/>\n       <path id=\"SimHei-5b66\" d=\"M 4875 2675 \nL 4875 2150 \nQ 4525 2075 4237 1912 \nQ 3950 1750 3575 1575 \nL 3575 1350 \nL 5150 1350 \nQ 5450 1350 5925 1375 \nL 5925 875 \nQ 5425 900 5150 900 \nL 3575 900 \nL 3575 -125 \nQ 3575 -475 3300 -562 \nQ 3025 -650 2400 -700 \nQ 2325 -425 2150 -150 \nL 2825 -150 \nQ 3075 -150 3075 125 \nL 3075 900 \nL 1350 900 \nQ 950 900 450 875 \nL 450 1375 \nQ 975 1350 1325 1350 \nL 3075 1350 \nQ 3075 1550 3025 1800 \nL 3925 2250 \nL 2550 2250 \nQ 2075 2250 1475 2225 \nL 1475 2700 \nQ 2025 2675 2525 2675 \nL 4875 2675 \nz\nM 5350 4975 \nQ 4850 4400 4500 3800 \nL 5875 3800 \nQ 5850 3575 5850 3275 \nQ 5850 2975 5875 2700 \nL 5350 2700 \nL 5350 3375 \nL 1025 3375 \nL 1025 2675 \nL 500 2675 \nQ 525 2975 525 3275 \nQ 525 3575 500 3800 \nL 3975 3800 \nQ 4175 4150 4387 4537 \nQ 4600 4925 4725 5300 \nQ 5125 5075 5350 4975 \nz\nM 2950 5225 \nQ 3425 4625 3575 4350 \nQ 3350 4175 3100 4025 \nQ 2900 4425 2500 4925 \nQ 2750 5100 2950 5225 \nz\nM 1250 5050 \nQ 1700 4675 2025 4275 \nQ 1750 4075 1600 3900 \nQ 1275 4375 850 4725 \nQ 1125 4925 1250 5050 \nz\n\" transform=\"scale(0.015625)\"/>\n      </defs>\n      <use xlink:href=\"#SimHei-6570\"/>\n      <use xlink:href=\"#SimHei-5b66\" x=\"100\"/>\n     </g>\n    </g>\n    <g id=\"patch_38\">\n     <path d=\"M 319.32 52.645312 \nL 339.32 52.645312 \nL 339.32 45.645312 \nL 319.32 45.645312 \nz\n\" style=\"fill: #2ca02c\"/>\n    </g>\n    <g id=\"text_16\">\n     <!-- 英语 -->\n     <g transform=\"translate(347.32 52.645312) scale(0.1 -0.1)\">\n      <defs>\n       <path id=\"SimHei-82f1\" d=\"M 3575 3675 \nQ 3500 3450 3475 3050 \nL 5075 3050 \nQ 5050 2800 5050 2400 \nL 5050 1675 \nQ 5650 1675 5925 1700 \nL 5925 1250 \nQ 5650 1275 5225 1275 \nL 3750 1275 \nQ 4175 700 4787 350 \nQ 5400 0 5950 -75 \nQ 5700 -275 5575 -550 \nQ 5050 -400 4425 12 \nQ 3800 425 3300 1125 \nQ 2875 400 2287 25 \nQ 1700 -350 925 -600 \nQ 775 -325 500 -150 \nQ 1000 -75 1487 125 \nQ 1975 325 2325 637 \nQ 2675 950 2825 1275 \nL 1150 1275 \nQ 775 1275 400 1250 \nL 400 1700 \nQ 850 1675 1350 1675 \nL 1350 2400 \nQ 1350 2725 1300 3050 \nL 2975 3050 \nQ 2975 3375 2950 3750 \nQ 3250 3700 3575 3675 \nz\nM 2450 5075 \nQ 2425 4775 2425 4525 \nL 3950 4525 \nQ 3950 4800 3925 5075 \nL 4450 5075 \nQ 4425 4800 4425 4525 \nL 5200 4525 \nQ 5575 4525 5950 4550 \nL 5950 4075 \nQ 5575 4100 5200 4100 \nL 4425 4100 \nQ 4425 3825 4450 3525 \nL 3950 3525 \nL 3950 4100 \nL 2425 4100 \nL 2425 3525 \nL 1925 3525 \nQ 1950 3850 1950 4100 \nL 1225 4100 \nQ 1025 4100 575 4075 \nL 575 4550 \nQ 1075 4525 1225 4525 \nL 1950 4525 \nQ 1950 4775 1925 5075 \nL 2450 5075 \nz\nM 2950 1675 \nQ 2975 2200 2975 2625 \nL 1800 2625 \nL 1800 1675 \nL 2950 1675 \nz\nM 4600 1675 \nL 4600 2625 \nL 3450 2625 \nQ 3450 2150 3400 1675 \nL 4600 1675 \nz\n\" transform=\"scale(0.015625)\"/>\n      </defs>\n      <use xlink:href=\"#SimHei-82f1\"/>\n      <use xlink:href=\"#SimHei-8bed\" x=\"100\"/>\n     </g>\n    </g>\n    <g id=\"patch_39\">\n     <path d=\"M 319.32 66.785937 \nL 339.32 66.785937 \nL 339.32 59.785937 \nL 319.32 59.785937 \nz\n\" style=\"fill: #d62728\"/>\n    </g>\n    <g id=\"text_17\">\n     <!-- 平均分 -->\n     <g transform=\"translate(347.32 66.785937) scale(0.1 -0.1)\">\n      <defs>\n       <path id=\"SimHei-5e73\" d=\"M 4525 4825 \nQ 4900 4825 5450 4850 \nL 5450 4375 \nQ 4925 4400 4525 4400 \nL 3475 4400 \nL 3475 2025 \nL 5000 2025 \nQ 5550 2025 6025 2050 \nL 6025 1575 \nQ 5550 1600 5000 1600 \nL 3475 1600 \nL 3475 450 \nQ 3475 -100 3500 -600 \nL 2925 -600 \nQ 2950 -100 2950 450 \nL 2950 1600 \nL 1125 1600 \nQ 775 1600 375 1575 \nL 375 2050 \nQ 775 2025 1175 2025 \nL 2950 2025 \nL 2950 4400 \nL 1775 4400 \nQ 1400 4400 875 4375 \nL 875 4850 \nQ 1400 4825 1750 4825 \nL 4525 4825 \nz\nM 3925 2600 \nQ 4500 3300 4900 4125 \nQ 5150 3950 5400 3825 \nQ 4775 2850 4350 2300 \nQ 4150 2475 3925 2600 \nz\nM 1975 2350 \nQ 1600 3100 1050 3725 \nQ 1250 3875 1450 4050 \nQ 2075 3300 2450 2725 \nQ 2150 2500 1975 2350 \nz\n\" transform=\"scale(0.015625)\"/>\n       <path id=\"SimHei-5747\" d=\"M 5775 275 \nQ 5775 -325 5362 -450 \nQ 4950 -575 4425 -600 \nQ 4375 -275 4250 25 \nQ 4950 -25 5125 62 \nQ 5300 150 5300 500 \nL 5375 3700 \nL 3550 3700 \nQ 3425 3375 3262 3037 \nQ 3100 2700 2925 2400 \nQ 2675 2550 2475 2625 \nQ 3150 3625 3500 5200 \nQ 3800 5100 4075 5025 \nQ 3975 4875 3875 4650 \nQ 3775 4425 3675 4125 \nL 5900 4125 \nL 5775 275 \nz\nM 1250 3625 \nL 1250 4375 \nQ 1250 4775 1225 5100 \nL 1775 5100 \nQ 1750 4725 1750 4375 \nL 1750 3625 \nL 1900 3625 \nQ 2200 3625 2525 3650 \nL 2525 3150 \nQ 2200 3175 1900 3175 \nL 1750 3175 \nL 1750 1100 \nL 2500 1375 \nQ 2475 1125 2525 900 \nQ 1225 475 962 362 \nQ 700 250 475 150 \nQ 375 475 250 750 \nQ 575 800 800 850 \nQ 1025 900 1250 975 \nL 1250 3175 \nL 1125 3175 \nQ 850 3175 400 3150 \nL 400 3650 \nQ 850 3625 1100 3625 \nL 1250 3625 \nz\nM 4950 1625 \nQ 4675 1425 4137 1050 \nQ 3600 675 3175 300 \nQ 3000 575 2850 775 \nQ 3350 1050 3762 1325 \nQ 4175 1600 4775 2075 \nQ 4825 1850 4950 1625 \nz\nM 3775 3150 \nQ 4125 2800 4475 2300 \nQ 4250 2125 4100 1975 \nQ 3900 2325 3450 2825 \nQ 3600 3000 3775 3150 \nz\n\" transform=\"scale(0.015625)\"/>\n      </defs>\n      <use xlink:href=\"#SimHei-5e73\"/>\n      <use xlink:href=\"#SimHei-5747\" x=\"100\"/>\n      <use xlink:href=\"#SimHei-5206\" x=\"200\"/>\n     </g>\n    </g>\n   </g>\n  </g>\n </g>\n <defs>\n  <clipPath id=\"p97d5d4ecea\">\n   <rect x=\"29.2\" y=\"7.2\" width=\"357.12\" height=\"266.112\"/>\n  </clipPath>\n </defs>\n</svg>\n"
     },
     "metadata": {},
     "output_type": "display_data"
    }
   ],
   "source": [
    "df. plot(kind='bar')"
   ],
   "metadata": {
    "collapsed": false
   }
  },
  {
   "cell_type": "code",
   "execution_count": null,
   "outputs": [],
   "source": [],
   "metadata": {
    "collapsed": false
   }
  }
 ],
 "metadata": {
  "kernelspec": {
   "display_name": "Python 3",
   "language": "python",
   "name": "python3"
  },
  "language_info": {
   "codemirror_mode": {
    "name": "ipython",
    "version": 2
   },
   "file_extension": ".py",
   "mimetype": "text/x-python",
   "name": "python",
   "nbconvert_exporter": "python",
   "pygments_lexer": "ipython2",
   "version": "2.7.6"
  }
 },
 "nbformat": 4,
 "nbformat_minor": 0
}
