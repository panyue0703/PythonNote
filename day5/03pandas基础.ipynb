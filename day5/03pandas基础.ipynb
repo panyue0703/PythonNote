{
 "cells": [
  {
   "cell_type": "markdown",
   "source": [
    "# pandas --> series类型/DataFrame类型"
   ],
   "metadata": {
    "collapsed": false
   }
  },
  {
   "cell_type": "code",
   "execution_count": 10,
   "metadata": {
    "collapsed": true
   },
   "outputs": [],
   "source": [
    "import pandas as pd\n",
    "import numpy as np\n",
    "import matplotlib.pyplot as plt"
   ]
  },
  {
   "cell_type": "markdown",
   "source": [
    "## 1. Series"
   ],
   "metadata": {
    "collapsed": false
   }
  },
  {
   "cell_type": "markdown",
   "source": [
    "本身有索引的一维数组"
   ],
   "metadata": {
    "collapsed": false
   }
  },
  {
   "cell_type": "markdown",
   "source": [
    "### 直接创建"
   ],
   "metadata": {
    "collapsed": false
   }
  },
  {
   "cell_type": "code",
   "execution_count": 6,
   "outputs": [],
   "source": [
    "#  创建series\n",
    "ser1 = pd.Series(np.random.randint(100,500,4),index=[f'{x}季度' for x in '一二三四'])"
   ],
   "metadata": {
    "collapsed": false
   }
  },
  {
   "cell_type": "code",
   "execution_count": 7,
   "outputs": [
    {
     "data": {
      "text/plain": "一季度    158\n二季度    482\n三季度    474\n四季度    204\ndtype: int32"
     },
     "execution_count": 7,
     "metadata": {},
     "output_type": "execute_result"
    }
   ],
   "source": [
    "ser1"
   ],
   "metadata": {
    "collapsed": false
   }
  },
  {
   "cell_type": "markdown",
   "source": [
    "### 使用字典创建Series数据类型"
   ],
   "metadata": {
    "collapsed": false
   }
  },
  {
   "cell_type": "code",
   "execution_count": 8,
   "outputs": [],
   "source": [
    "ser2 = pd.Series(data={\n",
    "    '一季度':520,\n",
    "    '二季度':430,\n",
    "    '三季度':660,\n",
    "    '四季度':100\n",
    "})"
   ],
   "metadata": {
    "collapsed": false
   }
  },
  {
   "cell_type": "code",
   "execution_count": 9,
   "outputs": [
    {
     "data": {
      "text/plain": "一季度    520\n二季度    430\n三季度    660\n四季度    100\ndtype: int64"
     },
     "execution_count": 9,
     "metadata": {},
     "output_type": "execute_result"
    }
   ],
   "source": [
    "ser2"
   ],
   "metadata": {
    "collapsed": false
   }
  },
  {
   "cell_type": "code",
   "execution_count": 11,
   "outputs": [],
   "source": [
    "#配置字体参数雅黑\n",
    "plt.rcParams['font.sans-serif'] = 'Microsoft YaHei'\n",
    "#安装字体\n",
    "plt.rcParams['font.sans-serif'] = 'SimHei'\n",
    "#配置矢量图\n",
    "%config InlineBackend.figure_format = 'svg'"
   ],
   "metadata": {
    "collapsed": false
   }
  },
  {
   "cell_type": "code",
   "execution_count": 12,
   "outputs": [
    {
     "data": {
      "text/plain": "<Axes: >"
     },
     "execution_count": 12,
     "metadata": {},
     "output_type": "execute_result"
    },
    {
     "data": {
      "text/plain": "<Figure size 640x480 with 1 Axes>",
      "image/svg+xml": "<?xml version=\"1.0\" encoding=\"utf-8\" standalone=\"no\"?>\n<!DOCTYPE svg PUBLIC \"-//W3C//DTD SVG 1.1//EN\"\n  \"http://www.w3.org/Graphics/SVG/1.1/DTD/svg11.dtd\">\n<svg xmlns:xlink=\"http://www.w3.org/1999/xlink\" width=\"295.409323pt\" height=\"280.512pt\" viewBox=\"0 0 295.409323 280.512\" xmlns=\"http://www.w3.org/2000/svg\" version=\"1.1\">\n <metadata>\n  <rdf:RDF xmlns:dc=\"http://purl.org/dc/elements/1.1/\" xmlns:cc=\"http://creativecommons.org/ns#\" xmlns:rdf=\"http://www.w3.org/1999/02/22-rdf-syntax-ns#\">\n   <cc:Work>\n    <dc:type rdf:resource=\"http://purl.org/dc/dcmitype/StillImage\"/>\n    <dc:date>2023-02-17T17:00:28.240368</dc:date>\n    <dc:format>image/svg+xml</dc:format>\n    <dc:creator>\n     <cc:Agent>\n      <dc:title>Matplotlib v3.7.0, https://matplotlib.org/</dc:title>\n     </cc:Agent>\n    </dc:creator>\n   </cc:Work>\n  </rdf:RDF>\n </metadata>\n <defs>\n  <style type=\"text/css\">*{stroke-linejoin: round; stroke-linecap: butt}</style>\n </defs>\n <g id=\"figure_1\">\n  <g id=\"patch_1\">\n   <path d=\"M 0 280.512 \nL 295.409323 280.512 \nL 295.409323 0 \nL 0 0 \nz\n\" style=\"fill: #ffffff\"/>\n  </g>\n  <g id=\"axes_1\">\n   <g id=\"patch_2\">\n    <path d=\"M 249.535329 140.256 \nC 249.535329 123.227387 245.449075 106.444801 237.620844 91.322219 \nC 229.792614 76.199638 218.448609 63.174038 204.544593 53.342863 \nC 190.640578 43.511688 174.578317 37.159015 157.7111 34.820075 \nC 140.843882 32.481134 123.659098 34.223511 107.604612 39.900406 \nL 143.090529 140.256 \nz\n\" style=\"fill: #1f77b4\"/>\n   </g>\n   <g id=\"patch_3\">\n    <path d=\"M 107.604612 39.900406 \nC 94.348474 44.5878 82.15151 51.855614 71.719846 61.283086 \nC 61.288182 70.710559 52.827089 82.11218 46.826412 94.827867 \nC 40.825734 107.543555 37.40355 121.323095 36.757984 135.368738 \nC 36.112417 149.414381 38.256171 163.449743 43.065135 176.662264 \nL 143.090529 140.256 \nz\n\" style=\"fill: #ff7f0e\"/>\n   </g>\n   <g id=\"patch_4\">\n    <path d=\"M 43.065135 176.662264 \nC 50.47837 197.02996 63.938751 214.655534 81.63646 227.169134 \nC 99.334169 239.682734 120.438805 246.497207 142.11274 246.696309 \nC 163.786675 246.895411 185.012939 240.469802 202.937548 228.283437 \nC 220.862157 216.097073 234.644066 198.721754 242.430224 178.493683 \nL 143.090529 140.256 \nz\n\" style=\"fill: #2ca02c\"/>\n   </g>\n   <g id=\"patch_5\">\n    <path d=\"M 242.430224 178.493683 \nC 244.77353 172.405883 246.552269 166.115544 247.743978 159.702103 \nC 248.935687 153.288662 249.535328 146.77923 249.535329 140.25601 \nL 143.090529 140.256 \nz\n\" style=\"fill: #d62728\"/>\n   </g>\n   <g id=\"matplotlib.axis_1\"/>\n   <g id=\"matplotlib.axis_2\"/>\n   <g id=\"text_1\">\n    <!-- 一季度 -->\n    <g transform=\"translate(210.69 48.030456) scale(0.1 -0.1)\">\n     <defs>\n      <path id=\"SimHei-4e00\" d=\"M 4875 2675 \nQ 5525 2675 6050 2700 \nL 6050 2050 \nQ 5525 2075 4900 2075 \nL 1600 2075 \nQ 950 2075 350 2050 \nL 350 2700 \nQ 950 2675 1600 2675 \nL 4875 2675 \nz\n\" transform=\"scale(0.015625)\"/>\n      <path id=\"SimHei-5b63\" d=\"M 2975 4475 \nQ 2550 4450 1125 4375 \nQ 1075 4650 975 4800 \nQ 2400 4800 3412 4887 \nQ 4425 4975 5025 5125 \nQ 5150 4900 5300 4675 \nQ 5050 4650 3400 4525 \nL 3400 3925 \nL 4900 3925 \nQ 5375 3925 5850 3975 \nL 5850 3525 \nQ 5375 3550 4900 3550 \nL 4100 3550 \nQ 4250 3325 4712 3012 \nQ 5175 2700 6125 2525 \nQ 5975 2400 5850 1975 \nQ 4750 2350 4250 2800 \nQ 3750 3250 3575 3550 \nL 3400 3550 \nL 3400 3125 \nQ 3400 2725 3425 2350 \nL 2950 2350 \nQ 2975 2725 2975 3125 \nL 2975 3550 \nQ 2700 3175 2175 2775 \nQ 1650 2375 650 1850 \nQ 500 2125 300 2325 \nQ 675 2400 1275 2700 \nQ 1875 3000 2350 3550 \nL 1800 3550 \nQ 1100 3550 500 3525 \nL 500 3950 \nQ 1025 3925 1725 3925 \nL 2975 3925 \nL 2975 4475 \nz\nM 4525 2250 \nL 4525 1825 \nQ 4325 1750 4087 1612 \nQ 3850 1475 3600 1250 \nL 3600 1175 \nL 5175 1175 \nQ 5475 1175 5925 1200 \nL 5925 750 \nQ 5475 775 5175 775 \nL 3600 775 \nL 3600 50 \nQ 3600 -425 3325 -500 \nQ 3050 -575 2550 -625 \nQ 2500 -400 2375 -125 \nQ 2825 -125 2975 -100 \nQ 3125 -75 3125 150 \nL 3125 775 \nL 1375 775 \nQ 1175 775 575 750 \nL 575 1200 \nQ 1175 1175 1425 1175 \nL 3100 1175 \nQ 3100 1325 3075 1425 \nQ 3525 1700 3675 1850 \nL 2575 1850 \nQ 2075 1850 1675 1825 \nL 1675 2275 \nQ 2250 2250 2550 2250 \nL 4525 2250 \nz\n\" transform=\"scale(0.015625)\"/>\n      <path id=\"SimHei-5ea6\" d=\"M 1750 1675 \nQ 2450 1650 2875 1650 \nL 5200 1650 \nQ 4975 1250 4650 850 \nQ 4325 450 4025 200 \nQ 4350 50 4950 -50 \nQ 5550 -150 6100 -150 \nQ 5950 -300 5825 -650 \nQ 5100 -550 4550 -412 \nQ 4000 -275 3625 -100 \nQ 3100 -325 2587 -462 \nQ 2075 -600 1525 -675 \nQ 1450 -475 1225 -250 \nQ 1675 -250 2250 -125 \nQ 2825 0 3250 200 \nQ 2825 550 2400 1275 \nL 1750 1250 \nL 1750 1675 \nz\nM 2975 5075 \nQ 3250 5150 3475 5250 \nQ 3625 4975 3775 4525 \nL 4700 4525 \nQ 4975 4525 5700 4550 \nL 5700 4100 \nQ 5000 4125 4650 4125 \nL 1375 4125 \nQ 1375 3000 1350 2312 \nQ 1325 1625 1212 950 \nQ 1100 275 725 -525 \nQ 500 -375 250 -300 \nQ 650 400 762 1075 \nQ 875 1750 887 2800 \nQ 900 3850 875 4525 \nL 3200 4525 \nQ 3100 4850 2975 5075 \nz\nM 2475 3300 \nQ 2475 3700 2450 3925 \nL 2975 3925 \nQ 2950 3725 2950 3300 \nL 4300 3300 \nQ 4300 3700 4275 3950 \nL 4800 3950 \nQ 4775 3650 4775 3300 \nQ 5325 3300 5725 3325 \nL 5725 2900 \nQ 5350 2925 4775 2925 \nQ 4775 2250 4800 1950 \nL 2450 1950 \nQ 2475 2350 2475 2925 \nQ 2175 2925 1600 2900 \nL 1600 3325 \nQ 2175 3300 2475 3300 \nz\nM 4300 2350 \nL 4300 2925 \nL 2950 2925 \nL 2950 2350 \nL 4300 2350 \nz\nM 2875 1275 \nQ 3200 775 3650 425 \nQ 4025 700 4425 1275 \nL 2900 1275 \nL 2875 1275 \nz\n\" transform=\"scale(0.015625)\"/>\n     </defs>\n     <use xlink:href=\"#SimHei-4e00\"/>\n     <use xlink:href=\"#SimHei-5b63\" x=\"100\"/>\n     <use xlink:href=\"#SimHei-5ea6\" x=\"200\"/>\n    </g>\n   </g>\n   <g id=\"text_2\">\n    <!-- 二季度 -->\n    <g transform=\"translate(7.2 93.66396) scale(0.1 -0.1)\">\n     <defs>\n      <path id=\"SimHei-4e8c\" d=\"M 5050 625 \nQ 5650 625 6025 675 \nL 6025 50 \nQ 5625 75 5050 75 \nL 1425 75 \nQ 775 75 350 50 \nL 350 650 \nQ 800 625 1400 625 \nL 5050 625 \nz\nM 4350 4150 \nQ 4900 4175 5350 4200 \nL 5350 3575 \nQ 4900 3600 4375 3600 \nL 2050 3600 \nQ 1450 3600 1000 3575 \nL 1000 4175 \nQ 1450 4150 2025 4150 \nL 4350 4150 \nz\n\" transform=\"scale(0.015625)\"/>\n     </defs>\n     <use xlink:href=\"#SimHei-4e8c\"/>\n     <use xlink:href=\"#SimHei-5b63\" x=\"100\"/>\n     <use xlink:href=\"#SimHei-5ea6\" x=\"200\"/>\n    </g>\n   </g>\n   <g id=\"text_3\">\n    <!-- 三季度 -->\n    <g transform=\"translate(112.014961 260.719246) scale(0.1 -0.1)\">\n     <defs>\n      <path id=\"SimHei-4e09\" d=\"M 6000 -200 \nQ 5550 -175 5200 -175 \nL 1300 -175 \nQ 900 -175 375 -200 \nL 375 350 \nQ 850 325 1300 325 \nL 5200 325 \nQ 5575 325 6000 375 \nL 6000 -200 \nz\nM 900 4600 \nQ 1400 4575 1825 4575 \nL 4600 4575 \nQ 5075 4575 5475 4600 \nL 5475 4075 \nQ 5100 4100 4600 4100 \nL 1800 4100 \nQ 1375 4100 900 4075 \nL 900 4600 \nz\nM 2075 2100 \nQ 1700 2100 1275 2075 \nL 1275 2625 \nQ 1675 2600 2075 2600 \nL 4225 2600 \nQ 4600 2600 5050 2625 \nL 5050 2075 \nQ 4550 2100 4225 2100 \nL 2075 2100 \nz\n\" transform=\"scale(0.015625)\"/>\n     </defs>\n     <use xlink:href=\"#SimHei-4e09\"/>\n     <use xlink:href=\"#SimHei-5b63\" x=\"100\"/>\n     <use xlink:href=\"#SimHei-5ea6\" x=\"200\"/>\n    </g>\n   </g>\n   <g id=\"text_4\">\n    <!-- 四季度 -->\n    <g transform=\"translate(258.209323 165.02562) scale(0.1 -0.1)\">\n     <defs>\n      <path id=\"SimHei-56db\" d=\"M 5750 4750 \nQ 5725 4125 5725 3425 \nL 5725 950 \nQ 5725 300 5750 -450 \nL 5225 -450 \nL 5225 25 \nL 1150 25 \nL 1150 -500 \nL 625 -500 \nQ 650 300 650 1000 \nL 650 3425 \nQ 650 4050 625 4750 \nL 5750 4750 \nz\nM 5225 450 \nL 5225 4350 \nL 3975 4350 \nL 3975 2225 \nQ 3975 1950 4225 1950 \nQ 4475 1950 5025 1975 \nQ 4900 1700 4875 1500 \nQ 4225 1500 3887 1512 \nQ 3550 1525 3500 1975 \nL 3500 4350 \nL 2850 4350 \nQ 2850 3050 2562 2412 \nQ 2275 1775 1700 1200 \nQ 1575 1375 1275 1525 \nQ 1650 1800 1900 2175 \nQ 2150 2550 2262 3000 \nQ 2375 3450 2375 4350 \nL 1150 4350 \nL 1150 450 \nL 5225 450 \nz\n\" transform=\"scale(0.015625)\"/>\n     </defs>\n     <use xlink:href=\"#SimHei-56db\"/>\n     <use xlink:href=\"#SimHei-5b63\" x=\"100\"/>\n     <use xlink:href=\"#SimHei-5ea6\" x=\"200\"/>\n    </g>\n   </g>\n  </g>\n </g>\n</svg>\n"
     },
     "metadata": {},
     "output_type": "display_data"
    }
   ],
   "source": [
    "ser2.plot(kind='pie')"
   ],
   "metadata": {
    "collapsed": false
   }
  },
  {
   "cell_type": "markdown",
   "source": [],
   "metadata": {
    "collapsed": false
   }
  },
  {
   "cell_type": "code",
   "execution_count": 13,
   "outputs": [
    {
     "data": {
      "text/plain": "<Axes: >"
     },
     "execution_count": 13,
     "metadata": {},
     "output_type": "execute_result"
    },
    {
     "data": {
      "text/plain": "<Figure size 640x480 with 1 Axes>",
      "image/svg+xml": "<?xml version=\"1.0\" encoding=\"utf-8\" standalone=\"no\"?>\n<!DOCTYPE svg PUBLIC \"-//W3C//DTD SVG 1.1//EN\"\n  \"http://www.w3.org/Graphics/SVG/1.1/DTD/svg11.dtd\">\n<svg xmlns:xlink=\"http://www.w3.org/1999/xlink\" width=\"393.52pt\" height=\"317.512pt\" viewBox=\"0 0 393.52 317.512\" xmlns=\"http://www.w3.org/2000/svg\" version=\"1.1\">\n <metadata>\n  <rdf:RDF xmlns:dc=\"http://purl.org/dc/elements/1.1/\" xmlns:cc=\"http://creativecommons.org/ns#\" xmlns:rdf=\"http://www.w3.org/1999/02/22-rdf-syntax-ns#\">\n   <cc:Work>\n    <dc:type rdf:resource=\"http://purl.org/dc/dcmitype/StillImage\"/>\n    <dc:date>2023-02-17T17:01:49.406100</dc:date>\n    <dc:format>image/svg+xml</dc:format>\n    <dc:creator>\n     <cc:Agent>\n      <dc:title>Matplotlib v3.7.0, https://matplotlib.org/</dc:title>\n     </cc:Agent>\n    </dc:creator>\n   </cc:Work>\n  </rdf:RDF>\n </metadata>\n <defs>\n  <style type=\"text/css\">*{stroke-linejoin: round; stroke-linecap: butt}</style>\n </defs>\n <g id=\"figure_1\">\n  <g id=\"patch_1\">\n   <path d=\"M 0 317.512 \nL 393.52 317.512 \nL 393.52 0 \nL 0 0 \nz\n\" style=\"fill: #ffffff\"/>\n  </g>\n  <g id=\"axes_1\">\n   <g id=\"patch_2\">\n    <path d=\"M 29.2 273.312 \nL 386.32 273.312 \nL 386.32 7.2 \nL 29.2 7.2 \nz\n\" style=\"fill: #ffffff\"/>\n   </g>\n   <g id=\"patch_3\">\n    <path d=\"M 51.52 273.312 \nL 96.16 273.312 \nL 96.16 73.632 \nL 51.52 73.632 \nz\n\" clip-path=\"url(#p9a188e08dd)\" style=\"fill: #1f77b4\"/>\n   </g>\n   <g id=\"patch_4\">\n    <path d=\"M 140.8 273.312 \nL 185.44 273.312 \nL 185.44 108.192 \nL 140.8 108.192 \nz\n\" clip-path=\"url(#p9a188e08dd)\" style=\"fill: #1f77b4\"/>\n   </g>\n   <g id=\"patch_5\">\n    <path d=\"M 230.08 273.312 \nL 274.72 273.312 \nL 274.72 19.872 \nL 230.08 19.872 \nz\n\" clip-path=\"url(#p9a188e08dd)\" style=\"fill: #1f77b4\"/>\n   </g>\n   <g id=\"patch_6\">\n    <path d=\"M 319.36 273.312 \nL 364 273.312 \nL 364 234.912 \nL 319.36 234.912 \nz\n\" clip-path=\"url(#p9a188e08dd)\" style=\"fill: #1f77b4\"/>\n   </g>\n   <g id=\"matplotlib.axis_1\">\n    <g id=\"xtick_1\">\n     <g id=\"line2d_1\">\n      <defs>\n       <path id=\"m57317d5e0d\" d=\"M 0 0 \nL 0 3.5 \n\" style=\"stroke: #000000; stroke-width: 0.8\"/>\n      </defs>\n      <g>\n       <use xlink:href=\"#m57317d5e0d\" x=\"73.84\" y=\"273.312\" style=\"stroke: #000000; stroke-width: 0.8\"/>\n      </g>\n     </g>\n     <g id=\"text_1\">\n      <!-- 一季度 -->\n      <g transform=\"translate(77.218906 310.312) rotate(-90) scale(0.1 -0.1)\">\n       <defs>\n        <path id=\"SimHei-4e00\" d=\"M 4875 2675 \nQ 5525 2675 6050 2700 \nL 6050 2050 \nQ 5525 2075 4900 2075 \nL 1600 2075 \nQ 950 2075 350 2050 \nL 350 2700 \nQ 950 2675 1600 2675 \nL 4875 2675 \nz\n\" transform=\"scale(0.015625)\"/>\n        <path id=\"SimHei-5b63\" d=\"M 2975 4475 \nQ 2550 4450 1125 4375 \nQ 1075 4650 975 4800 \nQ 2400 4800 3412 4887 \nQ 4425 4975 5025 5125 \nQ 5150 4900 5300 4675 \nQ 5050 4650 3400 4525 \nL 3400 3925 \nL 4900 3925 \nQ 5375 3925 5850 3975 \nL 5850 3525 \nQ 5375 3550 4900 3550 \nL 4100 3550 \nQ 4250 3325 4712 3012 \nQ 5175 2700 6125 2525 \nQ 5975 2400 5850 1975 \nQ 4750 2350 4250 2800 \nQ 3750 3250 3575 3550 \nL 3400 3550 \nL 3400 3125 \nQ 3400 2725 3425 2350 \nL 2950 2350 \nQ 2975 2725 2975 3125 \nL 2975 3550 \nQ 2700 3175 2175 2775 \nQ 1650 2375 650 1850 \nQ 500 2125 300 2325 \nQ 675 2400 1275 2700 \nQ 1875 3000 2350 3550 \nL 1800 3550 \nQ 1100 3550 500 3525 \nL 500 3950 \nQ 1025 3925 1725 3925 \nL 2975 3925 \nL 2975 4475 \nz\nM 4525 2250 \nL 4525 1825 \nQ 4325 1750 4087 1612 \nQ 3850 1475 3600 1250 \nL 3600 1175 \nL 5175 1175 \nQ 5475 1175 5925 1200 \nL 5925 750 \nQ 5475 775 5175 775 \nL 3600 775 \nL 3600 50 \nQ 3600 -425 3325 -500 \nQ 3050 -575 2550 -625 \nQ 2500 -400 2375 -125 \nQ 2825 -125 2975 -100 \nQ 3125 -75 3125 150 \nL 3125 775 \nL 1375 775 \nQ 1175 775 575 750 \nL 575 1200 \nQ 1175 1175 1425 1175 \nL 3100 1175 \nQ 3100 1325 3075 1425 \nQ 3525 1700 3675 1850 \nL 2575 1850 \nQ 2075 1850 1675 1825 \nL 1675 2275 \nQ 2250 2250 2550 2250 \nL 4525 2250 \nz\n\" transform=\"scale(0.015625)\"/>\n        <path id=\"SimHei-5ea6\" d=\"M 1750 1675 \nQ 2450 1650 2875 1650 \nL 5200 1650 \nQ 4975 1250 4650 850 \nQ 4325 450 4025 200 \nQ 4350 50 4950 -50 \nQ 5550 -150 6100 -150 \nQ 5950 -300 5825 -650 \nQ 5100 -550 4550 -412 \nQ 4000 -275 3625 -100 \nQ 3100 -325 2587 -462 \nQ 2075 -600 1525 -675 \nQ 1450 -475 1225 -250 \nQ 1675 -250 2250 -125 \nQ 2825 0 3250 200 \nQ 2825 550 2400 1275 \nL 1750 1250 \nL 1750 1675 \nz\nM 2975 5075 \nQ 3250 5150 3475 5250 \nQ 3625 4975 3775 4525 \nL 4700 4525 \nQ 4975 4525 5700 4550 \nL 5700 4100 \nQ 5000 4125 4650 4125 \nL 1375 4125 \nQ 1375 3000 1350 2312 \nQ 1325 1625 1212 950 \nQ 1100 275 725 -525 \nQ 500 -375 250 -300 \nQ 650 400 762 1075 \nQ 875 1750 887 2800 \nQ 900 3850 875 4525 \nL 3200 4525 \nQ 3100 4850 2975 5075 \nz\nM 2475 3300 \nQ 2475 3700 2450 3925 \nL 2975 3925 \nQ 2950 3725 2950 3300 \nL 4300 3300 \nQ 4300 3700 4275 3950 \nL 4800 3950 \nQ 4775 3650 4775 3300 \nQ 5325 3300 5725 3325 \nL 5725 2900 \nQ 5350 2925 4775 2925 \nQ 4775 2250 4800 1950 \nL 2450 1950 \nQ 2475 2350 2475 2925 \nQ 2175 2925 1600 2900 \nL 1600 3325 \nQ 2175 3300 2475 3300 \nz\nM 4300 2350 \nL 4300 2925 \nL 2950 2925 \nL 2950 2350 \nL 4300 2350 \nz\nM 2875 1275 \nQ 3200 775 3650 425 \nQ 4025 700 4425 1275 \nL 2900 1275 \nL 2875 1275 \nz\n\" transform=\"scale(0.015625)\"/>\n       </defs>\n       <use xlink:href=\"#SimHei-4e00\"/>\n       <use xlink:href=\"#SimHei-5b63\" x=\"100\"/>\n       <use xlink:href=\"#SimHei-5ea6\" x=\"200\"/>\n      </g>\n     </g>\n    </g>\n    <g id=\"xtick_2\">\n     <g id=\"line2d_2\">\n      <g>\n       <use xlink:href=\"#m57317d5e0d\" x=\"163.12\" y=\"273.312\" style=\"stroke: #000000; stroke-width: 0.8\"/>\n      </g>\n     </g>\n     <g id=\"text_2\">\n      <!-- 二季度 -->\n      <g transform=\"translate(166.498906 310.312) rotate(-90) scale(0.1 -0.1)\">\n       <defs>\n        <path id=\"SimHei-4e8c\" d=\"M 5050 625 \nQ 5650 625 6025 675 \nL 6025 50 \nQ 5625 75 5050 75 \nL 1425 75 \nQ 775 75 350 50 \nL 350 650 \nQ 800 625 1400 625 \nL 5050 625 \nz\nM 4350 4150 \nQ 4900 4175 5350 4200 \nL 5350 3575 \nQ 4900 3600 4375 3600 \nL 2050 3600 \nQ 1450 3600 1000 3575 \nL 1000 4175 \nQ 1450 4150 2025 4150 \nL 4350 4150 \nz\n\" transform=\"scale(0.015625)\"/>\n       </defs>\n       <use xlink:href=\"#SimHei-4e8c\"/>\n       <use xlink:href=\"#SimHei-5b63\" x=\"100\"/>\n       <use xlink:href=\"#SimHei-5ea6\" x=\"200\"/>\n      </g>\n     </g>\n    </g>\n    <g id=\"xtick_3\">\n     <g id=\"line2d_3\">\n      <g>\n       <use xlink:href=\"#m57317d5e0d\" x=\"252.4\" y=\"273.312\" style=\"stroke: #000000; stroke-width: 0.8\"/>\n      </g>\n     </g>\n     <g id=\"text_3\">\n      <!-- 三季度 -->\n      <g transform=\"translate(255.778906 310.312) rotate(-90) scale(0.1 -0.1)\">\n       <defs>\n        <path id=\"SimHei-4e09\" d=\"M 6000 -200 \nQ 5550 -175 5200 -175 \nL 1300 -175 \nQ 900 -175 375 -200 \nL 375 350 \nQ 850 325 1300 325 \nL 5200 325 \nQ 5575 325 6000 375 \nL 6000 -200 \nz\nM 900 4600 \nQ 1400 4575 1825 4575 \nL 4600 4575 \nQ 5075 4575 5475 4600 \nL 5475 4075 \nQ 5100 4100 4600 4100 \nL 1800 4100 \nQ 1375 4100 900 4075 \nL 900 4600 \nz\nM 2075 2100 \nQ 1700 2100 1275 2075 \nL 1275 2625 \nQ 1675 2600 2075 2600 \nL 4225 2600 \nQ 4600 2600 5050 2625 \nL 5050 2075 \nQ 4550 2100 4225 2100 \nL 2075 2100 \nz\n\" transform=\"scale(0.015625)\"/>\n       </defs>\n       <use xlink:href=\"#SimHei-4e09\"/>\n       <use xlink:href=\"#SimHei-5b63\" x=\"100\"/>\n       <use xlink:href=\"#SimHei-5ea6\" x=\"200\"/>\n      </g>\n     </g>\n    </g>\n    <g id=\"xtick_4\">\n     <g id=\"line2d_4\">\n      <g>\n       <use xlink:href=\"#m57317d5e0d\" x=\"341.68\" y=\"273.312\" style=\"stroke: #000000; stroke-width: 0.8\"/>\n      </g>\n     </g>\n     <g id=\"text_4\">\n      <!-- 四季度 -->\n      <g transform=\"translate(345.058906 310.312) rotate(-90) scale(0.1 -0.1)\">\n       <defs>\n        <path id=\"SimHei-56db\" d=\"M 5750 4750 \nQ 5725 4125 5725 3425 \nL 5725 950 \nQ 5725 300 5750 -450 \nL 5225 -450 \nL 5225 25 \nL 1150 25 \nL 1150 -500 \nL 625 -500 \nQ 650 300 650 1000 \nL 650 3425 \nQ 650 4050 625 4750 \nL 5750 4750 \nz\nM 5225 450 \nL 5225 4350 \nL 3975 4350 \nL 3975 2225 \nQ 3975 1950 4225 1950 \nQ 4475 1950 5025 1975 \nQ 4900 1700 4875 1500 \nQ 4225 1500 3887 1512 \nQ 3550 1525 3500 1975 \nL 3500 4350 \nL 2850 4350 \nQ 2850 3050 2562 2412 \nQ 2275 1775 1700 1200 \nQ 1575 1375 1275 1525 \nQ 1650 1800 1900 2175 \nQ 2150 2550 2262 3000 \nQ 2375 3450 2375 4350 \nL 1150 4350 \nL 1150 450 \nL 5225 450 \nz\n\" transform=\"scale(0.015625)\"/>\n       </defs>\n       <use xlink:href=\"#SimHei-56db\"/>\n       <use xlink:href=\"#SimHei-5b63\" x=\"100\"/>\n       <use xlink:href=\"#SimHei-5ea6\" x=\"200\"/>\n      </g>\n     </g>\n    </g>\n   </g>\n   <g id=\"matplotlib.axis_2\">\n    <g id=\"ytick_1\">\n     <g id=\"line2d_5\">\n      <defs>\n       <path id=\"m1550c49ed9\" d=\"M 0 0 \nL -3.5 0 \n\" style=\"stroke: #000000; stroke-width: 0.8\"/>\n      </defs>\n      <g>\n       <use xlink:href=\"#m1550c49ed9\" x=\"29.2\" y=\"273.312\" style=\"stroke: #000000; stroke-width: 0.8\"/>\n      </g>\n     </g>\n     <g id=\"text_5\">\n      <!-- 0 -->\n      <g transform=\"translate(17.2 276.7495) scale(0.1 -0.1)\">\n       <defs>\n        <path id=\"SimHei-30\" d=\"M 225 2537 \nQ 250 3200 412 3587 \nQ 575 3975 875 4225 \nQ 1175 4475 1612 4475 \nQ 2050 4475 2375 4112 \nQ 2700 3750 2800 3200 \nQ 2900 2650 2862 1937 \nQ 2825 1225 2612 775 \nQ 2400 325 1975 150 \nQ 1550 -25 1125 187 \nQ 700 400 525 750 \nQ 350 1100 275 1487 \nQ 200 1875 225 2537 \nz\nM 750 2687 \nQ 675 2000 800 1462 \nQ 925 925 1212 700 \nQ 1500 475 1800 612 \nQ 2100 750 2237 1162 \nQ 2375 1575 2375 2062 \nQ 2375 2550 2337 2950 \nQ 2300 3350 2112 3675 \nQ 1925 4000 1612 4012 \nQ 1300 4025 1062 3700 \nQ 825 3375 750 2687 \nz\n\" transform=\"scale(0.015625)\"/>\n       </defs>\n       <use xlink:href=\"#SimHei-30\"/>\n      </g>\n     </g>\n    </g>\n    <g id=\"ytick_2\">\n     <g id=\"line2d_6\">\n      <g>\n       <use xlink:href=\"#m1550c49ed9\" x=\"29.2\" y=\"234.912\" style=\"stroke: #000000; stroke-width: 0.8\"/>\n      </g>\n     </g>\n     <g id=\"text_6\">\n      <!-- 100 -->\n      <g transform=\"translate(7.2 238.3495) scale(0.1 -0.1)\">\n       <defs>\n        <path id=\"SimHei-31\" d=\"M 1400 3600 \nQ 1075 3275 575 2975 \nL 575 3450 \nQ 1200 3875 1600 4450 \nL 1900 4450 \nL 1900 150 \nL 1400 150 \nL 1400 3600 \nz\n\" transform=\"scale(0.015625)\"/>\n       </defs>\n       <use xlink:href=\"#SimHei-31\"/>\n       <use xlink:href=\"#SimHei-30\" x=\"50\"/>\n       <use xlink:href=\"#SimHei-30\" x=\"100\"/>\n      </g>\n     </g>\n    </g>\n    <g id=\"ytick_3\">\n     <g id=\"line2d_7\">\n      <g>\n       <use xlink:href=\"#m1550c49ed9\" x=\"29.2\" y=\"196.512\" style=\"stroke: #000000; stroke-width: 0.8\"/>\n      </g>\n     </g>\n     <g id=\"text_7\">\n      <!-- 200 -->\n      <g transform=\"translate(7.2 199.9495) scale(0.1 -0.1)\">\n       <defs>\n        <path id=\"SimHei-32\" d=\"M 300 250 \nQ 325 625 650 925 \nQ 975 1225 1475 1862 \nQ 1975 2500 2125 2850 \nQ 2275 3200 2237 3450 \nQ 2200 3700 2000 3862 \nQ 1800 4025 1537 4000 \nQ 1275 3975 1037 3800 \nQ 800 3625 675 3275 \nL 200 3350 \nQ 400 3925 712 4187 \nQ 1025 4450 1450 4475 \nQ 1700 4500 1900 4462 \nQ 2100 4425 2312 4287 \nQ 2525 4150 2662 3875 \nQ 2800 3600 2762 3212 \nQ 2725 2825 2375 2287 \nQ 2025 1750 1025 600 \nL 2825 600 \nL 2825 150 \nL 300 150 \nL 300 250 \nz\n\" transform=\"scale(0.015625)\"/>\n       </defs>\n       <use xlink:href=\"#SimHei-32\"/>\n       <use xlink:href=\"#SimHei-30\" x=\"50\"/>\n       <use xlink:href=\"#SimHei-30\" x=\"100\"/>\n      </g>\n     </g>\n    </g>\n    <g id=\"ytick_4\">\n     <g id=\"line2d_8\">\n      <g>\n       <use xlink:href=\"#m1550c49ed9\" x=\"29.2\" y=\"158.112\" style=\"stroke: #000000; stroke-width: 0.8\"/>\n      </g>\n     </g>\n     <g id=\"text_8\">\n      <!-- 300 -->\n      <g transform=\"translate(7.2 161.5495) scale(0.1 -0.1)\">\n       <defs>\n        <path id=\"SimHei-33\" d=\"M 250 1225 \nL 700 1300 \nQ 800 975 1025 762 \nQ 1250 550 1587 562 \nQ 1925 575 2125 837 \nQ 2325 1100 2300 1437 \nQ 2275 1775 2037 1962 \nQ 1800 2150 1275 2225 \nL 1275 2550 \nQ 1800 2600 2037 2825 \nQ 2275 3050 2250 3412 \nQ 2225 3775 1925 3937 \nQ 1625 4100 1287 3975 \nQ 950 3850 750 3275 \nL 300 3350 \nQ 450 3800 712 4100 \nQ 975 4400 1425 4450 \nQ 1875 4500 2212 4337 \nQ 2550 4175 2687 3837 \nQ 2825 3500 2725 3100 \nQ 2625 2700 2150 2400 \nQ 2500 2250 2687 1950 \nQ 2875 1650 2812 1162 \nQ 2750 675 2375 375 \nQ 2000 75 1525 87 \nQ 1050 100 700 387 \nQ 350 675 250 1225 \nz\n\" transform=\"scale(0.015625)\"/>\n       </defs>\n       <use xlink:href=\"#SimHei-33\"/>\n       <use xlink:href=\"#SimHei-30\" x=\"50\"/>\n       <use xlink:href=\"#SimHei-30\" x=\"100\"/>\n      </g>\n     </g>\n    </g>\n    <g id=\"ytick_5\">\n     <g id=\"line2d_9\">\n      <g>\n       <use xlink:href=\"#m1550c49ed9\" x=\"29.2\" y=\"119.712\" style=\"stroke: #000000; stroke-width: 0.8\"/>\n      </g>\n     </g>\n     <g id=\"text_9\">\n      <!-- 400 -->\n      <g transform=\"translate(7.2 123.1495) scale(0.1 -0.1)\">\n       <defs>\n        <path id=\"SimHei-34\" d=\"M 2000 1100 \nL 75 1100 \nL 75 1525 \nL 2100 4450 \nL 2475 4450 \nL 2475 1525 \nL 3075 1525 \nL 3075 1100 \nL 2475 1100 \nL 2475 150 \nL 2000 150 \nL 2000 1100 \nz\nM 2000 1525 \nL 2000 3500 \nL 600 1525 \nL 2000 1525 \nz\n\" transform=\"scale(0.015625)\"/>\n       </defs>\n       <use xlink:href=\"#SimHei-34\"/>\n       <use xlink:href=\"#SimHei-30\" x=\"50\"/>\n       <use xlink:href=\"#SimHei-30\" x=\"100\"/>\n      </g>\n     </g>\n    </g>\n    <g id=\"ytick_6\">\n     <g id=\"line2d_10\">\n      <g>\n       <use xlink:href=\"#m1550c49ed9\" x=\"29.2\" y=\"81.312\" style=\"stroke: #000000; stroke-width: 0.8\"/>\n      </g>\n     </g>\n     <g id=\"text_10\">\n      <!-- 500 -->\n      <g transform=\"translate(7.2 84.7495) scale(0.1 -0.1)\">\n       <defs>\n        <path id=\"SimHei-35\" d=\"M 550 1325 \nQ 725 650 1150 575 \nQ 1575 500 1837 662 \nQ 2100 825 2212 1087 \nQ 2325 1350 2312 1675 \nQ 2300 2000 2137 2225 \nQ 1975 2450 1725 2525 \nQ 1475 2600 1162 2525 \nQ 850 2450 650 2175 \nL 225 2225 \nQ 275 2375 700 4375 \nL 2675 4375 \nL 2675 3925 \nL 1075 3925 \nQ 950 3250 825 2850 \nQ 1200 3025 1525 3012 \nQ 1850 3000 2150 2862 \nQ 2450 2725 2587 2487 \nQ 2725 2250 2787 2012 \nQ 2850 1775 2837 1500 \nQ 2825 1225 2725 937 \nQ 2625 650 2425 462 \nQ 2225 275 1937 162 \nQ 1650 50 1275 75 \nQ 900 100 562 350 \nQ 225 600 100 1200 \nL 550 1325 \nz\n\" transform=\"scale(0.015625)\"/>\n       </defs>\n       <use xlink:href=\"#SimHei-35\"/>\n       <use xlink:href=\"#SimHei-30\" x=\"50\"/>\n       <use xlink:href=\"#SimHei-30\" x=\"100\"/>\n      </g>\n     </g>\n    </g>\n    <g id=\"ytick_7\">\n     <g id=\"line2d_11\">\n      <g>\n       <use xlink:href=\"#m1550c49ed9\" x=\"29.2\" y=\"42.912\" style=\"stroke: #000000; stroke-width: 0.8\"/>\n      </g>\n     </g>\n     <g id=\"text_11\">\n      <!-- 600 -->\n      <g transform=\"translate(7.2 46.3495) scale(0.1 -0.1)\">\n       <defs>\n        <path id=\"SimHei-36\" d=\"M 250 1612 \nQ 275 1975 387 2225 \nQ 500 2475 725 2850 \nL 1750 4450 \nL 2325 4450 \nL 1275 2800 \nQ 1950 2975 2350 2750 \nQ 2750 2525 2887 2237 \nQ 3025 1950 3037 1612 \nQ 3050 1275 2937 950 \nQ 2825 625 2537 362 \nQ 2250 100 1737 75 \nQ 1225 50 862 262 \nQ 500 475 362 862 \nQ 225 1250 250 1612 \nz\nM 1025 787 \nQ 1250 550 1625 525 \nQ 2000 500 2250 775 \nQ 2500 1050 2500 1575 \nQ 2500 2100 2187 2300 \nQ 1875 2500 1487 2450 \nQ 1100 2400 925 2075 \nQ 750 1750 775 1387 \nQ 800 1025 1025 787 \nz\n\" transform=\"scale(0.015625)\"/>\n       </defs>\n       <use xlink:href=\"#SimHei-36\"/>\n       <use xlink:href=\"#SimHei-30\" x=\"50\"/>\n       <use xlink:href=\"#SimHei-30\" x=\"100\"/>\n      </g>\n     </g>\n    </g>\n   </g>\n   <g id=\"patch_7\">\n    <path d=\"M 29.2 273.312 \nL 29.2 7.2 \n\" style=\"fill: none; stroke: #000000; stroke-width: 0.8; stroke-linejoin: miter; stroke-linecap: square\"/>\n   </g>\n   <g id=\"patch_8\">\n    <path d=\"M 386.32 273.312 \nL 386.32 7.2 \n\" style=\"fill: none; stroke: #000000; stroke-width: 0.8; stroke-linejoin: miter; stroke-linecap: square\"/>\n   </g>\n   <g id=\"patch_9\">\n    <path d=\"M 29.2 273.312 \nL 386.32 273.312 \n\" style=\"fill: none; stroke: #000000; stroke-width: 0.8; stroke-linejoin: miter; stroke-linecap: square\"/>\n   </g>\n   <g id=\"patch_10\">\n    <path d=\"M 29.2 7.2 \nL 386.32 7.2 \n\" style=\"fill: none; stroke: #000000; stroke-width: 0.8; stroke-linejoin: miter; stroke-linecap: square\"/>\n   </g>\n  </g>\n </g>\n <defs>\n  <clipPath id=\"p9a188e08dd\">\n   <rect x=\"29.2\" y=\"7.2\" width=\"357.12\" height=\"266.112\"/>\n  </clipPath>\n </defs>\n</svg>\n"
     },
     "metadata": {},
     "output_type": "display_data"
    }
   ],
   "source": [
    "ser2.plot(kind='bar')"
   ],
   "metadata": {
    "collapsed": false
   }
  },
  {
   "cell_type": "markdown",
   "source": [],
   "metadata": {
    "collapsed": false
   }
  },
  {
   "cell_type": "markdown",
   "source": [
    "### Series数据类型的描述性统计数据"
   ],
   "metadata": {
    "collapsed": false
   }
  },
  {
   "cell_type": "markdown",
   "source": [
    "中位数"
   ],
   "metadata": {
    "collapsed": false
   }
  },
  {
   "cell_type": "code",
   "execution_count": 14,
   "outputs": [
    {
     "data": {
      "text/plain": "475.0"
     },
     "execution_count": 14,
     "metadata": {},
     "output_type": "execute_result"
    }
   ],
   "source": [
    "ser2.median()"
   ],
   "metadata": {
    "collapsed": false
   }
  },
  {
   "cell_type": "markdown",
   "source": [
    "描述"
   ],
   "metadata": {
    "collapsed": false
   }
  },
  {
   "cell_type": "code",
   "execution_count": 15,
   "outputs": [
    {
     "data": {
      "text/plain": "count      4.000000\nmean     427.500000\nstd      237.960081\nmin      100.000000\n25%      347.500000\n50%      475.000000\n75%      555.000000\nmax      660.000000\ndtype: float64"
     },
     "execution_count": 15,
     "metadata": {},
     "output_type": "execute_result"
    }
   ],
   "source": [
    "ser2.describe()    #ser3 = ser2.describe()"
   ],
   "metadata": {
    "collapsed": false
   }
  },
  {
   "cell_type": "markdown",
   "source": [
    "### 对数据的观察"
   ],
   "metadata": {
    "collapsed": false
   }
  },
  {
   "cell_type": "markdown",
   "source": [
    "查看数据索引"
   ],
   "metadata": {
    "collapsed": false
   }
  },
  {
   "cell_type": "code",
   "execution_count": 16,
   "outputs": [
    {
     "data": {
      "text/plain": "Index(['一季度', '二季度', '三季度', '四季度'], dtype='object')"
     },
     "execution_count": 16,
     "metadata": {},
     "output_type": "execute_result"
    }
   ],
   "source": [
    "ser2.index"
   ],
   "metadata": {
    "collapsed": false
   }
  },
  {
   "cell_type": "markdown",
   "source": [
    "查看值"
   ],
   "metadata": {
    "collapsed": false
   }
  },
  {
   "cell_type": "code",
   "execution_count": 17,
   "outputs": [
    {
     "data": {
      "text/plain": "array([520, 430, 660, 100], dtype=int64)"
     },
     "execution_count": 17,
     "metadata": {},
     "output_type": "execute_result"
    }
   ],
   "source": [
    "ser2.values"
   ],
   "metadata": {
    "collapsed": false
   }
  },
  {
   "cell_type": "markdown",
   "source": [
    "查看大小"
   ],
   "metadata": {
    "collapsed": false
   }
  },
  {
   "cell_type": "code",
   "execution_count": 18,
   "outputs": [
    {
     "data": {
      "text/plain": "4"
     },
     "execution_count": 18,
     "metadata": {},
     "output_type": "execute_result"
    }
   ],
   "source": [
    "ser2.size"
   ],
   "metadata": {
    "collapsed": false
   }
  },
  {
   "cell_type": "markdown",
   "source": [
    "查看数据是否有空值"
   ],
   "metadata": {
    "collapsed": false
   }
  },
  {
   "cell_type": "code",
   "execution_count": 19,
   "outputs": [
    {
     "data": {
      "text/plain": "False"
     },
     "execution_count": 19,
     "metadata": {},
     "output_type": "execute_result"
    }
   ],
   "source": [
    "ser2.hasnans"
   ],
   "metadata": {
    "collapsed": false
   }
  },
  {
   "cell_type": "markdown",
   "source": [],
   "metadata": {
    "collapsed": false
   }
  },
  {
   "cell_type": "markdown",
   "source": [
    "## 2.DataFrame 数据表"
   ],
   "metadata": {
    "collapsed": false
   }
  },
  {
   "cell_type": "code",
   "execution_count": null,
   "outputs": [],
   "source": [],
   "metadata": {
    "collapsed": false
   }
  },
  {
   "cell_type": "markdown",
   "source": [
    "## 3. index索引"
   ],
   "metadata": {
    "collapsed": false
   }
  }
 ],
 "metadata": {
  "kernelspec": {
   "display_name": "Python 3",
   "language": "python",
   "name": "python3"
  },
  "language_info": {
   "codemirror_mode": {
    "name": "ipython",
    "version": 2
   },
   "file_extension": ".py",
   "mimetype": "text/x-python",
   "name": "python",
   "nbconvert_exporter": "python",
   "pygments_lexer": "ipython2",
   "version": "2.7.6"
  }
 },
 "nbformat": 4,
 "nbformat_minor": 0
}
