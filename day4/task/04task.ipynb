{
 "cells": [
  {
   "cell_type": "markdown",
   "source": [
    "//*[@id=\"J_goodsList\"]/ul/li[1]/div/div[3]/strong/i   价格\n",
    "//*[@id=\"J_goodsList\"]/ul/li[1]/div/div[4]/a/em  标题\n",
    "//*[@id=\"J_goodsList\"]/ul/li[1]/div/div[5]/strong  评价"
   ],
   "metadata": {
    "collapsed": false
   }
  },
  {
   "cell_type": "code",
   "execution_count": 1,
   "metadata": {
    "collapsed": true
   },
   "outputs": [],
   "source": [
    "from selenium.webdriver.common.by import By\n",
    "from selenium.webdriver.common.keys import Keys\n",
    "import time\n",
    "from selenium import webdriver\n",
    "from selenium.webdriver.chrome.service import Service\n",
    "# url地址\n",
    "url = 'https://global.jd.com/'\n",
    "# 定义chrome驱动去地址\n",
    "path =  Service('C:\\Program Files\\Google\\Chrome\\Application\\chromedriver.exe')\n",
    "# 创建浏览器操作对象\n",
    "web = webdriver.Chrome(service=path)\n",
    "web.get(url)\n",
   ]
  },
  {
   "cell_type": "code",
   "execution_count": 2,
   "outputs": [],
   "source": [
    "search = web.find_element(By.XPATH,'//*[@id=\"key\"]')\n",
    "search.send_keys('手机')\n",
    "search.send_keys(Keys.ENTER)"
   ],
   "metadata": {
    "collapsed": false
   }
  },
  {
   "cell_type": "code",
   "execution_count": 3,
   "outputs": [],
   "source": [
    "max_y = 10000\n",
    "y = 0\n",
    "while y <= max_y:\n",
    "    web.execute_script(f'window.scrollTo(0,{y})')\n",
    "    y+=1000\n",
    "    time.sleep(3)"
   ],
   "metadata": {
    "collapsed": false
   }
  },
  {
   "cell_type": "code",
   "execution_count": 6,
   "outputs": [
    {
     "name": "stdout",
     "output_type": "stream",
     "text": [
      "['荣耀Play5T 22.5W超级快充 5000mAh大电池 6.5英寸护眼屏 全网通8GB+128GB极光蓝', '999.00', '100万+条评价']\n",
      "['Redmi Note12 5G 120Hz OLED屏幕 骁龙4移动平台 5000mAh长续航 6GB+128GB子夜黑 智能 小米红米', '1249.00', '10万+条评价']\n",
      "['小米13 徕卡光学镜头 第二代骁龙8处理器 超窄边屏幕 120Hz高刷', '4599.00', '10万+条评价条评价']\n",
      "['荣耀X30 骁龙6nm疾速5G芯 66W超级快充 120Hz全视屏 全网通版 8GB+128GB 钛空银', '1399.00', '50万+条评价']\n",
      "['OPPO K9x 8GB+128GB 银紫超梦 天玑810 5000mAh长续航 33W快充 90Hz电竞屏 6400万三摄 拍照5Goppok9x', '1199.00', '50万+条评价']\n",
      "['Redmi Note 11 5G 天玑810 33W Pro快充 5000mAh大电池 6GB +128GB 神秘黑境 智能 小米 红米', '1049.00', '100万+条评价']\n",
      "['【爆款热销】K60 骁龙8 超清相机 长续航', '2999.00', '5万+条评价']\n",
      "['荣耀X40 120Hz OLED硬核曲屏 5100mAh 快充大电池 7.9mm轻薄设计 5G 8GB+128GB 彩云追月', '1699.00', '20万+条评价']\n",
      "['乐视Letv Y1Pro+ 八核智能手机自营128GB超薄游戏大屏可用5G移动联通电信卡学生百元老人机备用长续航 星空蓝', '599.00', '1万+条评价']\n",
      "['OPPO A56s 8GB+128GB 深海蓝 双模5G 天玑810 5000mAh大电池 200%的超级音量 5G', '1099.00', '1万+条评价']\n",
      "['荣耀80 1.6亿像素超清主摄 AI Vlog视频大师 全新Magic OS 7.0系统 5G手机 8GB+256GB 墨玉青', '2699.00', '10万+条评价']\n",
      "['爱心东东\\n新款星盖世X13Pro真八核超薄智能手机可用5G移动联通电信卡4g全网通百元便宜学生智能备用老人机 尊贵黑【8+256GB】', '799.00', '2000+条评价']\n",
      "['【爆款热销】Redmi K50 天玑8100 2K柔性直屏', '2399.00', '50万+条评价']\n",
      "['华为智选 Hi nova 9z 5G全网通手机 6.67英寸120Hz原彩屏hinova 6400万像素超清摄影 66W快充8GB+128GB亮黑色', '1268.00', '50万+条评价']\n",
      "['Redmi Note11T Pro 5G 天玑8100 144HzLCD旗舰直屏 67W快充 6GB+128GB子夜黑 5G智能 小米红米', '1599.00', '50万+条评价条评价']\n",
      "['荣耀X40 GT 骁龙888旗舰芯 144Hz高刷电竞屏 66W超级快充 5G手机 12GB+256GB 钛空银', '2399.00', '10万+条评价']\n",
      "['荣耀Play6T Pro 天玑810 40W超级快充 6nm疾速芯 4800万超清双摄 全网通 5G手机 8GB+256GB 钛空银', '1399.00', '10万+条评价']\n",
      "['Apple iPhone 13 (A2634) 128GB 星光色 支持移动联通电信5G 双卡双待手机【快充套装】', '4928.00', '100万+条评价']\n",
      "['OPPO Reno9 8GB+256GB 微醺 6400万水光人像镜头 120Hz OLED超清曲面屏 4500mAh大电池 7.19mm轻薄 5G', '2499.00', '5万+条评价']\n",
      "['华为畅享 50 6000mAh大电池 22.5W超能续航 6.75英寸影音大屏 双卡双待 智能手机 6G+128GB 幻夜黑 鸿蒙', '1169.00', '20万+条评价']\n",
      "['小米11青春活力版 骁龙778G处理器 AMOLED柔性直屏 清凉薄荷 8GB+128GB 5G时尚', '1399.00', '5万+条评价']\n",
      "['OPPO A36 6GB+128GB 云雾黑 高通骁龙680 5000mAh长续航 90Hz护眼炫彩屏 大内存游戏拍照oppoa36', '899.00', '10万+条评价']\n",
      "['Redmi Note 11 4G FHD+ 90Hz高刷屏 5000万三摄 G88芯片 5000mAh电池 4GB+128GB 梦幻晴空 小米 红米', '949.00', '20万+条评价']\n",
      "['三星 SAMSUNG Galaxy A53 5G手机 120Hz超顺滑全视屏 IP67级防尘防水 6400万超清四摄 8GB+128GB 糯糯白', '2599.00', '1万+条评价']\n",
      "['Redmi K40S 骁龙870 三星E4 AMOLED 120Hz直屏 OIS光学防抖 67W快充 亮黑 12GB+256GB 5G智能 小米红米', '1899.00', '1万+条评价']\n",
      "['Apple iPhone 14 Pro (A2892) 256GB 暗紫色 支持移动联通电信5G 双卡双待手机', '8899.00', '50万+条评价']\n",
      "['爱心东东\\n新款关爱心X13 Pro真八核智能手机可用5G移动联通电信卡4g全网通游戏超薄百元便宜学生大屏老人机 尊贵黑【8+256GB】', '799.00', '1万+条评价']\n",
      "['新款14promax灵动岛大屏智能手机256g可用5G卡4g全网通电竞游戏长续航学生机安卓超薄便宜价 紫色【8+128GB】', '599.00', '5000+条评价']\n",
      "['荣耀Play6T 6.74英寸高刷护眼屏 侧边指纹解锁 5000mAh大电池 全网通 5G手机 8GB+128GB 钛空银', '1099.00', '20万+条评价']\n",
      "['百事乐L14pro八核灵动岛智能手机大屏长续航游戏机学生性价比旗舰百元备用机可用5g移动联通电信卡远峰蓝256g', '779.00', '1000+条评价']\n",
      "['Redmi Note11T Pro 5G 天玑8100 144HzLCD旗舰直屏 67W快充 6GB+128GB子夜黑 5G智能 小米红米', '1599.00', '50万+条评价']\n",
      "['荣耀畅玩20 5000mAh超大电池续航 6.5英寸大屏 莱茵护眼 4GB+128GB 钛空银 双卡双待 全网通', '869.00', '100万+条评价']\n",
      "['小米13 徕卡光学镜头 第二代骁龙8处理器 超窄边屏幕 120Hz高刷 67W快充 12+256GB 黑色 5G', '4599.00', '10万+条评价']\n",
      "['vivo iQOO Neo7 SE 12GB+256GB 电子蓝 天玑8200 120W超快闪充 120Hz柔性直屏 5G电竞iqooneo7se', '2329.00', '2000+条评价']\n",
      "['nubia 努比亚Z50 12GB+256GB 黑礁 第二代骁龙8 144HZ高刷 新35mm定制光学系统5000mAh电池80W快充拍照5G', '3699.00', '5000+条评价']\n",
      "['Apple iPhone 14 Plus (A2888) 128GB 蓝色 支持移动联通电信5G 双卡双待手机', '6199.00', '20万+条评价']\n",
      "['OPPO 一加 Ace 2 满血版骁龙8+旗舰平台 1.5K灵犀屏 超帧超画引擎 5G游戏电竞手机 冰河蓝 16GB+256GB', '3099.00', '100+条评价']\n",
      "['京品手机\\n华为智选 优畅享50 5000mAh大容量电池 智慧双5G U-Magic 22.5W安全快充 8GB+128GB 月光银 5G全网通', '1099.00', '10万+条评价']\n",
      "['摩托罗拉moto X40 第二代骁龙8 165Hz四曲臻彩屏 IP68防水 125W闪充 护眼黑科技 5G 12GB+256GB 墨晶黑', '3999.00', '2000+条评价']\n",
      "['小米12S 骁龙8+处理器 徕卡光学镜头 疾速影像 120Hz高刷 67W快充 4500mAh 8GB+128GB 白色 5G', '3699.00', '2万+条评价']\n",
      "['三星 SAMSUNG Galaxy S22 超视觉夜拍系统超清夜景 超电影影像系统 超耐用精工设计 8GB+128GB 雾松绿 5G', '3599.00', '5万+条评价']\n",
      "['nubia 努比亚Z50 12GB+256GB 黑礁 第二代骁龙8 144HZ高刷 新35mm定制光学系统5000mAh电池80W快充拍照5G', '3299.00', '1000+条评价']\n",
      "['vivo iQOO Neo7竞速版 12GB+256GB 几何黑 骁龙8+旗舰芯片 独显芯片Pro+ 120W超快闪充 5G电竞', '2999.00', '2万+条评价']\n",
      "['百事乐（LEBEST）K50s超薄便宜智能手机学生价游戏长续航老人老年机大屏百元备用5g移动电信卡远峰蓝128GB', '589.00', '2万+条评价']\n",
      "['荣耀X40 120Hz OLED硬核曲屏 5100mAh 快充大电池 7.9mm轻薄设计 5G手机 6GB+128GB 彩云追月', '1429.00', '2000+条评价']\n",
      "['HUAWEI Mate 50E 直屏旗舰 超光变XMAGE影像 鸿蒙操作系统3.0 超能续航 128GB 冰霜银 华为鸿蒙', '3899.00', '1万+条评价']\n",
      "['Redmi Note 11 5G 天玑810 33W Pro快充 5000mAh大电池 6GB +128GB 浅梦星河 智能 小米 红米', '1046.00', '1万+条评价']\n",
      "['OPPO A55s 8GB+128GB 轻快蓝 双模5G 超大存储 5000mAh超大电池 长续航 后置AI三摄 超清画质 拍照', '1099.00', '20万+条评价']\n",
      "['【爆款热销】Note12Pro 5G 旗舰影像 光学防抖', '1799.00', '10万+条评价']\n",
      "['魅族 18s 8GB+128GB 渡海 5G 骁龙888+ 支持36W超充 6.2英寸2K曲面屏 6400W高清三摄光学防抖 拍照', '2699.00', '2万+条评价']\n",
      "['OPPO k9x 全网通双模5G手机游戏拍照oppo手机oppo k9/k7x升级版oppok9x手机 8+256 银紫超梦', '1249.00', '5000+条评价']\n",
      "['Redmi 10A 5000mAh大电量 1300万AI相机 八核处理器 指纹解锁 4GB+64GB 暗影黑 智能 小米 红米', '699.00', '20万+条评价']\n",
      "['Apple iPhone 14 Pro Max (A2896) 256GB 暗紫色 支持移动联通电信5G 双卡双待手机', '9899.00', '50万+条评价']\n",
      "['荣耀 Magic3 Pro 骁龙888Plus 6.76英寸超曲屏 多主摄计算摄影 66W有线50W无线双超级快充 8GB+256GB 釉白色', '3499.00', '5万+条评价']\n",
      "['三星 SAMSUNG Galaxy S23 Ultra 超视觉夜拍 稳劲性能 大屏S Pen书写 8GB+256GB 悠野绿 5G', '8999.00', '0条评价']\n",
      "['Redmi K60 Pro 第二代骁龙8处理器 2K高光屏 IMX800相机 120W秒充 12GB+256GB 墨羽 小米红米5G', '3899.00', '2万+条评价']\n",
      "['荣耀80 Pro 1.6亿像素超清主摄 骁龙8+旗舰芯片 AI Vlog视频大师 5G手机 12GB+512GB 墨玉青', '4099.00', '2万+条评价']\n",
      "['vivo Y77 8GB+128GB 晶钻粉 旗舰级80W双芯闪充 6nm天玑930 120Hz护眼原色屏 5000万超清影像 5G', '1499.00', '5万+条评价']\n",
      "['Redmi K50 至尊版 骁龙8+旗舰处理器 1亿像素光学防抖 120W+5000mAh 12GB+256GB 雅黑 小米红米K50 Ultra', '3099.00', '20万+条评价']\n",
      "['Redmi K50 天玑8100 2K柔性直屏 OIS光学防抖 67W快充 5500mAh大电量 银迹 8GB+256GB 5G智能 小米红米', '2069.00', '5000+条评价']\n"
     ]
    }
   ],
   "source": [
    "phone_data = []\n",
    "phones_path = web.find_elements(By.XPATH,'//*[@id=\"J_goodsList\"]/ul/li')\n",
    "for phone in phones_path:\n",
    "    title = phone.find_element(By.XPATH,'.//div/div[4]/a/em').text\n",
    "    price = phone.find_element(By.XPATH,'.//div/div[3]/strong/i').text\n",
    "    comment = phone.find_element(By.XPATH,'.//div/div[5]/strong').text\n",
    "    phone_data.append([title,price,comment])\n",
    "for data in phone_data:\n",
    "    print(data)"
   ],
   "metadata": {
    "collapsed": false
   }
  },
  {
   "cell_type": "code",
   "execution_count": 7,
   "outputs": [],
   "source": [
    "import csv\n",
    "#创建存储对象\n",
    "write = csv.writer(open('phone.csv','w',encoding='utf-8'))\n",
    "write.writerow(['title','price','comment'])\n",
    "write.writerows(phone_data)"
   ],
   "metadata": {
    "collapsed": false
   }
  },
  {
   "cell_type": "code",
   "execution_count": 8,
   "outputs": [],
   "source": [
    "import xlwt\n",
    "wb = xlwt.Workbook()\n",
    "sheet = wb.add_sheet('data1')\n",
    "titles = ('title','price','comment')\n",
    "# enumerate 方法将接受数据系列 并将数据系列中的每一个参数分解为两个数据部分\n",
    "# 第一个：本数据再数据系列中的索引位置 第二个：数据本身\n",
    "for index,title in enumerate(titles):\n",
    "    sheet.write(0,index,title)\n",
    "for i,item in enumerate(phone_data):\n",
    "    for j,val in enumerate(item):\n",
    "        sheet.write(i+1,j,val)\n",
    "wb.save('phone_data.xls')"
   ],
   "metadata": {
    "collapsed": false
   }
  }
 ],
 "metadata": {
  "kernelspec": {
   "display_name": "Python 3",
   "language": "python",
   "name": "python3"
  },
  "language_info": {
   "codemirror_mode": {
    "name": "ipython",
    "version": 2
   },
   "file_extension": ".py",
   "mimetype": "text/x-python",
   "name": "python",
   "nbconvert_exporter": "python",
   "pygments_lexer": "ipython2",
   "version": "2.7.6"
  }
 },
 "nbformat": 4,
 "nbformat_minor": 0
}
