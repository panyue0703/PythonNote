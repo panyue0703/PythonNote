{
 "cells": [
  {
   "cell_type": "markdown",
   "metadata": {},
   "source": [
    "### 确定数据分析的目标\n",
    "#### 对电商行业指标进行测算\n",
    "#### RFM模型建立（对用户分层）\n"
   ]
  },
  {
   "cell_type": "code",
   "execution_count": 1,
   "metadata": {},
   "outputs": [],
   "source": [
    "import pandas as pd\n",
    "import numpy as np\n",
    "import matplotlib.pyplot as plt\n"
   ]
  },
  {
   "cell_type": "markdown",
   "metadata": {},
   "source": [
    "1.导入数据\n",
    "2.观测数据\n",
    "3.清洗数据\n",
    "4.指标计算\n",
    "5.数据可视化\n",
    "6.模型建立"
   ]
  },
  {
   "cell_type": "markdown",
   "metadata": {},
   "source": [
    "#### 1.导入数据"
   ]
  },
  {
   "cell_type": "code",
   "execution_count": 2,
   "metadata": {},
   "outputs": [],
   "source": [
    "df = pd.read_excel('./某电商网站订单数据.xlsx',index_col='id')"
   ]
  },
  {
   "cell_type": "code",
   "execution_count": 3,
   "metadata": {},
   "outputs": [
    {
     "data": {
      "text/plain": "                   orderID       userID   goodsID  orderAmount  payment  \\\nid                                                                        \n1       sys-2018-254118088  user-157213  PR000064       272.51   272.51   \n2       sys-2018-263312190  user-191121  PR000583       337.93   337.93   \n3       sys-2018-188208169  user-211918  PR000082       905.68   891.23   \n4       sys-2018-203314910  user-201322  PR000302       786.27   688.88   \n5       sys-2018-283989279  user-120872  PR000290       550.77   542.51   \n...                    ...          ...       ...          ...      ...   \n104553  sys-2020-268392025  user-182189  PR000082       186.37   126.21   \n104554  sys-2020-213140521  user-170057  PR000603       138.81   138.81   \n104555  sys-2020-274536228  user-156592  PR000405      2632.27  2632.27   \n104556  sys-2020-279922239  user-173702  PR000387      1206.76  1029.46   \n104557  sys-2020-250738010  user-164299  PR000525      3053.70  2982.26   \n\n       chanelID platfromType           orderTime             payTime  \\\nid                                                                     \n1       渠道-0396         APP  2018-02-14 12:20:36 2019-02-28 13:38:41   \n2       渠道-0765    Wech atMP 2018-08-14 09:40:34 2019-01-01 14:47:14   \n3       渠道-0530   We c hatMP 2018-11-02 20:17:25 2019-01-19 20:06:35   \n4       渠道-0530         WEB  2018-11-19 10:36:39 2019-08-07 12:24:35   \n5       渠道-9527         APP  2018-12-26 11:19:16 2019-10-01 07:42:43   \n...         ...          ...                 ...                 ...   \n104553  渠道-0568    Wech atMP 2020-01-01 23:30:57 2020-01-01 23:31:09   \n104554  渠道-0007         APP  2020-01-01 23:31:26 2020-01-01 23:31:36   \n104555  渠道-0985    Wech atMP 2020-01-01 23:46:56 2020-01-01 23:47:06   \n104556  渠道-0985         APP  2020-01-01 23:47:01 2020-01-01 23:47:48   \n104557  渠道-0007         APP  2020-01-01 23:48:26 2020-01-01 23:49:44   \n\n       chargeback  \nid                 \n1               否  \n2               是  \n3               否  \n4               否  \n5               否  \n...           ...  \n104553          否  \n104554          否  \n104555          否  \n104556          否  \n104557          否  \n\n[104557 rows x 10 columns]",
      "text/html": "<div>\n<style scoped>\n    .dataframe tbody tr th:only-of-type {\n        vertical-align: middle;\n    }\n\n    .dataframe tbody tr th {\n        vertical-align: top;\n    }\n\n    .dataframe thead th {\n        text-align: right;\n    }\n</style>\n<table border=\"1\" class=\"dataframe\">\n  <thead>\n    <tr style=\"text-align: right;\">\n      <th></th>\n      <th>orderID</th>\n      <th>userID</th>\n      <th>goodsID</th>\n      <th>orderAmount</th>\n      <th>payment</th>\n      <th>chanelID</th>\n      <th>platfromType</th>\n      <th>orderTime</th>\n      <th>payTime</th>\n      <th>chargeback</th>\n    </tr>\n    <tr>\n      <th>id</th>\n      <th></th>\n      <th></th>\n      <th></th>\n      <th></th>\n      <th></th>\n      <th></th>\n      <th></th>\n      <th></th>\n      <th></th>\n      <th></th>\n    </tr>\n  </thead>\n  <tbody>\n    <tr>\n      <th>1</th>\n      <td>sys-2018-254118088</td>\n      <td>user-157213</td>\n      <td>PR000064</td>\n      <td>272.51</td>\n      <td>272.51</td>\n      <td>渠道-0396</td>\n      <td>APP</td>\n      <td>2018-02-14 12:20:36</td>\n      <td>2019-02-28 13:38:41</td>\n      <td>否</td>\n    </tr>\n    <tr>\n      <th>2</th>\n      <td>sys-2018-263312190</td>\n      <td>user-191121</td>\n      <td>PR000583</td>\n      <td>337.93</td>\n      <td>337.93</td>\n      <td>渠道-0765</td>\n      <td>Wech atMP</td>\n      <td>2018-08-14 09:40:34</td>\n      <td>2019-01-01 14:47:14</td>\n      <td>是</td>\n    </tr>\n    <tr>\n      <th>3</th>\n      <td>sys-2018-188208169</td>\n      <td>user-211918</td>\n      <td>PR000082</td>\n      <td>905.68</td>\n      <td>891.23</td>\n      <td>渠道-0530</td>\n      <td>We c hatMP</td>\n      <td>2018-11-02 20:17:25</td>\n      <td>2019-01-19 20:06:35</td>\n      <td>否</td>\n    </tr>\n    <tr>\n      <th>4</th>\n      <td>sys-2018-203314910</td>\n      <td>user-201322</td>\n      <td>PR000302</td>\n      <td>786.27</td>\n      <td>688.88</td>\n      <td>渠道-0530</td>\n      <td>WEB</td>\n      <td>2018-11-19 10:36:39</td>\n      <td>2019-08-07 12:24:35</td>\n      <td>否</td>\n    </tr>\n    <tr>\n      <th>5</th>\n      <td>sys-2018-283989279</td>\n      <td>user-120872</td>\n      <td>PR000290</td>\n      <td>550.77</td>\n      <td>542.51</td>\n      <td>渠道-9527</td>\n      <td>APP</td>\n      <td>2018-12-26 11:19:16</td>\n      <td>2019-10-01 07:42:43</td>\n      <td>否</td>\n    </tr>\n    <tr>\n      <th>...</th>\n      <td>...</td>\n      <td>...</td>\n      <td>...</td>\n      <td>...</td>\n      <td>...</td>\n      <td>...</td>\n      <td>...</td>\n      <td>...</td>\n      <td>...</td>\n      <td>...</td>\n    </tr>\n    <tr>\n      <th>104553</th>\n      <td>sys-2020-268392025</td>\n      <td>user-182189</td>\n      <td>PR000082</td>\n      <td>186.37</td>\n      <td>126.21</td>\n      <td>渠道-0568</td>\n      <td>Wech atMP</td>\n      <td>2020-01-01 23:30:57</td>\n      <td>2020-01-01 23:31:09</td>\n      <td>否</td>\n    </tr>\n    <tr>\n      <th>104554</th>\n      <td>sys-2020-213140521</td>\n      <td>user-170057</td>\n      <td>PR000603</td>\n      <td>138.81</td>\n      <td>138.81</td>\n      <td>渠道-0007</td>\n      <td>APP</td>\n      <td>2020-01-01 23:31:26</td>\n      <td>2020-01-01 23:31:36</td>\n      <td>否</td>\n    </tr>\n    <tr>\n      <th>104555</th>\n      <td>sys-2020-274536228</td>\n      <td>user-156592</td>\n      <td>PR000405</td>\n      <td>2632.27</td>\n      <td>2632.27</td>\n      <td>渠道-0985</td>\n      <td>Wech atMP</td>\n      <td>2020-01-01 23:46:56</td>\n      <td>2020-01-01 23:47:06</td>\n      <td>否</td>\n    </tr>\n    <tr>\n      <th>104556</th>\n      <td>sys-2020-279922239</td>\n      <td>user-173702</td>\n      <td>PR000387</td>\n      <td>1206.76</td>\n      <td>1029.46</td>\n      <td>渠道-0985</td>\n      <td>APP</td>\n      <td>2020-01-01 23:47:01</td>\n      <td>2020-01-01 23:47:48</td>\n      <td>否</td>\n    </tr>\n    <tr>\n      <th>104557</th>\n      <td>sys-2020-250738010</td>\n      <td>user-164299</td>\n      <td>PR000525</td>\n      <td>3053.70</td>\n      <td>2982.26</td>\n      <td>渠道-0007</td>\n      <td>APP</td>\n      <td>2020-01-01 23:48:26</td>\n      <td>2020-01-01 23:49:44</td>\n      <td>否</td>\n    </tr>\n  </tbody>\n</table>\n<p>104557 rows × 10 columns</p>\n</div>"
     },
     "execution_count": 3,
     "metadata": {},
     "output_type": "execute_result"
    }
   ],
   "source": [
    "df"
   ]
  },
  {
   "cell_type": "markdown",
   "metadata": {},
   "source": [
    "#### 2.观测基本信息"
   ]
  },
  {
   "cell_type": "markdown",
   "metadata": {},
   "source": [
    "空值\n",
    "名字错误"
   ]
  },
  {
   "cell_type": "code",
   "execution_count": 4,
   "metadata": {},
   "outputs": [
    {
     "name": "stdout",
     "output_type": "stream",
     "text": [
      "<class 'pandas.core.frame.DataFrame'>\n",
      "Int64Index: 104557 entries, 1 to 104557\n",
      "Data columns (total 10 columns):\n",
      " #   Column        Non-Null Count   Dtype         \n",
      "---  ------        --------------   -----         \n",
      " 0   orderID       104557 non-null  object        \n",
      " 1   userID        104557 non-null  object        \n",
      " 2   goodsID       104557 non-null  object        \n",
      " 3   orderAmount   104557 non-null  float64       \n",
      " 4   payment       104557 non-null  float64       \n",
      " 5   chanelID      104549 non-null  object        \n",
      " 6   platfromType  104557 non-null  object        \n",
      " 7   orderTime     104557 non-null  datetime64[ns]\n",
      " 8   payTime       104557 non-null  datetime64[ns]\n",
      " 9   chargeback    104557 non-null  object        \n",
      "dtypes: datetime64[ns](2), float64(2), object(6)\n",
      "memory usage: 8.8+ MB\n"
     ]
    }
   ],
   "source": [
    "df.info()"
   ]
  },
  {
   "cell_type": "markdown",
   "metadata": {},
   "source": [
    "修改列名"
   ]
  },
  {
   "cell_type": "code",
   "execution_count": 5,
   "metadata": {},
   "outputs": [],
   "source": [
    "df.rename(columns={'chanelID':'channelID','platfromType':'platformType'},inplace=True)"
   ]
  },
  {
   "cell_type": "code",
   "execution_count": 6,
   "metadata": {},
   "outputs": [
    {
     "name": "stdout",
     "output_type": "stream",
     "text": [
      "<class 'pandas.core.frame.DataFrame'>\n",
      "Int64Index: 104557 entries, 1 to 104557\n",
      "Data columns (total 10 columns):\n",
      " #   Column        Non-Null Count   Dtype         \n",
      "---  ------        --------------   -----         \n",
      " 0   orderID       104557 non-null  object        \n",
      " 1   userID        104557 non-null  object        \n",
      " 2   goodsID       104557 non-null  object        \n",
      " 3   orderAmount   104557 non-null  float64       \n",
      " 4   payment       104557 non-null  float64       \n",
      " 5   channelID     104549 non-null  object        \n",
      " 6   platformType  104557 non-null  object        \n",
      " 7   orderTime     104557 non-null  datetime64[ns]\n",
      " 8   payTime       104557 non-null  datetime64[ns]\n",
      " 9   chargeback    104557 non-null  object        \n",
      "dtypes: datetime64[ns](2), float64(2), object(6)\n",
      "memory usage: 8.8+ MB\n"
     ]
    }
   ],
   "source": [
    "df.info()"
   ]
  },
  {
   "cell_type": "markdown",
   "metadata": {},
   "source": [
    "确定分析时间窗口"
   ]
  },
  {
   "cell_type": "markdown",
   "metadata": {},
   "source": [
    "选取2019年数据"
   ]
  },
  {
   "cell_type": "code",
   "execution_count": 7,
   "metadata": {},
   "outputs": [],
   "source": [
    "from datetime import datetime"
   ]
  },
  {
   "cell_type": "code",
   "execution_count": 8,
   "metadata": {},
   "outputs": [],
   "source": [
    "start = datetime(2019,1,1)\n",
    "end = datetime(2019,12,31,23,59,59)"
   ]
  },
  {
   "cell_type": "code",
   "execution_count": 9,
   "metadata": {},
   "outputs": [],
   "source": [
    "df.drop(df[df['orderTime']<start].index,inplace=True)"
   ]
  },
  {
   "cell_type": "code",
   "execution_count": 10,
   "metadata": {},
   "outputs": [
    {
     "data": {
      "text/plain": "                   orderID       userID   goodsID  orderAmount  payment  \\\nid                                                                        \n6       sys-2019-279103297  user-146548  PR000564       425.20   425.20   \n7       sys-2019-316686066  user-104210  PR000709      1764.37  1707.04   \n8       sys-2019-306447069  user-104863  PR000499       499.41   480.42   \n9       sys-2019-290267674  user-206155  PR000253      1103.00  1050.95   \n10      sys-2019-337079027  user-137939  PR000768       465.41   465.41   \n...                    ...          ...       ...          ...      ...   \n104553  sys-2020-268392025  user-182189  PR000082       186.37   126.21   \n104554  sys-2020-213140521  user-170057  PR000603       138.81   138.81   \n104555  sys-2020-274536228  user-156592  PR000405      2632.27  2632.27   \n104556  sys-2020-279922239  user-173702  PR000387      1206.76  1029.46   \n104557  sys-2020-250738010  user-164299  PR000525      3053.70  2982.26   \n\n       channelID platformType           orderTime             payTime  \\\nid                                                                      \n6        渠道-0765    Wech atMP 2019-01-01 00:12:23 2019-01-01 00:13:37   \n7        渠道-0396   We c hatMP 2019-01-01 00:23:06 2019-01-01 00:23:32   \n8        渠道-0007    Wech atMP 2019-01-01 01:05:50 2019-01-01 01:06:17   \n9        渠道-0330         APP  2019-01-01 01:16:12 2019-01-01 01:16:25   \n10       渠道-9527      AL i MP 2019-01-01 01:31:00 2019-01-01 01:31:36   \n...          ...          ...                 ...                 ...   \n104553   渠道-0568    Wech atMP 2020-01-01 23:30:57 2020-01-01 23:31:09   \n104554   渠道-0007         APP  2020-01-01 23:31:26 2020-01-01 23:31:36   \n104555   渠道-0985    Wech atMP 2020-01-01 23:46:56 2020-01-01 23:47:06   \n104556   渠道-0985         APP  2020-01-01 23:47:01 2020-01-01 23:47:48   \n104557   渠道-0007         APP  2020-01-01 23:48:26 2020-01-01 23:49:44   \n\n       chargeback  \nid                 \n6               否  \n7               否  \n8               否  \n9               否  \n10              否  \n...           ...  \n104553          否  \n104554          否  \n104555          否  \n104556          否  \n104557          否  \n\n[104552 rows x 10 columns]",
      "text/html": "<div>\n<style scoped>\n    .dataframe tbody tr th:only-of-type {\n        vertical-align: middle;\n    }\n\n    .dataframe tbody tr th {\n        vertical-align: top;\n    }\n\n    .dataframe thead th {\n        text-align: right;\n    }\n</style>\n<table border=\"1\" class=\"dataframe\">\n  <thead>\n    <tr style=\"text-align: right;\">\n      <th></th>\n      <th>orderID</th>\n      <th>userID</th>\n      <th>goodsID</th>\n      <th>orderAmount</th>\n      <th>payment</th>\n      <th>channelID</th>\n      <th>platformType</th>\n      <th>orderTime</th>\n      <th>payTime</th>\n      <th>chargeback</th>\n    </tr>\n    <tr>\n      <th>id</th>\n      <th></th>\n      <th></th>\n      <th></th>\n      <th></th>\n      <th></th>\n      <th></th>\n      <th></th>\n      <th></th>\n      <th></th>\n      <th></th>\n    </tr>\n  </thead>\n  <tbody>\n    <tr>\n      <th>6</th>\n      <td>sys-2019-279103297</td>\n      <td>user-146548</td>\n      <td>PR000564</td>\n      <td>425.20</td>\n      <td>425.20</td>\n      <td>渠道-0765</td>\n      <td>Wech atMP</td>\n      <td>2019-01-01 00:12:23</td>\n      <td>2019-01-01 00:13:37</td>\n      <td>否</td>\n    </tr>\n    <tr>\n      <th>7</th>\n      <td>sys-2019-316686066</td>\n      <td>user-104210</td>\n      <td>PR000709</td>\n      <td>1764.37</td>\n      <td>1707.04</td>\n      <td>渠道-0396</td>\n      <td>We c hatMP</td>\n      <td>2019-01-01 00:23:06</td>\n      <td>2019-01-01 00:23:32</td>\n      <td>否</td>\n    </tr>\n    <tr>\n      <th>8</th>\n      <td>sys-2019-306447069</td>\n      <td>user-104863</td>\n      <td>PR000499</td>\n      <td>499.41</td>\n      <td>480.42</td>\n      <td>渠道-0007</td>\n      <td>Wech atMP</td>\n      <td>2019-01-01 01:05:50</td>\n      <td>2019-01-01 01:06:17</td>\n      <td>否</td>\n    </tr>\n    <tr>\n      <th>9</th>\n      <td>sys-2019-290267674</td>\n      <td>user-206155</td>\n      <td>PR000253</td>\n      <td>1103.00</td>\n      <td>1050.95</td>\n      <td>渠道-0330</td>\n      <td>APP</td>\n      <td>2019-01-01 01:16:12</td>\n      <td>2019-01-01 01:16:25</td>\n      <td>否</td>\n    </tr>\n    <tr>\n      <th>10</th>\n      <td>sys-2019-337079027</td>\n      <td>user-137939</td>\n      <td>PR000768</td>\n      <td>465.41</td>\n      <td>465.41</td>\n      <td>渠道-9527</td>\n      <td>AL i MP</td>\n      <td>2019-01-01 01:31:00</td>\n      <td>2019-01-01 01:31:36</td>\n      <td>否</td>\n    </tr>\n    <tr>\n      <th>...</th>\n      <td>...</td>\n      <td>...</td>\n      <td>...</td>\n      <td>...</td>\n      <td>...</td>\n      <td>...</td>\n      <td>...</td>\n      <td>...</td>\n      <td>...</td>\n      <td>...</td>\n    </tr>\n    <tr>\n      <th>104553</th>\n      <td>sys-2020-268392025</td>\n      <td>user-182189</td>\n      <td>PR000082</td>\n      <td>186.37</td>\n      <td>126.21</td>\n      <td>渠道-0568</td>\n      <td>Wech atMP</td>\n      <td>2020-01-01 23:30:57</td>\n      <td>2020-01-01 23:31:09</td>\n      <td>否</td>\n    </tr>\n    <tr>\n      <th>104554</th>\n      <td>sys-2020-213140521</td>\n      <td>user-170057</td>\n      <td>PR000603</td>\n      <td>138.81</td>\n      <td>138.81</td>\n      <td>渠道-0007</td>\n      <td>APP</td>\n      <td>2020-01-01 23:31:26</td>\n      <td>2020-01-01 23:31:36</td>\n      <td>否</td>\n    </tr>\n    <tr>\n      <th>104555</th>\n      <td>sys-2020-274536228</td>\n      <td>user-156592</td>\n      <td>PR000405</td>\n      <td>2632.27</td>\n      <td>2632.27</td>\n      <td>渠道-0985</td>\n      <td>Wech atMP</td>\n      <td>2020-01-01 23:46:56</td>\n      <td>2020-01-01 23:47:06</td>\n      <td>否</td>\n    </tr>\n    <tr>\n      <th>104556</th>\n      <td>sys-2020-279922239</td>\n      <td>user-173702</td>\n      <td>PR000387</td>\n      <td>1206.76</td>\n      <td>1029.46</td>\n      <td>渠道-0985</td>\n      <td>APP</td>\n      <td>2020-01-01 23:47:01</td>\n      <td>2020-01-01 23:47:48</td>\n      <td>否</td>\n    </tr>\n    <tr>\n      <th>104557</th>\n      <td>sys-2020-250738010</td>\n      <td>user-164299</td>\n      <td>PR000525</td>\n      <td>3053.70</td>\n      <td>2982.26</td>\n      <td>渠道-0007</td>\n      <td>APP</td>\n      <td>2020-01-01 23:48:26</td>\n      <td>2020-01-01 23:49:44</td>\n      <td>否</td>\n    </tr>\n  </tbody>\n</table>\n<p>104552 rows × 10 columns</p>\n</div>"
     },
     "execution_count": 10,
     "metadata": {},
     "output_type": "execute_result"
    }
   ],
   "source": [
    "df"
   ]
  },
  {
   "cell_type": "code",
   "execution_count": 11,
   "metadata": {},
   "outputs": [],
   "source": [
    "df.drop(df[df['orderTime']>end].index,inplace=True)"
   ]
  },
  {
   "cell_type": "markdown",
   "metadata": {},
   "source": [
    "清洗"
   ]
  },
  {
   "cell_type": "markdown",
   "metadata": {},
   "source": [
    "时间异常值  -->  不符合业务逻辑"
   ]
  },
  {
   "cell_type": "code",
   "execution_count": 12,
   "metadata": {},
   "outputs": [],
   "source": [
    "df.drop(df[df.payTime<df.orderTime].index,inplace=True)"
   ]
  },
  {
   "cell_type": "code",
   "execution_count": 13,
   "metadata": {},
   "outputs": [
    {
     "data": {
      "text/plain": "                   orderID       userID   goodsID  orderAmount  payment  \\\nid                                                                        \n6       sys-2019-279103297  user-146548  PR000564       425.20   425.20   \n7       sys-2019-316686066  user-104210  PR000709      1764.37  1707.04   \n8       sys-2019-306447069  user-104863  PR000499       499.41   480.42   \n9       sys-2019-290267674  user-206155  PR000253      1103.00  1050.95   \n10      sys-2019-337079027  user-137939  PR000768       465.41   465.41   \n...                    ...          ...       ...          ...      ...   \n104297  sys-2019-344079195  user-182248  PR000813       831.29   766.07   \n104298  sys-2019-296195955  user-143322  PR000938      1565.67  1414.89   \n104299  sys-2019-382387725  user-220484  PR000782      3326.83  3273.54   \n104300  sys-2019-303891464  user-285133  PR000096       241.75   241.75   \n104301  sys-2019-291405901  user-298747  PR000369       442.85   339.78   \n\n       channelID platformType           orderTime             payTime  \\\nid                                                                      \n6        渠道-0765    Wech atMP 2019-01-01 00:12:23 2019-01-01 00:13:37   \n7        渠道-0396   We c hatMP 2019-01-01 00:23:06 2019-01-01 00:23:32   \n8        渠道-0007    Wech atMP 2019-01-01 01:05:50 2019-01-01 01:06:17   \n9        渠道-0330         APP  2019-01-01 01:16:12 2019-01-01 01:16:25   \n10       渠道-9527      AL i MP 2019-01-01 01:31:00 2019-01-01 01:31:36   \n...          ...          ...                 ...                 ...   \n104297   渠道-0896   We c hatMP 2019-12-31 23:32:55 2019-12-31 23:33:06   \n104298   渠道-0007         APP  2019-12-31 23:33:05 2019-12-31 23:34:36   \n104299   渠道-0530        WE B  2019-12-31 23:37:30 2019-12-31 23:37:44   \n104300   渠道-0765    Wech atMP 2019-12-31 23:38:43 2019-12-31 23:39:01   \n104301   渠道-0283    Wech atMP 2019-12-31 23:48:34 2019-12-31 23:49:04   \n\n       chargeback  \nid                 \n6               否  \n7               否  \n8               否  \n9               否  \n10              否  \n...           ...  \n104297          否  \n104298          是  \n104299          否  \n104300          是  \n104301          否  \n\n[104291 rows x 10 columns]",
      "text/html": "<div>\n<style scoped>\n    .dataframe tbody tr th:only-of-type {\n        vertical-align: middle;\n    }\n\n    .dataframe tbody tr th {\n        vertical-align: top;\n    }\n\n    .dataframe thead th {\n        text-align: right;\n    }\n</style>\n<table border=\"1\" class=\"dataframe\">\n  <thead>\n    <tr style=\"text-align: right;\">\n      <th></th>\n      <th>orderID</th>\n      <th>userID</th>\n      <th>goodsID</th>\n      <th>orderAmount</th>\n      <th>payment</th>\n      <th>channelID</th>\n      <th>platformType</th>\n      <th>orderTime</th>\n      <th>payTime</th>\n      <th>chargeback</th>\n    </tr>\n    <tr>\n      <th>id</th>\n      <th></th>\n      <th></th>\n      <th></th>\n      <th></th>\n      <th></th>\n      <th></th>\n      <th></th>\n      <th></th>\n      <th></th>\n      <th></th>\n    </tr>\n  </thead>\n  <tbody>\n    <tr>\n      <th>6</th>\n      <td>sys-2019-279103297</td>\n      <td>user-146548</td>\n      <td>PR000564</td>\n      <td>425.20</td>\n      <td>425.20</td>\n      <td>渠道-0765</td>\n      <td>Wech atMP</td>\n      <td>2019-01-01 00:12:23</td>\n      <td>2019-01-01 00:13:37</td>\n      <td>否</td>\n    </tr>\n    <tr>\n      <th>7</th>\n      <td>sys-2019-316686066</td>\n      <td>user-104210</td>\n      <td>PR000709</td>\n      <td>1764.37</td>\n      <td>1707.04</td>\n      <td>渠道-0396</td>\n      <td>We c hatMP</td>\n      <td>2019-01-01 00:23:06</td>\n      <td>2019-01-01 00:23:32</td>\n      <td>否</td>\n    </tr>\n    <tr>\n      <th>8</th>\n      <td>sys-2019-306447069</td>\n      <td>user-104863</td>\n      <td>PR000499</td>\n      <td>499.41</td>\n      <td>480.42</td>\n      <td>渠道-0007</td>\n      <td>Wech atMP</td>\n      <td>2019-01-01 01:05:50</td>\n      <td>2019-01-01 01:06:17</td>\n      <td>否</td>\n    </tr>\n    <tr>\n      <th>9</th>\n      <td>sys-2019-290267674</td>\n      <td>user-206155</td>\n      <td>PR000253</td>\n      <td>1103.00</td>\n      <td>1050.95</td>\n      <td>渠道-0330</td>\n      <td>APP</td>\n      <td>2019-01-01 01:16:12</td>\n      <td>2019-01-01 01:16:25</td>\n      <td>否</td>\n    </tr>\n    <tr>\n      <th>10</th>\n      <td>sys-2019-337079027</td>\n      <td>user-137939</td>\n      <td>PR000768</td>\n      <td>465.41</td>\n      <td>465.41</td>\n      <td>渠道-9527</td>\n      <td>AL i MP</td>\n      <td>2019-01-01 01:31:00</td>\n      <td>2019-01-01 01:31:36</td>\n      <td>否</td>\n    </tr>\n    <tr>\n      <th>...</th>\n      <td>...</td>\n      <td>...</td>\n      <td>...</td>\n      <td>...</td>\n      <td>...</td>\n      <td>...</td>\n      <td>...</td>\n      <td>...</td>\n      <td>...</td>\n      <td>...</td>\n    </tr>\n    <tr>\n      <th>104297</th>\n      <td>sys-2019-344079195</td>\n      <td>user-182248</td>\n      <td>PR000813</td>\n      <td>831.29</td>\n      <td>766.07</td>\n      <td>渠道-0896</td>\n      <td>We c hatMP</td>\n      <td>2019-12-31 23:32:55</td>\n      <td>2019-12-31 23:33:06</td>\n      <td>否</td>\n    </tr>\n    <tr>\n      <th>104298</th>\n      <td>sys-2019-296195955</td>\n      <td>user-143322</td>\n      <td>PR000938</td>\n      <td>1565.67</td>\n      <td>1414.89</td>\n      <td>渠道-0007</td>\n      <td>APP</td>\n      <td>2019-12-31 23:33:05</td>\n      <td>2019-12-31 23:34:36</td>\n      <td>是</td>\n    </tr>\n    <tr>\n      <th>104299</th>\n      <td>sys-2019-382387725</td>\n      <td>user-220484</td>\n      <td>PR000782</td>\n      <td>3326.83</td>\n      <td>3273.54</td>\n      <td>渠道-0530</td>\n      <td>WE B</td>\n      <td>2019-12-31 23:37:30</td>\n      <td>2019-12-31 23:37:44</td>\n      <td>否</td>\n    </tr>\n    <tr>\n      <th>104300</th>\n      <td>sys-2019-303891464</td>\n      <td>user-285133</td>\n      <td>PR000096</td>\n      <td>241.75</td>\n      <td>241.75</td>\n      <td>渠道-0765</td>\n      <td>Wech atMP</td>\n      <td>2019-12-31 23:38:43</td>\n      <td>2019-12-31 23:39:01</td>\n      <td>是</td>\n    </tr>\n    <tr>\n      <th>104301</th>\n      <td>sys-2019-291405901</td>\n      <td>user-298747</td>\n      <td>PR000369</td>\n      <td>442.85</td>\n      <td>339.78</td>\n      <td>渠道-0283</td>\n      <td>Wech atMP</td>\n      <td>2019-12-31 23:48:34</td>\n      <td>2019-12-31 23:49:04</td>\n      <td>否</td>\n    </tr>\n  </tbody>\n</table>\n<p>104291 rows × 10 columns</p>\n</div>"
     },
     "execution_count": 13,
     "metadata": {},
     "output_type": "execute_result"
    }
   ],
   "source": [
    "df"
   ]
  },
  {
   "cell_type": "markdown",
   "metadata": {},
   "source": [
    "删除订单支付时间>半小时的 订单数据"
   ]
  },
  {
   "cell_type": "code",
   "execution_count": 14,
   "metadata": {},
   "outputs": [],
   "source": [
    "delta = df.payTime-df.orderTime"
   ]
  },
  {
   "cell_type": "code",
   "execution_count": 15,
   "metadata": {},
   "outputs": [],
   "source": [
    "df.drop(df[delta.dt.days>0].index,inplace=True)"
   ]
  },
  {
   "cell_type": "code",
   "execution_count": 16,
   "metadata": {},
   "outputs": [
    {
     "data": {
      "text/plain": "                   orderID       userID   goodsID  orderAmount  payment  \\\nid                                                                        \n6       sys-2019-279103297  user-146548  PR000564       425.20   425.20   \n7       sys-2019-316686066  user-104210  PR000709      1764.37  1707.04   \n8       sys-2019-306447069  user-104863  PR000499       499.41   480.42   \n9       sys-2019-290267674  user-206155  PR000253      1103.00  1050.95   \n10      sys-2019-337079027  user-137939  PR000768       465.41   465.41   \n...                    ...          ...       ...          ...      ...   \n104297  sys-2019-344079195  user-182248  PR000813       831.29   766.07   \n104298  sys-2019-296195955  user-143322  PR000938      1565.67  1414.89   \n104299  sys-2019-382387725  user-220484  PR000782      3326.83  3273.54   \n104300  sys-2019-303891464  user-285133  PR000096       241.75   241.75   \n104301  sys-2019-291405901  user-298747  PR000369       442.85   339.78   \n\n       channelID platformType           orderTime             payTime  \\\nid                                                                      \n6        渠道-0765    Wech atMP 2019-01-01 00:12:23 2019-01-01 00:13:37   \n7        渠道-0396   We c hatMP 2019-01-01 00:23:06 2019-01-01 00:23:32   \n8        渠道-0007    Wech atMP 2019-01-01 01:05:50 2019-01-01 01:06:17   \n9        渠道-0330         APP  2019-01-01 01:16:12 2019-01-01 01:16:25   \n10       渠道-9527      AL i MP 2019-01-01 01:31:00 2019-01-01 01:31:36   \n...          ...          ...                 ...                 ...   \n104297   渠道-0896   We c hatMP 2019-12-31 23:32:55 2019-12-31 23:33:06   \n104298   渠道-0007         APP  2019-12-31 23:33:05 2019-12-31 23:34:36   \n104299   渠道-0530        WE B  2019-12-31 23:37:30 2019-12-31 23:37:44   \n104300   渠道-0765    Wech atMP 2019-12-31 23:38:43 2019-12-31 23:39:01   \n104301   渠道-0283    Wech atMP 2019-12-31 23:48:34 2019-12-31 23:49:04   \n\n       chargeback  \nid                 \n6               否  \n7               否  \n8               否  \n9               否  \n10              否  \n...           ...  \n104297          否  \n104298          是  \n104299          否  \n104300          是  \n104301          否  \n\n[104079 rows x 10 columns]",
      "text/html": "<div>\n<style scoped>\n    .dataframe tbody tr th:only-of-type {\n        vertical-align: middle;\n    }\n\n    .dataframe tbody tr th {\n        vertical-align: top;\n    }\n\n    .dataframe thead th {\n        text-align: right;\n    }\n</style>\n<table border=\"1\" class=\"dataframe\">\n  <thead>\n    <tr style=\"text-align: right;\">\n      <th></th>\n      <th>orderID</th>\n      <th>userID</th>\n      <th>goodsID</th>\n      <th>orderAmount</th>\n      <th>payment</th>\n      <th>channelID</th>\n      <th>platformType</th>\n      <th>orderTime</th>\n      <th>payTime</th>\n      <th>chargeback</th>\n    </tr>\n    <tr>\n      <th>id</th>\n      <th></th>\n      <th></th>\n      <th></th>\n      <th></th>\n      <th></th>\n      <th></th>\n      <th></th>\n      <th></th>\n      <th></th>\n      <th></th>\n    </tr>\n  </thead>\n  <tbody>\n    <tr>\n      <th>6</th>\n      <td>sys-2019-279103297</td>\n      <td>user-146548</td>\n      <td>PR000564</td>\n      <td>425.20</td>\n      <td>425.20</td>\n      <td>渠道-0765</td>\n      <td>Wech atMP</td>\n      <td>2019-01-01 00:12:23</td>\n      <td>2019-01-01 00:13:37</td>\n      <td>否</td>\n    </tr>\n    <tr>\n      <th>7</th>\n      <td>sys-2019-316686066</td>\n      <td>user-104210</td>\n      <td>PR000709</td>\n      <td>1764.37</td>\n      <td>1707.04</td>\n      <td>渠道-0396</td>\n      <td>We c hatMP</td>\n      <td>2019-01-01 00:23:06</td>\n      <td>2019-01-01 00:23:32</td>\n      <td>否</td>\n    </tr>\n    <tr>\n      <th>8</th>\n      <td>sys-2019-306447069</td>\n      <td>user-104863</td>\n      <td>PR000499</td>\n      <td>499.41</td>\n      <td>480.42</td>\n      <td>渠道-0007</td>\n      <td>Wech atMP</td>\n      <td>2019-01-01 01:05:50</td>\n      <td>2019-01-01 01:06:17</td>\n      <td>否</td>\n    </tr>\n    <tr>\n      <th>9</th>\n      <td>sys-2019-290267674</td>\n      <td>user-206155</td>\n      <td>PR000253</td>\n      <td>1103.00</td>\n      <td>1050.95</td>\n      <td>渠道-0330</td>\n      <td>APP</td>\n      <td>2019-01-01 01:16:12</td>\n      <td>2019-01-01 01:16:25</td>\n      <td>否</td>\n    </tr>\n    <tr>\n      <th>10</th>\n      <td>sys-2019-337079027</td>\n      <td>user-137939</td>\n      <td>PR000768</td>\n      <td>465.41</td>\n      <td>465.41</td>\n      <td>渠道-9527</td>\n      <td>AL i MP</td>\n      <td>2019-01-01 01:31:00</td>\n      <td>2019-01-01 01:31:36</td>\n      <td>否</td>\n    </tr>\n    <tr>\n      <th>...</th>\n      <td>...</td>\n      <td>...</td>\n      <td>...</td>\n      <td>...</td>\n      <td>...</td>\n      <td>...</td>\n      <td>...</td>\n      <td>...</td>\n      <td>...</td>\n      <td>...</td>\n    </tr>\n    <tr>\n      <th>104297</th>\n      <td>sys-2019-344079195</td>\n      <td>user-182248</td>\n      <td>PR000813</td>\n      <td>831.29</td>\n      <td>766.07</td>\n      <td>渠道-0896</td>\n      <td>We c hatMP</td>\n      <td>2019-12-31 23:32:55</td>\n      <td>2019-12-31 23:33:06</td>\n      <td>否</td>\n    </tr>\n    <tr>\n      <th>104298</th>\n      <td>sys-2019-296195955</td>\n      <td>user-143322</td>\n      <td>PR000938</td>\n      <td>1565.67</td>\n      <td>1414.89</td>\n      <td>渠道-0007</td>\n      <td>APP</td>\n      <td>2019-12-31 23:33:05</td>\n      <td>2019-12-31 23:34:36</td>\n      <td>是</td>\n    </tr>\n    <tr>\n      <th>104299</th>\n      <td>sys-2019-382387725</td>\n      <td>user-220484</td>\n      <td>PR000782</td>\n      <td>3326.83</td>\n      <td>3273.54</td>\n      <td>渠道-0530</td>\n      <td>WE B</td>\n      <td>2019-12-31 23:37:30</td>\n      <td>2019-12-31 23:37:44</td>\n      <td>否</td>\n    </tr>\n    <tr>\n      <th>104300</th>\n      <td>sys-2019-303891464</td>\n      <td>user-285133</td>\n      <td>PR000096</td>\n      <td>241.75</td>\n      <td>241.75</td>\n      <td>渠道-0765</td>\n      <td>Wech atMP</td>\n      <td>2019-12-31 23:38:43</td>\n      <td>2019-12-31 23:39:01</td>\n      <td>是</td>\n    </tr>\n    <tr>\n      <th>104301</th>\n      <td>sys-2019-291405901</td>\n      <td>user-298747</td>\n      <td>PR000369</td>\n      <td>442.85</td>\n      <td>339.78</td>\n      <td>渠道-0283</td>\n      <td>Wech atMP</td>\n      <td>2019-12-31 23:48:34</td>\n      <td>2019-12-31 23:49:04</td>\n      <td>否</td>\n    </tr>\n  </tbody>\n</table>\n<p>104079 rows × 10 columns</p>\n</div>"
     },
     "execution_count": 16,
     "metadata": {},
     "output_type": "execute_result"
    }
   ],
   "source": [
    "df"
   ]
  },
  {
   "cell_type": "code",
   "execution_count": 17,
   "metadata": {},
   "outputs": [
    {
     "name": "stderr",
     "output_type": "stream",
     "text": [
      "E:\\Users\\panyue\\AppData\\Local\\Temp\\ipykernel_23700\\3991069202.py:1: UserWarning: Boolean Series key will be reindexed to match DataFrame index.\n",
      "  df.drop(index=df[delta.dt.seconds>1800].index,inplace=True)\n"
     ]
    }
   ],
   "source": [
    "df.drop(index=df[delta.dt.seconds>1800].index,inplace=True)"
   ]
  },
  {
   "cell_type": "code",
   "execution_count": 18,
   "metadata": {},
   "outputs": [
    {
     "data": {
      "text/plain": "                   orderID       userID   goodsID  orderAmount  payment  \\\nid                                                                        \n6       sys-2019-279103297  user-146548  PR000564       425.20   425.20   \n7       sys-2019-316686066  user-104210  PR000709      1764.37  1707.04   \n8       sys-2019-306447069  user-104863  PR000499       499.41   480.42   \n9       sys-2019-290267674  user-206155  PR000253      1103.00  1050.95   \n10      sys-2019-337079027  user-137939  PR000768       465.41   465.41   \n...                    ...          ...       ...          ...      ...   \n104297  sys-2019-344079195  user-182248  PR000813       831.29   766.07   \n104298  sys-2019-296195955  user-143322  PR000938      1565.67  1414.89   \n104299  sys-2019-382387725  user-220484  PR000782      3326.83  3273.54   \n104300  sys-2019-303891464  user-285133  PR000096       241.75   241.75   \n104301  sys-2019-291405901  user-298747  PR000369       442.85   339.78   \n\n       channelID platformType           orderTime             payTime  \\\nid                                                                      \n6        渠道-0765    Wech atMP 2019-01-01 00:12:23 2019-01-01 00:13:37   \n7        渠道-0396   We c hatMP 2019-01-01 00:23:06 2019-01-01 00:23:32   \n8        渠道-0007    Wech atMP 2019-01-01 01:05:50 2019-01-01 01:06:17   \n9        渠道-0330         APP  2019-01-01 01:16:12 2019-01-01 01:16:25   \n10       渠道-9527      AL i MP 2019-01-01 01:31:00 2019-01-01 01:31:36   \n...          ...          ...                 ...                 ...   \n104297   渠道-0896   We c hatMP 2019-12-31 23:32:55 2019-12-31 23:33:06   \n104298   渠道-0007         APP  2019-12-31 23:33:05 2019-12-31 23:34:36   \n104299   渠道-0530        WE B  2019-12-31 23:37:30 2019-12-31 23:37:44   \n104300   渠道-0765    Wech atMP 2019-12-31 23:38:43 2019-12-31 23:39:01   \n104301   渠道-0283    Wech atMP 2019-12-31 23:48:34 2019-12-31 23:49:04   \n\n       chargeback  \nid                 \n6               否  \n7               否  \n8               否  \n9               否  \n10              否  \n...           ...  \n104297          否  \n104298          是  \n104299          否  \n104300          是  \n104301          否  \n\n[103354 rows x 10 columns]",
      "text/html": "<div>\n<style scoped>\n    .dataframe tbody tr th:only-of-type {\n        vertical-align: middle;\n    }\n\n    .dataframe tbody tr th {\n        vertical-align: top;\n    }\n\n    .dataframe thead th {\n        text-align: right;\n    }\n</style>\n<table border=\"1\" class=\"dataframe\">\n  <thead>\n    <tr style=\"text-align: right;\">\n      <th></th>\n      <th>orderID</th>\n      <th>userID</th>\n      <th>goodsID</th>\n      <th>orderAmount</th>\n      <th>payment</th>\n      <th>channelID</th>\n      <th>platformType</th>\n      <th>orderTime</th>\n      <th>payTime</th>\n      <th>chargeback</th>\n    </tr>\n    <tr>\n      <th>id</th>\n      <th></th>\n      <th></th>\n      <th></th>\n      <th></th>\n      <th></th>\n      <th></th>\n      <th></th>\n      <th></th>\n      <th></th>\n      <th></th>\n    </tr>\n  </thead>\n  <tbody>\n    <tr>\n      <th>6</th>\n      <td>sys-2019-279103297</td>\n      <td>user-146548</td>\n      <td>PR000564</td>\n      <td>425.20</td>\n      <td>425.20</td>\n      <td>渠道-0765</td>\n      <td>Wech atMP</td>\n      <td>2019-01-01 00:12:23</td>\n      <td>2019-01-01 00:13:37</td>\n      <td>否</td>\n    </tr>\n    <tr>\n      <th>7</th>\n      <td>sys-2019-316686066</td>\n      <td>user-104210</td>\n      <td>PR000709</td>\n      <td>1764.37</td>\n      <td>1707.04</td>\n      <td>渠道-0396</td>\n      <td>We c hatMP</td>\n      <td>2019-01-01 00:23:06</td>\n      <td>2019-01-01 00:23:32</td>\n      <td>否</td>\n    </tr>\n    <tr>\n      <th>8</th>\n      <td>sys-2019-306447069</td>\n      <td>user-104863</td>\n      <td>PR000499</td>\n      <td>499.41</td>\n      <td>480.42</td>\n      <td>渠道-0007</td>\n      <td>Wech atMP</td>\n      <td>2019-01-01 01:05:50</td>\n      <td>2019-01-01 01:06:17</td>\n      <td>否</td>\n    </tr>\n    <tr>\n      <th>9</th>\n      <td>sys-2019-290267674</td>\n      <td>user-206155</td>\n      <td>PR000253</td>\n      <td>1103.00</td>\n      <td>1050.95</td>\n      <td>渠道-0330</td>\n      <td>APP</td>\n      <td>2019-01-01 01:16:12</td>\n      <td>2019-01-01 01:16:25</td>\n      <td>否</td>\n    </tr>\n    <tr>\n      <th>10</th>\n      <td>sys-2019-337079027</td>\n      <td>user-137939</td>\n      <td>PR000768</td>\n      <td>465.41</td>\n      <td>465.41</td>\n      <td>渠道-9527</td>\n      <td>AL i MP</td>\n      <td>2019-01-01 01:31:00</td>\n      <td>2019-01-01 01:31:36</td>\n      <td>否</td>\n    </tr>\n    <tr>\n      <th>...</th>\n      <td>...</td>\n      <td>...</td>\n      <td>...</td>\n      <td>...</td>\n      <td>...</td>\n      <td>...</td>\n      <td>...</td>\n      <td>...</td>\n      <td>...</td>\n      <td>...</td>\n    </tr>\n    <tr>\n      <th>104297</th>\n      <td>sys-2019-344079195</td>\n      <td>user-182248</td>\n      <td>PR000813</td>\n      <td>831.29</td>\n      <td>766.07</td>\n      <td>渠道-0896</td>\n      <td>We c hatMP</td>\n      <td>2019-12-31 23:32:55</td>\n      <td>2019-12-31 23:33:06</td>\n      <td>否</td>\n    </tr>\n    <tr>\n      <th>104298</th>\n      <td>sys-2019-296195955</td>\n      <td>user-143322</td>\n      <td>PR000938</td>\n      <td>1565.67</td>\n      <td>1414.89</td>\n      <td>渠道-0007</td>\n      <td>APP</td>\n      <td>2019-12-31 23:33:05</td>\n      <td>2019-12-31 23:34:36</td>\n      <td>是</td>\n    </tr>\n    <tr>\n      <th>104299</th>\n      <td>sys-2019-382387725</td>\n      <td>user-220484</td>\n      <td>PR000782</td>\n      <td>3326.83</td>\n      <td>3273.54</td>\n      <td>渠道-0530</td>\n      <td>WE B</td>\n      <td>2019-12-31 23:37:30</td>\n      <td>2019-12-31 23:37:44</td>\n      <td>否</td>\n    </tr>\n    <tr>\n      <th>104300</th>\n      <td>sys-2019-303891464</td>\n      <td>user-285133</td>\n      <td>PR000096</td>\n      <td>241.75</td>\n      <td>241.75</td>\n      <td>渠道-0765</td>\n      <td>Wech atMP</td>\n      <td>2019-12-31 23:38:43</td>\n      <td>2019-12-31 23:39:01</td>\n      <td>是</td>\n    </tr>\n    <tr>\n      <th>104301</th>\n      <td>sys-2019-291405901</td>\n      <td>user-298747</td>\n      <td>PR000369</td>\n      <td>442.85</td>\n      <td>339.78</td>\n      <td>渠道-0283</td>\n      <td>Wech atMP</td>\n      <td>2019-12-31 23:48:34</td>\n      <td>2019-12-31 23:49:04</td>\n      <td>否</td>\n    </tr>\n  </tbody>\n</table>\n<p>103354 rows × 10 columns</p>\n</div>"
     },
     "execution_count": 18,
     "metadata": {},
     "output_type": "execute_result"
    }
   ],
   "source": [
    "df"
   ]
  },
  {
   "cell_type": "markdown",
   "metadata": {},
   "source": [
    "订单金额&支付金额<0？"
   ]
  },
  {
   "cell_type": "code",
   "execution_count": 19,
   "metadata": {},
   "outputs": [
    {
     "data": {
      "text/plain": "                  orderID       userID   goodsID  orderAmount  payment  \\\nid                                                                       \n999    sys-2019-324068352  user-112962  PR000602       364.08   -12.47   \n18684  sys-2019-311194385  user-110299  PR000797       118.06   -10.08   \n31393  sys-2019-296608442  user-212991  PR000385       112.91   -10.17   \n66573  sys-2019-288096069  user-186966  PR000511       136.99   -12.34   \n72266  sys-2019-316685479  user-189901  PR000554      2287.74   -10.98   \n96939  sys-2019-323229098  user-198083  PR000548       126.92   -11.13   \n\n      channelID platformType           orderTime             payTime  \\\nid                                                                     \n999     渠道-0465    Wech atMP 2019-01-04 10:47:05 2019-01-04 10:47:05   \n18684   渠道-0896         WEB  2019-04-06 11:20:43 2019-04-06 11:21:31   \n31393   渠道-0396         APP  2019-05-24 08:52:04 2019-05-24 08:52:23   \n66573   渠道-0318         APP  2019-09-08 21:32:54 2019-09-08 21:33:10   \n72266   渠道-0765    Wech atMP 2019-09-28 11:57:46 2019-09-28 11:57:46   \n96939   渠道-0318         APP  2019-12-10 14:24:13 2019-12-10 14:24:26   \n\n      chargeback  \nid                \n999            否  \n18684          否  \n31393          否  \n66573          否  \n72266          否  \n96939          是  ",
      "text/html": "<div>\n<style scoped>\n    .dataframe tbody tr th:only-of-type {\n        vertical-align: middle;\n    }\n\n    .dataframe tbody tr th {\n        vertical-align: top;\n    }\n\n    .dataframe thead th {\n        text-align: right;\n    }\n</style>\n<table border=\"1\" class=\"dataframe\">\n  <thead>\n    <tr style=\"text-align: right;\">\n      <th></th>\n      <th>orderID</th>\n      <th>userID</th>\n      <th>goodsID</th>\n      <th>orderAmount</th>\n      <th>payment</th>\n      <th>channelID</th>\n      <th>platformType</th>\n      <th>orderTime</th>\n      <th>payTime</th>\n      <th>chargeback</th>\n    </tr>\n    <tr>\n      <th>id</th>\n      <th></th>\n      <th></th>\n      <th></th>\n      <th></th>\n      <th></th>\n      <th></th>\n      <th></th>\n      <th></th>\n      <th></th>\n      <th></th>\n    </tr>\n  </thead>\n  <tbody>\n    <tr>\n      <th>999</th>\n      <td>sys-2019-324068352</td>\n      <td>user-112962</td>\n      <td>PR000602</td>\n      <td>364.08</td>\n      <td>-12.47</td>\n      <td>渠道-0465</td>\n      <td>Wech atMP</td>\n      <td>2019-01-04 10:47:05</td>\n      <td>2019-01-04 10:47:05</td>\n      <td>否</td>\n    </tr>\n    <tr>\n      <th>18684</th>\n      <td>sys-2019-311194385</td>\n      <td>user-110299</td>\n      <td>PR000797</td>\n      <td>118.06</td>\n      <td>-10.08</td>\n      <td>渠道-0896</td>\n      <td>WEB</td>\n      <td>2019-04-06 11:20:43</td>\n      <td>2019-04-06 11:21:31</td>\n      <td>否</td>\n    </tr>\n    <tr>\n      <th>31393</th>\n      <td>sys-2019-296608442</td>\n      <td>user-212991</td>\n      <td>PR000385</td>\n      <td>112.91</td>\n      <td>-10.17</td>\n      <td>渠道-0396</td>\n      <td>APP</td>\n      <td>2019-05-24 08:52:04</td>\n      <td>2019-05-24 08:52:23</td>\n      <td>否</td>\n    </tr>\n    <tr>\n      <th>66573</th>\n      <td>sys-2019-288096069</td>\n      <td>user-186966</td>\n      <td>PR000511</td>\n      <td>136.99</td>\n      <td>-12.34</td>\n      <td>渠道-0318</td>\n      <td>APP</td>\n      <td>2019-09-08 21:32:54</td>\n      <td>2019-09-08 21:33:10</td>\n      <td>否</td>\n    </tr>\n    <tr>\n      <th>72266</th>\n      <td>sys-2019-316685479</td>\n      <td>user-189901</td>\n      <td>PR000554</td>\n      <td>2287.74</td>\n      <td>-10.98</td>\n      <td>渠道-0765</td>\n      <td>Wech atMP</td>\n      <td>2019-09-28 11:57:46</td>\n      <td>2019-09-28 11:57:46</td>\n      <td>否</td>\n    </tr>\n    <tr>\n      <th>96939</th>\n      <td>sys-2019-323229098</td>\n      <td>user-198083</td>\n      <td>PR000548</td>\n      <td>126.92</td>\n      <td>-11.13</td>\n      <td>渠道-0318</td>\n      <td>APP</td>\n      <td>2019-12-10 14:24:13</td>\n      <td>2019-12-10 14:24:26</td>\n      <td>是</td>\n    </tr>\n  </tbody>\n</table>\n</div>"
     },
     "execution_count": 19,
     "metadata": {},
     "output_type": "execute_result"
    }
   ],
   "source": [
    "df[df.payment<0]"
   ]
  },
  {
   "cell_type": "code",
   "execution_count": 20,
   "metadata": {},
   "outputs": [],
   "source": [
    "df.drop(df[df.payment<0].index,inplace=True)"
   ]
  },
  {
   "cell_type": "code",
   "execution_count": 21,
   "metadata": {},
   "outputs": [
    {
     "data": {
      "text/plain": "                   orderID       userID   goodsID  orderAmount  payment  \\\nid                                                                        \n6       sys-2019-279103297  user-146548  PR000564       425.20   425.20   \n7       sys-2019-316686066  user-104210  PR000709      1764.37  1707.04   \n8       sys-2019-306447069  user-104863  PR000499       499.41   480.42   \n9       sys-2019-290267674  user-206155  PR000253      1103.00  1050.95   \n10      sys-2019-337079027  user-137939  PR000768       465.41   465.41   \n...                    ...          ...       ...          ...      ...   \n104297  sys-2019-344079195  user-182248  PR000813       831.29   766.07   \n104298  sys-2019-296195955  user-143322  PR000938      1565.67  1414.89   \n104299  sys-2019-382387725  user-220484  PR000782      3326.83  3273.54   \n104300  sys-2019-303891464  user-285133  PR000096       241.75   241.75   \n104301  sys-2019-291405901  user-298747  PR000369       442.85   339.78   \n\n       channelID platformType           orderTime             payTime  \\\nid                                                                      \n6        渠道-0765    Wech atMP 2019-01-01 00:12:23 2019-01-01 00:13:37   \n7        渠道-0396   We c hatMP 2019-01-01 00:23:06 2019-01-01 00:23:32   \n8        渠道-0007    Wech atMP 2019-01-01 01:05:50 2019-01-01 01:06:17   \n9        渠道-0330         APP  2019-01-01 01:16:12 2019-01-01 01:16:25   \n10       渠道-9527      AL i MP 2019-01-01 01:31:00 2019-01-01 01:31:36   \n...          ...          ...                 ...                 ...   \n104297   渠道-0896   We c hatMP 2019-12-31 23:32:55 2019-12-31 23:33:06   \n104298   渠道-0007         APP  2019-12-31 23:33:05 2019-12-31 23:34:36   \n104299   渠道-0530        WE B  2019-12-31 23:37:30 2019-12-31 23:37:44   \n104300   渠道-0765    Wech atMP 2019-12-31 23:38:43 2019-12-31 23:39:01   \n104301   渠道-0283    Wech atMP 2019-12-31 23:48:34 2019-12-31 23:49:04   \n\n       chargeback  \nid                 \n6               否  \n7               否  \n8               否  \n9               否  \n10              否  \n...           ...  \n104297          否  \n104298          是  \n104299          否  \n104300          是  \n104301          否  \n\n[103348 rows x 10 columns]",
      "text/html": "<div>\n<style scoped>\n    .dataframe tbody tr th:only-of-type {\n        vertical-align: middle;\n    }\n\n    .dataframe tbody tr th {\n        vertical-align: top;\n    }\n\n    .dataframe thead th {\n        text-align: right;\n    }\n</style>\n<table border=\"1\" class=\"dataframe\">\n  <thead>\n    <tr style=\"text-align: right;\">\n      <th></th>\n      <th>orderID</th>\n      <th>userID</th>\n      <th>goodsID</th>\n      <th>orderAmount</th>\n      <th>payment</th>\n      <th>channelID</th>\n      <th>platformType</th>\n      <th>orderTime</th>\n      <th>payTime</th>\n      <th>chargeback</th>\n    </tr>\n    <tr>\n      <th>id</th>\n      <th></th>\n      <th></th>\n      <th></th>\n      <th></th>\n      <th></th>\n      <th></th>\n      <th></th>\n      <th></th>\n      <th></th>\n      <th></th>\n    </tr>\n  </thead>\n  <tbody>\n    <tr>\n      <th>6</th>\n      <td>sys-2019-279103297</td>\n      <td>user-146548</td>\n      <td>PR000564</td>\n      <td>425.20</td>\n      <td>425.20</td>\n      <td>渠道-0765</td>\n      <td>Wech atMP</td>\n      <td>2019-01-01 00:12:23</td>\n      <td>2019-01-01 00:13:37</td>\n      <td>否</td>\n    </tr>\n    <tr>\n      <th>7</th>\n      <td>sys-2019-316686066</td>\n      <td>user-104210</td>\n      <td>PR000709</td>\n      <td>1764.37</td>\n      <td>1707.04</td>\n      <td>渠道-0396</td>\n      <td>We c hatMP</td>\n      <td>2019-01-01 00:23:06</td>\n      <td>2019-01-01 00:23:32</td>\n      <td>否</td>\n    </tr>\n    <tr>\n      <th>8</th>\n      <td>sys-2019-306447069</td>\n      <td>user-104863</td>\n      <td>PR000499</td>\n      <td>499.41</td>\n      <td>480.42</td>\n      <td>渠道-0007</td>\n      <td>Wech atMP</td>\n      <td>2019-01-01 01:05:50</td>\n      <td>2019-01-01 01:06:17</td>\n      <td>否</td>\n    </tr>\n    <tr>\n      <th>9</th>\n      <td>sys-2019-290267674</td>\n      <td>user-206155</td>\n      <td>PR000253</td>\n      <td>1103.00</td>\n      <td>1050.95</td>\n      <td>渠道-0330</td>\n      <td>APP</td>\n      <td>2019-01-01 01:16:12</td>\n      <td>2019-01-01 01:16:25</td>\n      <td>否</td>\n    </tr>\n    <tr>\n      <th>10</th>\n      <td>sys-2019-337079027</td>\n      <td>user-137939</td>\n      <td>PR000768</td>\n      <td>465.41</td>\n      <td>465.41</td>\n      <td>渠道-9527</td>\n      <td>AL i MP</td>\n      <td>2019-01-01 01:31:00</td>\n      <td>2019-01-01 01:31:36</td>\n      <td>否</td>\n    </tr>\n    <tr>\n      <th>...</th>\n      <td>...</td>\n      <td>...</td>\n      <td>...</td>\n      <td>...</td>\n      <td>...</td>\n      <td>...</td>\n      <td>...</td>\n      <td>...</td>\n      <td>...</td>\n      <td>...</td>\n    </tr>\n    <tr>\n      <th>104297</th>\n      <td>sys-2019-344079195</td>\n      <td>user-182248</td>\n      <td>PR000813</td>\n      <td>831.29</td>\n      <td>766.07</td>\n      <td>渠道-0896</td>\n      <td>We c hatMP</td>\n      <td>2019-12-31 23:32:55</td>\n      <td>2019-12-31 23:33:06</td>\n      <td>否</td>\n    </tr>\n    <tr>\n      <th>104298</th>\n      <td>sys-2019-296195955</td>\n      <td>user-143322</td>\n      <td>PR000938</td>\n      <td>1565.67</td>\n      <td>1414.89</td>\n      <td>渠道-0007</td>\n      <td>APP</td>\n      <td>2019-12-31 23:33:05</td>\n      <td>2019-12-31 23:34:36</td>\n      <td>是</td>\n    </tr>\n    <tr>\n      <th>104299</th>\n      <td>sys-2019-382387725</td>\n      <td>user-220484</td>\n      <td>PR000782</td>\n      <td>3326.83</td>\n      <td>3273.54</td>\n      <td>渠道-0530</td>\n      <td>WE B</td>\n      <td>2019-12-31 23:37:30</td>\n      <td>2019-12-31 23:37:44</td>\n      <td>否</td>\n    </tr>\n    <tr>\n      <th>104300</th>\n      <td>sys-2019-303891464</td>\n      <td>user-285133</td>\n      <td>PR000096</td>\n      <td>241.75</td>\n      <td>241.75</td>\n      <td>渠道-0765</td>\n      <td>Wech atMP</td>\n      <td>2019-12-31 23:38:43</td>\n      <td>2019-12-31 23:39:01</td>\n      <td>是</td>\n    </tr>\n    <tr>\n      <th>104301</th>\n      <td>sys-2019-291405901</td>\n      <td>user-298747</td>\n      <td>PR000369</td>\n      <td>442.85</td>\n      <td>339.78</td>\n      <td>渠道-0283</td>\n      <td>Wech atMP</td>\n      <td>2019-12-31 23:48:34</td>\n      <td>2019-12-31 23:49:04</td>\n      <td>否</td>\n    </tr>\n  </tbody>\n</table>\n<p>103348 rows × 10 columns</p>\n</div>"
     },
     "execution_count": 21,
     "metadata": {},
     "output_type": "execute_result"
    }
   ],
   "source": [
    "df"
   ]
  },
  {
   "cell_type": "markdown",
   "metadata": {},
   "source": [
    "折扣异常\n"
   ]
  },
  {
   "cell_type": "code",
   "execution_count": 22,
   "metadata": {},
   "outputs": [],
   "source": [
    "df['discount'] = df.payment/df.orderAmount"
   ]
  },
  {
   "cell_type": "code",
   "execution_count": 23,
   "metadata": {},
   "outputs": [
    {
     "data": {
      "text/plain": "                   orderID       userID   goodsID  orderAmount  payment  \\\nid                                                                        \n6       sys-2019-279103297  user-146548  PR000564       425.20   425.20   \n7       sys-2019-316686066  user-104210  PR000709      1764.37  1707.04   \n8       sys-2019-306447069  user-104863  PR000499       499.41   480.42   \n9       sys-2019-290267674  user-206155  PR000253      1103.00  1050.95   \n10      sys-2019-337079027  user-137939  PR000768       465.41   465.41   \n...                    ...          ...       ...          ...      ...   \n104297  sys-2019-344079195  user-182248  PR000813       831.29   766.07   \n104298  sys-2019-296195955  user-143322  PR000938      1565.67  1414.89   \n104299  sys-2019-382387725  user-220484  PR000782      3326.83  3273.54   \n104300  sys-2019-303891464  user-285133  PR000096       241.75   241.75   \n104301  sys-2019-291405901  user-298747  PR000369       442.85   339.78   \n\n       channelID platformType           orderTime             payTime  \\\nid                                                                      \n6        渠道-0765    Wech atMP 2019-01-01 00:12:23 2019-01-01 00:13:37   \n7        渠道-0396   We c hatMP 2019-01-01 00:23:06 2019-01-01 00:23:32   \n8        渠道-0007    Wech atMP 2019-01-01 01:05:50 2019-01-01 01:06:17   \n9        渠道-0330         APP  2019-01-01 01:16:12 2019-01-01 01:16:25   \n10       渠道-9527      AL i MP 2019-01-01 01:31:00 2019-01-01 01:31:36   \n...          ...          ...                 ...                 ...   \n104297   渠道-0896   We c hatMP 2019-12-31 23:32:55 2019-12-31 23:33:06   \n104298   渠道-0007         APP  2019-12-31 23:33:05 2019-12-31 23:34:36   \n104299   渠道-0530        WE B  2019-12-31 23:37:30 2019-12-31 23:37:44   \n104300   渠道-0765    Wech atMP 2019-12-31 23:38:43 2019-12-31 23:39:01   \n104301   渠道-0283    Wech atMP 2019-12-31 23:48:34 2019-12-31 23:49:04   \n\n       chargeback  discount  \nid                           \n6               否  1.000000  \n7               否  0.967507  \n8               否  0.961975  \n9               否  0.952811  \n10              否  1.000000  \n...           ...       ...  \n104297          否  0.921544  \n104298          是  0.903696  \n104299          否  0.983982  \n104300          是  1.000000  \n104301          否  0.767258  \n\n[103348 rows x 11 columns]",
      "text/html": "<div>\n<style scoped>\n    .dataframe tbody tr th:only-of-type {\n        vertical-align: middle;\n    }\n\n    .dataframe tbody tr th {\n        vertical-align: top;\n    }\n\n    .dataframe thead th {\n        text-align: right;\n    }\n</style>\n<table border=\"1\" class=\"dataframe\">\n  <thead>\n    <tr style=\"text-align: right;\">\n      <th></th>\n      <th>orderID</th>\n      <th>userID</th>\n      <th>goodsID</th>\n      <th>orderAmount</th>\n      <th>payment</th>\n      <th>channelID</th>\n      <th>platformType</th>\n      <th>orderTime</th>\n      <th>payTime</th>\n      <th>chargeback</th>\n      <th>discount</th>\n    </tr>\n    <tr>\n      <th>id</th>\n      <th></th>\n      <th></th>\n      <th></th>\n      <th></th>\n      <th></th>\n      <th></th>\n      <th></th>\n      <th></th>\n      <th></th>\n      <th></th>\n      <th></th>\n    </tr>\n  </thead>\n  <tbody>\n    <tr>\n      <th>6</th>\n      <td>sys-2019-279103297</td>\n      <td>user-146548</td>\n      <td>PR000564</td>\n      <td>425.20</td>\n      <td>425.20</td>\n      <td>渠道-0765</td>\n      <td>Wech atMP</td>\n      <td>2019-01-01 00:12:23</td>\n      <td>2019-01-01 00:13:37</td>\n      <td>否</td>\n      <td>1.000000</td>\n    </tr>\n    <tr>\n      <th>7</th>\n      <td>sys-2019-316686066</td>\n      <td>user-104210</td>\n      <td>PR000709</td>\n      <td>1764.37</td>\n      <td>1707.04</td>\n      <td>渠道-0396</td>\n      <td>We c hatMP</td>\n      <td>2019-01-01 00:23:06</td>\n      <td>2019-01-01 00:23:32</td>\n      <td>否</td>\n      <td>0.967507</td>\n    </tr>\n    <tr>\n      <th>8</th>\n      <td>sys-2019-306447069</td>\n      <td>user-104863</td>\n      <td>PR000499</td>\n      <td>499.41</td>\n      <td>480.42</td>\n      <td>渠道-0007</td>\n      <td>Wech atMP</td>\n      <td>2019-01-01 01:05:50</td>\n      <td>2019-01-01 01:06:17</td>\n      <td>否</td>\n      <td>0.961975</td>\n    </tr>\n    <tr>\n      <th>9</th>\n      <td>sys-2019-290267674</td>\n      <td>user-206155</td>\n      <td>PR000253</td>\n      <td>1103.00</td>\n      <td>1050.95</td>\n      <td>渠道-0330</td>\n      <td>APP</td>\n      <td>2019-01-01 01:16:12</td>\n      <td>2019-01-01 01:16:25</td>\n      <td>否</td>\n      <td>0.952811</td>\n    </tr>\n    <tr>\n      <th>10</th>\n      <td>sys-2019-337079027</td>\n      <td>user-137939</td>\n      <td>PR000768</td>\n      <td>465.41</td>\n      <td>465.41</td>\n      <td>渠道-9527</td>\n      <td>AL i MP</td>\n      <td>2019-01-01 01:31:00</td>\n      <td>2019-01-01 01:31:36</td>\n      <td>否</td>\n      <td>1.000000</td>\n    </tr>\n    <tr>\n      <th>...</th>\n      <td>...</td>\n      <td>...</td>\n      <td>...</td>\n      <td>...</td>\n      <td>...</td>\n      <td>...</td>\n      <td>...</td>\n      <td>...</td>\n      <td>...</td>\n      <td>...</td>\n      <td>...</td>\n    </tr>\n    <tr>\n      <th>104297</th>\n      <td>sys-2019-344079195</td>\n      <td>user-182248</td>\n      <td>PR000813</td>\n      <td>831.29</td>\n      <td>766.07</td>\n      <td>渠道-0896</td>\n      <td>We c hatMP</td>\n      <td>2019-12-31 23:32:55</td>\n      <td>2019-12-31 23:33:06</td>\n      <td>否</td>\n      <td>0.921544</td>\n    </tr>\n    <tr>\n      <th>104298</th>\n      <td>sys-2019-296195955</td>\n      <td>user-143322</td>\n      <td>PR000938</td>\n      <td>1565.67</td>\n      <td>1414.89</td>\n      <td>渠道-0007</td>\n      <td>APP</td>\n      <td>2019-12-31 23:33:05</td>\n      <td>2019-12-31 23:34:36</td>\n      <td>是</td>\n      <td>0.903696</td>\n    </tr>\n    <tr>\n      <th>104299</th>\n      <td>sys-2019-382387725</td>\n      <td>user-220484</td>\n      <td>PR000782</td>\n      <td>3326.83</td>\n      <td>3273.54</td>\n      <td>渠道-0530</td>\n      <td>WE B</td>\n      <td>2019-12-31 23:37:30</td>\n      <td>2019-12-31 23:37:44</td>\n      <td>否</td>\n      <td>0.983982</td>\n    </tr>\n    <tr>\n      <th>104300</th>\n      <td>sys-2019-303891464</td>\n      <td>user-285133</td>\n      <td>PR000096</td>\n      <td>241.75</td>\n      <td>241.75</td>\n      <td>渠道-0765</td>\n      <td>Wech atMP</td>\n      <td>2019-12-31 23:38:43</td>\n      <td>2019-12-31 23:39:01</td>\n      <td>是</td>\n      <td>1.000000</td>\n    </tr>\n    <tr>\n      <th>104301</th>\n      <td>sys-2019-291405901</td>\n      <td>user-298747</td>\n      <td>PR000369</td>\n      <td>442.85</td>\n      <td>339.78</td>\n      <td>渠道-0283</td>\n      <td>Wech atMP</td>\n      <td>2019-12-31 23:48:34</td>\n      <td>2019-12-31 23:49:04</td>\n      <td>否</td>\n      <td>0.767258</td>\n    </tr>\n  </tbody>\n</table>\n<p>103348 rows × 11 columns</p>\n</div>"
     },
     "execution_count": 23,
     "metadata": {},
     "output_type": "execute_result"
    }
   ],
   "source": [
    "df"
   ]
  },
  {
   "cell_type": "code",
   "execution_count": 24,
   "metadata": {},
   "outputs": [
    {
     "data": {
      "text/plain": "                   orderID       userID   goodsID  orderAmount       payment  \\\nid                                                                             \n16      sys-2019-322802617  user-125220  PR000812       430.69   4223.476684   \n46      sys-2019-321496315  user-283798  PR000520      1052.36   9449.242956   \n66      sys-2019-355823490  user-258709  PR000927       358.94   3580.284755   \n69      sys-2019-277578024  user-223627  PR000830      2331.25  22486.795449   \n148     sys-2019-355060894  user-214122  PR000826       205.78   2044.275720   \n...                    ...          ...       ...          ...           ...   \n104163  sys-2019-378227947  user-241360  PR000581       463.15   4629.168060   \n104166  sys-2019-283219085  user-153512  PR000363      1651.02  16282.360600   \n104208  sys-2019-318820358  user-170535  PR000739       287.35   2410.784113   \n104236  sys-2019-248825327  user-141211  PR000706      2610.80  25678.199921   \n104284  sys-2019-305040124  user-196066  PR000787      4852.45  47177.359814   \n\n       channelID platformType           orderTime             payTime  \\\nid                                                                      \n16       渠道-0530    Wech atMP 2019-01-01 07:59:45 2019-01-01 07:59:59   \n46       渠道-0896         APP  2019-01-01 11:23:03 2019-01-01 11:23:17   \n66       渠道-9527        AP P  2019-01-01 12:31:55 2019-01-01 12:32:23   \n69       渠道-0530        AP P  2019-01-01 12:37:41 2019-01-01 12:38:20   \n148      渠道-0007         APP  2019-01-01 14:44:49 2019-01-01 14:45:21   \n...          ...          ...                 ...                 ...   \n104163   渠道-9527         APP  2019-12-31 14:32:32 2019-12-31 14:32:46   \n104166   渠道-0465         APP  2019-12-31 14:45:13 2019-12-31 14:45:36   \n104208   渠道-0896         APP  2019-12-31 17:54:15 2019-12-31 17:54:32   \n104236   渠道-9527         APP  2019-12-31 19:49:02 2019-12-31 19:49:15   \n104284   渠道-0896    Wech atMP 2019-12-31 22:32:07 2019-12-31 22:32:33   \n\n       chargeback  discount  \nid                           \n16              否  9.806303  \n46              否  8.979097  \n66              否  9.974605  \n69              否  9.645810  \n148             是  9.934278  \n...           ...       ...  \n104163          否  9.994965  \n104166          否  9.862001  \n104208          是  8.389713  \n104236          否  9.835376  \n104284          是  9.722379  \n\n[2009 rows x 11 columns]",
      "text/html": "<div>\n<style scoped>\n    .dataframe tbody tr th:only-of-type {\n        vertical-align: middle;\n    }\n\n    .dataframe tbody tr th {\n        vertical-align: top;\n    }\n\n    .dataframe thead th {\n        text-align: right;\n    }\n</style>\n<table border=\"1\" class=\"dataframe\">\n  <thead>\n    <tr style=\"text-align: right;\">\n      <th></th>\n      <th>orderID</th>\n      <th>userID</th>\n      <th>goodsID</th>\n      <th>orderAmount</th>\n      <th>payment</th>\n      <th>channelID</th>\n      <th>platformType</th>\n      <th>orderTime</th>\n      <th>payTime</th>\n      <th>chargeback</th>\n      <th>discount</th>\n    </tr>\n    <tr>\n      <th>id</th>\n      <th></th>\n      <th></th>\n      <th></th>\n      <th></th>\n      <th></th>\n      <th></th>\n      <th></th>\n      <th></th>\n      <th></th>\n      <th></th>\n      <th></th>\n    </tr>\n  </thead>\n  <tbody>\n    <tr>\n      <th>16</th>\n      <td>sys-2019-322802617</td>\n      <td>user-125220</td>\n      <td>PR000812</td>\n      <td>430.69</td>\n      <td>4223.476684</td>\n      <td>渠道-0530</td>\n      <td>Wech atMP</td>\n      <td>2019-01-01 07:59:45</td>\n      <td>2019-01-01 07:59:59</td>\n      <td>否</td>\n      <td>9.806303</td>\n    </tr>\n    <tr>\n      <th>46</th>\n      <td>sys-2019-321496315</td>\n      <td>user-283798</td>\n      <td>PR000520</td>\n      <td>1052.36</td>\n      <td>9449.242956</td>\n      <td>渠道-0896</td>\n      <td>APP</td>\n      <td>2019-01-01 11:23:03</td>\n      <td>2019-01-01 11:23:17</td>\n      <td>否</td>\n      <td>8.979097</td>\n    </tr>\n    <tr>\n      <th>66</th>\n      <td>sys-2019-355823490</td>\n      <td>user-258709</td>\n      <td>PR000927</td>\n      <td>358.94</td>\n      <td>3580.284755</td>\n      <td>渠道-9527</td>\n      <td>AP P</td>\n      <td>2019-01-01 12:31:55</td>\n      <td>2019-01-01 12:32:23</td>\n      <td>否</td>\n      <td>9.974605</td>\n    </tr>\n    <tr>\n      <th>69</th>\n      <td>sys-2019-277578024</td>\n      <td>user-223627</td>\n      <td>PR000830</td>\n      <td>2331.25</td>\n      <td>22486.795449</td>\n      <td>渠道-0530</td>\n      <td>AP P</td>\n      <td>2019-01-01 12:37:41</td>\n      <td>2019-01-01 12:38:20</td>\n      <td>否</td>\n      <td>9.645810</td>\n    </tr>\n    <tr>\n      <th>148</th>\n      <td>sys-2019-355060894</td>\n      <td>user-214122</td>\n      <td>PR000826</td>\n      <td>205.78</td>\n      <td>2044.275720</td>\n      <td>渠道-0007</td>\n      <td>APP</td>\n      <td>2019-01-01 14:44:49</td>\n      <td>2019-01-01 14:45:21</td>\n      <td>是</td>\n      <td>9.934278</td>\n    </tr>\n    <tr>\n      <th>...</th>\n      <td>...</td>\n      <td>...</td>\n      <td>...</td>\n      <td>...</td>\n      <td>...</td>\n      <td>...</td>\n      <td>...</td>\n      <td>...</td>\n      <td>...</td>\n      <td>...</td>\n      <td>...</td>\n    </tr>\n    <tr>\n      <th>104163</th>\n      <td>sys-2019-378227947</td>\n      <td>user-241360</td>\n      <td>PR000581</td>\n      <td>463.15</td>\n      <td>4629.168060</td>\n      <td>渠道-9527</td>\n      <td>APP</td>\n      <td>2019-12-31 14:32:32</td>\n      <td>2019-12-31 14:32:46</td>\n      <td>否</td>\n      <td>9.994965</td>\n    </tr>\n    <tr>\n      <th>104166</th>\n      <td>sys-2019-283219085</td>\n      <td>user-153512</td>\n      <td>PR000363</td>\n      <td>1651.02</td>\n      <td>16282.360600</td>\n      <td>渠道-0465</td>\n      <td>APP</td>\n      <td>2019-12-31 14:45:13</td>\n      <td>2019-12-31 14:45:36</td>\n      <td>否</td>\n      <td>9.862001</td>\n    </tr>\n    <tr>\n      <th>104208</th>\n      <td>sys-2019-318820358</td>\n      <td>user-170535</td>\n      <td>PR000739</td>\n      <td>287.35</td>\n      <td>2410.784113</td>\n      <td>渠道-0896</td>\n      <td>APP</td>\n      <td>2019-12-31 17:54:15</td>\n      <td>2019-12-31 17:54:32</td>\n      <td>是</td>\n      <td>8.389713</td>\n    </tr>\n    <tr>\n      <th>104236</th>\n      <td>sys-2019-248825327</td>\n      <td>user-141211</td>\n      <td>PR000706</td>\n      <td>2610.80</td>\n      <td>25678.199921</td>\n      <td>渠道-9527</td>\n      <td>APP</td>\n      <td>2019-12-31 19:49:02</td>\n      <td>2019-12-31 19:49:15</td>\n      <td>否</td>\n      <td>9.835376</td>\n    </tr>\n    <tr>\n      <th>104284</th>\n      <td>sys-2019-305040124</td>\n      <td>user-196066</td>\n      <td>PR000787</td>\n      <td>4852.45</td>\n      <td>47177.359814</td>\n      <td>渠道-0896</td>\n      <td>Wech atMP</td>\n      <td>2019-12-31 22:32:07</td>\n      <td>2019-12-31 22:32:33</td>\n      <td>是</td>\n      <td>9.722379</td>\n    </tr>\n  </tbody>\n</table>\n<p>2009 rows × 11 columns</p>\n</div>"
     },
     "execution_count": 24,
     "metadata": {},
     "output_type": "execute_result"
    }
   ],
   "source": [
    "df[df.discount>1]"
   ]
  },
  {
   "cell_type": "markdown",
   "metadata": {},
   "source": [
    "数据太多不可能删 --> 找个折扣"
   ]
  },
  {
   "cell_type": "code",
   "execution_count": 25,
   "metadata": {},
   "outputs": [],
   "source": [
    "# 平均折扣\n",
    "mean_discount = df[df.discount<=1].discount.mean()"
   ]
  },
  {
   "cell_type": "code",
   "execution_count": 26,
   "metadata": {},
   "outputs": [
    {
     "data": {
      "text/plain": "0.9179310544305944"
     },
     "execution_count": 26,
     "metadata": {},
     "output_type": "execute_result"
    }
   ],
   "source": [
    "mean_discount"
   ]
  },
  {
   "cell_type": "code",
   "execution_count": 27,
   "metadata": {},
   "outputs": [],
   "source": [
    "# 如果支付价格被超级加倍了 就改成平均折扣后的价格\n",
    "df.discount = df.discount.apply(lambda x:mean_discount if x>1 else x)"
   ]
  },
  {
   "cell_type": "code",
   "execution_count": 28,
   "metadata": {},
   "outputs": [],
   "source": [
    "df.payment = df.orderAmount * df.discount"
   ]
  },
  {
   "cell_type": "markdown",
   "metadata": {},
   "source": [
    "空值  渠道ID  --> 众数"
   ]
  },
  {
   "cell_type": "code",
   "execution_count": 29,
   "metadata": {},
   "outputs": [],
   "source": [
    "df.fillna(df.channelID.mode()[0],inplace=True)"
   ]
  },
  {
   "cell_type": "code",
   "execution_count": 30,
   "metadata": {},
   "outputs": [
    {
     "name": "stdout",
     "output_type": "stream",
     "text": [
      "<class 'pandas.core.frame.DataFrame'>\n",
      "Int64Index: 103348 entries, 6 to 104301\n",
      "Data columns (total 11 columns):\n",
      " #   Column        Non-Null Count   Dtype         \n",
      "---  ------        --------------   -----         \n",
      " 0   orderID       103348 non-null  object        \n",
      " 1   userID        103348 non-null  object        \n",
      " 2   goodsID       103348 non-null  object        \n",
      " 3   orderAmount   103348 non-null  float64       \n",
      " 4   payment       103348 non-null  float64       \n",
      " 5   channelID     103348 non-null  object        \n",
      " 6   platformType  103348 non-null  object        \n",
      " 7   orderTime     103348 non-null  datetime64[ns]\n",
      " 8   payTime       103348 non-null  datetime64[ns]\n",
      " 9   chargeback    103348 non-null  object        \n",
      " 10  discount      103348 non-null  float64       \n",
      "dtypes: datetime64[ns](2), float64(3), object(6)\n",
      "memory usage: 9.5+ MB\n"
     ]
    }
   ],
   "source": [
    "df.info()"
   ]
  },
  {
   "cell_type": "markdown",
   "metadata": {},
   "source": [
    "平台类型 --> 格式不统一 字符串中的空格 / 大小写不统一"
   ]
  },
  {
   "cell_type": "code",
   "execution_count": 31,
   "metadata": {},
   "outputs": [],
   "source": [
    "df.platformType = df.platformType.str.replace(r'\\s',\"\",regex=True).str.lower()"
   ]
  },
  {
   "cell_type": "code",
   "execution_count": 32,
   "metadata": {},
   "outputs": [
    {
     "data": {
      "text/plain": "                   orderID       userID   goodsID  orderAmount  payment  \\\nid                                                                        \n6       sys-2019-279103297  user-146548  PR000564       425.20   425.20   \n7       sys-2019-316686066  user-104210  PR000709      1764.37  1707.04   \n8       sys-2019-306447069  user-104863  PR000499       499.41   480.42   \n9       sys-2019-290267674  user-206155  PR000253      1103.00  1050.95   \n10      sys-2019-337079027  user-137939  PR000768       465.41   465.41   \n...                    ...          ...       ...          ...      ...   \n104297  sys-2019-344079195  user-182248  PR000813       831.29   766.07   \n104298  sys-2019-296195955  user-143322  PR000938      1565.67  1414.89   \n104299  sys-2019-382387725  user-220484  PR000782      3326.83  3273.54   \n104300  sys-2019-303891464  user-285133  PR000096       241.75   241.75   \n104301  sys-2019-291405901  user-298747  PR000369       442.85   339.78   \n\n       channelID platformType           orderTime             payTime  \\\nid                                                                      \n6        渠道-0765     wechatmp 2019-01-01 00:12:23 2019-01-01 00:13:37   \n7        渠道-0396     wechatmp 2019-01-01 00:23:06 2019-01-01 00:23:32   \n8        渠道-0007     wechatmp 2019-01-01 01:05:50 2019-01-01 01:06:17   \n9        渠道-0330          app 2019-01-01 01:16:12 2019-01-01 01:16:25   \n10       渠道-9527        alimp 2019-01-01 01:31:00 2019-01-01 01:31:36   \n...          ...          ...                 ...                 ...   \n104297   渠道-0896     wechatmp 2019-12-31 23:32:55 2019-12-31 23:33:06   \n104298   渠道-0007          app 2019-12-31 23:33:05 2019-12-31 23:34:36   \n104299   渠道-0530          web 2019-12-31 23:37:30 2019-12-31 23:37:44   \n104300   渠道-0765     wechatmp 2019-12-31 23:38:43 2019-12-31 23:39:01   \n104301   渠道-0283     wechatmp 2019-12-31 23:48:34 2019-12-31 23:49:04   \n\n       chargeback  discount  \nid                           \n6               否  1.000000  \n7               否  0.967507  \n8               否  0.961975  \n9               否  0.952811  \n10              否  1.000000  \n...           ...       ...  \n104297          否  0.921544  \n104298          是  0.903696  \n104299          否  0.983982  \n104300          是  1.000000  \n104301          否  0.767258  \n\n[103348 rows x 11 columns]",
      "text/html": "<div>\n<style scoped>\n    .dataframe tbody tr th:only-of-type {\n        vertical-align: middle;\n    }\n\n    .dataframe tbody tr th {\n        vertical-align: top;\n    }\n\n    .dataframe thead th {\n        text-align: right;\n    }\n</style>\n<table border=\"1\" class=\"dataframe\">\n  <thead>\n    <tr style=\"text-align: right;\">\n      <th></th>\n      <th>orderID</th>\n      <th>userID</th>\n      <th>goodsID</th>\n      <th>orderAmount</th>\n      <th>payment</th>\n      <th>channelID</th>\n      <th>platformType</th>\n      <th>orderTime</th>\n      <th>payTime</th>\n      <th>chargeback</th>\n      <th>discount</th>\n    </tr>\n    <tr>\n      <th>id</th>\n      <th></th>\n      <th></th>\n      <th></th>\n      <th></th>\n      <th></th>\n      <th></th>\n      <th></th>\n      <th></th>\n      <th></th>\n      <th></th>\n      <th></th>\n    </tr>\n  </thead>\n  <tbody>\n    <tr>\n      <th>6</th>\n      <td>sys-2019-279103297</td>\n      <td>user-146548</td>\n      <td>PR000564</td>\n      <td>425.20</td>\n      <td>425.20</td>\n      <td>渠道-0765</td>\n      <td>wechatmp</td>\n      <td>2019-01-01 00:12:23</td>\n      <td>2019-01-01 00:13:37</td>\n      <td>否</td>\n      <td>1.000000</td>\n    </tr>\n    <tr>\n      <th>7</th>\n      <td>sys-2019-316686066</td>\n      <td>user-104210</td>\n      <td>PR000709</td>\n      <td>1764.37</td>\n      <td>1707.04</td>\n      <td>渠道-0396</td>\n      <td>wechatmp</td>\n      <td>2019-01-01 00:23:06</td>\n      <td>2019-01-01 00:23:32</td>\n      <td>否</td>\n      <td>0.967507</td>\n    </tr>\n    <tr>\n      <th>8</th>\n      <td>sys-2019-306447069</td>\n      <td>user-104863</td>\n      <td>PR000499</td>\n      <td>499.41</td>\n      <td>480.42</td>\n      <td>渠道-0007</td>\n      <td>wechatmp</td>\n      <td>2019-01-01 01:05:50</td>\n      <td>2019-01-01 01:06:17</td>\n      <td>否</td>\n      <td>0.961975</td>\n    </tr>\n    <tr>\n      <th>9</th>\n      <td>sys-2019-290267674</td>\n      <td>user-206155</td>\n      <td>PR000253</td>\n      <td>1103.00</td>\n      <td>1050.95</td>\n      <td>渠道-0330</td>\n      <td>app</td>\n      <td>2019-01-01 01:16:12</td>\n      <td>2019-01-01 01:16:25</td>\n      <td>否</td>\n      <td>0.952811</td>\n    </tr>\n    <tr>\n      <th>10</th>\n      <td>sys-2019-337079027</td>\n      <td>user-137939</td>\n      <td>PR000768</td>\n      <td>465.41</td>\n      <td>465.41</td>\n      <td>渠道-9527</td>\n      <td>alimp</td>\n      <td>2019-01-01 01:31:00</td>\n      <td>2019-01-01 01:31:36</td>\n      <td>否</td>\n      <td>1.000000</td>\n    </tr>\n    <tr>\n      <th>...</th>\n      <td>...</td>\n      <td>...</td>\n      <td>...</td>\n      <td>...</td>\n      <td>...</td>\n      <td>...</td>\n      <td>...</td>\n      <td>...</td>\n      <td>...</td>\n      <td>...</td>\n      <td>...</td>\n    </tr>\n    <tr>\n      <th>104297</th>\n      <td>sys-2019-344079195</td>\n      <td>user-182248</td>\n      <td>PR000813</td>\n      <td>831.29</td>\n      <td>766.07</td>\n      <td>渠道-0896</td>\n      <td>wechatmp</td>\n      <td>2019-12-31 23:32:55</td>\n      <td>2019-12-31 23:33:06</td>\n      <td>否</td>\n      <td>0.921544</td>\n    </tr>\n    <tr>\n      <th>104298</th>\n      <td>sys-2019-296195955</td>\n      <td>user-143322</td>\n      <td>PR000938</td>\n      <td>1565.67</td>\n      <td>1414.89</td>\n      <td>渠道-0007</td>\n      <td>app</td>\n      <td>2019-12-31 23:33:05</td>\n      <td>2019-12-31 23:34:36</td>\n      <td>是</td>\n      <td>0.903696</td>\n    </tr>\n    <tr>\n      <th>104299</th>\n      <td>sys-2019-382387725</td>\n      <td>user-220484</td>\n      <td>PR000782</td>\n      <td>3326.83</td>\n      <td>3273.54</td>\n      <td>渠道-0530</td>\n      <td>web</td>\n      <td>2019-12-31 23:37:30</td>\n      <td>2019-12-31 23:37:44</td>\n      <td>否</td>\n      <td>0.983982</td>\n    </tr>\n    <tr>\n      <th>104300</th>\n      <td>sys-2019-303891464</td>\n      <td>user-285133</td>\n      <td>PR000096</td>\n      <td>241.75</td>\n      <td>241.75</td>\n      <td>渠道-0765</td>\n      <td>wechatmp</td>\n      <td>2019-12-31 23:38:43</td>\n      <td>2019-12-31 23:39:01</td>\n      <td>是</td>\n      <td>1.000000</td>\n    </tr>\n    <tr>\n      <th>104301</th>\n      <td>sys-2019-291405901</td>\n      <td>user-298747</td>\n      <td>PR000369</td>\n      <td>442.85</td>\n      <td>339.78</td>\n      <td>渠道-0283</td>\n      <td>wechatmp</td>\n      <td>2019-12-31 23:48:34</td>\n      <td>2019-12-31 23:49:04</td>\n      <td>否</td>\n      <td>0.767258</td>\n    </tr>\n  </tbody>\n</table>\n<p>103348 rows × 11 columns</p>\n</div>"
     },
     "execution_count": 32,
     "metadata": {},
     "output_type": "execute_result"
    }
   ],
   "source": [
    "df"
   ]
  },
  {
   "cell_type": "markdown",
   "metadata": {},
   "source": [
    "#### 3.测算指标"
   ]
  },
  {
   "cell_type": "markdown",
   "metadata": {},
   "source": [
    "##### GMV 交易总金额\n",
    "##### 总销售额\n",
    "##### 实际销售额"
   ]
  },
  {
   "cell_type": "markdown",
   "metadata": {},
   "source": [
    "###### 2019年整年指标"
   ]
  },
  {
   "cell_type": "code",
   "execution_count": 33,
   "metadata": {},
   "outputs": [],
   "source": [
    "gmv_2019 = df.orderAmount.sum()"
   ]
  },
  {
   "cell_type": "code",
   "execution_count": 34,
   "metadata": {},
   "outputs": [
    {
     "name": "stdout",
     "output_type": "stream",
     "text": [
      "2019 gmv: 108527205.98999998\n"
     ]
    }
   ],
   "source": [
    "print('2019 gmv:',gmv_2019)"
   ]
  },
  {
   "cell_type": "code",
   "execution_count": 35,
   "metadata": {},
   "outputs": [],
   "source": [
    "sales_2019 = df.payment.sum()"
   ]
  },
  {
   "cell_type": "code",
   "execution_count": 36,
   "metadata": {},
   "outputs": [
    {
     "name": "stdout",
     "output_type": "stream",
     "text": [
      "2019 sales: 102630360.28680262\n"
     ]
    }
   ],
   "source": [
    "print('2019 sales:',sales_2019)"
   ]
  },
  {
   "cell_type": "code",
   "execution_count": 37,
   "metadata": {},
   "outputs": [],
   "source": [
    "real_sales_2019 = df[df.chargeback=='否'].payment.sum()"
   ]
  },
  {
   "cell_type": "code",
   "execution_count": 38,
   "metadata": {},
   "outputs": [
    {
     "name": "stdout",
     "output_type": "stream",
     "text": [
      "2019 real sales: 88940437.70922612\n"
     ]
    }
   ],
   "source": [
    "print('2019 real sales:',real_sales_2019)"
   ]
  },
  {
   "cell_type": "markdown",
   "metadata": {},
   "source": [
    "###### 月度指标"
   ]
  },
  {
   "cell_type": "code",
   "execution_count": 39,
   "metadata": {},
   "outputs": [],
   "source": [
    "df['month'] = df.orderTime.dt.month"
   ]
  },
  {
   "cell_type": "code",
   "execution_count": 40,
   "metadata": {},
   "outputs": [
    {
     "data": {
      "text/plain": "                   orderID       userID   goodsID  orderAmount  payment  \\\nid                                                                        \n6       sys-2019-279103297  user-146548  PR000564       425.20   425.20   \n7       sys-2019-316686066  user-104210  PR000709      1764.37  1707.04   \n8       sys-2019-306447069  user-104863  PR000499       499.41   480.42   \n9       sys-2019-290267674  user-206155  PR000253      1103.00  1050.95   \n10      sys-2019-337079027  user-137939  PR000768       465.41   465.41   \n...                    ...          ...       ...          ...      ...   \n104297  sys-2019-344079195  user-182248  PR000813       831.29   766.07   \n104298  sys-2019-296195955  user-143322  PR000938      1565.67  1414.89   \n104299  sys-2019-382387725  user-220484  PR000782      3326.83  3273.54   \n104300  sys-2019-303891464  user-285133  PR000096       241.75   241.75   \n104301  sys-2019-291405901  user-298747  PR000369       442.85   339.78   \n\n       channelID platformType           orderTime             payTime  \\\nid                                                                      \n6        渠道-0765     wechatmp 2019-01-01 00:12:23 2019-01-01 00:13:37   \n7        渠道-0396     wechatmp 2019-01-01 00:23:06 2019-01-01 00:23:32   \n8        渠道-0007     wechatmp 2019-01-01 01:05:50 2019-01-01 01:06:17   \n9        渠道-0330          app 2019-01-01 01:16:12 2019-01-01 01:16:25   \n10       渠道-9527        alimp 2019-01-01 01:31:00 2019-01-01 01:31:36   \n...          ...          ...                 ...                 ...   \n104297   渠道-0896     wechatmp 2019-12-31 23:32:55 2019-12-31 23:33:06   \n104298   渠道-0007          app 2019-12-31 23:33:05 2019-12-31 23:34:36   \n104299   渠道-0530          web 2019-12-31 23:37:30 2019-12-31 23:37:44   \n104300   渠道-0765     wechatmp 2019-12-31 23:38:43 2019-12-31 23:39:01   \n104301   渠道-0283     wechatmp 2019-12-31 23:48:34 2019-12-31 23:49:04   \n\n       chargeback  discount  month  \nid                                  \n6               否  1.000000      1  \n7               否  0.967507      1  \n8               否  0.961975      1  \n9               否  0.952811      1  \n10              否  1.000000      1  \n...           ...       ...    ...  \n104297          否  0.921544     12  \n104298          是  0.903696     12  \n104299          否  0.983982     12  \n104300          是  1.000000     12  \n104301          否  0.767258     12  \n\n[103348 rows x 12 columns]",
      "text/html": "<div>\n<style scoped>\n    .dataframe tbody tr th:only-of-type {\n        vertical-align: middle;\n    }\n\n    .dataframe tbody tr th {\n        vertical-align: top;\n    }\n\n    .dataframe thead th {\n        text-align: right;\n    }\n</style>\n<table border=\"1\" class=\"dataframe\">\n  <thead>\n    <tr style=\"text-align: right;\">\n      <th></th>\n      <th>orderID</th>\n      <th>userID</th>\n      <th>goodsID</th>\n      <th>orderAmount</th>\n      <th>payment</th>\n      <th>channelID</th>\n      <th>platformType</th>\n      <th>orderTime</th>\n      <th>payTime</th>\n      <th>chargeback</th>\n      <th>discount</th>\n      <th>month</th>\n    </tr>\n    <tr>\n      <th>id</th>\n      <th></th>\n      <th></th>\n      <th></th>\n      <th></th>\n      <th></th>\n      <th></th>\n      <th></th>\n      <th></th>\n      <th></th>\n      <th></th>\n      <th></th>\n      <th></th>\n    </tr>\n  </thead>\n  <tbody>\n    <tr>\n      <th>6</th>\n      <td>sys-2019-279103297</td>\n      <td>user-146548</td>\n      <td>PR000564</td>\n      <td>425.20</td>\n      <td>425.20</td>\n      <td>渠道-0765</td>\n      <td>wechatmp</td>\n      <td>2019-01-01 00:12:23</td>\n      <td>2019-01-01 00:13:37</td>\n      <td>否</td>\n      <td>1.000000</td>\n      <td>1</td>\n    </tr>\n    <tr>\n      <th>7</th>\n      <td>sys-2019-316686066</td>\n      <td>user-104210</td>\n      <td>PR000709</td>\n      <td>1764.37</td>\n      <td>1707.04</td>\n      <td>渠道-0396</td>\n      <td>wechatmp</td>\n      <td>2019-01-01 00:23:06</td>\n      <td>2019-01-01 00:23:32</td>\n      <td>否</td>\n      <td>0.967507</td>\n      <td>1</td>\n    </tr>\n    <tr>\n      <th>8</th>\n      <td>sys-2019-306447069</td>\n      <td>user-104863</td>\n      <td>PR000499</td>\n      <td>499.41</td>\n      <td>480.42</td>\n      <td>渠道-0007</td>\n      <td>wechatmp</td>\n      <td>2019-01-01 01:05:50</td>\n      <td>2019-01-01 01:06:17</td>\n      <td>否</td>\n      <td>0.961975</td>\n      <td>1</td>\n    </tr>\n    <tr>\n      <th>9</th>\n      <td>sys-2019-290267674</td>\n      <td>user-206155</td>\n      <td>PR000253</td>\n      <td>1103.00</td>\n      <td>1050.95</td>\n      <td>渠道-0330</td>\n      <td>app</td>\n      <td>2019-01-01 01:16:12</td>\n      <td>2019-01-01 01:16:25</td>\n      <td>否</td>\n      <td>0.952811</td>\n      <td>1</td>\n    </tr>\n    <tr>\n      <th>10</th>\n      <td>sys-2019-337079027</td>\n      <td>user-137939</td>\n      <td>PR000768</td>\n      <td>465.41</td>\n      <td>465.41</td>\n      <td>渠道-9527</td>\n      <td>alimp</td>\n      <td>2019-01-01 01:31:00</td>\n      <td>2019-01-01 01:31:36</td>\n      <td>否</td>\n      <td>1.000000</td>\n      <td>1</td>\n    </tr>\n    <tr>\n      <th>...</th>\n      <td>...</td>\n      <td>...</td>\n      <td>...</td>\n      <td>...</td>\n      <td>...</td>\n      <td>...</td>\n      <td>...</td>\n      <td>...</td>\n      <td>...</td>\n      <td>...</td>\n      <td>...</td>\n      <td>...</td>\n    </tr>\n    <tr>\n      <th>104297</th>\n      <td>sys-2019-344079195</td>\n      <td>user-182248</td>\n      <td>PR000813</td>\n      <td>831.29</td>\n      <td>766.07</td>\n      <td>渠道-0896</td>\n      <td>wechatmp</td>\n      <td>2019-12-31 23:32:55</td>\n      <td>2019-12-31 23:33:06</td>\n      <td>否</td>\n      <td>0.921544</td>\n      <td>12</td>\n    </tr>\n    <tr>\n      <th>104298</th>\n      <td>sys-2019-296195955</td>\n      <td>user-143322</td>\n      <td>PR000938</td>\n      <td>1565.67</td>\n      <td>1414.89</td>\n      <td>渠道-0007</td>\n      <td>app</td>\n      <td>2019-12-31 23:33:05</td>\n      <td>2019-12-31 23:34:36</td>\n      <td>是</td>\n      <td>0.903696</td>\n      <td>12</td>\n    </tr>\n    <tr>\n      <th>104299</th>\n      <td>sys-2019-382387725</td>\n      <td>user-220484</td>\n      <td>PR000782</td>\n      <td>3326.83</td>\n      <td>3273.54</td>\n      <td>渠道-0530</td>\n      <td>web</td>\n      <td>2019-12-31 23:37:30</td>\n      <td>2019-12-31 23:37:44</td>\n      <td>否</td>\n      <td>0.983982</td>\n      <td>12</td>\n    </tr>\n    <tr>\n      <th>104300</th>\n      <td>sys-2019-303891464</td>\n      <td>user-285133</td>\n      <td>PR000096</td>\n      <td>241.75</td>\n      <td>241.75</td>\n      <td>渠道-0765</td>\n      <td>wechatmp</td>\n      <td>2019-12-31 23:38:43</td>\n      <td>2019-12-31 23:39:01</td>\n      <td>是</td>\n      <td>1.000000</td>\n      <td>12</td>\n    </tr>\n    <tr>\n      <th>104301</th>\n      <td>sys-2019-291405901</td>\n      <td>user-298747</td>\n      <td>PR000369</td>\n      <td>442.85</td>\n      <td>339.78</td>\n      <td>渠道-0283</td>\n      <td>wechatmp</td>\n      <td>2019-12-31 23:48:34</td>\n      <td>2019-12-31 23:49:04</td>\n      <td>否</td>\n      <td>0.767258</td>\n      <td>12</td>\n    </tr>\n  </tbody>\n</table>\n<p>103348 rows × 12 columns</p>\n</div>"
     },
     "execution_count": 40,
     "metadata": {},
     "output_type": "execute_result"
    }
   ],
   "source": [
    "df"
   ]
  },
  {
   "cell_type": "markdown",
   "metadata": {},
   "source": [
    "分组计算"
   ]
  },
  {
   "cell_type": "code",
   "execution_count": 41,
   "metadata": {},
   "outputs": [],
   "source": [
    "gmv_m = df.groupby(by='month').orderAmount.sum()/10000\n",
    "sales_m = df.groupby(by='month').payment.sum()/10000\n",
    "real_sales_m = df[df.chargeback=='否'].groupby(by='month').payment.sum()/10000"
   ]
  },
  {
   "cell_type": "code",
   "execution_count": 42,
   "metadata": {},
   "outputs": [
    {
     "data": {
      "text/plain": "month\n1      694.773844\n2      552.894016\n3      681.160025\n4      731.591698\n5     1001.280720\n6     1055.418161\n7     1026.678831\n8     1055.370552\n9      970.867558\n10     938.113781\n11    1080.981479\n12    1063.589934\nName: orderAmount, dtype: float64"
     },
     "execution_count": 42,
     "metadata": {},
     "output_type": "execute_result"
    }
   ],
   "source": [
    "gmv_m"
   ]
  },
  {
   "cell_type": "code",
   "execution_count": 43,
   "metadata": {},
   "outputs": [
    {
     "data": {
      "text/plain": "month\n1      666.186805\n2      533.045992\n3      655.442354\n4      700.992838\n5      939.886135\n6      998.310141\n7      962.204257\n8      989.530819\n9      905.006052\n10     879.350827\n11    1020.676368\n12    1012.403441\nName: payment, dtype: float64"
     },
     "execution_count": 43,
     "metadata": {},
     "output_type": "execute_result"
    }
   ],
   "source": [
    "sales_m"
   ]
  },
  {
   "cell_type": "code",
   "execution_count": 44,
   "metadata": {},
   "outputs": [
    {
     "data": {
      "text/plain": "month\n1     576.152901\n2     458.580518\n3     567.679810\n4     605.273301\n5     817.951115\n6     870.140819\n7     829.981552\n8     854.722130\n9     791.459101\n10    761.410154\n11    889.015023\n12    871.677346\nName: payment, dtype: float64"
     },
     "execution_count": 44,
     "metadata": {},
     "output_type": "execute_result"
    }
   ],
   "source": [
    "real_sales_m"
   ]
  },
  {
   "cell_type": "markdown",
   "metadata": {},
   "source": [
    "##### 画图"
   ]
  },
  {
   "cell_type": "code",
   "execution_count": 45,
   "metadata": {},
   "outputs": [],
   "source": [
    "#配置字体参数雅黑\n",
    "plt.rcParams['font.sans-serif'] = 'Microsoft YaHei'\n",
    "#安装字体\n",
    "plt.rcParams['font.sans-serif'] = 'SimHei'\n",
    "#配置矢量图\n",
    "%config InlineBackend.figure_format = 'svg'"
   ]
  },
  {
   "cell_type": "markdown",
   "metadata": {},
   "source": [
    "创建画布"
   ]
  },
  {
   "cell_type": "code",
   "execution_count": 46,
   "metadata": {},
   "outputs": [
    {
     "data": {
      "text/plain": "<Figure size 960x480 with 0 Axes>"
     },
     "execution_count": 46,
     "metadata": {},
     "output_type": "execute_result"
    },
    {
     "data": {
      "text/plain": "<Figure size 960x480 with 0 Axes>"
     },
     "metadata": {},
     "output_type": "display_data"
    }
   ],
   "source": [
    "plt.figure(figsize=(8,4),dpi=120)"
   ]
  },
  {
   "cell_type": "markdown",
   "metadata": {},
   "source": [
    "创建坐标系"
   ]
  },
  {
   "cell_type": "code",
   "execution_count": 47,
   "metadata": {},
   "outputs": [
    {
     "data": {
      "text/plain": "<Figure size 640x480 with 1 Axes>",
      "image/svg+xml": "<?xml version=\"1.0\" encoding=\"utf-8\" standalone=\"no\"?>\n<!DOCTYPE svg PUBLIC \"-//W3C//DTD SVG 1.1//EN\"\n  \"http://www.w3.org/Graphics/SVG/1.1/DTD/svg11.dtd\">\n<svg xmlns:xlink=\"http://www.w3.org/1999/xlink\" width=\"411.73875pt\" height=\"309.090125pt\" viewBox=\"0 0 411.73875 309.090125\" xmlns=\"http://www.w3.org/2000/svg\" version=\"1.1\">\n <metadata>\n  <rdf:RDF xmlns:dc=\"http://purl.org/dc/elements/1.1/\" xmlns:cc=\"http://creativecommons.org/ns#\" xmlns:rdf=\"http://www.w3.org/1999/02/22-rdf-syntax-ns#\">\n   <cc:Work>\n    <dc:type rdf:resource=\"http://purl.org/dc/dcmitype/StillImage\"/>\n    <dc:date>2023-02-21T15:59:15.011750</dc:date>\n    <dc:format>image/svg+xml</dc:format>\n    <dc:creator>\n     <cc:Agent>\n      <dc:title>Matplotlib v3.7.0, https://matplotlib.org/</dc:title>\n     </cc:Agent>\n    </dc:creator>\n   </cc:Work>\n  </rdf:RDF>\n </metadata>\n <defs>\n  <style type=\"text/css\">*{stroke-linejoin: round; stroke-linecap: butt}</style>\n </defs>\n <g id=\"figure_1\">\n  <g id=\"patch_1\">\n   <path d=\"M 0 309.090125 \nL 411.73875 309.090125 \nL 411.73875 0 \nL 0 0 \nz\n\" style=\"fill: #ffffff\"/>\n  </g>\n  <g id=\"axes_1\">\n   <g id=\"patch_2\">\n    <path d=\"M 47.41875 273.312 \nL 404.53875 273.312 \nL 404.53875 7.2 \nL 47.41875 7.2 \nz\n\" style=\"fill: #ffffff\"/>\n   </g>\n   <g id=\"matplotlib.axis_1\">\n    <g id=\"xtick_1\">\n     <g id=\"line2d_1\">\n      <defs>\n       <path id=\"m5f71950ad3\" d=\"M 0 0 \nL 0 3.5 \n\" style=\"stroke: #000000; stroke-width: 0.8\"/>\n      </defs>\n      <g>\n       <use xlink:href=\"#m5f71950ad3\" x=\"63.651477\" y=\"273.312\" style=\"stroke: #000000; stroke-width: 0.8\"/>\n      </g>\n     </g>\n     <g id=\"text_1\">\n      <!-- 1月 -->\n      <g transform=\"translate(56.151477 287.4995) scale(0.1 -0.1)\">\n       <defs>\n        <path id=\"SimHei-31\" d=\"M 1400 3600 \nQ 1075 3275 575 2975 \nL 575 3450 \nQ 1200 3875 1600 4450 \nL 1900 4450 \nL 1900 150 \nL 1400 150 \nL 1400 3600 \nz\n\" transform=\"scale(0.015625)\"/>\n        <path id=\"SimHei-6708\" d=\"M 5250 4825 \nQ 5200 4225 5200 3750 \nL 5200 200 \nQ 5200 -275 4950 -375 \nQ 4700 -475 3975 -525 \nQ 3925 -225 3750 50 \nQ 4300 25 4512 50 \nQ 4725 75 4725 400 \nL 4725 1600 \nL 1850 1600 \nQ 1725 775 1450 225 \nQ 1175 -325 900 -575 \nQ 700 -400 400 -325 \nQ 800 25 1037 512 \nQ 1275 1000 1337 1475 \nQ 1400 1950 1400 2525 \nL 1400 3625 \nQ 1400 4175 1375 4825 \nL 5250 4825 \nz\nM 4725 3400 \nL 4725 4450 \nL 1875 4450 \nL 1875 3400 \nL 4725 3400 \nz\nM 4725 2000 \nL 4725 3025 \nL 1875 3025 \nL 1875 2000 \nL 4725 2000 \nz\n\" transform=\"scale(0.015625)\"/>\n       </defs>\n       <use xlink:href=\"#SimHei-31\"/>\n       <use xlink:href=\"#SimHei-6708\" x=\"50\"/>\n      </g>\n     </g>\n    </g>\n    <g id=\"xtick_2\">\n     <g id=\"line2d_2\">\n      <g>\n       <use xlink:href=\"#m5f71950ad3\" x=\"93.165527\" y=\"273.312\" style=\"stroke: #000000; stroke-width: 0.8\"/>\n      </g>\n     </g>\n     <g id=\"text_2\">\n      <!-- 2月 -->\n      <g transform=\"translate(85.665527 287.4995) scale(0.1 -0.1)\">\n       <defs>\n        <path id=\"SimHei-32\" d=\"M 300 250 \nQ 325 625 650 925 \nQ 975 1225 1475 1862 \nQ 1975 2500 2125 2850 \nQ 2275 3200 2237 3450 \nQ 2200 3700 2000 3862 \nQ 1800 4025 1537 4000 \nQ 1275 3975 1037 3800 \nQ 800 3625 675 3275 \nL 200 3350 \nQ 400 3925 712 4187 \nQ 1025 4450 1450 4475 \nQ 1700 4500 1900 4462 \nQ 2100 4425 2312 4287 \nQ 2525 4150 2662 3875 \nQ 2800 3600 2762 3212 \nQ 2725 2825 2375 2287 \nQ 2025 1750 1025 600 \nL 2825 600 \nL 2825 150 \nL 300 150 \nL 300 250 \nz\n\" transform=\"scale(0.015625)\"/>\n       </defs>\n       <use xlink:href=\"#SimHei-32\"/>\n       <use xlink:href=\"#SimHei-6708\" x=\"50\"/>\n      </g>\n     </g>\n    </g>\n    <g id=\"xtick_3\">\n     <g id=\"line2d_3\">\n      <g>\n       <use xlink:href=\"#m5f71950ad3\" x=\"122.679576\" y=\"273.312\" style=\"stroke: #000000; stroke-width: 0.8\"/>\n      </g>\n     </g>\n     <g id=\"text_3\">\n      <!-- 3月 -->\n      <g transform=\"translate(115.179576 287.4995) scale(0.1 -0.1)\">\n       <defs>\n        <path id=\"SimHei-33\" d=\"M 250 1225 \nL 700 1300 \nQ 800 975 1025 762 \nQ 1250 550 1587 562 \nQ 1925 575 2125 837 \nQ 2325 1100 2300 1437 \nQ 2275 1775 2037 1962 \nQ 1800 2150 1275 2225 \nL 1275 2550 \nQ 1800 2600 2037 2825 \nQ 2275 3050 2250 3412 \nQ 2225 3775 1925 3937 \nQ 1625 4100 1287 3975 \nQ 950 3850 750 3275 \nL 300 3350 \nQ 450 3800 712 4100 \nQ 975 4400 1425 4450 \nQ 1875 4500 2212 4337 \nQ 2550 4175 2687 3837 \nQ 2825 3500 2725 3100 \nQ 2625 2700 2150 2400 \nQ 2500 2250 2687 1950 \nQ 2875 1650 2812 1162 \nQ 2750 675 2375 375 \nQ 2000 75 1525 87 \nQ 1050 100 700 387 \nQ 350 675 250 1225 \nz\n\" transform=\"scale(0.015625)\"/>\n       </defs>\n       <use xlink:href=\"#SimHei-33\"/>\n       <use xlink:href=\"#SimHei-6708\" x=\"50\"/>\n      </g>\n     </g>\n    </g>\n    <g id=\"xtick_4\">\n     <g id=\"line2d_4\">\n      <g>\n       <use xlink:href=\"#m5f71950ad3\" x=\"152.193626\" y=\"273.312\" style=\"stroke: #000000; stroke-width: 0.8\"/>\n      </g>\n     </g>\n     <g id=\"text_4\">\n      <!-- 4月 -->\n      <g transform=\"translate(144.693626 287.4995) scale(0.1 -0.1)\">\n       <defs>\n        <path id=\"SimHei-34\" d=\"M 2000 1100 \nL 75 1100 \nL 75 1525 \nL 2100 4450 \nL 2475 4450 \nL 2475 1525 \nL 3075 1525 \nL 3075 1100 \nL 2475 1100 \nL 2475 150 \nL 2000 150 \nL 2000 1100 \nz\nM 2000 1525 \nL 2000 3500 \nL 600 1525 \nL 2000 1525 \nz\n\" transform=\"scale(0.015625)\"/>\n       </defs>\n       <use xlink:href=\"#SimHei-34\"/>\n       <use xlink:href=\"#SimHei-6708\" x=\"50\"/>\n      </g>\n     </g>\n    </g>\n    <g id=\"xtick_5\">\n     <g id=\"line2d_5\">\n      <g>\n       <use xlink:href=\"#m5f71950ad3\" x=\"181.707676\" y=\"273.312\" style=\"stroke: #000000; stroke-width: 0.8\"/>\n      </g>\n     </g>\n     <g id=\"text_5\">\n      <!-- 5月 -->\n      <g transform=\"translate(174.207676 287.4995) scale(0.1 -0.1)\">\n       <defs>\n        <path id=\"SimHei-35\" d=\"M 550 1325 \nQ 725 650 1150 575 \nQ 1575 500 1837 662 \nQ 2100 825 2212 1087 \nQ 2325 1350 2312 1675 \nQ 2300 2000 2137 2225 \nQ 1975 2450 1725 2525 \nQ 1475 2600 1162 2525 \nQ 850 2450 650 2175 \nL 225 2225 \nQ 275 2375 700 4375 \nL 2675 4375 \nL 2675 3925 \nL 1075 3925 \nQ 950 3250 825 2850 \nQ 1200 3025 1525 3012 \nQ 1850 3000 2150 2862 \nQ 2450 2725 2587 2487 \nQ 2725 2250 2787 2012 \nQ 2850 1775 2837 1500 \nQ 2825 1225 2725 937 \nQ 2625 650 2425 462 \nQ 2225 275 1937 162 \nQ 1650 50 1275 75 \nQ 900 100 562 350 \nQ 225 600 100 1200 \nL 550 1325 \nz\n\" transform=\"scale(0.015625)\"/>\n       </defs>\n       <use xlink:href=\"#SimHei-35\"/>\n       <use xlink:href=\"#SimHei-6708\" x=\"50\"/>\n      </g>\n     </g>\n    </g>\n    <g id=\"xtick_6\">\n     <g id=\"line2d_6\">\n      <g>\n       <use xlink:href=\"#m5f71950ad3\" x=\"211.221725\" y=\"273.312\" style=\"stroke: #000000; stroke-width: 0.8\"/>\n      </g>\n     </g>\n     <g id=\"text_6\">\n      <!-- 6月 -->\n      <g transform=\"translate(203.721725 287.4995) scale(0.1 -0.1)\">\n       <defs>\n        <path id=\"SimHei-36\" d=\"M 250 1612 \nQ 275 1975 387 2225 \nQ 500 2475 725 2850 \nL 1750 4450 \nL 2325 4450 \nL 1275 2800 \nQ 1950 2975 2350 2750 \nQ 2750 2525 2887 2237 \nQ 3025 1950 3037 1612 \nQ 3050 1275 2937 950 \nQ 2825 625 2537 362 \nQ 2250 100 1737 75 \nQ 1225 50 862 262 \nQ 500 475 362 862 \nQ 225 1250 250 1612 \nz\nM 1025 787 \nQ 1250 550 1625 525 \nQ 2000 500 2250 775 \nQ 2500 1050 2500 1575 \nQ 2500 2100 2187 2300 \nQ 1875 2500 1487 2450 \nQ 1100 2400 925 2075 \nQ 750 1750 775 1387 \nQ 800 1025 1025 787 \nz\n\" transform=\"scale(0.015625)\"/>\n       </defs>\n       <use xlink:href=\"#SimHei-36\"/>\n       <use xlink:href=\"#SimHei-6708\" x=\"50\"/>\n      </g>\n     </g>\n    </g>\n    <g id=\"xtick_7\">\n     <g id=\"line2d_7\">\n      <g>\n       <use xlink:href=\"#m5f71950ad3\" x=\"240.735775\" y=\"273.312\" style=\"stroke: #000000; stroke-width: 0.8\"/>\n      </g>\n     </g>\n     <g id=\"text_7\">\n      <!-- 7月 -->\n      <g transform=\"translate(233.235775 287.4995) scale(0.1 -0.1)\">\n       <defs>\n        <path id=\"SimHei-37\" d=\"M 850 150 \nQ 1300 2050 2425 3925 \nL 275 3925 \nL 275 4375 \nL 2950 4375 \nL 2950 3950 \nQ 1775 2050 1400 150 \nL 850 150 \nz\n\" transform=\"scale(0.015625)\"/>\n       </defs>\n       <use xlink:href=\"#SimHei-37\"/>\n       <use xlink:href=\"#SimHei-6708\" x=\"50\"/>\n      </g>\n     </g>\n    </g>\n    <g id=\"xtick_8\">\n     <g id=\"line2d_8\">\n      <g>\n       <use xlink:href=\"#m5f71950ad3\" x=\"270.249824\" y=\"273.312\" style=\"stroke: #000000; stroke-width: 0.8\"/>\n      </g>\n     </g>\n     <g id=\"text_8\">\n      <!-- 8月 -->\n      <g transform=\"translate(262.749824 287.4995) scale(0.1 -0.1)\">\n       <defs>\n        <path id=\"SimHei-38\" d=\"M 175 1375 \nQ 175 1675 325 1962 \nQ 475 2250 825 2425 \nQ 525 2600 425 2812 \nQ 325 3025 312 3300 \nQ 300 3575 387 3775 \nQ 475 3975 650 4150 \nQ 825 4325 1037 4387 \nQ 1250 4450 1500 4450 \nQ 1750 4450 1950 4400 \nQ 2150 4350 2375 4187 \nQ 2600 4025 2700 3725 \nQ 2800 3425 2687 3025 \nQ 2575 2625 2100 2400 \nQ 2525 2275 2700 2012 \nQ 2875 1750 2875 1375 \nQ 2875 1000 2762 775 \nQ 2650 550 2512 400 \nQ 2375 250 2137 162 \nQ 1900 75 1537 75 \nQ 1175 75 912 162 \nQ 650 250 475 425 \nQ 300 600 237 837 \nQ 175 1075 175 1375 \nz\nM 687 1400 \nQ 675 1100 787 875 \nQ 900 650 1200 587 \nQ 1500 525 1825 600 \nQ 2150 675 2275 950 \nQ 2400 1225 2362 1500 \nQ 2325 1775 2050 1962 \nQ 1775 2150 1450 2125 \nQ 1125 2100 912 1900 \nQ 700 1700 687 1400 \nz\nM 775 3350 \nQ 775 3100 950 2875 \nQ 1125 2650 1500 2650 \nQ 1875 2650 2062 2875 \nQ 2250 3100 2237 3412 \nQ 2225 3725 2012 3875 \nQ 1800 4025 1437 4000 \nQ 1075 3975 925 3787 \nQ 775 3600 775 3350 \nz\n\" transform=\"scale(0.015625)\"/>\n       </defs>\n       <use xlink:href=\"#SimHei-38\"/>\n       <use xlink:href=\"#SimHei-6708\" x=\"50\"/>\n      </g>\n     </g>\n    </g>\n    <g id=\"xtick_9\">\n     <g id=\"line2d_9\">\n      <g>\n       <use xlink:href=\"#m5f71950ad3\" x=\"299.763874\" y=\"273.312\" style=\"stroke: #000000; stroke-width: 0.8\"/>\n      </g>\n     </g>\n     <g id=\"text_9\">\n      <!-- 9月 -->\n      <g transform=\"translate(292.263874 287.4995) scale(0.1 -0.1)\">\n       <defs>\n        <path id=\"SimHei-39\" d=\"M 800 75 \nQ 1350 1000 1700 1750 \nQ 1075 1650 662 1912 \nQ 250 2175 162 2625 \nQ 75 3075 175 3437 \nQ 275 3800 487 4037 \nQ 700 4275 1000 4375 \nQ 1300 4475 1537 4475 \nQ 1775 4475 2025 4375 \nQ 2275 4275 2475 4075 \nQ 2675 3875 2750 3662 \nQ 2825 3450 2825 3112 \nQ 2825 2775 2575 2250 \nQ 2325 1725 1350 75 \nL 800 75 \nz\nM 662 2875 \nQ 700 2550 937 2337 \nQ 1175 2125 1450 2150 \nQ 1725 2175 1887 2300 \nQ 2050 2425 2200 2725 \nQ 2300 3100 2250 3362 \nQ 2200 3625 1987 3800 \nQ 1775 3975 1525 3975 \nQ 1375 4000 1137 3900 \nQ 900 3800 762 3500 \nQ 625 3200 662 2875 \nz\n\" transform=\"scale(0.015625)\"/>\n       </defs>\n       <use xlink:href=\"#SimHei-39\"/>\n       <use xlink:href=\"#SimHei-6708\" x=\"50\"/>\n      </g>\n     </g>\n    </g>\n    <g id=\"xtick_10\">\n     <g id=\"line2d_10\">\n      <g>\n       <use xlink:href=\"#m5f71950ad3\" x=\"329.277924\" y=\"273.312\" style=\"stroke: #000000; stroke-width: 0.8\"/>\n      </g>\n     </g>\n     <g id=\"text_10\">\n      <!-- 10月 -->\n      <g transform=\"translate(319.277924 287.4995) scale(0.1 -0.1)\">\n       <defs>\n        <path id=\"SimHei-30\" d=\"M 225 2537 \nQ 250 3200 412 3587 \nQ 575 3975 875 4225 \nQ 1175 4475 1612 4475 \nQ 2050 4475 2375 4112 \nQ 2700 3750 2800 3200 \nQ 2900 2650 2862 1937 \nQ 2825 1225 2612 775 \nQ 2400 325 1975 150 \nQ 1550 -25 1125 187 \nQ 700 400 525 750 \nQ 350 1100 275 1487 \nQ 200 1875 225 2537 \nz\nM 750 2687 \nQ 675 2000 800 1462 \nQ 925 925 1212 700 \nQ 1500 475 1800 612 \nQ 2100 750 2237 1162 \nQ 2375 1575 2375 2062 \nQ 2375 2550 2337 2950 \nQ 2300 3350 2112 3675 \nQ 1925 4000 1612 4012 \nQ 1300 4025 1062 3700 \nQ 825 3375 750 2687 \nz\n\" transform=\"scale(0.015625)\"/>\n       </defs>\n       <use xlink:href=\"#SimHei-31\"/>\n       <use xlink:href=\"#SimHei-30\" x=\"50\"/>\n       <use xlink:href=\"#SimHei-6708\" x=\"100\"/>\n      </g>\n     </g>\n    </g>\n    <g id=\"xtick_11\">\n     <g id=\"line2d_11\">\n      <g>\n       <use xlink:href=\"#m5f71950ad3\" x=\"358.791973\" y=\"273.312\" style=\"stroke: #000000; stroke-width: 0.8\"/>\n      </g>\n     </g>\n     <g id=\"text_11\">\n      <!-- 11月 -->\n      <g transform=\"translate(348.791973 287.4995) scale(0.1 -0.1)\">\n       <use xlink:href=\"#SimHei-31\"/>\n       <use xlink:href=\"#SimHei-31\" x=\"50\"/>\n       <use xlink:href=\"#SimHei-6708\" x=\"100\"/>\n      </g>\n     </g>\n    </g>\n    <g id=\"xtick_12\">\n     <g id=\"line2d_12\">\n      <g>\n       <use xlink:href=\"#m5f71950ad3\" x=\"388.306023\" y=\"273.312\" style=\"stroke: #000000; stroke-width: 0.8\"/>\n      </g>\n     </g>\n     <g id=\"text_12\">\n      <!-- 12月 -->\n      <g transform=\"translate(378.306023 287.4995) scale(0.1 -0.1)\">\n       <use xlink:href=\"#SimHei-31\"/>\n       <use xlink:href=\"#SimHei-32\" x=\"50\"/>\n       <use xlink:href=\"#SimHei-6708\" x=\"100\"/>\n      </g>\n     </g>\n    </g>\n    <g id=\"text_13\">\n     <!-- 月份 -->\n     <g transform=\"translate(215.97875 300.640125) scale(0.1 -0.1)\">\n      <defs>\n       <path id=\"SimHei-4efd\" d=\"M 4750 5100 \nQ 4875 4375 5250 3650 \nQ 5625 2925 6200 2450 \nQ 6025 2375 5775 2075 \nQ 5600 2275 5350 2575 \nQ 5300 2275 5275 1312 \nQ 5250 350 5187 25 \nQ 5125 -300 4850 -400 \nQ 4575 -500 4075 -550 \nQ 4000 -250 3875 0 \nQ 4400 -25 4575 25 \nQ 4750 75 4775 587 \nQ 4800 1100 4825 2250 \nL 3700 2250 \nQ 3675 1300 3425 650 \nQ 3175 0 2375 -625 \nQ 2175 -350 2000 -225 \nQ 2750 225 2987 800 \nQ 3225 1375 3225 2250 \nQ 3000 2250 2675 2225 \nL 2675 2575 \nQ 2475 2300 2150 1950 \nQ 2000 2150 1750 2300 \nQ 2875 3275 3225 4875 \nQ 3450 4775 3750 4675 \nQ 3625 4400 3425 3887 \nQ 3225 3375 2775 2700 \nQ 3050 2675 3400 2675 \nL 5300 2675 \nQ 4575 3625 4275 4975 \nQ 4575 5025 4750 5100 \nz\nM 225 2525 \nQ 575 2875 1025 3687 \nQ 1475 4500 1650 5225 \nQ 1975 5075 2200 4975 \nQ 2050 4750 1600 3775 \nL 1600 625 \nQ 1600 75 1625 -575 \nL 1100 -575 \nQ 1125 50 1125 625 \nL 1125 2925 \nQ 775 2400 575 2175 \nQ 425 2350 225 2525 \nz\n\" transform=\"scale(0.015625)\"/>\n      </defs>\n      <use xlink:href=\"#SimHei-6708\"/>\n      <use xlink:href=\"#SimHei-4efd\" x=\"100\"/>\n     </g>\n    </g>\n   </g>\n   <g id=\"matplotlib.axis_2\">\n    <g id=\"ytick_1\">\n     <g id=\"line2d_13\">\n      <defs>\n       <path id=\"mef69631774\" d=\"M 0 0 \nL -3.5 0 \n\" style=\"stroke: #000000; stroke-width: 0.8\"/>\n      </defs>\n      <g>\n       <use xlink:href=\"#mef69631774\" x=\"47.41875\" y=\"245.11673\" style=\"stroke: #000000; stroke-width: 0.8\"/>\n      </g>\n     </g>\n     <g id=\"text_14\">\n      <!-- 500 -->\n      <g transform=\"translate(25.41875 248.55423) scale(0.1 -0.1)\">\n       <use xlink:href=\"#SimHei-35\"/>\n       <use xlink:href=\"#SimHei-30\" x=\"50\"/>\n       <use xlink:href=\"#SimHei-30\" x=\"100\"/>\n      </g>\n     </g>\n    </g>\n    <g id=\"ytick_2\">\n     <g id=\"line2d_14\">\n      <g>\n       <use xlink:href=\"#mef69631774\" x=\"47.41875\" y=\"206.247895\" style=\"stroke: #000000; stroke-width: 0.8\"/>\n      </g>\n     </g>\n     <g id=\"text_15\">\n      <!-- 600 -->\n      <g transform=\"translate(25.41875 209.685395) scale(0.1 -0.1)\">\n       <use xlink:href=\"#SimHei-36\"/>\n       <use xlink:href=\"#SimHei-30\" x=\"50\"/>\n       <use xlink:href=\"#SimHei-30\" x=\"100\"/>\n      </g>\n     </g>\n    </g>\n    <g id=\"ytick_3\">\n     <g id=\"line2d_15\">\n      <g>\n       <use xlink:href=\"#mef69631774\" x=\"47.41875\" y=\"167.379061\" style=\"stroke: #000000; stroke-width: 0.8\"/>\n      </g>\n     </g>\n     <g id=\"text_16\">\n      <!-- 700 -->\n      <g transform=\"translate(25.41875 170.816561) scale(0.1 -0.1)\">\n       <use xlink:href=\"#SimHei-37\"/>\n       <use xlink:href=\"#SimHei-30\" x=\"50\"/>\n       <use xlink:href=\"#SimHei-30\" x=\"100\"/>\n      </g>\n     </g>\n    </g>\n    <g id=\"ytick_4\">\n     <g id=\"line2d_16\">\n      <g>\n       <use xlink:href=\"#mef69631774\" x=\"47.41875\" y=\"128.510226\" style=\"stroke: #000000; stroke-width: 0.8\"/>\n      </g>\n     </g>\n     <g id=\"text_17\">\n      <!-- 800 -->\n      <g transform=\"translate(25.41875 131.947726) scale(0.1 -0.1)\">\n       <use xlink:href=\"#SimHei-38\"/>\n       <use xlink:href=\"#SimHei-30\" x=\"50\"/>\n       <use xlink:href=\"#SimHei-30\" x=\"100\"/>\n      </g>\n     </g>\n    </g>\n    <g id=\"ytick_5\">\n     <g id=\"line2d_17\">\n      <g>\n       <use xlink:href=\"#mef69631774\" x=\"47.41875\" y=\"89.641392\" style=\"stroke: #000000; stroke-width: 0.8\"/>\n      </g>\n     </g>\n     <g id=\"text_18\">\n      <!-- 900 -->\n      <g transform=\"translate(25.41875 93.078892) scale(0.1 -0.1)\">\n       <use xlink:href=\"#SimHei-39\"/>\n       <use xlink:href=\"#SimHei-30\" x=\"50\"/>\n       <use xlink:href=\"#SimHei-30\" x=\"100\"/>\n      </g>\n     </g>\n    </g>\n    <g id=\"ytick_6\">\n     <g id=\"line2d_18\">\n      <g>\n       <use xlink:href=\"#mef69631774\" x=\"47.41875\" y=\"50.772557\" style=\"stroke: #000000; stroke-width: 0.8\"/>\n      </g>\n     </g>\n     <g id=\"text_19\">\n      <!-- 1000 -->\n      <g transform=\"translate(20.41875 54.210057) scale(0.1 -0.1)\">\n       <use xlink:href=\"#SimHei-31\"/>\n       <use xlink:href=\"#SimHei-30\" x=\"50\"/>\n       <use xlink:href=\"#SimHei-30\" x=\"100\"/>\n       <use xlink:href=\"#SimHei-30\" x=\"150\"/>\n      </g>\n     </g>\n    </g>\n    <g id=\"ytick_7\">\n     <g id=\"line2d_19\">\n      <g>\n       <use xlink:href=\"#mef69631774\" x=\"47.41875\" y=\"11.903723\" style=\"stroke: #000000; stroke-width: 0.8\"/>\n      </g>\n     </g>\n     <g id=\"text_20\">\n      <!-- 1100 -->\n      <g transform=\"translate(20.41875 15.341223) scale(0.1 -0.1)\">\n       <use xlink:href=\"#SimHei-31\"/>\n       <use xlink:href=\"#SimHei-31\" x=\"50\"/>\n       <use xlink:href=\"#SimHei-30\" x=\"100\"/>\n       <use xlink:href=\"#SimHei-30\" x=\"150\"/>\n      </g>\n     </g>\n    </g>\n    <g id=\"text_21\">\n     <!-- 单位：万元 -->\n     <g transform=\"translate(15.16875 165.256) rotate(-90) scale(0.1 -0.1)\">\n      <defs>\n       <path id=\"SimHei-5355\" d=\"M 5275 4075 \nL 5275 1525 \nL 3400 1525 \nL 3400 925 \nL 5050 925 \nQ 5600 925 6000 950 \nL 6000 450 \nQ 5575 475 5050 475 \nL 3400 475 \nQ 3400 -300 3425 -625 \nL 2875 -625 \nQ 2925 -300 2925 475 \nL 1300 475 \nQ 700 475 425 450 \nL 425 950 \nQ 675 925 1250 925 \nL 2925 925 \nL 2925 1525 \nL 1125 1525 \nQ 1150 1950 1150 2750 \nQ 1150 3550 1125 4075 \nL 3600 4075 \nQ 3875 4650 4075 5250 \nQ 4325 5125 4650 4975 \nQ 4550 4850 4400 4587 \nQ 4250 4325 4100 4075 \nL 5275 4075 \nz\nM 4775 1925 \nL 4775 2600 \nL 3400 2600 \nL 3400 1925 \nL 4775 1925 \nz\nM 4775 3000 \nL 4775 3650 \nL 3400 3650 \nL 3400 3000 \nL 4775 3000 \nz\nM 2925 1925 \nL 2925 2600 \nL 1625 2600 \nL 1625 1925 \nL 2925 1925 \nz\nM 2925 3000 \nL 2925 3650 \nL 1625 3650 \nL 1625 3000 \nL 2925 3000 \nz\nM 2100 5225 \nQ 2350 4950 2675 4350 \nQ 2400 4225 2225 4125 \nQ 1975 4675 1725 4975 \nQ 1900 5075 2100 5225 \nz\n\" transform=\"scale(0.015625)\"/>\n       <path id=\"SimHei-4f4d\" d=\"M 2125 4925 \nQ 1950 4750 1625 3750 \nL 1625 575 \nQ 1625 -225 1650 -650 \nL 1100 -650 \nQ 1150 -200 1150 550 \nL 1150 2950 \nQ 775 2275 550 1950 \nQ 375 2275 200 2425 \nQ 525 2775 912 3575 \nQ 1300 4375 1500 5200 \nQ 1825 5000 2125 4925 \nz\nM 5375 3025 \nQ 5275 2875 5100 2250 \nQ 4925 1625 4600 300 \nL 5450 300 \nQ 5925 300 6100 325 \nL 6100 -175 \nQ 5875 -150 5450 -150 \nL 2900 -150 \nQ 2275 -150 2050 -175 \nL 2050 325 \nQ 2275 300 2850 300 \nL 4075 300 \nQ 4400 1400 4700 3175 \nQ 5100 3075 5375 3025 \nz\nM 5250 4025 \nQ 5700 4025 5925 4050 \nL 5925 3575 \nQ 5700 3600 5225 3600 \nL 3000 3600 \nQ 2650 3600 2275 3575 \nL 2275 4050 \nQ 2675 4025 3000 4025 \nL 5250 4025 \nz\nM 3050 3050 \nQ 3500 1775 3750 725 \nQ 3450 625 3250 550 \nQ 3125 1125 2962 1675 \nQ 2800 2225 2550 2875 \nQ 2800 2925 3050 3050 \nz\nM 3875 5200 \nQ 4175 4675 4400 4300 \nQ 4200 4250 3875 4075 \nQ 3700 4525 3400 4950 \nQ 3650 5050 3875 5200 \nz\n\" transform=\"scale(0.015625)\"/>\n       <path id=\"SimHei-ff1a\" d=\"M 1200 2425 \nL 2025 2425 \nL 2025 1600 \nL 1200 1600 \nL 1200 2425 \nz\nM 1200 825 \nL 2025 825 \nL 2025 0 \nL 1200 0 \nL 1200 825 \nz\n\" transform=\"scale(0.015625)\"/>\n       <path id=\"SimHei-4e07\" d=\"M 3650 -550 \nQ 3550 -175 3400 25 \nQ 3925 0 4137 50 \nQ 4350 100 4400 225 \nQ 4450 350 4487 812 \nQ 4525 1275 4600 2625 \nL 2675 2625 \nQ 2350 550 900 -600 \nQ 675 -325 400 -250 \nQ 1125 200 1700 1237 \nQ 2275 2275 2275 4250 \nL 1525 4250 \nQ 975 4250 550 4225 \nL 550 4700 \nQ 950 4675 1550 4675 \nL 4950 4675 \nQ 5500 4675 5950 4700 \nL 5950 4225 \nQ 5500 4250 4950 4250 \nL 2800 4250 \nQ 2775 3625 2725 3075 \nL 5150 3075 \nQ 5000 775 4950 287 \nQ 4900 -200 4550 -350 \nQ 4200 -500 3650 -550 \nz\n\" transform=\"scale(0.015625)\"/>\n       <path id=\"SimHei-5143\" d=\"M 4900 3175 \nQ 5200 3175 5650 3200 \nL 5650 2675 \nQ 5200 2700 4900 2700 \nL 4075 2700 \nL 4075 425 \nQ 4075 75 4450 75 \nL 5175 75 \nQ 5425 75 5525 775 \nQ 5800 600 6075 550 \nQ 5950 -325 5300 -375 \nL 4150 -375 \nQ 3575 -375 3575 225 \nL 3575 2700 \nL 2675 2700 \nQ 2775 400 900 -600 \nQ 725 -375 400 -175 \nQ 2250 500 2150 2700 \nL 1500 2700 \nQ 1125 2700 650 2675 \nL 650 3200 \nQ 1125 3175 1500 3175 \nL 4900 3175 \nz\nM 4450 4775 \nQ 4675 4775 5150 4800 \nL 5150 4325 \nQ 4700 4350 4450 4350 \nL 1875 4350 \nQ 1575 4350 1200 4325 \nL 1200 4800 \nQ 1575 4775 1850 4775 \nL 4450 4775 \nz\n\" transform=\"scale(0.015625)\"/>\n      </defs>\n      <use xlink:href=\"#SimHei-5355\"/>\n      <use xlink:href=\"#SimHei-4f4d\" x=\"100\"/>\n      <use xlink:href=\"#SimHei-ff1a\" x=\"200\"/>\n      <use xlink:href=\"#SimHei-4e07\" x=\"300\"/>\n      <use xlink:href=\"#SimHei-5143\" x=\"400\"/>\n     </g>\n    </g>\n   </g>\n   <g id=\"line2d_20\">\n    <path d=\"M 63.651477 169.410407 \nL 93.165527 224.557442 \nL 122.679576 174.70194 \nL 152.193626 155.099736 \nL 181.707676 50.274756 \nL 211.221725 29.232164 \nL 240.735775 40.402806 \nL 270.249824 29.250669 \nL 299.763874 62.095998 \nL 329.277924 74.827009 \nL 358.791973 19.296 \nL 388.306023 26.055891 \n\" clip-path=\"url(#pc44533f5d6)\" style=\"fill: none; stroke: #ff0000; stroke-width: 1.5; stroke-linecap: square\"/>\n    <defs>\n     <path id=\"mdec06df004\" d=\"M 0 -3 \nL -0.673542 -0.927051 \nL -2.85317 -0.927051 \nL -1.089814 0.354102 \nL -1.763356 2.427051 \nL -0 1.145898 \nL 1.763356 2.427051 \nL 1.089814 0.354102 \nL 2.85317 -0.927051 \nL 0.673542 -0.927051 \nz\n\" style=\"stroke: #ff0000; stroke-linejoin: bevel\"/>\n    </defs>\n    <g clip-path=\"url(#pc44533f5d6)\">\n     <use xlink:href=\"#mdec06df004\" x=\"63.651477\" y=\"169.410407\" style=\"fill: #ff0000; stroke: #ff0000; stroke-linejoin: bevel\"/>\n     <use xlink:href=\"#mdec06df004\" x=\"93.165527\" y=\"224.557442\" style=\"fill: #ff0000; stroke: #ff0000; stroke-linejoin: bevel\"/>\n     <use xlink:href=\"#mdec06df004\" x=\"122.679576\" y=\"174.70194\" style=\"fill: #ff0000; stroke: #ff0000; stroke-linejoin: bevel\"/>\n     <use xlink:href=\"#mdec06df004\" x=\"152.193626\" y=\"155.099736\" style=\"fill: #ff0000; stroke: #ff0000; stroke-linejoin: bevel\"/>\n     <use xlink:href=\"#mdec06df004\" x=\"181.707676\" y=\"50.274756\" style=\"fill: #ff0000; stroke: #ff0000; stroke-linejoin: bevel\"/>\n     <use xlink:href=\"#mdec06df004\" x=\"211.221725\" y=\"29.232164\" style=\"fill: #ff0000; stroke: #ff0000; stroke-linejoin: bevel\"/>\n     <use xlink:href=\"#mdec06df004\" x=\"240.735775\" y=\"40.402806\" style=\"fill: #ff0000; stroke: #ff0000; stroke-linejoin: bevel\"/>\n     <use xlink:href=\"#mdec06df004\" x=\"270.249824\" y=\"29.250669\" style=\"fill: #ff0000; stroke: #ff0000; stroke-linejoin: bevel\"/>\n     <use xlink:href=\"#mdec06df004\" x=\"299.763874\" y=\"62.095998\" style=\"fill: #ff0000; stroke: #ff0000; stroke-linejoin: bevel\"/>\n     <use xlink:href=\"#mdec06df004\" x=\"329.277924\" y=\"74.827009\" style=\"fill: #ff0000; stroke: #ff0000; stroke-linejoin: bevel\"/>\n     <use xlink:href=\"#mdec06df004\" x=\"358.791973\" y=\"19.296\" style=\"fill: #ff0000; stroke: #ff0000; stroke-linejoin: bevel\"/>\n     <use xlink:href=\"#mdec06df004\" x=\"388.306023\" y=\"26.055891\" style=\"fill: #ff0000; stroke: #ff0000; stroke-linejoin: bevel\"/>\n    </g>\n   </g>\n   <g id=\"line2d_21\">\n    <path d=\"M 63.651477 180.521856 \nL 93.165527 232.272138 \nL 122.679576 184.698098 \nL 152.193626 166.993156 \nL 181.707676 74.138116 \nL 211.221725 51.429385 \nL 240.735775 65.463322 \nL 270.249824 54.841806 \nL 299.763874 87.695598 \nL 329.277924 97.667485 \nL 358.791973 42.735894 \nL 388.306023 45.951484 \n\" clip-path=\"url(#pc44533f5d6)\" style=\"fill: none; stroke: #008000; stroke-width: 1.5; stroke-linecap: square\"/>\n    <defs>\n     <path id=\"m59ff9b4936\" d=\"M 0 -3 \nL -3 3 \nL 3 3 \nz\n\" style=\"stroke: #008000; stroke-linejoin: miter\"/>\n    </defs>\n    <g clip-path=\"url(#pc44533f5d6)\">\n     <use xlink:href=\"#m59ff9b4936\" x=\"63.651477\" y=\"180.521856\" style=\"fill: #008000; stroke: #008000; stroke-linejoin: miter\"/>\n     <use xlink:href=\"#m59ff9b4936\" x=\"93.165527\" y=\"232.272138\" style=\"fill: #008000; stroke: #008000; stroke-linejoin: miter\"/>\n     <use xlink:href=\"#m59ff9b4936\" x=\"122.679576\" y=\"184.698098\" style=\"fill: #008000; stroke: #008000; stroke-linejoin: miter\"/>\n     <use xlink:href=\"#m59ff9b4936\" x=\"152.193626\" y=\"166.993156\" style=\"fill: #008000; stroke: #008000; stroke-linejoin: miter\"/>\n     <use xlink:href=\"#m59ff9b4936\" x=\"181.707676\" y=\"74.138116\" style=\"fill: #008000; stroke: #008000; stroke-linejoin: miter\"/>\n     <use xlink:href=\"#m59ff9b4936\" x=\"211.221725\" y=\"51.429385\" style=\"fill: #008000; stroke: #008000; stroke-linejoin: miter\"/>\n     <use xlink:href=\"#m59ff9b4936\" x=\"240.735775\" y=\"65.463322\" style=\"fill: #008000; stroke: #008000; stroke-linejoin: miter\"/>\n     <use xlink:href=\"#m59ff9b4936\" x=\"270.249824\" y=\"54.841806\" style=\"fill: #008000; stroke: #008000; stroke-linejoin: miter\"/>\n     <use xlink:href=\"#m59ff9b4936\" x=\"299.763874\" y=\"87.695598\" style=\"fill: #008000; stroke: #008000; stroke-linejoin: miter\"/>\n     <use xlink:href=\"#m59ff9b4936\" x=\"329.277924\" y=\"97.667485\" style=\"fill: #008000; stroke: #008000; stroke-linejoin: miter\"/>\n     <use xlink:href=\"#m59ff9b4936\" x=\"358.791973\" y=\"42.735894\" style=\"fill: #008000; stroke: #008000; stroke-linejoin: miter\"/>\n     <use xlink:href=\"#m59ff9b4936\" x=\"388.306023\" y=\"45.951484\" style=\"fill: #008000; stroke: #008000; stroke-linejoin: miter\"/>\n    </g>\n   </g>\n   <g id=\"line2d_22\">\n    <path d=\"M 63.651477 215.516985 \nL 93.165527 261.216 \nL 122.679576 218.810376 \nL 152.193626 204.198225 \nL 181.707676 121.532837 \nL 211.221725 101.247307 \nL 240.735775 116.856746 \nL 270.249824 107.240372 \nL 299.763874 131.829974 \nL 329.277924 143.50965 \nL 358.791973 93.911124 \nL 388.306023 100.650077 \n\" clip-path=\"url(#pc44533f5d6)\" style=\"fill: none; stroke: #bfbf00; stroke-width: 1.5; stroke-linecap: square\"/>\n    <defs>\n     <path id=\"m8551b2ff3c\" d=\"M 0 3 \nC 0.795609 3 1.55874 2.683901 2.12132 2.12132 \nC 2.683901 1.55874 3 0.795609 3 0 \nC 3 -0.795609 2.683901 -1.55874 2.12132 -2.12132 \nC 1.55874 -2.683901 0.795609 -3 0 -3 \nC -0.795609 -3 -1.55874 -2.683901 -2.12132 -2.12132 \nC -2.683901 -1.55874 -3 -0.795609 -3 0 \nC -3 0.795609 -2.683901 1.55874 -2.12132 2.12132 \nC -1.55874 2.683901 -0.795609 3 0 3 \nz\n\" style=\"stroke: #bfbf00\"/>\n    </defs>\n    <g clip-path=\"url(#pc44533f5d6)\">\n     <use xlink:href=\"#m8551b2ff3c\" x=\"63.651477\" y=\"215.516985\" style=\"fill: #bfbf00; stroke: #bfbf00\"/>\n     <use xlink:href=\"#m8551b2ff3c\" x=\"93.165527\" y=\"261.216\" style=\"fill: #bfbf00; stroke: #bfbf00\"/>\n     <use xlink:href=\"#m8551b2ff3c\" x=\"122.679576\" y=\"218.810376\" style=\"fill: #bfbf00; stroke: #bfbf00\"/>\n     <use xlink:href=\"#m8551b2ff3c\" x=\"152.193626\" y=\"204.198225\" style=\"fill: #bfbf00; stroke: #bfbf00\"/>\n     <use xlink:href=\"#m8551b2ff3c\" x=\"181.707676\" y=\"121.532837\" style=\"fill: #bfbf00; stroke: #bfbf00\"/>\n     <use xlink:href=\"#m8551b2ff3c\" x=\"211.221725\" y=\"101.247307\" style=\"fill: #bfbf00; stroke: #bfbf00\"/>\n     <use xlink:href=\"#m8551b2ff3c\" x=\"240.735775\" y=\"116.856746\" style=\"fill: #bfbf00; stroke: #bfbf00\"/>\n     <use xlink:href=\"#m8551b2ff3c\" x=\"270.249824\" y=\"107.240372\" style=\"fill: #bfbf00; stroke: #bfbf00\"/>\n     <use xlink:href=\"#m8551b2ff3c\" x=\"299.763874\" y=\"131.829974\" style=\"fill: #bfbf00; stroke: #bfbf00\"/>\n     <use xlink:href=\"#m8551b2ff3c\" x=\"329.277924\" y=\"143.50965\" style=\"fill: #bfbf00; stroke: #bfbf00\"/>\n     <use xlink:href=\"#m8551b2ff3c\" x=\"358.791973\" y=\"93.911124\" style=\"fill: #bfbf00; stroke: #bfbf00\"/>\n     <use xlink:href=\"#m8551b2ff3c\" x=\"388.306023\" y=\"100.650077\" style=\"fill: #bfbf00; stroke: #bfbf00\"/>\n    </g>\n   </g>\n   <g id=\"patch_3\">\n    <path d=\"M 47.41875 273.312 \nL 47.41875 7.2 \n\" style=\"fill: none; stroke: #000000; stroke-width: 0.8; stroke-linejoin: miter; stroke-linecap: square\"/>\n   </g>\n   <g id=\"patch_4\">\n    <path d=\"M 404.53875 273.312 \nL 404.53875 7.2 \n\" style=\"fill: none; stroke: #000000; stroke-width: 0.8; stroke-linejoin: miter; stroke-linecap: square\"/>\n   </g>\n   <g id=\"patch_5\">\n    <path d=\"M 47.41875 273.312 \nL 404.53875 273.312 \n\" style=\"fill: none; stroke: #000000; stroke-width: 0.8; stroke-linejoin: miter; stroke-linecap: square\"/>\n   </g>\n   <g id=\"patch_6\">\n    <path d=\"M 47.41875 7.2 \nL 404.53875 7.2 \n\" style=\"fill: none; stroke: #000000; stroke-width: 0.8; stroke-linejoin: miter; stroke-linecap: square\"/>\n   </g>\n  </g>\n </g>\n <defs>\n  <clipPath id=\"pc44533f5d6\">\n   <rect x=\"47.41875\" y=\"7.2\" width=\"357.12\" height=\"266.112\"/>\n  </clipPath>\n </defs>\n</svg>\n"
     },
     "metadata": {},
     "output_type": "display_data"
    }
   ],
   "source": [
    "ax = plt.subplot(1,1,1)\n",
    "plt.plot(gmv_m.index,gmv_m,'r',label='GMV',marker='*')\n",
    "plt.plot(sales_m.index,sales_m,'g',label='sales',marker='^')\n",
    "plt.plot(real_sales_m.index,real_sales_m,'y',label='real sales',marker='o')\n",
    "plt.xticks(gmv_m.index,labels=[f'{x}月' for x in gmv_m.index])\n",
    "plt.xlabel(\"月份\")\n",
    "plt.ylabel(\"单位：万元\")\n",
    "plt.show()"
   ]
  },
  {
   "cell_type": "markdown",
   "metadata": {},
   "source": [
    "pycharts"
   ]
  },
  {
   "cell_type": "code",
   "execution_count": 65,
   "metadata": {},
   "outputs": [],
   "source": [
    "import pyecharts.options as opts\n",
    "from pyecharts.charts import Line\n",
    "\n",
    "c = (\n",
    "    Line()\n",
    "        .set_global_opts(\n",
    "        title_opts=opts.TitleOpts(title='月度指标'),\n",
    "        yaxis_opts=opts.AxisOpts(name='单位：万元'),\n",
    "        xaxis_opts=opts.AxisOpts(name='月份')\n",
    "    )\n",
    "    .add_xaxis([f'{x}月' for x in gmv_m.index])\n",
    "    .add_yaxis(\"GMV\", np.round(gmv_m.values.tolist(),1))\n",
    "    .add_yaxis(\"sales\",  np.round(sales_m.values.tolist(),1))\n",
    "    .add_yaxis(\"real sales\",  np.round(real_sales_m.values.tolist(),1))\n",
    "    .set_global_opts(title_opts=opts.TitleOpts(title=\"月度指标\"))\n",
    "#    .render(\"月度指标.html\")\n",
    "    .render_notebook()\n",
    ")"
   ]
  },
  {
   "cell_type": "code",
   "execution_count": 79,
   "metadata": {},
   "outputs": [
    {
     "data": {
      "text/plain": "<pyecharts.render.display.HTML at 0x1fb93ebed60>",
      "text/html": "\n<script>\n    require.config({\n        paths: {\n            'echarts':'https://assets.pyecharts.org/assets/v5/echarts.min'\n        }\n    });\n</script>\n\n        <div id=\"798c7121b55e4f289df915db1166a69f\" style=\"width:900px; height:500px;\"></div>\n\n<script>\n        require(['echarts'], function(echarts) {\n                var chart_798c7121b55e4f289df915db1166a69f = echarts.init(\n                    document.getElementById('798c7121b55e4f289df915db1166a69f'), 'white', {renderer: 'canvas'});\n                var option_798c7121b55e4f289df915db1166a69f = {\n    \"animation\": true,\n    \"animationThreshold\": 2000,\n    \"animationDuration\": 1000,\n    \"animationEasing\": \"cubicOut\",\n    \"animationDelay\": 0,\n    \"animationDurationUpdate\": 300,\n    \"animationEasingUpdate\": \"cubicOut\",\n    \"animationDelayUpdate\": 0,\n    \"aria\": {\n        \"enabled\": false\n    },\n    \"color\": [\n        \"#5470c6\",\n        \"#91cc75\",\n        \"#fac858\",\n        \"#ee6666\",\n        \"#73c0de\",\n        \"#3ba272\",\n        \"#fc8452\",\n        \"#9a60b4\",\n        \"#ea7ccc\"\n    ],\n    \"series\": [\n        {\n            \"type\": \"line\",\n            \"name\": \"GMV\",\n            \"connectNulls\": false,\n            \"xAxisIndex\": 0,\n            \"symbolSize\": 4,\n            \"showSymbol\": true,\n            \"smooth\": false,\n            \"clip\": true,\n            \"step\": false,\n            \"data\": [\n                [\n                    \"1\\u6708\",\n                    694.8\n                ],\n                [\n                    \"2\\u6708\",\n                    552.9\n                ],\n                [\n                    \"3\\u6708\",\n                    681.2\n                ],\n                [\n                    \"4\\u6708\",\n                    731.6\n                ],\n                [\n                    \"5\\u6708\",\n                    1001.3\n                ],\n                [\n                    \"6\\u6708\",\n                    1055.4\n                ],\n                [\n                    \"7\\u6708\",\n                    1026.7\n                ],\n                [\n                    \"8\\u6708\",\n                    1055.4\n                ],\n                [\n                    \"9\\u6708\",\n                    970.9\n                ],\n                [\n                    \"10\\u6708\",\n                    938.1\n                ],\n                [\n                    \"11\\u6708\",\n                    1081.0\n                ],\n                [\n                    \"12\\u6708\",\n                    1063.6\n                ]\n            ],\n            \"hoverAnimation\": true,\n            \"label\": {\n                \"show\": true,\n                \"margin\": 8\n            },\n            \"logBase\": 10,\n            \"lineStyle\": {\n                \"show\": true,\n                \"width\": 1,\n                \"opacity\": 1,\n                \"curveness\": 0,\n                \"type\": \"solid\"\n            },\n            \"areaStyle\": {\n                \"opacity\": 0\n            },\n            \"zlevel\": 0,\n            \"z\": 0\n        },\n        {\n            \"type\": \"line\",\n            \"name\": \"sales\",\n            \"connectNulls\": false,\n            \"xAxisIndex\": 0,\n            \"symbolSize\": 4,\n            \"showSymbol\": true,\n            \"smooth\": false,\n            \"clip\": true,\n            \"step\": false,\n            \"data\": [\n                [\n                    \"1\\u6708\",\n                    666.2\n                ],\n                [\n                    \"2\\u6708\",\n                    533.0\n                ],\n                [\n                    \"3\\u6708\",\n                    655.4\n                ],\n                [\n                    \"4\\u6708\",\n                    701.0\n                ],\n                [\n                    \"5\\u6708\",\n                    939.9\n                ],\n                [\n                    \"6\\u6708\",\n                    998.3\n                ],\n                [\n                    \"7\\u6708\",\n                    962.2\n                ],\n                [\n                    \"8\\u6708\",\n                    989.5\n                ],\n                [\n                    \"9\\u6708\",\n                    905.0\n                ],\n                [\n                    \"10\\u6708\",\n                    879.4\n                ],\n                [\n                    \"11\\u6708\",\n                    1020.7\n                ],\n                [\n                    \"12\\u6708\",\n                    1012.4\n                ]\n            ],\n            \"hoverAnimation\": true,\n            \"label\": {\n                \"show\": true,\n                \"margin\": 8\n            },\n            \"logBase\": 10,\n            \"lineStyle\": {\n                \"show\": true,\n                \"width\": 1,\n                \"opacity\": 1,\n                \"curveness\": 0,\n                \"type\": \"solid\"\n            },\n            \"areaStyle\": {\n                \"opacity\": 0\n            },\n            \"zlevel\": 0,\n            \"z\": 0\n        },\n        {\n            \"type\": \"line\",\n            \"name\": \"real sales\",\n            \"connectNulls\": false,\n            \"xAxisIndex\": 0,\n            \"symbolSize\": 4,\n            \"showSymbol\": true,\n            \"smooth\": false,\n            \"clip\": true,\n            \"step\": false,\n            \"data\": [\n                [\n                    \"1\\u6708\",\n                    576.2\n                ],\n                [\n                    \"2\\u6708\",\n                    458.6\n                ],\n                [\n                    \"3\\u6708\",\n                    567.7\n                ],\n                [\n                    \"4\\u6708\",\n                    605.3\n                ],\n                [\n                    \"5\\u6708\",\n                    818.0\n                ],\n                [\n                    \"6\\u6708\",\n                    870.1\n                ],\n                [\n                    \"7\\u6708\",\n                    830.0\n                ],\n                [\n                    \"8\\u6708\",\n                    854.7\n                ],\n                [\n                    \"9\\u6708\",\n                    791.5\n                ],\n                [\n                    \"10\\u6708\",\n                    761.4\n                ],\n                [\n                    \"11\\u6708\",\n                    889.0\n                ],\n                [\n                    \"12\\u6708\",\n                    871.7\n                ]\n            ],\n            \"hoverAnimation\": true,\n            \"label\": {\n                \"show\": true,\n                \"margin\": 8\n            },\n            \"logBase\": 10,\n            \"lineStyle\": {\n                \"show\": true,\n                \"width\": 1,\n                \"opacity\": 1,\n                \"curveness\": 0,\n                \"type\": \"solid\"\n            },\n            \"areaStyle\": {\n                \"opacity\": 0\n            },\n            \"zlevel\": 0,\n            \"z\": 0\n        }\n    ],\n    \"legend\": [\n        {\n            \"data\": [\n                \"GMV\",\n                \"sales\",\n                \"real sales\"\n            ],\n            \"selected\": {\n                \"GMV\": true,\n                \"sales\": true,\n                \"real sales\": true\n            },\n            \"show\": true,\n            \"padding\": 5,\n            \"itemGap\": 10,\n            \"itemWidth\": 25,\n            \"itemHeight\": 14,\n            \"backgroundColor\": \"transparent\",\n            \"borderColor\": \"#ccc\",\n            \"borderWidth\": 1,\n            \"borderRadius\": 0,\n            \"pageButtonItemGap\": 5,\n            \"pageButtonPosition\": \"end\",\n            \"pageFormatter\": \"{current}/{total}\",\n            \"pageIconColor\": \"#2f4554\",\n            \"pageIconInactiveColor\": \"#aaa\",\n            \"pageIconSize\": 15,\n            \"animationDurationUpdate\": 800,\n            \"selector\": false,\n            \"selectorPosition\": \"auto\",\n            \"selectorItemGap\": 7,\n            \"selectorButtonGap\": 10\n        }\n    ],\n    \"tooltip\": {\n        \"show\": true,\n        \"trigger\": \"item\",\n        \"triggerOn\": \"mousemove|click\",\n        \"axisPointer\": {\n            \"type\": \"line\"\n        },\n        \"showContent\": true,\n        \"alwaysShowContent\": false,\n        \"showDelay\": 0,\n        \"hideDelay\": 100,\n        \"enterable\": false,\n        \"confine\": false,\n        \"appendToBody\": false,\n        \"transitionDuration\": 0.4,\n        \"textStyle\": {\n            \"fontSize\": 14\n        },\n        \"borderWidth\": 0,\n        \"padding\": 5,\n        \"order\": \"seriesAsc\"\n    },\n    \"xAxis\": [\n        {\n            \"name\": \"\\u6708\\u4efd\",\n            \"show\": true,\n            \"scale\": false,\n            \"nameLocation\": \"end\",\n            \"nameGap\": 15,\n            \"gridIndex\": 0,\n            \"inverse\": false,\n            \"offset\": 0,\n            \"splitNumber\": 5,\n            \"minInterval\": 0,\n            \"splitLine\": {\n                \"show\": true,\n                \"lineStyle\": {\n                    \"show\": true,\n                    \"width\": 1,\n                    \"opacity\": 1,\n                    \"curveness\": 0,\n                    \"type\": \"solid\"\n                }\n            },\n            \"data\": [\n                \"1\\u6708\",\n                \"2\\u6708\",\n                \"3\\u6708\",\n                \"4\\u6708\",\n                \"5\\u6708\",\n                \"6\\u6708\",\n                \"7\\u6708\",\n                \"8\\u6708\",\n                \"9\\u6708\",\n                \"10\\u6708\",\n                \"11\\u6708\",\n                \"12\\u6708\"\n            ]\n        }\n    ],\n    \"yAxis\": [\n        {\n            \"name\": \"\\u5355\\u4f4d\\uff1a\\u4e07\\u5143\",\n            \"show\": true,\n            \"scale\": false,\n            \"nameLocation\": \"end\",\n            \"nameGap\": 15,\n            \"gridIndex\": 0,\n            \"inverse\": false,\n            \"offset\": 0,\n            \"splitNumber\": 5,\n            \"minInterval\": 0,\n            \"splitLine\": {\n                \"show\": true,\n                \"lineStyle\": {\n                    \"show\": true,\n                    \"width\": 1,\n                    \"opacity\": 1,\n                    \"curveness\": 0,\n                    \"type\": \"solid\"\n                }\n            }\n        }\n    ],\n    \"title\": [\n        {\n            \"show\": true,\n            \"text\": \"\\u6708\\u5ea6\\u6307\\u6807\",\n            \"target\": \"blank\",\n            \"subtarget\": \"blank\",\n            \"padding\": 5,\n            \"itemGap\": 10,\n            \"textAlign\": \"auto\",\n            \"textVerticalAlign\": \"auto\",\n            \"triggerEvent\": false\n        }\n    ]\n};\n                chart_798c7121b55e4f289df915db1166a69f.setOption(option_798c7121b55e4f289df915db1166a69f);\n        });\n    </script>\n"
     },
     "execution_count": 79,
     "metadata": {},
     "output_type": "execute_result"
    }
   ],
   "source": [
    "c"
   ]
  },
  {
   "cell_type": "markdown",
   "source": [
    "#### 各渠道GMV"
   ],
   "metadata": {
    "collapsed": false
   }
  },
  {
   "cell_type": "code",
   "execution_count": 50,
   "outputs": [],
   "source": [
    "channels_ser = df.groupby('channelID').orderAmount.sum()"
   ],
   "metadata": {
    "collapsed": false
   }
  },
  {
   "cell_type": "code",
   "execution_count": 51,
   "outputs": [],
   "source": [
    "gmv_ser = channels_ser.nlargest(10)"
   ],
   "metadata": {
    "collapsed": false
   }
  },
  {
   "cell_type": "code",
   "execution_count": 52,
   "outputs": [
    {
     "data": {
      "text/plain": "<Axes: ylabel='orderAmount'>"
     },
     "execution_count": 52,
     "metadata": {},
     "output_type": "execute_result"
    },
    {
     "data": {
      "text/plain": "<Figure size 640x480 with 1 Axes>",
      "image/svg+xml": "<?xml version=\"1.0\" encoding=\"utf-8\" standalone=\"no\"?>\n<!DOCTYPE svg PUBLIC \"-//W3C//DTD SVG 1.1//EN\"\n  \"http://www.w3.org/Graphics/SVG/1.1/DTD/svg11.dtd\">\n<svg xmlns:xlink=\"http://www.w3.org/1999/xlink\" width=\"336.285259pt\" height=\"280.512pt\" viewBox=\"0 0 336.285259 280.512\" xmlns=\"http://www.w3.org/2000/svg\" version=\"1.1\">\n <metadata>\n  <rdf:RDF xmlns:dc=\"http://purl.org/dc/elements/1.1/\" xmlns:cc=\"http://creativecommons.org/ns#\" xmlns:rdf=\"http://www.w3.org/1999/02/22-rdf-syntax-ns#\">\n   <cc:Work>\n    <dc:type rdf:resource=\"http://purl.org/dc/dcmitype/StillImage\"/>\n    <dc:date>2023-02-21T15:59:15.318903</dc:date>\n    <dc:format>image/svg+xml</dc:format>\n    <dc:creator>\n     <cc:Agent>\n      <dc:title>Matplotlib v3.7.0, https://matplotlib.org/</dc:title>\n     </cc:Agent>\n    </dc:creator>\n   </cc:Work>\n  </rdf:RDF>\n </metadata>\n <defs>\n  <style type=\"text/css\">*{stroke-linejoin: round; stroke-linecap: butt}</style>\n </defs>\n <g id=\"figure_1\">\n  <g id=\"patch_1\">\n   <path d=\"M 0 280.512 \nL 336.285259 280.512 \nL 336.285259 0 \nL 0 0 \nz\n\" style=\"fill: #ffffff\"/>\n  </g>\n  <g id=\"axes_1\">\n   <g id=\"patch_2\">\n    <path d=\"M 274.738809 140.256 \nC 274.738809 119.163626 268.469528 98.539707 256.730868 81.015663 \nC 244.992207 63.491619 228.305592 49.845858 208.800078 41.819453 \nL 168.294009 140.256 \nz\n\" style=\"fill: #1f77b4\"/>\n   </g>\n   <g id=\"patch_3\">\n    <path d=\"M 208.800078 41.819453 \nC 194.065946 35.756443 178.156811 33.078226 162.249699 33.982947 \nC 146.342588 34.887669 130.839713 39.352453 116.888045 47.046975 \nL 168.294009 140.256 \nz\n\" style=\"fill: #ff7f0e\"/>\n   </g>\n   <g id=\"patch_4\">\n    <path d=\"M 116.888045 47.046975 \nC 103.321129 54.529302 91.549996 64.884266 82.399122 77.386581 \nC 73.248248 89.888897 66.936388 104.239691 63.905641 119.433801 \nL 168.294009 140.256 \nz\n\" style=\"fill: #2ca02c\"/>\n   </g>\n   <g id=\"patch_5\">\n    <path d=\"M 63.905641 119.433801 \nC 61.628449 130.850096 61.239395 142.563019 62.754001 154.105262 \nC 64.268607 165.647506 67.666459 176.8635 72.811994 187.305764 \nL 168.294009 140.256 \nz\n\" style=\"fill: #d62728\"/>\n   </g>\n   <g id=\"patch_6\">\n    <path d=\"M 72.811994 187.305764 \nC 77.490165 196.799566 83.55824 205.542771 90.815701 213.24646 \nC 98.073162 220.950149 106.439177 227.52852 115.637291 232.764191 \nL 168.294009 140.256 \nz\n\" style=\"fill: #9467bd\"/>\n   </g>\n   <g id=\"patch_7\">\n    <path d=\"M 115.637291 232.764191 \nC 124.713009 237.930193 134.499756 241.732599 144.682599 244.049048 \nC 154.865442 246.365497 165.33397 247.170872 175.75131 246.439257 \nL 168.294009 140.256 \nz\n\" style=\"fill: #8c564b\"/>\n   </g>\n   <g id=\"patch_8\">\n    <path d=\"M 175.75131 246.439257 \nC 183.685405 245.882042 191.53211 244.437315 199.144376 242.132152 \nC 206.756641 239.826989 214.086615 236.675879 220.996933 232.737875 \nL 168.294009 140.256 \nz\n\" style=\"fill: #e377c2\"/>\n   </g>\n   <g id=\"patch_9\">\n    <path d=\"M 220.996933 232.737875 \nC 227.897259 228.805566 234.335859 224.113302 240.192419 218.748764 \nC 246.04898 213.384227 251.286791 207.381041 255.807979 200.851384 \nL 168.294009 140.256 \nz\n\" style=\"fill: #7f7f7f\"/>\n   </g>\n   <g id=\"patch_10\">\n    <path d=\"M 255.807979 200.851384 \nC 258.915357 196.3636 261.672931 191.643434 264.056291 186.732671 \nC 266.43965 181.821907 268.441741 176.73508 270.044841 171.517219 \nL 168.294009 140.256 \nz\n\" style=\"fill: #bcbd22\"/>\n   </g>\n   <g id=\"patch_11\">\n    <path d=\"M 270.044841 171.517219 \nC 271.598616 166.459898 272.773187 161.293767 273.558782 156.061794 \nC 274.344377 150.82982 274.738813 145.54655 274.738809 140.255925 \nL 168.294009 140.256 \nz\n\" style=\"fill: #17becf\"/>\n   </g>\n   <g id=\"matplotlib.axis_1\"/>\n   <g id=\"matplotlib.axis_2\">\n    <g id=\"text_1\">\n     <!-- orderAmount -->\n     <g transform=\"translate(29.988009 167.756) rotate(-90) scale(0.1 -0.1)\">\n      <defs>\n       <path id=\"SimHei-6f\" d=\"M 2925 1525 \nQ 2925 875 2525 475 \nQ 2125 75 1575 75 \nQ 1025 75 625 475 \nQ 225 875 225 1525 \nQ 225 2175 625 2575 \nQ 1025 2975 1575 2975 \nQ 2125 2975 2525 2575 \nQ 2925 2175 2925 1525 \nz\nM 2375 1525 \nQ 2375 2025 2125 2275 \nQ 1875 2525 1575 2525 \nQ 1275 2525 1025 2275 \nQ 775 2025 775 1525 \nQ 775 1025 1025 775 \nQ 1275 525 1575 525 \nQ 1875 525 2125 775 \nQ 2375 1025 2375 1525 \nz\n\" transform=\"scale(0.015625)\"/>\n       <path id=\"SimHei-72\" d=\"M 2500 2425 \nQ 2025 2500 1700 2287 \nQ 1375 2075 1150 1550 \nL 1150 125 \nL 650 125 \nL 650 2925 \nL 1150 2925 \nL 1150 2200 \nQ 1375 2600 1712 2787 \nQ 2050 2975 2500 2975 \nL 2500 2425 \nz\n\" transform=\"scale(0.015625)\"/>\n       <path id=\"SimHei-64\" d=\"M 2750 125 \nL 2250 125 \nL 2250 500 \nQ 2100 275 1900 175 \nQ 1700 75 1425 75 \nQ 925 75 575 437 \nQ 225 800 225 1525 \nQ 225 2250 575 2625 \nQ 925 3000 1425 3000 \nQ 1700 3000 1900 2887 \nQ 2100 2775 2250 2550 \nL 2250 4400 \nL 2750 4400 \nL 2750 125 \nz\nM 2250 1525 \nQ 2250 2000 2037 2275 \nQ 1825 2550 1525 2550 \nQ 1150 2550 962 2275 \nQ 775 2000 775 1525 \nQ 775 1050 962 787 \nQ 1150 525 1525 525 \nQ 1825 525 2037 787 \nQ 2250 1050 2250 1525 \nz\n\" transform=\"scale(0.015625)\"/>\n       <path id=\"SimHei-65\" d=\"M 2850 1075 \nQ 2800 625 2450 350 \nQ 2100 75 1625 75 \nQ 1025 75 637 462 \nQ 250 850 250 1525 \nQ 250 2200 637 2587 \nQ 1025 2975 1625 2975 \nQ 2150 2975 2487 2637 \nQ 2825 2300 2825 1525 \nL 800 1525 \nQ 800 975 1037 750 \nQ 1275 525 1625 525 \nQ 1900 525 2075 662 \nQ 2250 800 2300 1075 \nL 2850 1075 \nz\nM 2250 1925 \nQ 2200 2275 2025 2412 \nQ 1850 2550 1575 2550 \nQ 1325 2550 1125 2412 \nQ 925 2275 825 1925 \nL 2250 1925 \nz\n\" transform=\"scale(0.015625)\"/>\n       <path id=\"SimHei-41\" d=\"M 3075 125 \nL 2475 125 \nL 2125 1450 \nL 1025 1450 \nL 675 125 \nL 75 125 \nL 1325 4450 \nL 1825 4450 \nL 3075 125 \nz\nM 2000 1925 \nL 1600 3450 \nL 1550 3450 \nL 1150 1925 \nL 2000 1925 \nz\n\" transform=\"scale(0.015625)\"/>\n       <path id=\"SimHei-6d\" d=\"M 3050 125 \nL 2550 125 \nL 2550 2150 \nQ 2550 2300 2500 2400 \nQ 2450 2500 2300 2500 \nQ 2125 2500 1975 2312 \nQ 1825 2125 1825 1825 \nL 1825 125 \nL 1325 125 \nL 1325 2150 \nQ 1325 2300 1275 2400 \nQ 1225 2500 1075 2500 \nQ 900 2500 750 2312 \nQ 600 2125 600 1825 \nL 600 125 \nL 100 125 \nL 100 2925 \nL 600 2925 \nL 600 2550 \nQ 725 2750 900 2862 \nQ 1075 2975 1275 2975 \nQ 1475 2975 1612 2862 \nQ 1750 2750 1800 2550 \nQ 1925 2750 2087 2862 \nQ 2250 2975 2450 2975 \nQ 2750 2975 2900 2812 \nQ 3050 2650 3050 2350 \nL 3050 125 \nz\n\" transform=\"scale(0.015625)\"/>\n       <path id=\"SimHei-75\" d=\"M 2800 125 \nL 2300 125 \nL 2300 650 \nQ 2100 375 1862 225 \nQ 1625 75 1250 75 \nQ 800 75 575 325 \nQ 350 575 350 950 \nL 350 2925 \nL 850 2925 \nL 850 1125 \nQ 850 825 1000 650 \nQ 1150 475 1400 475 \nQ 1725 475 2012 812 \nQ 2300 1150 2300 1650 \nL 2300 2925 \nL 2800 2925 \nL 2800 125 \nz\n\" transform=\"scale(0.015625)\"/>\n       <path id=\"SimHei-6e\" d=\"M 2800 125 \nL 2300 125 \nL 2300 1925 \nQ 2300 2225 2150 2400 \nQ 2000 2575 1750 2575 \nQ 1425 2575 1137 2237 \nQ 850 1900 850 1400 \nL 850 125 \nL 350 125 \nL 350 2925 \nL 850 2925 \nL 850 2400 \nQ 1050 2675 1287 2825 \nQ 1525 2975 1900 2975 \nQ 2350 2975 2575 2725 \nQ 2800 2475 2800 2100 \nL 2800 125 \nz\n\" transform=\"scale(0.015625)\"/>\n       <path id=\"SimHei-74\" d=\"M 2750 200 \nQ 2625 150 2462 112 \nQ 2300 75 2025 75 \nQ 1575 75 1300 325 \nQ 1025 575 1025 1025 \nL 1025 2525 \nL 175 2525 \nL 175 2925 \nL 1025 2925 \nL 1025 3900 \nL 1525 3900 \nL 1525 2925 \nL 2550 2925 \nL 2550 2525 \nL 1525 2525 \nL 1525 1000 \nQ 1525 800 1625 662 \nQ 1725 525 2000 525 \nQ 2275 525 2450 575 \nQ 2625 625 2750 700 \nL 2750 200 \nz\n\" transform=\"scale(0.015625)\"/>\n      </defs>\n      <use xlink:href=\"#SimHei-6f\"/>\n      <use xlink:href=\"#SimHei-72\" x=\"50\"/>\n      <use xlink:href=\"#SimHei-64\" x=\"100\"/>\n      <use xlink:href=\"#SimHei-65\" x=\"150\"/>\n      <use xlink:href=\"#SimHei-72\" x=\"200\"/>\n      <use xlink:href=\"#SimHei-41\" x=\"250\"/>\n      <use xlink:href=\"#SimHei-6d\" x=\"300\"/>\n      <use xlink:href=\"#SimHei-6f\" x=\"350\"/>\n      <use xlink:href=\"#SimHei-75\" x=\"400\"/>\n      <use xlink:href=\"#SimHei-6e\" x=\"450\"/>\n      <use xlink:href=\"#SimHei-74\" x=\"500\"/>\n     </g>\n    </g>\n   </g>\n   <g id=\"text_2\">\n    <!-- 渠道-0896 -->\n    <g transform=\"translate(265.574553 78.470535) scale(0.1 -0.1)\">\n     <defs>\n      <path id=\"SimHei-6e20\" d=\"M 5050 4975 \nQ 5350 4975 5825 5000 \nL 5825 4600 \nQ 5350 4625 5050 4625 \nL 3075 4625 \nL 3075 4175 \nL 5425 4175 \nQ 5400 3850 5400 3550 \nQ 5400 3275 5425 3000 \nL 3075 3000 \nL 3075 2550 \nL 4975 2550 \nQ 5275 2550 5750 2575 \nL 5750 2175 \nQ 5275 2200 4975 2200 \nL 2575 2200 \nQ 2600 2625 2600 3525 \nQ 2600 4450 2575 4975 \nL 5050 4975 \nz\nM 2950 -650 \nQ 2975 -100 2975 1075 \nQ 2500 375 1837 12 \nQ 1175 -350 600 -600 \nQ 500 -325 225 -125 \nQ 1100 125 1612 400 \nQ 2125 675 2500 1150 \nL 1250 1150 \nQ 825 1150 400 1125 \nL 400 1550 \nQ 825 1525 1250 1525 \nL 2975 1525 \nQ 2975 1750 2950 2050 \nL 3450 2050 \nQ 3425 1775 3425 1525 \nL 5050 1525 \nQ 5575 1525 6000 1550 \nL 6000 1125 \nQ 5575 1150 5075 1150 \nL 3925 1150 \nQ 4450 525 5050 300 \nQ 5650 75 6175 25 \nQ 5950 -175 5875 -475 \nQ 5100 -300 4512 50 \nQ 3925 400 3425 1150 \nQ 3425 -100 3450 -650 \nL 2950 -650 \nz\nM 4950 3350 \nL 4950 3800 \nL 3075 3800 \nL 3075 3350 \nL 4950 3350 \nz\nM 2175 3025 \nQ 2000 2825 1712 2562 \nQ 1425 2300 950 1850 \nL 575 2225 \nQ 950 2450 1337 2800 \nQ 1725 3150 1950 3450 \nQ 2050 3175 2175 3025 \nz\nM 1425 3500 \nQ 1050 3775 525 4000 \nQ 650 4200 725 4375 \nQ 1300 4150 1700 3900 \nQ 1525 3700 1425 3500 \nz\nM 1900 4325 \nQ 1675 4575 1075 4925 \nQ 1225 5125 1350 5275 \nQ 1925 4925 2225 4650 \nQ 2025 4500 1900 4325 \nz\n\" transform=\"scale(0.015625)\"/>\n      <path id=\"SimHei-9053\" d=\"M 1975 4325 \nQ 2350 4300 4250 4300 \nQ 4450 4775 4625 5275 \nQ 4950 5150 5175 5075 \nQ 5000 4900 4725 4300 \nQ 5700 4300 6125 4325 \nL 6125 3875 \nQ 5700 3900 4225 3900 \nL 4100 3400 \nL 5550 3400 \nQ 5525 2800 5525 1825 \nQ 5525 875 5550 400 \nL 2425 400 \nQ 2475 950 2475 1825 \nQ 2475 2700 2450 3400 \nL 3575 3400 \nL 3700 3900 \nQ 2350 3900 1975 3875 \nL 1975 4325 \nz\nM 300 2825 \nQ 700 2800 1000 2800 \nL 1525 2800 \nQ 1500 2400 1500 1950 \nL 1500 550 \nQ 2150 -50 3700 -50 \nQ 5275 -50 6100 75 \nQ 5975 -225 5900 -525 \nQ 4925 -550 4212 -537 \nQ 3500 -525 3025 -475 \nQ 2550 -425 2250 -312 \nQ 1950 -200 1637 12 \nQ 1325 225 1125 25 \nQ 925 -175 650 -550 \nQ 425 -325 200 -175 \nQ 575 75 1025 525 \nL 1025 2400 \nQ 650 2400 300 2375 \nL 300 2825 \nz\nM 5050 800 \nL 5050 1300 \nL 2975 1300 \nL 2975 800 \nL 5050 800 \nz\nM 5050 1675 \nL 5050 2150 \nL 2975 2150 \nL 2975 1675 \nL 5050 1675 \nz\nM 5050 2525 \nL 5050 3000 \nL 2975 3000 \nL 2975 2525 \nL 5050 2525 \nz\nM 1025 3675 \nQ 925 4125 700 4800 \nQ 1000 4850 1225 4950 \nQ 1400 4450 1550 3850 \nQ 1300 3800 1025 3675 \nz\nM 3025 5275 \nQ 3350 4875 3550 4600 \nQ 3350 4475 3150 4325 \nQ 2975 4625 2650 5000 \nQ 2825 5125 3025 5275 \nz\n\" transform=\"scale(0.015625)\"/>\n      <path id=\"SimHei-2d\" d=\"M 2975 2125 \nL 125 2125 \nL 125 2525 \nL 2975 2525 \nL 2975 2125 \nz\n\" transform=\"scale(0.015625)\"/>\n      <path id=\"SimHei-30\" d=\"M 225 2537 \nQ 250 3200 412 3587 \nQ 575 3975 875 4225 \nQ 1175 4475 1612 4475 \nQ 2050 4475 2375 4112 \nQ 2700 3750 2800 3200 \nQ 2900 2650 2862 1937 \nQ 2825 1225 2612 775 \nQ 2400 325 1975 150 \nQ 1550 -25 1125 187 \nQ 700 400 525 750 \nQ 350 1100 275 1487 \nQ 200 1875 225 2537 \nz\nM 750 2687 \nQ 675 2000 800 1462 \nQ 925 925 1212 700 \nQ 1500 475 1800 612 \nQ 2100 750 2237 1162 \nQ 2375 1575 2375 2062 \nQ 2375 2550 2337 2950 \nQ 2300 3350 2112 3675 \nQ 1925 4000 1612 4012 \nQ 1300 4025 1062 3700 \nQ 825 3375 750 2687 \nz\n\" transform=\"scale(0.015625)\"/>\n      <path id=\"SimHei-38\" d=\"M 175 1375 \nQ 175 1675 325 1962 \nQ 475 2250 825 2425 \nQ 525 2600 425 2812 \nQ 325 3025 312 3300 \nQ 300 3575 387 3775 \nQ 475 3975 650 4150 \nQ 825 4325 1037 4387 \nQ 1250 4450 1500 4450 \nQ 1750 4450 1950 4400 \nQ 2150 4350 2375 4187 \nQ 2600 4025 2700 3725 \nQ 2800 3425 2687 3025 \nQ 2575 2625 2100 2400 \nQ 2525 2275 2700 2012 \nQ 2875 1750 2875 1375 \nQ 2875 1000 2762 775 \nQ 2650 550 2512 400 \nQ 2375 250 2137 162 \nQ 1900 75 1537 75 \nQ 1175 75 912 162 \nQ 650 250 475 425 \nQ 300 600 237 837 \nQ 175 1075 175 1375 \nz\nM 687 1400 \nQ 675 1100 787 875 \nQ 900 650 1200 587 \nQ 1500 525 1825 600 \nQ 2150 675 2275 950 \nQ 2400 1225 2362 1500 \nQ 2325 1775 2050 1962 \nQ 1775 2150 1450 2125 \nQ 1125 2100 912 1900 \nQ 700 1700 687 1400 \nz\nM 775 3350 \nQ 775 3100 950 2875 \nQ 1125 2650 1500 2650 \nQ 1875 2650 2062 2875 \nQ 2250 3100 2237 3412 \nQ 2225 3725 2012 3875 \nQ 1800 4025 1437 4000 \nQ 1075 3975 925 3787 \nQ 775 3600 775 3350 \nz\n\" transform=\"scale(0.015625)\"/>\n      <path id=\"SimHei-39\" d=\"M 800 75 \nQ 1350 1000 1700 1750 \nQ 1075 1650 662 1912 \nQ 250 2175 162 2625 \nQ 75 3075 175 3437 \nQ 275 3800 487 4037 \nQ 700 4275 1000 4375 \nQ 1300 4475 1537 4475 \nQ 1775 4475 2025 4375 \nQ 2275 4275 2475 4075 \nQ 2675 3875 2750 3662 \nQ 2825 3450 2825 3112 \nQ 2825 2775 2575 2250 \nQ 2325 1725 1350 75 \nL 800 75 \nz\nM 662 2875 \nQ 700 2550 937 2337 \nQ 1175 2125 1450 2150 \nQ 1725 2175 1887 2300 \nQ 2050 2425 2200 2725 \nQ 2300 3100 2250 3362 \nQ 2200 3625 1987 3800 \nQ 1775 3975 1525 3975 \nQ 1375 4000 1137 3900 \nQ 900 3800 762 3500 \nQ 625 3200 662 2875 \nz\n\" transform=\"scale(0.015625)\"/>\n      <path id=\"SimHei-36\" d=\"M 250 1612 \nQ 275 1975 387 2225 \nQ 500 2475 725 2850 \nL 1750 4450 \nL 2325 4450 \nL 1275 2800 \nQ 1950 2975 2350 2750 \nQ 2750 2525 2887 2237 \nQ 3025 1950 3037 1612 \nQ 3050 1275 2937 950 \nQ 2825 625 2537 362 \nQ 2250 100 1737 75 \nQ 1225 50 862 262 \nQ 500 475 362 862 \nQ 225 1250 250 1612 \nz\nM 1025 787 \nQ 1250 550 1625 525 \nQ 2000 500 2250 775 \nQ 2500 1050 2500 1575 \nQ 2500 2100 2187 2300 \nQ 1875 2500 1487 2450 \nQ 1100 2400 925 2075 \nQ 750 1750 775 1387 \nQ 800 1025 1025 787 \nz\n\" transform=\"scale(0.015625)\"/>\n     </defs>\n     <use xlink:href=\"#SimHei-6e20\"/>\n     <use xlink:href=\"#SimHei-9053\" x=\"100\"/>\n     <use xlink:href=\"#SimHei-2d\" x=\"200\"/>\n     <use xlink:href=\"#SimHei-30\" x=\"250\"/>\n     <use xlink:href=\"#SimHei-38\" x=\"300\"/>\n     <use xlink:href=\"#SimHei-39\" x=\"350\"/>\n     <use xlink:href=\"#SimHei-36\" x=\"400\"/>\n    </g>\n   </g>\n   <g id=\"text_3\">\n    <!-- 渠道-9527 -->\n    <g transform=\"translate(116.645268 26.734548) scale(0.1 -0.1)\">\n     <defs>\n      <path id=\"SimHei-35\" d=\"M 550 1325 \nQ 725 650 1150 575 \nQ 1575 500 1837 662 \nQ 2100 825 2212 1087 \nQ 2325 1350 2312 1675 \nQ 2300 2000 2137 2225 \nQ 1975 2450 1725 2525 \nQ 1475 2600 1162 2525 \nQ 850 2450 650 2175 \nL 225 2225 \nQ 275 2375 700 4375 \nL 2675 4375 \nL 2675 3925 \nL 1075 3925 \nQ 950 3250 825 2850 \nQ 1200 3025 1525 3012 \nQ 1850 3000 2150 2862 \nQ 2450 2725 2587 2487 \nQ 2725 2250 2787 2012 \nQ 2850 1775 2837 1500 \nQ 2825 1225 2725 937 \nQ 2625 650 2425 462 \nQ 2225 275 1937 162 \nQ 1650 50 1275 75 \nQ 900 100 562 350 \nQ 225 600 100 1200 \nL 550 1325 \nz\n\" transform=\"scale(0.015625)\"/>\n      <path id=\"SimHei-32\" d=\"M 300 250 \nQ 325 625 650 925 \nQ 975 1225 1475 1862 \nQ 1975 2500 2125 2850 \nQ 2275 3200 2237 3450 \nQ 2200 3700 2000 3862 \nQ 1800 4025 1537 4000 \nQ 1275 3975 1037 3800 \nQ 800 3625 675 3275 \nL 200 3350 \nQ 400 3925 712 4187 \nQ 1025 4450 1450 4475 \nQ 1700 4500 1900 4462 \nQ 2100 4425 2312 4287 \nQ 2525 4150 2662 3875 \nQ 2800 3600 2762 3212 \nQ 2725 2825 2375 2287 \nQ 2025 1750 1025 600 \nL 2825 600 \nL 2825 150 \nL 300 150 \nL 300 250 \nz\n\" transform=\"scale(0.015625)\"/>\n      <path id=\"SimHei-37\" d=\"M 850 150 \nQ 1300 2050 2425 3925 \nL 275 3925 \nL 275 4375 \nL 2950 4375 \nL 2950 3950 \nQ 1775 2050 1400 150 \nL 850 150 \nz\n\" transform=\"scale(0.015625)\"/>\n     </defs>\n     <use xlink:href=\"#SimHei-6e20\"/>\n     <use xlink:href=\"#SimHei-9053\" x=\"100\"/>\n     <use xlink:href=\"#SimHei-2d\" x=\"200\"/>\n     <use xlink:href=\"#SimHei-39\" x=\"250\"/>\n     <use xlink:href=\"#SimHei-35\" x=\"300\"/>\n     <use xlink:href=\"#SimHei-32\" x=\"350\"/>\n     <use xlink:href=\"#SimHei-37\" x=\"400\"/>\n    </g>\n   </g>\n   <g id=\"text_4\">\n    <!-- 渠道-0530 -->\n    <g transform=\"translate(28.809633 74.478546) scale(0.1 -0.1)\">\n     <defs>\n      <path id=\"SimHei-33\" d=\"M 250 1225 \nL 700 1300 \nQ 800 975 1025 762 \nQ 1250 550 1587 562 \nQ 1925 575 2125 837 \nQ 2325 1100 2300 1437 \nQ 2275 1775 2037 1962 \nQ 1800 2150 1275 2225 \nL 1275 2550 \nQ 1800 2600 2037 2825 \nQ 2275 3050 2250 3412 \nQ 2225 3775 1925 3937 \nQ 1625 4100 1287 3975 \nQ 950 3850 750 3275 \nL 300 3350 \nQ 450 3800 712 4100 \nQ 975 4400 1425 4450 \nQ 1875 4500 2212 4337 \nQ 2550 4175 2687 3837 \nQ 2825 3500 2725 3100 \nQ 2625 2700 2150 2400 \nQ 2500 2250 2687 1950 \nQ 2875 1650 2812 1162 \nQ 2750 675 2375 375 \nQ 2000 75 1525 87 \nQ 1050 100 700 387 \nQ 350 675 250 1225 \nz\n\" transform=\"scale(0.015625)\"/>\n     </defs>\n     <use xlink:href=\"#SimHei-6e20\"/>\n     <use xlink:href=\"#SimHei-9053\" x=\"100\"/>\n     <use xlink:href=\"#SimHei-2d\" x=\"200\"/>\n     <use xlink:href=\"#SimHei-30\" x=\"250\"/>\n     <use xlink:href=\"#SimHei-35\" x=\"300\"/>\n     <use xlink:href=\"#SimHei-33\" x=\"350\"/>\n     <use xlink:href=\"#SimHei-30\" x=\"400\"/>\n    </g>\n   </g>\n   <g id=\"text_5\">\n    <!-- 渠道-0765 -->\n    <g transform=\"translate(7.2 158.869095) scale(0.1 -0.1)\">\n     <use xlink:href=\"#SimHei-6e20\"/>\n     <use xlink:href=\"#SimHei-9053\" x=\"100\"/>\n     <use xlink:href=\"#SimHei-2d\" x=\"200\"/>\n     <use xlink:href=\"#SimHei-30\" x=\"250\"/>\n     <use xlink:href=\"#SimHei-37\" x=\"300\"/>\n     <use xlink:href=\"#SimHei-36\" x=\"350\"/>\n     <use xlink:href=\"#SimHei-35\" x=\"400\"/>\n    </g>\n   </g>\n   <g id=\"text_6\">\n    <!-- 渠道-0396 -->\n    <g transform=\"translate(38.06787 223.924412) scale(0.1 -0.1)\">\n     <use xlink:href=\"#SimHei-6e20\"/>\n     <use xlink:href=\"#SimHei-9053\" x=\"100\"/>\n     <use xlink:href=\"#SimHei-2d\" x=\"200\"/>\n     <use xlink:href=\"#SimHei-30\" x=\"250\"/>\n     <use xlink:href=\"#SimHei-33\" x=\"300\"/>\n     <use xlink:href=\"#SimHei-39\" x=\"350\"/>\n     <use xlink:href=\"#SimHei-36\" x=\"400\"/>\n    </g>\n   </g>\n   <g id=\"text_7\">\n    <!-- 渠道-0007 -->\n    <g transform=\"translate(97.321458 257.807259) scale(0.1 -0.1)\">\n     <use xlink:href=\"#SimHei-6e20\"/>\n     <use xlink:href=\"#SimHei-9053\" x=\"100\"/>\n     <use xlink:href=\"#SimHei-2d\" x=\"200\"/>\n     <use xlink:href=\"#SimHei-30\" x=\"250\"/>\n     <use xlink:href=\"#SimHei-30\" x=\"300\"/>\n     <use xlink:href=\"#SimHei-30\" x=\"350\"/>\n     <use xlink:href=\"#SimHei-37\" x=\"400\"/>\n    </g>\n   </g>\n   <g id=\"text_8\">\n    <!-- 渠道-0985 -->\n    <g transform=\"translate(202.229412 255.698673) scale(0.1 -0.1)\">\n     <use xlink:href=\"#SimHei-6e20\"/>\n     <use xlink:href=\"#SimHei-9053\" x=\"100\"/>\n     <use xlink:href=\"#SimHei-2d\" x=\"200\"/>\n     <use xlink:href=\"#SimHei-30\" x=\"250\"/>\n     <use xlink:href=\"#SimHei-39\" x=\"300\"/>\n     <use xlink:href=\"#SimHei-38\" x=\"350\"/>\n     <use xlink:href=\"#SimHei-35\" x=\"400\"/>\n    </g>\n   </g>\n   <g id=\"text_9\">\n    <!-- 渠道-0283 -->\n    <g transform=\"translate(247.38226 229.976947) scale(0.1 -0.1)\">\n     <use xlink:href=\"#SimHei-6e20\"/>\n     <use xlink:href=\"#SimHei-9053\" x=\"100\"/>\n     <use xlink:href=\"#SimHei-2d\" x=\"200\"/>\n     <use xlink:href=\"#SimHei-30\" x=\"250\"/>\n     <use xlink:href=\"#SimHei-32\" x=\"300\"/>\n     <use xlink:href=\"#SimHei-38\" x=\"350\"/>\n     <use xlink:href=\"#SimHei-33\" x=\"400\"/>\n    </g>\n   </g>\n   <g id=\"text_10\">\n    <!-- 渠道-0568 -->\n    <g transform=\"translate(273.632519 194.759244) scale(0.1 -0.1)\">\n     <use xlink:href=\"#SimHei-6e20\"/>\n     <use xlink:href=\"#SimHei-9053\" x=\"100\"/>\n     <use xlink:href=\"#SimHei-2d\" x=\"200\"/>\n     <use xlink:href=\"#SimHei-30\" x=\"250\"/>\n     <use xlink:href=\"#SimHei-35\" x=\"300\"/>\n     <use xlink:href=\"#SimHei-36\" x=\"350\"/>\n     <use xlink:href=\"#SimHei-38\" x=\"400\"/>\n    </g>\n   </g>\n   <g id=\"text_11\">\n    <!-- 渠道-0168 -->\n    <g transform=\"translate(284.085259 161.021279) scale(0.1 -0.1)\">\n     <defs>\n      <path id=\"SimHei-31\" d=\"M 1400 3600 \nQ 1075 3275 575 2975 \nL 575 3450 \nQ 1200 3875 1600 4450 \nL 1900 4450 \nL 1900 150 \nL 1400 150 \nL 1400 3600 \nz\n\" transform=\"scale(0.015625)\"/>\n     </defs>\n     <use xlink:href=\"#SimHei-6e20\"/>\n     <use xlink:href=\"#SimHei-9053\" x=\"100\"/>\n     <use xlink:href=\"#SimHei-2d\" x=\"200\"/>\n     <use xlink:href=\"#SimHei-30\" x=\"250\"/>\n     <use xlink:href=\"#SimHei-31\" x=\"300\"/>\n     <use xlink:href=\"#SimHei-36\" x=\"350\"/>\n     <use xlink:href=\"#SimHei-38\" x=\"400\"/>\n    </g>\n   </g>\n  </g>\n </g>\n</svg>\n"
     },
     "metadata": {},
     "output_type": "display_data"
    }
   ],
   "source": [
    "gmv_ser.plot(kind='pie')"
   ],
   "metadata": {
    "collapsed": false
   }
  },
  {
   "cell_type": "markdown",
   "source": [],
   "metadata": {
    "collapsed": false
   }
  },
  {
   "cell_type": "markdown",
   "source": [
    "#### 周一至周日下单量"
   ],
   "metadata": {
    "collapsed": false
   }
  },
  {
   "cell_type": "code",
   "execution_count": 53,
   "outputs": [],
   "source": [
    "df['week']=df.orderTime.dt.dayofweek"
   ],
   "metadata": {
    "collapsed": false
   }
  },
  {
   "cell_type": "code",
   "execution_count": 54,
   "outputs": [
    {
     "data": {
      "text/plain": "                   orderID       userID   goodsID  orderAmount  payment  \\\nid                                                                        \n6       sys-2019-279103297  user-146548  PR000564       425.20   425.20   \n7       sys-2019-316686066  user-104210  PR000709      1764.37  1707.04   \n8       sys-2019-306447069  user-104863  PR000499       499.41   480.42   \n9       sys-2019-290267674  user-206155  PR000253      1103.00  1050.95   \n10      sys-2019-337079027  user-137939  PR000768       465.41   465.41   \n...                    ...          ...       ...          ...      ...   \n104297  sys-2019-344079195  user-182248  PR000813       831.29   766.07   \n104298  sys-2019-296195955  user-143322  PR000938      1565.67  1414.89   \n104299  sys-2019-382387725  user-220484  PR000782      3326.83  3273.54   \n104300  sys-2019-303891464  user-285133  PR000096       241.75   241.75   \n104301  sys-2019-291405901  user-298747  PR000369       442.85   339.78   \n\n       channelID platformType           orderTime             payTime  \\\nid                                                                      \n6        渠道-0765     wechatmp 2019-01-01 00:12:23 2019-01-01 00:13:37   \n7        渠道-0396     wechatmp 2019-01-01 00:23:06 2019-01-01 00:23:32   \n8        渠道-0007     wechatmp 2019-01-01 01:05:50 2019-01-01 01:06:17   \n9        渠道-0330          app 2019-01-01 01:16:12 2019-01-01 01:16:25   \n10       渠道-9527        alimp 2019-01-01 01:31:00 2019-01-01 01:31:36   \n...          ...          ...                 ...                 ...   \n104297   渠道-0896     wechatmp 2019-12-31 23:32:55 2019-12-31 23:33:06   \n104298   渠道-0007          app 2019-12-31 23:33:05 2019-12-31 23:34:36   \n104299   渠道-0530          web 2019-12-31 23:37:30 2019-12-31 23:37:44   \n104300   渠道-0765     wechatmp 2019-12-31 23:38:43 2019-12-31 23:39:01   \n104301   渠道-0283     wechatmp 2019-12-31 23:48:34 2019-12-31 23:49:04   \n\n       chargeback  discount  month  week  \nid                                        \n6               否  1.000000      1     1  \n7               否  0.967507      1     1  \n8               否  0.961975      1     1  \n9               否  0.952811      1     1  \n10              否  1.000000      1     1  \n...           ...       ...    ...   ...  \n104297          否  0.921544     12     1  \n104298          是  0.903696     12     1  \n104299          否  0.983982     12     1  \n104300          是  1.000000     12     1  \n104301          否  0.767258     12     1  \n\n[103348 rows x 13 columns]",
      "text/html": "<div>\n<style scoped>\n    .dataframe tbody tr th:only-of-type {\n        vertical-align: middle;\n    }\n\n    .dataframe tbody tr th {\n        vertical-align: top;\n    }\n\n    .dataframe thead th {\n        text-align: right;\n    }\n</style>\n<table border=\"1\" class=\"dataframe\">\n  <thead>\n    <tr style=\"text-align: right;\">\n      <th></th>\n      <th>orderID</th>\n      <th>userID</th>\n      <th>goodsID</th>\n      <th>orderAmount</th>\n      <th>payment</th>\n      <th>channelID</th>\n      <th>platformType</th>\n      <th>orderTime</th>\n      <th>payTime</th>\n      <th>chargeback</th>\n      <th>discount</th>\n      <th>month</th>\n      <th>week</th>\n    </tr>\n    <tr>\n      <th>id</th>\n      <th></th>\n      <th></th>\n      <th></th>\n      <th></th>\n      <th></th>\n      <th></th>\n      <th></th>\n      <th></th>\n      <th></th>\n      <th></th>\n      <th></th>\n      <th></th>\n      <th></th>\n    </tr>\n  </thead>\n  <tbody>\n    <tr>\n      <th>6</th>\n      <td>sys-2019-279103297</td>\n      <td>user-146548</td>\n      <td>PR000564</td>\n      <td>425.20</td>\n      <td>425.20</td>\n      <td>渠道-0765</td>\n      <td>wechatmp</td>\n      <td>2019-01-01 00:12:23</td>\n      <td>2019-01-01 00:13:37</td>\n      <td>否</td>\n      <td>1.000000</td>\n      <td>1</td>\n      <td>1</td>\n    </tr>\n    <tr>\n      <th>7</th>\n      <td>sys-2019-316686066</td>\n      <td>user-104210</td>\n      <td>PR000709</td>\n      <td>1764.37</td>\n      <td>1707.04</td>\n      <td>渠道-0396</td>\n      <td>wechatmp</td>\n      <td>2019-01-01 00:23:06</td>\n      <td>2019-01-01 00:23:32</td>\n      <td>否</td>\n      <td>0.967507</td>\n      <td>1</td>\n      <td>1</td>\n    </tr>\n    <tr>\n      <th>8</th>\n      <td>sys-2019-306447069</td>\n      <td>user-104863</td>\n      <td>PR000499</td>\n      <td>499.41</td>\n      <td>480.42</td>\n      <td>渠道-0007</td>\n      <td>wechatmp</td>\n      <td>2019-01-01 01:05:50</td>\n      <td>2019-01-01 01:06:17</td>\n      <td>否</td>\n      <td>0.961975</td>\n      <td>1</td>\n      <td>1</td>\n    </tr>\n    <tr>\n      <th>9</th>\n      <td>sys-2019-290267674</td>\n      <td>user-206155</td>\n      <td>PR000253</td>\n      <td>1103.00</td>\n      <td>1050.95</td>\n      <td>渠道-0330</td>\n      <td>app</td>\n      <td>2019-01-01 01:16:12</td>\n      <td>2019-01-01 01:16:25</td>\n      <td>否</td>\n      <td>0.952811</td>\n      <td>1</td>\n      <td>1</td>\n    </tr>\n    <tr>\n      <th>10</th>\n      <td>sys-2019-337079027</td>\n      <td>user-137939</td>\n      <td>PR000768</td>\n      <td>465.41</td>\n      <td>465.41</td>\n      <td>渠道-9527</td>\n      <td>alimp</td>\n      <td>2019-01-01 01:31:00</td>\n      <td>2019-01-01 01:31:36</td>\n      <td>否</td>\n      <td>1.000000</td>\n      <td>1</td>\n      <td>1</td>\n    </tr>\n    <tr>\n      <th>...</th>\n      <td>...</td>\n      <td>...</td>\n      <td>...</td>\n      <td>...</td>\n      <td>...</td>\n      <td>...</td>\n      <td>...</td>\n      <td>...</td>\n      <td>...</td>\n      <td>...</td>\n      <td>...</td>\n      <td>...</td>\n      <td>...</td>\n    </tr>\n    <tr>\n      <th>104297</th>\n      <td>sys-2019-344079195</td>\n      <td>user-182248</td>\n      <td>PR000813</td>\n      <td>831.29</td>\n      <td>766.07</td>\n      <td>渠道-0896</td>\n      <td>wechatmp</td>\n      <td>2019-12-31 23:32:55</td>\n      <td>2019-12-31 23:33:06</td>\n      <td>否</td>\n      <td>0.921544</td>\n      <td>12</td>\n      <td>1</td>\n    </tr>\n    <tr>\n      <th>104298</th>\n      <td>sys-2019-296195955</td>\n      <td>user-143322</td>\n      <td>PR000938</td>\n      <td>1565.67</td>\n      <td>1414.89</td>\n      <td>渠道-0007</td>\n      <td>app</td>\n      <td>2019-12-31 23:33:05</td>\n      <td>2019-12-31 23:34:36</td>\n      <td>是</td>\n      <td>0.903696</td>\n      <td>12</td>\n      <td>1</td>\n    </tr>\n    <tr>\n      <th>104299</th>\n      <td>sys-2019-382387725</td>\n      <td>user-220484</td>\n      <td>PR000782</td>\n      <td>3326.83</td>\n      <td>3273.54</td>\n      <td>渠道-0530</td>\n      <td>web</td>\n      <td>2019-12-31 23:37:30</td>\n      <td>2019-12-31 23:37:44</td>\n      <td>否</td>\n      <td>0.983982</td>\n      <td>12</td>\n      <td>1</td>\n    </tr>\n    <tr>\n      <th>104300</th>\n      <td>sys-2019-303891464</td>\n      <td>user-285133</td>\n      <td>PR000096</td>\n      <td>241.75</td>\n      <td>241.75</td>\n      <td>渠道-0765</td>\n      <td>wechatmp</td>\n      <td>2019-12-31 23:38:43</td>\n      <td>2019-12-31 23:39:01</td>\n      <td>是</td>\n      <td>1.000000</td>\n      <td>12</td>\n      <td>1</td>\n    </tr>\n    <tr>\n      <th>104301</th>\n      <td>sys-2019-291405901</td>\n      <td>user-298747</td>\n      <td>PR000369</td>\n      <td>442.85</td>\n      <td>339.78</td>\n      <td>渠道-0283</td>\n      <td>wechatmp</td>\n      <td>2019-12-31 23:48:34</td>\n      <td>2019-12-31 23:49:04</td>\n      <td>否</td>\n      <td>0.767258</td>\n      <td>12</td>\n      <td>1</td>\n    </tr>\n  </tbody>\n</table>\n<p>103348 rows × 13 columns</p>\n</div>"
     },
     "execution_count": 54,
     "metadata": {},
     "output_type": "execute_result"
    }
   ],
   "source": [
    "df"
   ],
   "metadata": {
    "collapsed": false
   }
  },
  {
   "cell_type": "code",
   "execution_count": 55,
   "outputs": [],
   "source": [
    "week_count= df.groupby(by='week').orderID"
   ],
   "metadata": {
    "collapsed": false
   }
  },
  {
   "cell_type": "code",
   "execution_count": 56,
   "outputs": [],
   "source": [
    "week_order_count = week_count.count()"
   ],
   "metadata": {
    "collapsed": false
   }
  },
  {
   "cell_type": "code",
   "execution_count": 64,
   "outputs": [
    {
     "data": {
      "text/plain": "<Figure size 640x480 with 1 Axes>",
      "image/svg+xml": "<?xml version=\"1.0\" encoding=\"utf-8\" standalone=\"no\"?>\n<!DOCTYPE svg PUBLIC \"-//W3C//DTD SVG 1.1//EN\"\n  \"http://www.w3.org/Graphics/SVG/1.1/DTD/svg11.dtd\">\n<svg xmlns:xlink=\"http://www.w3.org/1999/xlink\" width=\"403.52pt\" height=\"329.637pt\" viewBox=\"0 0 403.52 329.637\" xmlns=\"http://www.w3.org/2000/svg\" version=\"1.1\">\n <metadata>\n  <rdf:RDF xmlns:dc=\"http://purl.org/dc/elements/1.1/\" xmlns:cc=\"http://creativecommons.org/ns#\" xmlns:rdf=\"http://www.w3.org/1999/02/22-rdf-syntax-ns#\">\n   <cc:Work>\n    <dc:type rdf:resource=\"http://purl.org/dc/dcmitype/StillImage\"/>\n    <dc:date>2023-02-21T16:09:53.115248</dc:date>\n    <dc:format>image/svg+xml</dc:format>\n    <dc:creator>\n     <cc:Agent>\n      <dc:title>Matplotlib v3.7.0, https://matplotlib.org/</dc:title>\n     </cc:Agent>\n    </dc:creator>\n   </cc:Work>\n  </rdf:RDF>\n </metadata>\n <defs>\n  <style type=\"text/css\">*{stroke-linejoin: round; stroke-linecap: butt}</style>\n </defs>\n <g id=\"figure_1\">\n  <g id=\"patch_1\">\n   <path d=\"M 0 329.637 \nL 403.52 329.637 \nL 403.52 0 \nL 0 0 \nz\n\" style=\"fill: #ffffff\"/>\n  </g>\n  <g id=\"axes_1\">\n   <g id=\"patch_2\">\n    <path d=\"M 39.2 273.312 \nL 396.32 273.312 \nL 396.32 7.2 \nL 39.2 7.2 \nz\n\" style=\"fill: #ffffff\"/>\n   </g>\n   <g id=\"patch_3\">\n    <path d=\"M 51.954286 273.312 \nL 77.462857 273.312 \nL 77.462857 19.872 \nL 51.954286 19.872 \nz\n\" clip-path=\"url(#p0c44703533)\" style=\"fill: #1f77b4\"/>\n   </g>\n   <g id=\"patch_4\">\n    <path d=\"M 102.971429 273.312 \nL 128.48 273.312 \nL 128.48 20.361946 \nL 102.971429 20.361946 \nz\n\" clip-path=\"url(#p0c44703533)\" style=\"fill: #1f77b4\"/>\n   </g>\n   <g id=\"patch_5\">\n    <path d=\"M 153.988571 273.312 \nL 179.497143 273.312 \nL 179.497143 52.085965 \nL 153.988571 52.085965 \nz\n\" clip-path=\"url(#p0c44703533)\" style=\"fill: #1f77b4\"/>\n   </g>\n   <g id=\"patch_6\">\n    <path d=\"M 205.005714 273.312 \nL 230.514286 273.312 \nL 230.514286 72.097206 \nL 205.005714 72.097206 \nz\n\" clip-path=\"url(#p0c44703533)\" style=\"fill: #1f77b4\"/>\n   </g>\n   <g id=\"patch_7\">\n    <path d=\"M 256.022857 273.312 \nL 281.531429 273.312 \nL 281.531429 72.449355 \nL 256.022857 72.449355 \nz\n\" clip-path=\"url(#p0c44703533)\" style=\"fill: #1f77b4\"/>\n   </g>\n   <g id=\"patch_8\">\n    <path d=\"M 307.04 273.312 \nL 332.548571 273.312 \nL 332.548571 54.336655 \nL 307.04 54.336655 \nz\n\" clip-path=\"url(#p0c44703533)\" style=\"fill: #1f77b4\"/>\n   </g>\n   <g id=\"patch_9\">\n    <path d=\"M 358.057143 273.312 \nL 383.565714 273.312 \nL 383.565714 39.638268 \nL 358.057143 39.638268 \nz\n\" clip-path=\"url(#p0c44703533)\" style=\"fill: #1f77b4\"/>\n   </g>\n   <g id=\"matplotlib.axis_1\">\n    <g id=\"xtick_1\">\n     <g id=\"line2d_1\">\n      <defs>\n       <path id=\"mdca4c8b5a1\" d=\"M 0 0 \nL 0 3.5 \n\" style=\"stroke: #000000; stroke-width: 0.8\"/>\n      </defs>\n      <g>\n       <use xlink:href=\"#mdca4c8b5a1\" x=\"64.708571\" y=\"273.312\" style=\"stroke: #000000; stroke-width: 0.8\"/>\n      </g>\n     </g>\n     <g id=\"text_1\">\n      <!-- 星期一 -->\n      <g transform=\"translate(67.97029 310.312) rotate(-90) scale(0.1 -0.1)\">\n       <defs>\n        <path id=\"SimHei-661f\" d=\"M 1000 2800 \nQ 1025 3225 1025 3850 \nQ 1025 4475 1000 4950 \nL 5375 4950 \nQ 5350 4475 5350 3850 \nQ 5350 3225 5375 2800 \nL 1000 2800 \nz\nM 3525 2525 \nQ 3500 2225 3500 1925 \nQ 5050 1925 5550 1950 \nL 5550 1475 \nQ 5050 1500 3500 1500 \nL 3500 900 \nQ 4925 900 5350 925 \nL 5350 475 \nQ 4925 500 3500 500 \nL 3500 -175 \nL 5075 -175 \nQ 5500 -175 6025 -125 \nL 6025 -625 \nQ 5500 -600 5075 -600 \nL 1350 -600 \nQ 850 -600 375 -650 \nL 375 -125 \nQ 850 -150 1350 -175 \nL 2975 -175 \nL 2975 500 \nQ 1700 500 1325 475 \nL 1325 925 \nQ 1700 900 2975 900 \nL 2975 1500 \nL 1350 1500 \nQ 1200 1350 1062 1150 \nQ 925 950 650 650 \nQ 500 775 225 1000 \nQ 550 1300 850 1700 \nQ 1150 2100 1350 2525 \nQ 1600 2375 1950 2250 \nQ 1725 2075 1600 1925 \nL 2975 1925 \nQ 2975 2225 2950 2525 \nL 3525 2525 \nz\nM 4825 4075 \nL 4825 4550 \nL 1550 4550 \nL 1550 4075 \nL 4825 4075 \nz\nM 4825 3200 \nL 4825 3675 \nL 1550 3675 \nL 1550 3200 \nL 4825 3200 \nz\n\" transform=\"scale(0.015625)\"/>\n        <path id=\"SimHei-671f\" d=\"M 4900 -25 \nQ 5475 -100 5425 175 \nL 5425 1575 \nL 4325 1575 \nQ 4275 975 4050 425 \nQ 3825 -125 3400 -600 \nQ 3225 -375 2925 -275 \nQ 3350 150 3562 625 \nQ 3775 1100 3812 1575 \nQ 3850 2050 3850 3125 \nQ 3850 4225 3825 4875 \nL 5950 4875 \nQ 5925 4400 5925 3725 \nL 5925 50 \nQ 5925 -300 5700 -425 \nQ 5475 -550 5100 -600 \nQ 5100 -325 4900 -25 \nz\nM 950 4300 \nQ 950 4675 925 5125 \nL 1450 5125 \nQ 1425 4625 1425 4300 \nL 2550 4300 \nQ 2550 4775 2525 5125 \nL 3075 5125 \nQ 3050 4700 3050 4300 \nQ 3225 4300 3500 4325 \nL 3500 3900 \nQ 3250 3925 3050 3925 \nL 3050 1550 \nQ 3250 1550 3500 1575 \nL 3500 1150 \nQ 3025 1175 2575 1175 \nL 1225 1175 \nQ 675 1175 275 1150 \nL 275 1575 \nQ 650 1550 950 1550 \nL 950 3925 \nQ 725 3925 425 3900 \nL 425 4325 \nQ 700 4300 950 4300 \nz\nM 5425 3375 \nL 5425 4500 \nL 4350 4500 \nL 4350 3375 \nL 5425 3375 \nz\nM 5425 1950 \nL 5425 3000 \nL 4350 3000 \nL 4350 1950 \nL 5425 1950 \nz\nM 1600 725 \nQ 1425 650 1162 287 \nQ 900 -75 650 -350 \nQ 400 -175 225 -75 \nQ 450 100 700 412 \nQ 950 725 1100 1025 \nL 1600 725 \nz\nM 2550 3375 \nL 2550 3925 \nL 1425 3925 \nL 1425 3375 \nL 2550 3375 \nz\nM 2550 1550 \nL 2550 2100 \nL 1425 2100 \nL 1425 1550 \nL 2550 1550 \nz\nM 2550 2475 \nL 2550 3000 \nL 1425 3000 \nL 1425 2475 \nL 2550 2475 \nz\nM 2850 -75 \nQ 2450 525 2225 725 \nQ 2375 825 2550 1025 \nQ 2850 725 3250 275 \nQ 3050 125 2850 -75 \nz\n\" transform=\"scale(0.015625)\"/>\n        <path id=\"SimHei-4e00\" d=\"M 4875 2675 \nQ 5525 2675 6050 2700 \nL 6050 2050 \nQ 5525 2075 4900 2075 \nL 1600 2075 \nQ 950 2075 350 2050 \nL 350 2700 \nQ 950 2675 1600 2675 \nL 4875 2675 \nz\n\" transform=\"scale(0.015625)\"/>\n       </defs>\n       <use xlink:href=\"#SimHei-661f\"/>\n       <use xlink:href=\"#SimHei-671f\" x=\"100\"/>\n       <use xlink:href=\"#SimHei-4e00\" x=\"200\"/>\n      </g>\n     </g>\n    </g>\n    <g id=\"xtick_2\">\n     <g id=\"line2d_2\">\n      <g>\n       <use xlink:href=\"#mdca4c8b5a1\" x=\"115.725714\" y=\"273.312\" style=\"stroke: #000000; stroke-width: 0.8\"/>\n      </g>\n     </g>\n     <g id=\"text_2\">\n      <!-- 星期二 -->\n      <g transform=\"translate(118.987433 310.312) rotate(-90) scale(0.1 -0.1)\">\n       <defs>\n        <path id=\"SimHei-4e8c\" d=\"M 5050 625 \nQ 5650 625 6025 675 \nL 6025 50 \nQ 5625 75 5050 75 \nL 1425 75 \nQ 775 75 350 50 \nL 350 650 \nQ 800 625 1400 625 \nL 5050 625 \nz\nM 4350 4150 \nQ 4900 4175 5350 4200 \nL 5350 3575 \nQ 4900 3600 4375 3600 \nL 2050 3600 \nQ 1450 3600 1000 3575 \nL 1000 4175 \nQ 1450 4150 2025 4150 \nL 4350 4150 \nz\n\" transform=\"scale(0.015625)\"/>\n       </defs>\n       <use xlink:href=\"#SimHei-661f\"/>\n       <use xlink:href=\"#SimHei-671f\" x=\"100\"/>\n       <use xlink:href=\"#SimHei-4e8c\" x=\"200\"/>\n      </g>\n     </g>\n    </g>\n    <g id=\"xtick_3\">\n     <g id=\"line2d_3\">\n      <g>\n       <use xlink:href=\"#mdca4c8b5a1\" x=\"166.742857\" y=\"273.312\" style=\"stroke: #000000; stroke-width: 0.8\"/>\n      </g>\n     </g>\n     <g id=\"text_3\">\n      <!-- 星期三 -->\n      <g transform=\"translate(170.004576 310.312) rotate(-90) scale(0.1 -0.1)\">\n       <defs>\n        <path id=\"SimHei-4e09\" d=\"M 6000 -200 \nQ 5550 -175 5200 -175 \nL 1300 -175 \nQ 900 -175 375 -200 \nL 375 350 \nQ 850 325 1300 325 \nL 5200 325 \nQ 5575 325 6000 375 \nL 6000 -200 \nz\nM 900 4600 \nQ 1400 4575 1825 4575 \nL 4600 4575 \nQ 5075 4575 5475 4600 \nL 5475 4075 \nQ 5100 4100 4600 4100 \nL 1800 4100 \nQ 1375 4100 900 4075 \nL 900 4600 \nz\nM 2075 2100 \nQ 1700 2100 1275 2075 \nL 1275 2625 \nQ 1675 2600 2075 2600 \nL 4225 2600 \nQ 4600 2600 5050 2625 \nL 5050 2075 \nQ 4550 2100 4225 2100 \nL 2075 2100 \nz\n\" transform=\"scale(0.015625)\"/>\n       </defs>\n       <use xlink:href=\"#SimHei-661f\"/>\n       <use xlink:href=\"#SimHei-671f\" x=\"100\"/>\n       <use xlink:href=\"#SimHei-4e09\" x=\"200\"/>\n      </g>\n     </g>\n    </g>\n    <g id=\"xtick_4\">\n     <g id=\"line2d_4\">\n      <g>\n       <use xlink:href=\"#mdca4c8b5a1\" x=\"217.76\" y=\"273.312\" style=\"stroke: #000000; stroke-width: 0.8\"/>\n      </g>\n     </g>\n     <g id=\"text_4\">\n      <!-- 星期四 -->\n      <g transform=\"translate(221.021719 310.312) rotate(-90) scale(0.1 -0.1)\">\n       <defs>\n        <path id=\"SimHei-56db\" d=\"M 5750 4750 \nQ 5725 4125 5725 3425 \nL 5725 950 \nQ 5725 300 5750 -450 \nL 5225 -450 \nL 5225 25 \nL 1150 25 \nL 1150 -500 \nL 625 -500 \nQ 650 300 650 1000 \nL 650 3425 \nQ 650 4050 625 4750 \nL 5750 4750 \nz\nM 5225 450 \nL 5225 4350 \nL 3975 4350 \nL 3975 2225 \nQ 3975 1950 4225 1950 \nQ 4475 1950 5025 1975 \nQ 4900 1700 4875 1500 \nQ 4225 1500 3887 1512 \nQ 3550 1525 3500 1975 \nL 3500 4350 \nL 2850 4350 \nQ 2850 3050 2562 2412 \nQ 2275 1775 1700 1200 \nQ 1575 1375 1275 1525 \nQ 1650 1800 1900 2175 \nQ 2150 2550 2262 3000 \nQ 2375 3450 2375 4350 \nL 1150 4350 \nL 1150 450 \nL 5225 450 \nz\n\" transform=\"scale(0.015625)\"/>\n       </defs>\n       <use xlink:href=\"#SimHei-661f\"/>\n       <use xlink:href=\"#SimHei-671f\" x=\"100\"/>\n       <use xlink:href=\"#SimHei-56db\" x=\"200\"/>\n      </g>\n     </g>\n    </g>\n    <g id=\"xtick_5\">\n     <g id=\"line2d_5\">\n      <g>\n       <use xlink:href=\"#mdca4c8b5a1\" x=\"268.777143\" y=\"273.312\" style=\"stroke: #000000; stroke-width: 0.8\"/>\n      </g>\n     </g>\n     <g id=\"text_5\">\n      <!-- 星期五 -->\n      <g transform=\"translate(272.038862 310.312) rotate(-90) scale(0.1 -0.1)\">\n       <defs>\n        <path id=\"SimHei-4e94\" d=\"M 4975 4600 \nQ 5325 4600 5650 4625 \nL 5650 4175 \nQ 5325 4200 5000 4200 \nL 3150 4200 \nL 3000 2875 \nL 4950 2875 \nQ 4900 2575 4900 2125 \nL 4850 300 \nQ 5650 300 6000 325 \nL 6000 -200 \nQ 5650 -175 4975 -175 \nL 1375 -175 \nQ 775 -175 425 -225 \nL 425 325 \nQ 800 300 1325 300 \nL 2150 300 \nL 2450 2475 \nL 1850 2475 \nQ 1400 2475 1125 2450 \nL 1125 2900 \nQ 1425 2875 1850 2875 \nL 2525 2875 \nL 2675 4200 \nL 1550 4200 \nQ 1150 4200 800 4175 \nL 800 4625 \nQ 1125 4600 1550 4600 \nL 4975 4600 \nz\nM 4350 300 \nL 4425 2475 \nL 2950 2475 \nL 2650 300 \nL 4350 300 \nz\n\" transform=\"scale(0.015625)\"/>\n       </defs>\n       <use xlink:href=\"#SimHei-661f\"/>\n       <use xlink:href=\"#SimHei-671f\" x=\"100\"/>\n       <use xlink:href=\"#SimHei-4e94\" x=\"200\"/>\n      </g>\n     </g>\n    </g>\n    <g id=\"xtick_6\">\n     <g id=\"line2d_6\">\n      <g>\n       <use xlink:href=\"#mdca4c8b5a1\" x=\"319.794286\" y=\"273.312\" style=\"stroke: #000000; stroke-width: 0.8\"/>\n      </g>\n     </g>\n     <g id=\"text_6\">\n      <!-- 星期六 -->\n      <g transform=\"translate(323.056004 310.312) rotate(-90) scale(0.1 -0.1)\">\n       <defs>\n        <path id=\"SimHei-516d\" d=\"M 5100 3425 \nQ 5625 3425 5975 3475 \nL 5975 2900 \nQ 5625 2925 5125 2925 \nL 1525 2925 \nQ 1000 2925 475 2900 \nL 475 3475 \nQ 1000 3425 1500 3425 \nL 5100 3425 \nz\nM 2800 1950 \nQ 2300 1225 1812 537 \nQ 1325 -150 975 -475 \nQ 775 -300 450 -75 \nQ 1100 525 1587 1237 \nQ 2075 1950 2175 2325 \nQ 2475 2100 2800 1950 \nz\nM 4225 2350 \nQ 4675 1700 4987 1300 \nQ 5300 900 5850 25 \nQ 5525 -150 5325 -325 \nQ 4975 300 4600 825 \nQ 4225 1350 3725 1975 \nQ 3975 2150 4225 2350 \nz\nM 2900 5075 \nQ 3425 4425 3750 3875 \nQ 3475 3750 3225 3575 \nQ 2875 4250 2450 4750 \nQ 2725 4925 2900 5075 \nz\n\" transform=\"scale(0.015625)\"/>\n       </defs>\n       <use xlink:href=\"#SimHei-661f\"/>\n       <use xlink:href=\"#SimHei-671f\" x=\"100\"/>\n       <use xlink:href=\"#SimHei-516d\" x=\"200\"/>\n      </g>\n     </g>\n    </g>\n    <g id=\"xtick_7\">\n     <g id=\"line2d_7\">\n      <g>\n       <use xlink:href=\"#mdca4c8b5a1\" x=\"370.811429\" y=\"273.312\" style=\"stroke: #000000; stroke-width: 0.8\"/>\n      </g>\n     </g>\n     <g id=\"text_7\">\n      <!-- 星期日 -->\n      <g transform=\"translate(374.073147 310.312) rotate(-90) scale(0.1 -0.1)\">\n       <defs>\n        <path id=\"SimHei-65e5\" d=\"M 5375 5000 \nQ 5350 3775 5350 2275 \nQ 5350 775 5375 -450 \nL 4800 -450 \nL 4800 175 \nL 1800 175 \nL 1800 -575 \nL 1250 -575 \nQ 1275 575 1275 2125 \nQ 1275 3675 1250 5000 \nL 5375 5000 \nz\nM 4800 600 \nL 4800 2375 \nL 1800 2375 \nL 1800 600 \nL 4800 600 \nz\nM 4800 2800 \nL 4800 4550 \nL 1800 4550 \nL 1800 2800 \nL 4800 2800 \nz\n\" transform=\"scale(0.015625)\"/>\n       </defs>\n       <use xlink:href=\"#SimHei-661f\"/>\n       <use xlink:href=\"#SimHei-671f\" x=\"100\"/>\n       <use xlink:href=\"#SimHei-65e5\" x=\"200\"/>\n      </g>\n     </g>\n    </g>\n    <g id=\"text_8\">\n     <!-- week -->\n     <g transform=\"translate(207.76 321.187) scale(0.1 -0.1)\">\n      <defs>\n       <path id=\"SimHei-77\" d=\"M 3075 2925 \nL 2450 75 \nL 1975 75 \nL 1575 2250 \nL 1525 2250 \nL 1125 75 \nL 650 75 \nL 25 2925 \nL 550 2925 \nL 875 1050 \nL 925 1050 \nL 1275 2925 \nL 1825 2925 \nL 2175 1050 \nL 2225 1050 \nL 2550 2925 \nL 3075 2925 \nz\n\" transform=\"scale(0.015625)\"/>\n       <path id=\"SimHei-65\" d=\"M 2850 1075 \nQ 2800 625 2450 350 \nQ 2100 75 1625 75 \nQ 1025 75 637 462 \nQ 250 850 250 1525 \nQ 250 2200 637 2587 \nQ 1025 2975 1625 2975 \nQ 2150 2975 2487 2637 \nQ 2825 2300 2825 1525 \nL 800 1525 \nQ 800 975 1037 750 \nQ 1275 525 1625 525 \nQ 1900 525 2075 662 \nQ 2250 800 2300 1075 \nL 2850 1075 \nz\nM 2250 1925 \nQ 2200 2275 2025 2412 \nQ 1850 2550 1575 2550 \nQ 1325 2550 1125 2412 \nQ 925 2275 825 1925 \nL 2250 1925 \nz\n\" transform=\"scale(0.015625)\"/>\n       <path id=\"SimHei-6b\" d=\"M 2925 125 \nL 2350 125 \nL 1450 1650 \nL 875 1100 \nL 875 125 \nL 375 125 \nL 375 4400 \nL 875 4400 \nL 875 1675 \nL 2125 2925 \nL 2750 2925 \nL 1775 1975 \nL 2925 125 \nz\n\" transform=\"scale(0.015625)\"/>\n      </defs>\n      <use xlink:href=\"#SimHei-77\"/>\n      <use xlink:href=\"#SimHei-65\" x=\"50\"/>\n      <use xlink:href=\"#SimHei-65\" x=\"100\"/>\n      <use xlink:href=\"#SimHei-6b\" x=\"150\"/>\n     </g>\n    </g>\n   </g>\n   <g id=\"matplotlib.axis_2\">\n    <g id=\"ytick_1\">\n     <g id=\"line2d_8\">\n      <defs>\n       <path id=\"m21653780d2\" d=\"M 0 0 \nL -3.5 0 \n\" style=\"stroke: #000000; stroke-width: 0.8\"/>\n      </defs>\n      <g>\n       <use xlink:href=\"#m21653780d2\" x=\"39.2\" y=\"273.312\" style=\"stroke: #000000; stroke-width: 0.8\"/>\n      </g>\n     </g>\n     <g id=\"text_9\">\n      <!-- 0 -->\n      <g transform=\"translate(27.2 276.7495) scale(0.1 -0.1)\">\n       <defs>\n        <path id=\"SimHei-30\" d=\"M 225 2537 \nQ 250 3200 412 3587 \nQ 575 3975 875 4225 \nQ 1175 4475 1612 4475 \nQ 2050 4475 2375 4112 \nQ 2700 3750 2800 3200 \nQ 2900 2650 2862 1937 \nQ 2825 1225 2612 775 \nQ 2400 325 1975 150 \nQ 1550 -25 1125 187 \nQ 700 400 525 750 \nQ 350 1100 275 1487 \nQ 200 1875 225 2537 \nz\nM 750 2687 \nQ 675 2000 800 1462 \nQ 925 925 1212 700 \nQ 1500 475 1800 612 \nQ 2100 750 2237 1162 \nQ 2375 1575 2375 2062 \nQ 2375 2550 2337 2950 \nQ 2300 3350 2112 3675 \nQ 1925 4000 1612 4012 \nQ 1300 4025 1062 3700 \nQ 825 3375 750 2687 \nz\n\" transform=\"scale(0.015625)\"/>\n       </defs>\n       <use xlink:href=\"#SimHei-30\"/>\n      </g>\n     </g>\n    </g>\n    <g id=\"ytick_2\">\n     <g id=\"line2d_9\">\n      <g>\n       <use xlink:href=\"#m21653780d2\" x=\"39.2\" y=\"242.69036\" style=\"stroke: #000000; stroke-width: 0.8\"/>\n      </g>\n     </g>\n     <g id=\"text_10\">\n      <!-- 2000 -->\n      <g transform=\"translate(12.2 246.12786) scale(0.1 -0.1)\">\n       <defs>\n        <path id=\"SimHei-32\" d=\"M 300 250 \nQ 325 625 650 925 \nQ 975 1225 1475 1862 \nQ 1975 2500 2125 2850 \nQ 2275 3200 2237 3450 \nQ 2200 3700 2000 3862 \nQ 1800 4025 1537 4000 \nQ 1275 3975 1037 3800 \nQ 800 3625 675 3275 \nL 200 3350 \nQ 400 3925 712 4187 \nQ 1025 4450 1450 4475 \nQ 1700 4500 1900 4462 \nQ 2100 4425 2312 4287 \nQ 2525 4150 2662 3875 \nQ 2800 3600 2762 3212 \nQ 2725 2825 2375 2287 \nQ 2025 1750 1025 600 \nL 2825 600 \nL 2825 150 \nL 300 150 \nL 300 250 \nz\n\" transform=\"scale(0.015625)\"/>\n       </defs>\n       <use xlink:href=\"#SimHei-32\"/>\n       <use xlink:href=\"#SimHei-30\" x=\"50\"/>\n       <use xlink:href=\"#SimHei-30\" x=\"100\"/>\n       <use xlink:href=\"#SimHei-30\" x=\"150\"/>\n      </g>\n     </g>\n    </g>\n    <g id=\"ytick_3\">\n     <g id=\"line2d_10\">\n      <g>\n       <use xlink:href=\"#m21653780d2\" x=\"39.2\" y=\"212.068721\" style=\"stroke: #000000; stroke-width: 0.8\"/>\n      </g>\n     </g>\n     <g id=\"text_11\">\n      <!-- 4000 -->\n      <g transform=\"translate(12.2 215.506221) scale(0.1 -0.1)\">\n       <defs>\n        <path id=\"SimHei-34\" d=\"M 2000 1100 \nL 75 1100 \nL 75 1525 \nL 2100 4450 \nL 2475 4450 \nL 2475 1525 \nL 3075 1525 \nL 3075 1100 \nL 2475 1100 \nL 2475 150 \nL 2000 150 \nL 2000 1100 \nz\nM 2000 1525 \nL 2000 3500 \nL 600 1525 \nL 2000 1525 \nz\n\" transform=\"scale(0.015625)\"/>\n       </defs>\n       <use xlink:href=\"#SimHei-34\"/>\n       <use xlink:href=\"#SimHei-30\" x=\"50\"/>\n       <use xlink:href=\"#SimHei-30\" x=\"100\"/>\n       <use xlink:href=\"#SimHei-30\" x=\"150\"/>\n      </g>\n     </g>\n    </g>\n    <g id=\"ytick_4\">\n     <g id=\"line2d_11\">\n      <g>\n       <use xlink:href=\"#m21653780d2\" x=\"39.2\" y=\"181.447081\" style=\"stroke: #000000; stroke-width: 0.8\"/>\n      </g>\n     </g>\n     <g id=\"text_12\">\n      <!-- 6000 -->\n      <g transform=\"translate(12.2 184.884581) scale(0.1 -0.1)\">\n       <defs>\n        <path id=\"SimHei-36\" d=\"M 250 1612 \nQ 275 1975 387 2225 \nQ 500 2475 725 2850 \nL 1750 4450 \nL 2325 4450 \nL 1275 2800 \nQ 1950 2975 2350 2750 \nQ 2750 2525 2887 2237 \nQ 3025 1950 3037 1612 \nQ 3050 1275 2937 950 \nQ 2825 625 2537 362 \nQ 2250 100 1737 75 \nQ 1225 50 862 262 \nQ 500 475 362 862 \nQ 225 1250 250 1612 \nz\nM 1025 787 \nQ 1250 550 1625 525 \nQ 2000 500 2250 775 \nQ 2500 1050 2500 1575 \nQ 2500 2100 2187 2300 \nQ 1875 2500 1487 2450 \nQ 1100 2400 925 2075 \nQ 750 1750 775 1387 \nQ 800 1025 1025 787 \nz\n\" transform=\"scale(0.015625)\"/>\n       </defs>\n       <use xlink:href=\"#SimHei-36\"/>\n       <use xlink:href=\"#SimHei-30\" x=\"50\"/>\n       <use xlink:href=\"#SimHei-30\" x=\"100\"/>\n       <use xlink:href=\"#SimHei-30\" x=\"150\"/>\n      </g>\n     </g>\n    </g>\n    <g id=\"ytick_5\">\n     <g id=\"line2d_12\">\n      <g>\n       <use xlink:href=\"#m21653780d2\" x=\"39.2\" y=\"150.825442\" style=\"stroke: #000000; stroke-width: 0.8\"/>\n      </g>\n     </g>\n     <g id=\"text_13\">\n      <!-- 8000 -->\n      <g transform=\"translate(12.2 154.262942) scale(0.1 -0.1)\">\n       <defs>\n        <path id=\"SimHei-38\" d=\"M 175 1375 \nQ 175 1675 325 1962 \nQ 475 2250 825 2425 \nQ 525 2600 425 2812 \nQ 325 3025 312 3300 \nQ 300 3575 387 3775 \nQ 475 3975 650 4150 \nQ 825 4325 1037 4387 \nQ 1250 4450 1500 4450 \nQ 1750 4450 1950 4400 \nQ 2150 4350 2375 4187 \nQ 2600 4025 2700 3725 \nQ 2800 3425 2687 3025 \nQ 2575 2625 2100 2400 \nQ 2525 2275 2700 2012 \nQ 2875 1750 2875 1375 \nQ 2875 1000 2762 775 \nQ 2650 550 2512 400 \nQ 2375 250 2137 162 \nQ 1900 75 1537 75 \nQ 1175 75 912 162 \nQ 650 250 475 425 \nQ 300 600 237 837 \nQ 175 1075 175 1375 \nz\nM 687 1400 \nQ 675 1100 787 875 \nQ 900 650 1200 587 \nQ 1500 525 1825 600 \nQ 2150 675 2275 950 \nQ 2400 1225 2362 1500 \nQ 2325 1775 2050 1962 \nQ 1775 2150 1450 2125 \nQ 1125 2100 912 1900 \nQ 700 1700 687 1400 \nz\nM 775 3350 \nQ 775 3100 950 2875 \nQ 1125 2650 1500 2650 \nQ 1875 2650 2062 2875 \nQ 2250 3100 2237 3412 \nQ 2225 3725 2012 3875 \nQ 1800 4025 1437 4000 \nQ 1075 3975 925 3787 \nQ 775 3600 775 3350 \nz\n\" transform=\"scale(0.015625)\"/>\n       </defs>\n       <use xlink:href=\"#SimHei-38\"/>\n       <use xlink:href=\"#SimHei-30\" x=\"50\"/>\n       <use xlink:href=\"#SimHei-30\" x=\"100\"/>\n       <use xlink:href=\"#SimHei-30\" x=\"150\"/>\n      </g>\n     </g>\n    </g>\n    <g id=\"ytick_6\">\n     <g id=\"line2d_13\">\n      <g>\n       <use xlink:href=\"#m21653780d2\" x=\"39.2\" y=\"120.203802\" style=\"stroke: #000000; stroke-width: 0.8\"/>\n      </g>\n     </g>\n     <g id=\"text_14\">\n      <!-- 10000 -->\n      <g transform=\"translate(7.2 123.641302) scale(0.1 -0.1)\">\n       <defs>\n        <path id=\"SimHei-31\" d=\"M 1400 3600 \nQ 1075 3275 575 2975 \nL 575 3450 \nQ 1200 3875 1600 4450 \nL 1900 4450 \nL 1900 150 \nL 1400 150 \nL 1400 3600 \nz\n\" transform=\"scale(0.015625)\"/>\n       </defs>\n       <use xlink:href=\"#SimHei-31\"/>\n       <use xlink:href=\"#SimHei-30\" x=\"50\"/>\n       <use xlink:href=\"#SimHei-30\" x=\"100\"/>\n       <use xlink:href=\"#SimHei-30\" x=\"150\"/>\n       <use xlink:href=\"#SimHei-30\" x=\"200\"/>\n      </g>\n     </g>\n    </g>\n    <g id=\"ytick_7\">\n     <g id=\"line2d_14\">\n      <g>\n       <use xlink:href=\"#m21653780d2\" x=\"39.2\" y=\"89.582163\" style=\"stroke: #000000; stroke-width: 0.8\"/>\n      </g>\n     </g>\n     <g id=\"text_15\">\n      <!-- 12000 -->\n      <g transform=\"translate(7.2 93.019663) scale(0.1 -0.1)\">\n       <use xlink:href=\"#SimHei-31\"/>\n       <use xlink:href=\"#SimHei-32\" x=\"50\"/>\n       <use xlink:href=\"#SimHei-30\" x=\"100\"/>\n       <use xlink:href=\"#SimHei-30\" x=\"150\"/>\n       <use xlink:href=\"#SimHei-30\" x=\"200\"/>\n      </g>\n     </g>\n    </g>\n    <g id=\"ytick_8\">\n     <g id=\"line2d_15\">\n      <g>\n       <use xlink:href=\"#m21653780d2\" x=\"39.2\" y=\"58.960523\" style=\"stroke: #000000; stroke-width: 0.8\"/>\n      </g>\n     </g>\n     <g id=\"text_16\">\n      <!-- 14000 -->\n      <g transform=\"translate(7.2 62.398023) scale(0.1 -0.1)\">\n       <use xlink:href=\"#SimHei-31\"/>\n       <use xlink:href=\"#SimHei-34\" x=\"50\"/>\n       <use xlink:href=\"#SimHei-30\" x=\"100\"/>\n       <use xlink:href=\"#SimHei-30\" x=\"150\"/>\n       <use xlink:href=\"#SimHei-30\" x=\"200\"/>\n      </g>\n     </g>\n    </g>\n    <g id=\"ytick_9\">\n     <g id=\"line2d_16\">\n      <g>\n       <use xlink:href=\"#m21653780d2\" x=\"39.2\" y=\"28.338883\" style=\"stroke: #000000; stroke-width: 0.8\"/>\n      </g>\n     </g>\n     <g id=\"text_17\">\n      <!-- 16000 -->\n      <g transform=\"translate(7.2 31.776383) scale(0.1 -0.1)\">\n       <use xlink:href=\"#SimHei-31\"/>\n       <use xlink:href=\"#SimHei-36\" x=\"50\"/>\n       <use xlink:href=\"#SimHei-30\" x=\"100\"/>\n       <use xlink:href=\"#SimHei-30\" x=\"150\"/>\n       <use xlink:href=\"#SimHei-30\" x=\"200\"/>\n      </g>\n     </g>\n    </g>\n   </g>\n   <g id=\"patch_10\">\n    <path d=\"M 39.2 273.312 \nL 39.2 7.2 \n\" style=\"fill: none; stroke: #000000; stroke-width: 0.8; stroke-linejoin: miter; stroke-linecap: square\"/>\n   </g>\n   <g id=\"patch_11\">\n    <path d=\"M 396.32 273.312 \nL 396.32 7.2 \n\" style=\"fill: none; stroke: #000000; stroke-width: 0.8; stroke-linejoin: miter; stroke-linecap: square\"/>\n   </g>\n   <g id=\"patch_12\">\n    <path d=\"M 39.2 273.312 \nL 396.32 273.312 \n\" style=\"fill: none; stroke: #000000; stroke-width: 0.8; stroke-linejoin: miter; stroke-linecap: square\"/>\n   </g>\n   <g id=\"patch_13\">\n    <path d=\"M 39.2 7.2 \nL 396.32 7.2 \n\" style=\"fill: none; stroke: #000000; stroke-width: 0.8; stroke-linejoin: miter; stroke-linecap: square\"/>\n   </g>\n  </g>\n </g>\n <defs>\n  <clipPath id=\"p0c44703533\">\n   <rect x=\"39.2\" y=\"7.2\" width=\"357.12\" height=\"266.112\"/>\n  </clipPath>\n </defs>\n</svg>\n"
     },
     "metadata": {},
     "output_type": "display_data"
    }
   ],
   "source": [
    "week_order_count.plot(kind='bar')\n",
    "\n",
    "plt.xticks(week_order_count.index,labels = [f'星期{x}' for x in '一二三四五六日'])\n",
    "plt.show()"
   ],
   "metadata": {
    "collapsed": false
   }
  },
  {
   "cell_type": "markdown",
   "source": [
    "#### 用户复购率"
   ],
   "metadata": {
    "collapsed": false
   }
  },
  {
   "cell_type": "code",
   "execution_count": 69,
   "outputs": [],
   "source": [
    "temp = pd.pivot_table(df,\n",
    "                      values='orderID',index='userID',columns='month',aggfunc='nunique')"
   ],
   "metadata": {
    "collapsed": false
   }
  },
  {
   "cell_type": "code",
   "execution_count": 70,
   "outputs": [
    {
     "data": {
      "text/plain": "month         1   2    3    4    5   6   7   8   9    10   11   12\nuserID                                                            \nuser-100000  NaN NaN  NaN  NaN  NaN NaN NaN NaN NaN  1.0  NaN  NaN\nuser-100003  NaN NaN  NaN  NaN  1.0 NaN NaN NaN NaN  NaN  NaN  NaN\nuser-100006  NaN NaN  NaN  NaN  NaN NaN NaN NaN NaN  1.0  1.0  NaN\nuser-100007  1.0 NaN  NaN  NaN  NaN NaN NaN NaN NaN  NaN  NaN  NaN\nuser-100008  NaN NaN  NaN  NaN  NaN NaN NaN NaN NaN  NaN  1.0  NaN\n...          ...  ..  ...  ...  ...  ..  ..  ..  ..  ...  ...  ...\nuser-299980  NaN NaN  NaN  NaN  NaN NaN NaN NaN NaN  1.0  NaN  NaN\nuser-299983  NaN NaN  NaN  NaN  NaN NaN NaN NaN NaN  NaN  NaN  1.0\nuser-299989  NaN NaN  NaN  1.0  NaN NaN NaN NaN NaN  NaN  1.0  NaN\nuser-299992  1.0 NaN  NaN  NaN  NaN NaN NaN NaN NaN  NaN  NaN  NaN\nuser-299995  NaN NaN  1.0  NaN  NaN NaN NaN NaN NaN  NaN  NaN  NaN\n\n[78651 rows x 12 columns]",
      "text/html": "<div>\n<style scoped>\n    .dataframe tbody tr th:only-of-type {\n        vertical-align: middle;\n    }\n\n    .dataframe tbody tr th {\n        vertical-align: top;\n    }\n\n    .dataframe thead th {\n        text-align: right;\n    }\n</style>\n<table border=\"1\" class=\"dataframe\">\n  <thead>\n    <tr style=\"text-align: right;\">\n      <th>month</th>\n      <th>1</th>\n      <th>2</th>\n      <th>3</th>\n      <th>4</th>\n      <th>5</th>\n      <th>6</th>\n      <th>7</th>\n      <th>8</th>\n      <th>9</th>\n      <th>10</th>\n      <th>11</th>\n      <th>12</th>\n    </tr>\n    <tr>\n      <th>userID</th>\n      <th></th>\n      <th></th>\n      <th></th>\n      <th></th>\n      <th></th>\n      <th></th>\n      <th></th>\n      <th></th>\n      <th></th>\n      <th></th>\n      <th></th>\n      <th></th>\n    </tr>\n  </thead>\n  <tbody>\n    <tr>\n      <th>user-100000</th>\n      <td>NaN</td>\n      <td>NaN</td>\n      <td>NaN</td>\n      <td>NaN</td>\n      <td>NaN</td>\n      <td>NaN</td>\n      <td>NaN</td>\n      <td>NaN</td>\n      <td>NaN</td>\n      <td>1.0</td>\n      <td>NaN</td>\n      <td>NaN</td>\n    </tr>\n    <tr>\n      <th>user-100003</th>\n      <td>NaN</td>\n      <td>NaN</td>\n      <td>NaN</td>\n      <td>NaN</td>\n      <td>1.0</td>\n      <td>NaN</td>\n      <td>NaN</td>\n      <td>NaN</td>\n      <td>NaN</td>\n      <td>NaN</td>\n      <td>NaN</td>\n      <td>NaN</td>\n    </tr>\n    <tr>\n      <th>user-100006</th>\n      <td>NaN</td>\n      <td>NaN</td>\n      <td>NaN</td>\n      <td>NaN</td>\n      <td>NaN</td>\n      <td>NaN</td>\n      <td>NaN</td>\n      <td>NaN</td>\n      <td>NaN</td>\n      <td>1.0</td>\n      <td>1.0</td>\n      <td>NaN</td>\n    </tr>\n    <tr>\n      <th>user-100007</th>\n      <td>1.0</td>\n      <td>NaN</td>\n      <td>NaN</td>\n      <td>NaN</td>\n      <td>NaN</td>\n      <td>NaN</td>\n      <td>NaN</td>\n      <td>NaN</td>\n      <td>NaN</td>\n      <td>NaN</td>\n      <td>NaN</td>\n      <td>NaN</td>\n    </tr>\n    <tr>\n      <th>user-100008</th>\n      <td>NaN</td>\n      <td>NaN</td>\n      <td>NaN</td>\n      <td>NaN</td>\n      <td>NaN</td>\n      <td>NaN</td>\n      <td>NaN</td>\n      <td>NaN</td>\n      <td>NaN</td>\n      <td>NaN</td>\n      <td>1.0</td>\n      <td>NaN</td>\n    </tr>\n    <tr>\n      <th>...</th>\n      <td>...</td>\n      <td>...</td>\n      <td>...</td>\n      <td>...</td>\n      <td>...</td>\n      <td>...</td>\n      <td>...</td>\n      <td>...</td>\n      <td>...</td>\n      <td>...</td>\n      <td>...</td>\n      <td>...</td>\n    </tr>\n    <tr>\n      <th>user-299980</th>\n      <td>NaN</td>\n      <td>NaN</td>\n      <td>NaN</td>\n      <td>NaN</td>\n      <td>NaN</td>\n      <td>NaN</td>\n      <td>NaN</td>\n      <td>NaN</td>\n      <td>NaN</td>\n      <td>1.0</td>\n      <td>NaN</td>\n      <td>NaN</td>\n    </tr>\n    <tr>\n      <th>user-299983</th>\n      <td>NaN</td>\n      <td>NaN</td>\n      <td>NaN</td>\n      <td>NaN</td>\n      <td>NaN</td>\n      <td>NaN</td>\n      <td>NaN</td>\n      <td>NaN</td>\n      <td>NaN</td>\n      <td>NaN</td>\n      <td>NaN</td>\n      <td>1.0</td>\n    </tr>\n    <tr>\n      <th>user-299989</th>\n      <td>NaN</td>\n      <td>NaN</td>\n      <td>NaN</td>\n      <td>1.0</td>\n      <td>NaN</td>\n      <td>NaN</td>\n      <td>NaN</td>\n      <td>NaN</td>\n      <td>NaN</td>\n      <td>NaN</td>\n      <td>1.0</td>\n      <td>NaN</td>\n    </tr>\n    <tr>\n      <th>user-299992</th>\n      <td>1.0</td>\n      <td>NaN</td>\n      <td>NaN</td>\n      <td>NaN</td>\n      <td>NaN</td>\n      <td>NaN</td>\n      <td>NaN</td>\n      <td>NaN</td>\n      <td>NaN</td>\n      <td>NaN</td>\n      <td>NaN</td>\n      <td>NaN</td>\n    </tr>\n    <tr>\n      <th>user-299995</th>\n      <td>NaN</td>\n      <td>NaN</td>\n      <td>1.0</td>\n      <td>NaN</td>\n      <td>NaN</td>\n      <td>NaN</td>\n      <td>NaN</td>\n      <td>NaN</td>\n      <td>NaN</td>\n      <td>NaN</td>\n      <td>NaN</td>\n      <td>NaN</td>\n    </tr>\n  </tbody>\n</table>\n<p>78651 rows × 12 columns</p>\n</div>"
     },
     "execution_count": 70,
     "metadata": {},
     "output_type": "execute_result"
    }
   ],
   "source": [
    "temp"
   ],
   "metadata": {
    "collapsed": false
   }
  },
  {
   "cell_type": "code",
   "execution_count": 71,
   "outputs": [],
   "source": [
    "def handle (x):\n",
    "    if x > 1:\n",
    "        return 1\n",
    "    elif x==1:\n",
    "        return 0\n",
    "    else:\n",
    "        return np.NAN"
   ],
   "metadata": {
    "collapsed": false
   }
  },
  {
   "cell_type": "code",
   "execution_count": null,
   "outputs": [],
   "source": [
    "temp = temp.applymap(handle)"
   ],
   "metadata": {
    "collapsed": false
   }
  },
  {
   "cell_type": "code",
   "execution_count": 62,
   "outputs": [],
   "source": [
    "ser = temp.sum()/temp.count()"
   ],
   "metadata": {
    "collapsed": false
   }
  },
  {
   "cell_type": "code",
   "execution_count": 63,
   "outputs": [
    {
     "name": "stdout",
     "output_type": "stream",
     "text": [
      "0.01826630347700689\n",
      "0.011412268188302425\n",
      "0.017425810904071772\n",
      "0.020200462606013877\n",
      "0.030539241857981847\n",
      "0.030531400966183574\n",
      "0.02522445489525438\n",
      "0.03163805204621531\n",
      "0.024718363775566007\n",
      "0.027911784975878703\n",
      "0.02911167275109988\n",
      "0.03084932035091102\n"
     ]
    }
   ],
   "source": [
    "for i in ser:\n",
    "    print(i)"
   ],
   "metadata": {
    "collapsed": false
   }
  },
  {
   "cell_type": "markdown",
   "source": [
    "#### 4.RFM模型建立"
   ],
   "metadata": {
    "collapsed": false
   }
  },
  {
   "cell_type": "markdown",
   "source": [
    "##### R --> 最近一次购买距今有多远"
   ],
   "metadata": {
    "collapsed": false
   }
  },
  {
   "cell_type": "markdown",
   "source": [
    "建立购买频率列 F代表一次购买行为"
   ],
   "metadata": {
    "collapsed": false
   }
  },
  {
   "cell_type": "code",
   "execution_count": 64,
   "outputs": [],
   "source": [
    "df['F']=1"
   ],
   "metadata": {
    "collapsed": false
   }
  },
  {
   "cell_type": "code",
   "execution_count": 65,
   "outputs": [
    {
     "data": {
      "text/plain": "                   orderID       userID   goodsID  orderAmount  payment  \\\nid                                                                        \n6       sys-2019-279103297  user-146548  PR000564       425.20   425.20   \n7       sys-2019-316686066  user-104210  PR000709      1764.37  1707.04   \n8       sys-2019-306447069  user-104863  PR000499       499.41   480.42   \n9       sys-2019-290267674  user-206155  PR000253      1103.00  1050.95   \n10      sys-2019-337079027  user-137939  PR000768       465.41   465.41   \n...                    ...          ...       ...          ...      ...   \n104297  sys-2019-344079195  user-182248  PR000813       831.29   766.07   \n104298  sys-2019-296195955  user-143322  PR000938      1565.67  1414.89   \n104299  sys-2019-382387725  user-220484  PR000782      3326.83  3273.54   \n104300  sys-2019-303891464  user-285133  PR000096       241.75   241.75   \n104301  sys-2019-291405901  user-298747  PR000369       442.85   339.78   \n\n       channelID platformType           orderTime             payTime  \\\nid                                                                      \n6        渠道-0765     wechatmp 2019-01-01 00:12:23 2019-01-01 00:13:37   \n7        渠道-0396     wechatmp 2019-01-01 00:23:06 2019-01-01 00:23:32   \n8        渠道-0007     wechatmp 2019-01-01 01:05:50 2019-01-01 01:06:17   \n9        渠道-0330          app 2019-01-01 01:16:12 2019-01-01 01:16:25   \n10       渠道-9527        alimp 2019-01-01 01:31:00 2019-01-01 01:31:36   \n...          ...          ...                 ...                 ...   \n104297   渠道-0896     wechatmp 2019-12-31 23:32:55 2019-12-31 23:33:06   \n104298   渠道-0007          app 2019-12-31 23:33:05 2019-12-31 23:34:36   \n104299   渠道-0530          web 2019-12-31 23:37:30 2019-12-31 23:37:44   \n104300   渠道-0765     wechatmp 2019-12-31 23:38:43 2019-12-31 23:39:01   \n104301   渠道-0283     wechatmp 2019-12-31 23:48:34 2019-12-31 23:49:04   \n\n       chargeback  discount  month  week  F  \nid                                           \n6               否  1.000000      1     1  1  \n7               否  0.967507      1     1  1  \n8               否  0.961975      1     1  1  \n9               否  0.952811      1     1  1  \n10              否  1.000000      1     1  1  \n...           ...       ...    ...   ... ..  \n104297          否  0.921544     12     1  1  \n104298          是  0.903696     12     1  1  \n104299          否  0.983982     12     1  1  \n104300          是  1.000000     12     1  1  \n104301          否  0.767258     12     1  1  \n\n[103348 rows x 14 columns]",
      "text/html": "<div>\n<style scoped>\n    .dataframe tbody tr th:only-of-type {\n        vertical-align: middle;\n    }\n\n    .dataframe tbody tr th {\n        vertical-align: top;\n    }\n\n    .dataframe thead th {\n        text-align: right;\n    }\n</style>\n<table border=\"1\" class=\"dataframe\">\n  <thead>\n    <tr style=\"text-align: right;\">\n      <th></th>\n      <th>orderID</th>\n      <th>userID</th>\n      <th>goodsID</th>\n      <th>orderAmount</th>\n      <th>payment</th>\n      <th>channelID</th>\n      <th>platformType</th>\n      <th>orderTime</th>\n      <th>payTime</th>\n      <th>chargeback</th>\n      <th>discount</th>\n      <th>month</th>\n      <th>week</th>\n      <th>F</th>\n    </tr>\n    <tr>\n      <th>id</th>\n      <th></th>\n      <th></th>\n      <th></th>\n      <th></th>\n      <th></th>\n      <th></th>\n      <th></th>\n      <th></th>\n      <th></th>\n      <th></th>\n      <th></th>\n      <th></th>\n      <th></th>\n      <th></th>\n    </tr>\n  </thead>\n  <tbody>\n    <tr>\n      <th>6</th>\n      <td>sys-2019-279103297</td>\n      <td>user-146548</td>\n      <td>PR000564</td>\n      <td>425.20</td>\n      <td>425.20</td>\n      <td>渠道-0765</td>\n      <td>wechatmp</td>\n      <td>2019-01-01 00:12:23</td>\n      <td>2019-01-01 00:13:37</td>\n      <td>否</td>\n      <td>1.000000</td>\n      <td>1</td>\n      <td>1</td>\n      <td>1</td>\n    </tr>\n    <tr>\n      <th>7</th>\n      <td>sys-2019-316686066</td>\n      <td>user-104210</td>\n      <td>PR000709</td>\n      <td>1764.37</td>\n      <td>1707.04</td>\n      <td>渠道-0396</td>\n      <td>wechatmp</td>\n      <td>2019-01-01 00:23:06</td>\n      <td>2019-01-01 00:23:32</td>\n      <td>否</td>\n      <td>0.967507</td>\n      <td>1</td>\n      <td>1</td>\n      <td>1</td>\n    </tr>\n    <tr>\n      <th>8</th>\n      <td>sys-2019-306447069</td>\n      <td>user-104863</td>\n      <td>PR000499</td>\n      <td>499.41</td>\n      <td>480.42</td>\n      <td>渠道-0007</td>\n      <td>wechatmp</td>\n      <td>2019-01-01 01:05:50</td>\n      <td>2019-01-01 01:06:17</td>\n      <td>否</td>\n      <td>0.961975</td>\n      <td>1</td>\n      <td>1</td>\n      <td>1</td>\n    </tr>\n    <tr>\n      <th>9</th>\n      <td>sys-2019-290267674</td>\n      <td>user-206155</td>\n      <td>PR000253</td>\n      <td>1103.00</td>\n      <td>1050.95</td>\n      <td>渠道-0330</td>\n      <td>app</td>\n      <td>2019-01-01 01:16:12</td>\n      <td>2019-01-01 01:16:25</td>\n      <td>否</td>\n      <td>0.952811</td>\n      <td>1</td>\n      <td>1</td>\n      <td>1</td>\n    </tr>\n    <tr>\n      <th>10</th>\n      <td>sys-2019-337079027</td>\n      <td>user-137939</td>\n      <td>PR000768</td>\n      <td>465.41</td>\n      <td>465.41</td>\n      <td>渠道-9527</td>\n      <td>alimp</td>\n      <td>2019-01-01 01:31:00</td>\n      <td>2019-01-01 01:31:36</td>\n      <td>否</td>\n      <td>1.000000</td>\n      <td>1</td>\n      <td>1</td>\n      <td>1</td>\n    </tr>\n    <tr>\n      <th>...</th>\n      <td>...</td>\n      <td>...</td>\n      <td>...</td>\n      <td>...</td>\n      <td>...</td>\n      <td>...</td>\n      <td>...</td>\n      <td>...</td>\n      <td>...</td>\n      <td>...</td>\n      <td>...</td>\n      <td>...</td>\n      <td>...</td>\n      <td>...</td>\n    </tr>\n    <tr>\n      <th>104297</th>\n      <td>sys-2019-344079195</td>\n      <td>user-182248</td>\n      <td>PR000813</td>\n      <td>831.29</td>\n      <td>766.07</td>\n      <td>渠道-0896</td>\n      <td>wechatmp</td>\n      <td>2019-12-31 23:32:55</td>\n      <td>2019-12-31 23:33:06</td>\n      <td>否</td>\n      <td>0.921544</td>\n      <td>12</td>\n      <td>1</td>\n      <td>1</td>\n    </tr>\n    <tr>\n      <th>104298</th>\n      <td>sys-2019-296195955</td>\n      <td>user-143322</td>\n      <td>PR000938</td>\n      <td>1565.67</td>\n      <td>1414.89</td>\n      <td>渠道-0007</td>\n      <td>app</td>\n      <td>2019-12-31 23:33:05</td>\n      <td>2019-12-31 23:34:36</td>\n      <td>是</td>\n      <td>0.903696</td>\n      <td>12</td>\n      <td>1</td>\n      <td>1</td>\n    </tr>\n    <tr>\n      <th>104299</th>\n      <td>sys-2019-382387725</td>\n      <td>user-220484</td>\n      <td>PR000782</td>\n      <td>3326.83</td>\n      <td>3273.54</td>\n      <td>渠道-0530</td>\n      <td>web</td>\n      <td>2019-12-31 23:37:30</td>\n      <td>2019-12-31 23:37:44</td>\n      <td>否</td>\n      <td>0.983982</td>\n      <td>12</td>\n      <td>1</td>\n      <td>1</td>\n    </tr>\n    <tr>\n      <th>104300</th>\n      <td>sys-2019-303891464</td>\n      <td>user-285133</td>\n      <td>PR000096</td>\n      <td>241.75</td>\n      <td>241.75</td>\n      <td>渠道-0765</td>\n      <td>wechatmp</td>\n      <td>2019-12-31 23:38:43</td>\n      <td>2019-12-31 23:39:01</td>\n      <td>是</td>\n      <td>1.000000</td>\n      <td>12</td>\n      <td>1</td>\n      <td>1</td>\n    </tr>\n    <tr>\n      <th>104301</th>\n      <td>sys-2019-291405901</td>\n      <td>user-298747</td>\n      <td>PR000369</td>\n      <td>442.85</td>\n      <td>339.78</td>\n      <td>渠道-0283</td>\n      <td>wechatmp</td>\n      <td>2019-12-31 23:48:34</td>\n      <td>2019-12-31 23:49:04</td>\n      <td>否</td>\n      <td>0.767258</td>\n      <td>12</td>\n      <td>1</td>\n      <td>1</td>\n    </tr>\n  </tbody>\n</table>\n<p>103348 rows × 14 columns</p>\n</div>"
     },
     "execution_count": 65,
     "metadata": {},
     "output_type": "execute_result"
    }
   ],
   "source": [
    "df"
   ],
   "metadata": {
    "collapsed": false
   }
  },
  {
   "cell_type": "code",
   "execution_count": 67,
   "outputs": [],
   "source": [
    "temp = pd.pivot_table(df,\n",
    "                     values=['orderTime','payment','F'],\n",
    "                      index='userID',\n",
    "                      aggfunc={\n",
    "                          'orderTime':np.max,\n",
    "                          'payment':np.sum,\n",
    "                          'F':np.sum\n",
    "                      })"
   ],
   "metadata": {
    "collapsed": false
   }
  },
  {
   "cell_type": "code",
   "execution_count": 68,
   "outputs": [
    {
     "data": {
      "text/plain": "             F           orderTime  payment\nuserID                                     \nuser-100000  1 2019-10-13 18:46:46  1770.81\nuser-100003  1 2019-05-24 13:04:05   511.59\nuser-100006  2 2019-11-14 15:37:19  2771.98\nuser-100007  1 2019-01-14 18:45:35  2162.14\nuser-100008  1 2019-11-16 17:15:03  4879.94\n...         ..                 ...      ...\nuser-299980  1 2019-10-18 10:53:37   389.44\nuser-299983  1 2019-12-27 17:57:11   706.80\nuser-299989  2 2019-11-11 10:40:08  1637.47\nuser-299992  1 2019-01-01 16:14:47   440.17\nuser-299995  1 2019-03-30 16:35:12   350.87\n\n[78651 rows x 3 columns]",
      "text/html": "<div>\n<style scoped>\n    .dataframe tbody tr th:only-of-type {\n        vertical-align: middle;\n    }\n\n    .dataframe tbody tr th {\n        vertical-align: top;\n    }\n\n    .dataframe thead th {\n        text-align: right;\n    }\n</style>\n<table border=\"1\" class=\"dataframe\">\n  <thead>\n    <tr style=\"text-align: right;\">\n      <th></th>\n      <th>F</th>\n      <th>orderTime</th>\n      <th>payment</th>\n    </tr>\n    <tr>\n      <th>userID</th>\n      <th></th>\n      <th></th>\n      <th></th>\n    </tr>\n  </thead>\n  <tbody>\n    <tr>\n      <th>user-100000</th>\n      <td>1</td>\n      <td>2019-10-13 18:46:46</td>\n      <td>1770.81</td>\n    </tr>\n    <tr>\n      <th>user-100003</th>\n      <td>1</td>\n      <td>2019-05-24 13:04:05</td>\n      <td>511.59</td>\n    </tr>\n    <tr>\n      <th>user-100006</th>\n      <td>2</td>\n      <td>2019-11-14 15:37:19</td>\n      <td>2771.98</td>\n    </tr>\n    <tr>\n      <th>user-100007</th>\n      <td>1</td>\n      <td>2019-01-14 18:45:35</td>\n      <td>2162.14</td>\n    </tr>\n    <tr>\n      <th>user-100008</th>\n      <td>1</td>\n      <td>2019-11-16 17:15:03</td>\n      <td>4879.94</td>\n    </tr>\n    <tr>\n      <th>...</th>\n      <td>...</td>\n      <td>...</td>\n      <td>...</td>\n    </tr>\n    <tr>\n      <th>user-299980</th>\n      <td>1</td>\n      <td>2019-10-18 10:53:37</td>\n      <td>389.44</td>\n    </tr>\n    <tr>\n      <th>user-299983</th>\n      <td>1</td>\n      <td>2019-12-27 17:57:11</td>\n      <td>706.80</td>\n    </tr>\n    <tr>\n      <th>user-299989</th>\n      <td>2</td>\n      <td>2019-11-11 10:40:08</td>\n      <td>1637.47</td>\n    </tr>\n    <tr>\n      <th>user-299992</th>\n      <td>1</td>\n      <td>2019-01-01 16:14:47</td>\n      <td>440.17</td>\n    </tr>\n    <tr>\n      <th>user-299995</th>\n      <td>1</td>\n      <td>2019-03-30 16:35:12</td>\n      <td>350.87</td>\n    </tr>\n  </tbody>\n</table>\n<p>78651 rows × 3 columns</p>\n</div>"
     },
     "execution_count": 68,
     "metadata": {},
     "output_type": "execute_result"
    }
   ],
   "source": [
    "temp"
   ],
   "metadata": {
    "collapsed": false
   }
  },
  {
   "cell_type": "code",
   "execution_count": 69,
   "outputs": [],
   "source": [
    "temp[\"R\"] = (temp.orderTime-datetime(2019,12,31)).dt.days\n",
    "temp[\"M\"] = temp.payment\n",
    "temp = temp[['R','F','M']]"
   ],
   "metadata": {
    "collapsed": false
   }
  },
  {
   "cell_type": "code",
   "execution_count": 70,
   "outputs": [
    {
     "data": {
      "text/plain": "               R  F        M\nuserID                      \nuser-100000  -79  1  1770.81\nuser-100003 -221  1   511.59\nuser-100006  -47  2  2771.98\nuser-100007 -351  1  2162.14\nuser-100008  -45  1  4879.94\n...          ... ..      ...\nuser-299980  -74  1   389.44\nuser-299983   -4  1   706.80\nuser-299989  -50  2  1637.47\nuser-299992 -364  1   440.17\nuser-299995 -276  1   350.87\n\n[78651 rows x 3 columns]",
      "text/html": "<div>\n<style scoped>\n    .dataframe tbody tr th:only-of-type {\n        vertical-align: middle;\n    }\n\n    .dataframe tbody tr th {\n        vertical-align: top;\n    }\n\n    .dataframe thead th {\n        text-align: right;\n    }\n</style>\n<table border=\"1\" class=\"dataframe\">\n  <thead>\n    <tr style=\"text-align: right;\">\n      <th></th>\n      <th>R</th>\n      <th>F</th>\n      <th>M</th>\n    </tr>\n    <tr>\n      <th>userID</th>\n      <th></th>\n      <th></th>\n      <th></th>\n    </tr>\n  </thead>\n  <tbody>\n    <tr>\n      <th>user-100000</th>\n      <td>-79</td>\n      <td>1</td>\n      <td>1770.81</td>\n    </tr>\n    <tr>\n      <th>user-100003</th>\n      <td>-221</td>\n      <td>1</td>\n      <td>511.59</td>\n    </tr>\n    <tr>\n      <th>user-100006</th>\n      <td>-47</td>\n      <td>2</td>\n      <td>2771.98</td>\n    </tr>\n    <tr>\n      <th>user-100007</th>\n      <td>-351</td>\n      <td>1</td>\n      <td>2162.14</td>\n    </tr>\n    <tr>\n      <th>user-100008</th>\n      <td>-45</td>\n      <td>1</td>\n      <td>4879.94</td>\n    </tr>\n    <tr>\n      <th>...</th>\n      <td>...</td>\n      <td>...</td>\n      <td>...</td>\n    </tr>\n    <tr>\n      <th>user-299980</th>\n      <td>-74</td>\n      <td>1</td>\n      <td>389.44</td>\n    </tr>\n    <tr>\n      <th>user-299983</th>\n      <td>-4</td>\n      <td>1</td>\n      <td>706.80</td>\n    </tr>\n    <tr>\n      <th>user-299989</th>\n      <td>-50</td>\n      <td>2</td>\n      <td>1637.47</td>\n    </tr>\n    <tr>\n      <th>user-299992</th>\n      <td>-364</td>\n      <td>1</td>\n      <td>440.17</td>\n    </tr>\n    <tr>\n      <th>user-299995</th>\n      <td>-276</td>\n      <td>1</td>\n      <td>350.87</td>\n    </tr>\n  </tbody>\n</table>\n<p>78651 rows × 3 columns</p>\n</div>"
     },
     "execution_count": 70,
     "metadata": {},
     "output_type": "execute_result"
    }
   ],
   "source": [
    "temp"
   ],
   "metadata": {
    "collapsed": false
   }
  },
  {
   "cell_type": "code",
   "execution_count": 71,
   "outputs": [],
   "source": [
    "temp = temp.apply(lambda x: x-x.mean())"
   ],
   "metadata": {
    "collapsed": false
   }
  },
  {
   "cell_type": "code",
   "execution_count": 72,
   "outputs": [
    {
     "data": {
      "text/plain": "                      R         F            M\nuserID                                        \nuser-100000   67.941298 -0.314007   465.926905\nuser-100003  -74.058702 -0.314007  -793.293095\nuser-100006   99.941298  0.685993  1467.096905\nuser-100007 -204.058702 -0.314007   857.256905\nuser-100008  101.941298 -0.314007  3575.056905\n...                 ...       ...          ...\nuser-299980   72.941298 -0.314007  -915.443095\nuser-299983  142.941298 -0.314007  -598.083095\nuser-299989   96.941298  0.685993   332.586905\nuser-299992 -217.058702 -0.314007  -864.713095\nuser-299995 -129.058702 -0.314007  -954.013095\n\n[78651 rows x 3 columns]",
      "text/html": "<div>\n<style scoped>\n    .dataframe tbody tr th:only-of-type {\n        vertical-align: middle;\n    }\n\n    .dataframe tbody tr th {\n        vertical-align: top;\n    }\n\n    .dataframe thead th {\n        text-align: right;\n    }\n</style>\n<table border=\"1\" class=\"dataframe\">\n  <thead>\n    <tr style=\"text-align: right;\">\n      <th></th>\n      <th>R</th>\n      <th>F</th>\n      <th>M</th>\n    </tr>\n    <tr>\n      <th>userID</th>\n      <th></th>\n      <th></th>\n      <th></th>\n    </tr>\n  </thead>\n  <tbody>\n    <tr>\n      <th>user-100000</th>\n      <td>67.941298</td>\n      <td>-0.314007</td>\n      <td>465.926905</td>\n    </tr>\n    <tr>\n      <th>user-100003</th>\n      <td>-74.058702</td>\n      <td>-0.314007</td>\n      <td>-793.293095</td>\n    </tr>\n    <tr>\n      <th>user-100006</th>\n      <td>99.941298</td>\n      <td>0.685993</td>\n      <td>1467.096905</td>\n    </tr>\n    <tr>\n      <th>user-100007</th>\n      <td>-204.058702</td>\n      <td>-0.314007</td>\n      <td>857.256905</td>\n    </tr>\n    <tr>\n      <th>user-100008</th>\n      <td>101.941298</td>\n      <td>-0.314007</td>\n      <td>3575.056905</td>\n    </tr>\n    <tr>\n      <th>...</th>\n      <td>...</td>\n      <td>...</td>\n      <td>...</td>\n    </tr>\n    <tr>\n      <th>user-299980</th>\n      <td>72.941298</td>\n      <td>-0.314007</td>\n      <td>-915.443095</td>\n    </tr>\n    <tr>\n      <th>user-299983</th>\n      <td>142.941298</td>\n      <td>-0.314007</td>\n      <td>-598.083095</td>\n    </tr>\n    <tr>\n      <th>user-299989</th>\n      <td>96.941298</td>\n      <td>0.685993</td>\n      <td>332.586905</td>\n    </tr>\n    <tr>\n      <th>user-299992</th>\n      <td>-217.058702</td>\n      <td>-0.314007</td>\n      <td>-864.713095</td>\n    </tr>\n    <tr>\n      <th>user-299995</th>\n      <td>-129.058702</td>\n      <td>-0.314007</td>\n      <td>-954.013095</td>\n    </tr>\n  </tbody>\n</table>\n<p>78651 rows × 3 columns</p>\n</div>"
     },
     "execution_count": 72,
     "metadata": {},
     "output_type": "execute_result"
    }
   ],
   "source": [
    "temp"
   ],
   "metadata": {
    "collapsed": false
   }
  },
  {
   "cell_type": "code",
   "execution_count": 73,
   "outputs": [
    {
     "data": {
      "text/plain": "             R  F  M\nuserID              \nuser-100000  1  0  1\nuser-100003  0  0  0\nuser-100006  1  1  1\nuser-100007  0  0  1\nuser-100008  1  0  1\n...         .. .. ..\nuser-299980  1  0  0\nuser-299983  1  0  0\nuser-299989  1  1  1\nuser-299992  0  0  0\nuser-299995  0  0  0\n\n[78651 rows x 3 columns]",
      "text/html": "<div>\n<style scoped>\n    .dataframe tbody tr th:only-of-type {\n        vertical-align: middle;\n    }\n\n    .dataframe tbody tr th {\n        vertical-align: top;\n    }\n\n    .dataframe thead th {\n        text-align: right;\n    }\n</style>\n<table border=\"1\" class=\"dataframe\">\n  <thead>\n    <tr style=\"text-align: right;\">\n      <th></th>\n      <th>R</th>\n      <th>F</th>\n      <th>M</th>\n    </tr>\n    <tr>\n      <th>userID</th>\n      <th></th>\n      <th></th>\n      <th></th>\n    </tr>\n  </thead>\n  <tbody>\n    <tr>\n      <th>user-100000</th>\n      <td>1</td>\n      <td>0</td>\n      <td>1</td>\n    </tr>\n    <tr>\n      <th>user-100003</th>\n      <td>0</td>\n      <td>0</td>\n      <td>0</td>\n    </tr>\n    <tr>\n      <th>user-100006</th>\n      <td>1</td>\n      <td>1</td>\n      <td>1</td>\n    </tr>\n    <tr>\n      <th>user-100007</th>\n      <td>0</td>\n      <td>0</td>\n      <td>1</td>\n    </tr>\n    <tr>\n      <th>user-100008</th>\n      <td>1</td>\n      <td>0</td>\n      <td>1</td>\n    </tr>\n    <tr>\n      <th>...</th>\n      <td>...</td>\n      <td>...</td>\n      <td>...</td>\n    </tr>\n    <tr>\n      <th>user-299980</th>\n      <td>1</td>\n      <td>0</td>\n      <td>0</td>\n    </tr>\n    <tr>\n      <th>user-299983</th>\n      <td>1</td>\n      <td>0</td>\n      <td>0</td>\n    </tr>\n    <tr>\n      <th>user-299989</th>\n      <td>1</td>\n      <td>1</td>\n      <td>1</td>\n    </tr>\n    <tr>\n      <th>user-299992</th>\n      <td>0</td>\n      <td>0</td>\n      <td>0</td>\n    </tr>\n    <tr>\n      <th>user-299995</th>\n      <td>0</td>\n      <td>0</td>\n      <td>0</td>\n    </tr>\n  </tbody>\n</table>\n<p>78651 rows × 3 columns</p>\n</div>"
     },
     "execution_count": 73,
     "metadata": {},
     "output_type": "execute_result"
    }
   ],
   "source": [
    "temp = temp.applymap(lambda x:'1' if x>=0 else '0')\n",
    "temp"
   ],
   "metadata": {
    "collapsed": false
   }
  },
  {
   "cell_type": "code",
   "execution_count": 74,
   "outputs": [],
   "source": [
    "def tag(model):\n",
    "    tags = {\n",
    "       '111':'重要价值用户',\n",
    "        '101':'重要发展用户',\n",
    "        '011':'重要保持用户',\n",
    "        '001':'重要挽留用户',\n",
    "        '110':'一般价值用户',\n",
    "        '100':'一般发展用户',\n",
    "        '010':'一般保持用户',\n",
    "        '000':'一般挽留用户'\n",
    "    }\n",
    "    key =model['R']+model['F']+model['M']\n",
    "    return tags[key]"
   ],
   "metadata": {
    "collapsed": false
   }
  },
  {
   "cell_type": "code",
   "execution_count": 75,
   "outputs": [
    {
     "data": {
      "text/plain": "             R  F  M     TAG\nuserID                      \nuser-100000  1  0  1  重要发展用户\nuser-100003  0  0  0  一般挽留用户\nuser-100006  1  1  1  重要价值用户\nuser-100007  0  0  1  重要挽留用户\nuser-100008  1  0  1  重要发展用户\n...         .. .. ..     ...\nuser-299980  1  0  0  一般发展用户\nuser-299983  1  0  0  一般发展用户\nuser-299989  1  1  1  重要价值用户\nuser-299992  0  0  0  一般挽留用户\nuser-299995  0  0  0  一般挽留用户\n\n[78651 rows x 4 columns]",
      "text/html": "<div>\n<style scoped>\n    .dataframe tbody tr th:only-of-type {\n        vertical-align: middle;\n    }\n\n    .dataframe tbody tr th {\n        vertical-align: top;\n    }\n\n    .dataframe thead th {\n        text-align: right;\n    }\n</style>\n<table border=\"1\" class=\"dataframe\">\n  <thead>\n    <tr style=\"text-align: right;\">\n      <th></th>\n      <th>R</th>\n      <th>F</th>\n      <th>M</th>\n      <th>TAG</th>\n    </tr>\n    <tr>\n      <th>userID</th>\n      <th></th>\n      <th></th>\n      <th></th>\n      <th></th>\n    </tr>\n  </thead>\n  <tbody>\n    <tr>\n      <th>user-100000</th>\n      <td>1</td>\n      <td>0</td>\n      <td>1</td>\n      <td>重要发展用户</td>\n    </tr>\n    <tr>\n      <th>user-100003</th>\n      <td>0</td>\n      <td>0</td>\n      <td>0</td>\n      <td>一般挽留用户</td>\n    </tr>\n    <tr>\n      <th>user-100006</th>\n      <td>1</td>\n      <td>1</td>\n      <td>1</td>\n      <td>重要价值用户</td>\n    </tr>\n    <tr>\n      <th>user-100007</th>\n      <td>0</td>\n      <td>0</td>\n      <td>1</td>\n      <td>重要挽留用户</td>\n    </tr>\n    <tr>\n      <th>user-100008</th>\n      <td>1</td>\n      <td>0</td>\n      <td>1</td>\n      <td>重要发展用户</td>\n    </tr>\n    <tr>\n      <th>...</th>\n      <td>...</td>\n      <td>...</td>\n      <td>...</td>\n      <td>...</td>\n    </tr>\n    <tr>\n      <th>user-299980</th>\n      <td>1</td>\n      <td>0</td>\n      <td>0</td>\n      <td>一般发展用户</td>\n    </tr>\n    <tr>\n      <th>user-299983</th>\n      <td>1</td>\n      <td>0</td>\n      <td>0</td>\n      <td>一般发展用户</td>\n    </tr>\n    <tr>\n      <th>user-299989</th>\n      <td>1</td>\n      <td>1</td>\n      <td>1</td>\n      <td>重要价值用户</td>\n    </tr>\n    <tr>\n      <th>user-299992</th>\n      <td>0</td>\n      <td>0</td>\n      <td>0</td>\n      <td>一般挽留用户</td>\n    </tr>\n    <tr>\n      <th>user-299995</th>\n      <td>0</td>\n      <td>0</td>\n      <td>0</td>\n      <td>一般挽留用户</td>\n    </tr>\n  </tbody>\n</table>\n<p>78651 rows × 4 columns</p>\n</div>"
     },
     "execution_count": 75,
     "metadata": {},
     "output_type": "execute_result"
    }
   ],
   "source": [
    "temp['TAG'] = temp.apply(tag,axis=1)\n",
    "temp"
   ],
   "metadata": {
    "collapsed": false
   }
  },
  {
   "cell_type": "code",
   "execution_count": 76,
   "outputs": [],
   "source": [
    "ser= temp.groupby('TAG').TAG.count()"
   ],
   "metadata": {
    "collapsed": false
   }
  },
  {
   "cell_type": "code",
   "execution_count": 77,
   "outputs": [
    {
     "data": {
      "text/plain": "<Axes: ylabel='TAG'>"
     },
     "execution_count": 77,
     "metadata": {},
     "output_type": "execute_result"
    },
    {
     "data": {
      "text/plain": "<Figure size 640x480 with 1 Axes>",
      "image/svg+xml": "<?xml version=\"1.0\" encoding=\"utf-8\" standalone=\"no\"?>\n<!DOCTYPE svg PUBLIC \"-//W3C//DTD SVG 1.1//EN\"\n  \"http://www.w3.org/Graphics/SVG/1.1/DTD/svg11.dtd\">\n<svg xmlns:xlink=\"http://www.w3.org/1999/xlink\" width=\"365.61296pt\" height=\"280.512pt\" viewBox=\"0 0 365.61296 280.512\" xmlns=\"http://www.w3.org/2000/svg\" version=\"1.1\">\n <metadata>\n  <rdf:RDF xmlns:dc=\"http://purl.org/dc/elements/1.1/\" xmlns:cc=\"http://creativecommons.org/ns#\" xmlns:rdf=\"http://www.w3.org/1999/02/22-rdf-syntax-ns#\">\n   <cc:Work>\n    <dc:type rdf:resource=\"http://purl.org/dc/dcmitype/StillImage\"/>\n    <dc:date>2023-02-21T17:13:11.976792</dc:date>\n    <dc:format>image/svg+xml</dc:format>\n    <dc:creator>\n     <cc:Agent>\n      <dc:title>Matplotlib v3.7.0, https://matplotlib.org/</dc:title>\n     </cc:Agent>\n    </dc:creator>\n   </cc:Work>\n  </rdf:RDF>\n </metadata>\n <defs>\n  <style type=\"text/css\">*{stroke-linejoin: round; stroke-linecap: butt}</style>\n </defs>\n <g id=\"figure_1\">\n  <g id=\"patch_1\">\n   <path d=\"M 0 280.512 \nL 365.61296 280.512 \nL 365.61296 0 \nL 0 0 \nz\n\" style=\"fill: #ffffff\"/>\n  </g>\n  <g id=\"axes_1\">\n   <g id=\"patch_2\">\n    <path d=\"M 290.267801 140.256 \nC 290.267801 132.905221 289.506365 125.574174 287.995691 118.380301 \nC 286.485016 111.186428 284.233214 104.16835 281.276358 97.438495 \nL 183.823001 140.256 \nz\n\" style=\"fill: #1f77b4\"/>\n   </g>\n   <g id=\"patch_3\">\n    <path d=\"M 281.276358 97.438495 \nC 280.198184 94.984553 279.027706 92.57221 277.767429 90.206625 \nC 276.507151 87.84104 275.157973 85.523901 273.722779 83.260163 \nL 183.823001 140.256 \nz\n\" style=\"fill: #ff7f0e\"/>\n   </g>\n   <g id=\"patch_4\">\n    <path d=\"M 273.722779 83.260163 \nC 265.638857 70.509359 254.933933 59.623106 242.3207 51.32617 \nC 229.707466 43.029233 215.47219 37.509919 200.562602 35.135682 \nC 185.653015 32.761445 170.407499 33.58617 155.841045 37.55495 \nC 141.274591 41.523731 127.717794 48.546491 116.073215 58.155684 \nL 183.823001 140.256 \nz\n\" style=\"fill: #2ca02c\"/>\n   </g>\n   <g id=\"patch_5\">\n    <path d=\"M 116.073215 58.155684 \nC 102.733596 69.163636 92.275658 83.258633 85.6076 99.216623 \nC 78.939542 115.174613 76.260144 132.519878 77.802091 149.746104 \nC 79.344038 166.972329 85.061365 183.56599 94.457562 198.086042 \nC 103.853759 212.606095 116.648719 224.619687 131.731289 233.083523 \nL 183.823001 140.256 \nz\n\" style=\"fill: #d62728\"/>\n   </g>\n   <g id=\"patch_6\">\n    <path d=\"M 131.731289 233.083523 \nC 143.893369 239.908477 157.279018 244.277193 171.12563 245.940778 \nC 184.972242 247.604362 199.01177 246.530611 212.444355 242.780697 \nL 183.823001 140.256 \nz\n\" style=\"fill: #9467bd\"/>\n   </g>\n   <g id=\"patch_7\">\n    <path d=\"M 212.444355 242.780697 \nC 216.855038 241.549387 221.181671 240.034733 225.397276 238.246179 \nC 229.612882 236.457624 233.70868 234.398895 237.659134 232.082828 \nL 183.823001 140.256 \nz\n\" style=\"fill: #8c564b\"/>\n   </g>\n   <g id=\"patch_8\">\n    <path d=\"M 237.659134 232.082828 \nC 244.669969 227.972523 251.187075 223.072806 257.082971 217.479521 \nC 262.978867 211.886236 268.214857 205.636093 272.688521 198.851348 \nL 183.823001 140.256 \nz\n\" style=\"fill: #e377c2\"/>\n   </g>\n   <g id=\"patch_9\">\n    <path d=\"M 272.688521 198.851348 \nC 278.391455 190.202296 282.801277 180.766812 285.778306 170.843764 \nC 288.755334 160.920717 290.267802 150.615994 290.267801 140.255995 \nL 183.823001 140.256 \nz\n\" style=\"fill: #7f7f7f\"/>\n   </g>\n   <g id=\"matplotlib.axis_1\"/>\n   <g id=\"matplotlib.axis_2\">\n    <g id=\"text_1\">\n     <!-- TAG -->\n     <g transform=\"translate(45.517001 147.756) rotate(-90) scale(0.1 -0.1)\">\n      <defs>\n       <path id=\"SimHei-54\" d=\"M 2850 3925 \nL 1850 3925 \nL 1850 125 \nL 1275 125 \nL 1275 3925 \nL 275 3925 \nL 275 4400 \nL 2850 4400 \nL 2850 3925 \nz\n\" transform=\"scale(0.015625)\"/>\n       <path id=\"SimHei-41\" d=\"M 3075 125 \nL 2475 125 \nL 2125 1450 \nL 1025 1450 \nL 675 125 \nL 75 125 \nL 1325 4450 \nL 1825 4450 \nL 3075 125 \nz\nM 2000 1925 \nL 1600 3450 \nL 1550 3450 \nL 1150 1925 \nL 2000 1925 \nz\n\" transform=\"scale(0.015625)\"/>\n       <path id=\"SimHei-47\" d=\"M 2850 75 \nL 2425 75 \nL 2350 425 \nQ 2250 275 2037 175 \nQ 1825 75 1575 75 \nQ 1050 75 637 562 \nQ 225 1050 225 2125 \nQ 225 3300 600 3875 \nQ 975 4450 1625 4450 \nQ 2200 4450 2525 4025 \nQ 2850 3600 2850 2925 \nL 2300 2925 \nQ 2300 3450 2125 3712 \nQ 1950 3975 1625 3975 \nQ 1225 3975 1025 3562 \nQ 825 3150 825 2175 \nQ 825 1250 1075 900 \nQ 1325 550 1650 550 \nQ 1975 550 2162 787 \nQ 2350 1025 2350 1525 \nL 2350 1800 \nL 1575 1800 \nL 1575 2275 \nL 2850 2275 \nL 2850 75 \nz\n\" transform=\"scale(0.015625)\"/>\n      </defs>\n      <use xlink:href=\"#SimHei-54\"/>\n      <use xlink:href=\"#SimHei-41\" x=\"50\"/>\n      <use xlink:href=\"#SimHei-47\" x=\"100\"/>\n     </g>\n    </g>\n   </g>\n   <g id=\"text_2\">\n    <!-- 一般价值用户 -->\n    <g transform=\"translate(298.41296 119.6107) scale(0.1 -0.1)\">\n     <defs>\n      <path id=\"SimHei-4e00\" d=\"M 4875 2675 \nQ 5525 2675 6050 2700 \nL 6050 2050 \nQ 5525 2075 4900 2075 \nL 1600 2075 \nQ 950 2075 350 2050 \nL 350 2700 \nQ 950 2675 1600 2675 \nL 4875 2675 \nz\n\" transform=\"scale(0.015625)\"/>\n      <path id=\"SimHei-822c\" d=\"M 2075 5025 \nQ 1900 4650 1825 4375 \nL 2875 4375 \nQ 2850 3975 2850 3575 \nL 2850 150 \nQ 2850 -250 2675 -350 \nQ 2500 -450 1950 -575 \nQ 1875 -275 1725 -50 \nQ 2125 -50 2262 0 \nQ 2400 50 2425 325 \nL 2425 2000 \nL 1200 2000 \nQ 1200 1225 1050 512 \nQ 900 -200 600 -675 \nQ 425 -500 225 -375 \nQ 550 175 662 762 \nQ 775 1350 775 2000 \nQ 550 2000 325 1975 \nL 325 2400 \nQ 575 2375 775 2375 \nL 775 3600 \nQ 775 4000 750 4375 \nL 1375 4375 \nQ 1475 4775 1525 5175 \nQ 1825 5050 2075 5025 \nz\nM 5750 2500 \nQ 5600 1925 5400 1487 \nQ 5200 1050 4875 600 \nQ 5425 50 6175 -175 \nQ 6000 -375 5850 -625 \nQ 5525 -500 5150 -237 \nQ 4775 25 4550 300 \nQ 3975 -300 3175 -700 \nQ 3075 -500 2850 -325 \nQ 3750 25 4225 625 \nQ 3750 1225 3475 2125 \nQ 3300 2100 3150 2100 \nL 3150 2525 \nQ 3775 2500 4200 2500 \nL 5750 2500 \nz\nM 5325 4800 \nQ 5300 4475 5300 4150 \nL 5300 3575 \nQ 5275 3325 5412 3287 \nQ 5550 3250 6175 3275 \nQ 6075 3125 6050 2850 \nL 5425 2850 \nQ 4850 2850 4850 3400 \nL 4850 4425 \nL 4075 4425 \nQ 4075 3800 3962 3437 \nQ 3850 3075 3350 2600 \nQ 3175 2800 2975 2925 \nQ 3550 3325 3600 3875 \nQ 3650 4425 3600 4800 \nL 5325 4800 \nz\nM 2425 2375 \nL 2425 4025 \nL 1200 4025 \nL 1200 2375 \nL 2425 2375 \nz\nM 3925 2125 \nQ 4225 1325 4575 950 \nQ 4950 1400 5150 2125 \nL 4150 2125 \nL 3925 2125 \nz\nM 1825 1675 \nQ 2125 1125 2225 750 \nQ 2025 700 1825 550 \nQ 1650 1075 1425 1475 \nQ 1600 1550 1825 1675 \nz\nM 1825 3700 \nQ 2025 3350 2175 2850 \nQ 1950 2750 1775 2650 \nQ 1700 3000 1450 3500 \nQ 1650 3575 1825 3700 \nz\n\" transform=\"scale(0.015625)\"/>\n      <path id=\"SimHei-4ef7\" d=\"M 2200 4975 \nQ 2050 4725 1650 3775 \nL 1650 450 \nQ 1650 -225 1675 -650 \nL 1175 -650 \nQ 1175 -225 1200 450 \nL 1200 2975 \nQ 900 2425 650 2100 \nQ 525 2275 225 2450 \nQ 750 3025 1125 3800 \nQ 1500 4575 1625 5175 \nQ 1950 5025 2200 4975 \nz\nM 4175 4700 \nQ 4850 3525 6150 2950 \nQ 5925 2750 5775 2500 \nQ 4725 3100 3950 4300 \nQ 3300 3125 2250 2350 \nQ 2125 2525 1900 2725 \nQ 2825 3325 3250 4050 \nQ 3675 4775 3750 5150 \nQ 4150 4950 4325 4900 \nL 4175 4700 \nz\nM 3475 2650 \nQ 3400 2075 3325 1087 \nQ 3250 100 2325 -675 \nQ 2175 -450 1925 -300 \nQ 2850 350 2912 1262 \nQ 2975 2175 2950 2700 \nQ 3275 2650 3475 2650 \nz\nM 5075 2700 \nQ 5050 2150 5050 1725 \nL 5050 150 \nQ 5050 -225 5075 -650 \nL 4550 -650 \nQ 4575 -225 4575 175 \nL 4575 1875 \nQ 4575 2150 4550 2700 \nL 5075 2700 \nz\n\" transform=\"scale(0.015625)\"/>\n      <path id=\"SimHei-503c\" d=\"M 3675 4450 \nL 3675 5100 \nQ 3975 5075 4350 5050 \nQ 4225 4875 4200 4450 \nL 5125 4450 \nQ 5550 4450 5875 4475 \nL 5875 4025 \nQ 5525 4050 5125 4050 \nL 4175 4050 \nL 4125 3500 \nL 5400 3500 \nQ 5375 3200 5375 2700 \nL 5375 150 \nQ 5875 150 6100 175 \nL 6100 -275 \nQ 5775 -250 5200 -250 \nL 2850 -250 \nQ 2275 -250 1900 -275 \nL 1900 175 \nQ 2125 150 2600 150 \nL 2600 2700 \nQ 2600 3175 2575 3500 \nL 3600 3500 \nL 3650 4050 \nL 3200 4050 \nQ 2575 4050 2225 4025 \nL 2225 4475 \nQ 2550 4450 3200 4450 \nL 3675 4450 \nz\nM 2225 4900 \nQ 2025 4675 1650 3750 \nL 1650 450 \nQ 1650 -75 1675 -550 \nL 1150 -550 \nQ 1175 -125 1175 375 \nL 1175 2950 \nQ 875 2450 625 2150 \nQ 425 2425 250 2575 \nQ 500 2825 937 3537 \nQ 1375 4250 1625 5150 \nQ 1975 4975 2225 4900 \nz\nM 4925 2650 \nL 4925 3150 \nL 3075 3150 \nL 3075 2650 \nL 4925 2650 \nz\nM 4925 150 \nL 4925 625 \nL 3075 625 \nL 3075 150 \nL 4925 150 \nz\nM 4925 1000 \nL 4925 1450 \nL 3075 1450 \nL 3075 1000 \nL 4925 1000 \nz\nM 4925 1825 \nL 4925 2275 \nL 3075 2275 \nL 3075 1825 \nL 4925 1825 \nz\n\" transform=\"scale(0.015625)\"/>\n      <path id=\"SimHei-7528\" d=\"M 350 -300 \nQ 650 125 812 600 \nQ 975 1075 1012 1550 \nQ 1050 2025 1050 3150 \nQ 1050 4275 1025 4950 \nL 5500 4950 \nQ 5475 4225 5475 3650 \nL 5475 375 \nQ 5475 -150 5175 -275 \nQ 4875 -400 4475 -450 \nQ 4425 -75 4300 125 \nQ 4800 100 4887 162 \nQ 4975 225 4975 400 \nL 4975 1650 \nL 3450 1650 \nL 3450 675 \nQ 3450 125 3475 -325 \nL 2925 -325 \nQ 2950 100 2950 650 \nL 2950 1650 \nL 1525 1650 \nQ 1425 575 850 -525 \nQ 575 -350 350 -300 \nz\nM 4975 3475 \nL 4975 4550 \nL 3450 4550 \nL 3450 3475 \nL 4975 3475 \nz\nM 4975 2050 \nL 4975 3100 \nL 3450 3100 \nL 3450 2050 \nL 4975 2050 \nz\nM 2950 3475 \nL 2950 4550 \nL 1525 4550 \nL 1525 3475 \nL 2950 3475 \nz\nM 2950 2050 \nL 2950 3100 \nL 1525 3100 \nL 1525 2050 \nL 2950 2050 \nz\n\" transform=\"scale(0.015625)\"/>\n      <path id=\"SimHei-6237\" d=\"M 5775 4050 \nQ 5750 3450 5750 2675 \nQ 5750 1925 5775 1500 \nL 5225 1500 \nL 5225 1875 \nL 1750 1875 \nQ 1650 1075 1500 675 \nQ 1350 275 1175 -37 \nQ 1000 -350 800 -625 \nQ 550 -425 250 -325 \nQ 750 200 937 662 \nQ 1125 1125 1187 1537 \nQ 1250 1950 1250 2425 \nQ 1250 2900 1225 4050 \nL 5775 4050 \nz\nM 5200 2325 \nL 5200 3600 \nL 1725 3600 \nL 1725 2325 \nL 5200 2325 \nz\nM 3400 5275 \nQ 3700 4675 3825 4325 \nQ 3500 4250 3325 4150 \nQ 3150 4675 2925 5075 \nQ 3175 5150 3400 5275 \nz\n\" transform=\"scale(0.015625)\"/>\n     </defs>\n     <use xlink:href=\"#SimHei-4e00\"/>\n     <use xlink:href=\"#SimHei-822c\" x=\"100\"/>\n     <use xlink:href=\"#SimHei-4ef7\" x=\"200\"/>\n     <use xlink:href=\"#SimHei-503c\" x=\"300\"/>\n     <use xlink:href=\"#SimHei-7528\" x=\"400\"/>\n     <use xlink:href=\"#SimHei-6237\" x=\"500\"/>\n    </g>\n   </g>\n   <g id=\"text_3\">\n    <!-- 一般保持用户 -->\n    <g transform=\"translate(287.161872 88.619656) scale(0.1 -0.1)\">\n     <defs>\n      <path id=\"SimHei-4fdd\" d=\"M 5425 4925 \nQ 5400 4550 5400 3950 \nQ 5400 3375 5425 3050 \nL 4225 3050 \nL 4225 2250 \nL 4975 2250 \nQ 5650 2250 6025 2275 \nL 6025 1800 \nQ 5600 1825 5025 1825 \nL 4600 1825 \nQ 4825 1325 5225 937 \nQ 5625 550 6175 350 \nQ 5975 175 5800 -125 \nQ 5200 200 4812 700 \nQ 4425 1200 4225 1700 \nL 4225 325 \nQ 4225 -250 4250 -575 \nL 3725 -575 \nQ 3750 -225 3750 275 \nL 3750 1800 \nQ 3150 600 2225 -175 \nQ 2075 50 1775 175 \nQ 2650 650 3225 1825 \nL 2875 1825 \nQ 2350 1825 2000 1800 \nL 2000 2275 \nQ 2350 2250 2825 2250 \nL 3750 2250 \nL 3750 3050 \nL 2600 3050 \nQ 2625 3400 2625 4000 \nQ 2625 4625 2600 4925 \nL 5425 4925 \nz\nM 2125 4975 \nQ 2000 4800 1850 4475 \nQ 1700 4150 1600 3875 \nL 1600 650 \nQ 1600 -150 1625 -575 \nL 1125 -575 \nQ 1150 -175 1150 625 \nL 1150 3000 \nQ 800 2400 525 2050 \nQ 400 2275 200 2425 \nQ 725 3050 1087 3837 \nQ 1450 4625 1575 5225 \nQ 1775 5075 2125 4975 \nz\nM 4950 3450 \nL 4950 4525 \nL 3075 4525 \nL 3075 3450 \nL 4950 3450 \nz\n\" transform=\"scale(0.015625)\"/>\n      <path id=\"SimHei-6301\" d=\"M 3900 2975 \nL 3900 3825 \nL 3525 3825 \nQ 3025 3825 2725 3800 \nL 2725 4225 \nQ 3125 4200 3525 4200 \nL 3900 4200 \nQ 3900 4825 3875 5125 \nL 4400 5125 \nQ 4375 4825 4375 4200 \nL 4875 4200 \nQ 5275 4200 5650 4225 \nL 5650 3800 \nQ 5275 3825 4875 3825 \nL 4375 3825 \nL 4375 2975 \nL 5300 2975 \nQ 5800 2975 6100 3000 \nL 6100 2550 \nQ 5750 2575 5350 2575 \nL 5150 2575 \nL 5150 1850 \nL 5325 1850 \nQ 5750 1850 6025 1875 \nL 6025 1425 \nQ 5700 1450 5325 1450 \nL 5150 1450 \nL 5150 25 \nQ 5150 -400 4912 -512 \nQ 4675 -625 4125 -650 \nQ 4100 -425 3925 -100 \nQ 4375 -125 4525 -87 \nQ 4675 -50 4675 200 \nL 4675 1450 \nL 3200 1450 \nQ 2850 1450 2525 1425 \nL 2525 1875 \nQ 2825 1850 3200 1850 \nL 4675 1850 \nL 4675 2575 \nL 3125 2575 \nQ 2875 2575 2450 2550 \nL 2450 3000 \nQ 2775 2975 3050 2975 \nL 3900 2975 \nz\nM 1275 4450 \nQ 1275 4800 1250 5075 \nL 1800 5075 \nQ 1750 4775 1750 4400 \nL 1750 3825 \nQ 2175 3825 2475 3850 \nL 2475 3350 \nQ 2100 3375 1750 3375 \nL 1750 2325 \nQ 2075 2450 2375 2600 \nQ 2375 2325 2400 2150 \nQ 1975 1975 1750 1825 \nL 1750 50 \nQ 1750 -300 1537 -437 \nQ 1325 -575 750 -625 \nQ 700 -375 550 -75 \nQ 1075 -75 1175 -37 \nQ 1275 0 1275 225 \nL 1275 1625 \nQ 1100 1550 925 1462 \nQ 750 1375 475 1200 \nQ 400 1400 225 1750 \nQ 1000 2000 1275 2125 \nL 1275 3375 \nQ 775 3375 350 3350 \nL 350 3850 \nQ 725 3825 1275 3825 \nL 1275 4450 \nz\nM 3175 1250 \nQ 3600 675 3775 300 \nQ 3525 125 3325 0 \nQ 3075 525 2750 975 \nQ 2925 1075 3175 1250 \nz\n\" transform=\"scale(0.015625)\"/>\n     </defs>\n     <use xlink:href=\"#SimHei-4e00\"/>\n     <use xlink:href=\"#SimHei-822c\" x=\"100\"/>\n     <use xlink:href=\"#SimHei-4fdd\" x=\"200\"/>\n     <use xlink:href=\"#SimHei-6301\" x=\"300\"/>\n     <use xlink:href=\"#SimHei-7528\" x=\"400\"/>\n     <use xlink:href=\"#SimHei-6237\" x=\"500\"/>\n    </g>\n   </g>\n   <g id=\"text_4\">\n    <!-- 一般发展用户 -->\n    <g transform=\"translate(202.236563 28.041619) scale(0.1 -0.1)\">\n     <defs>\n      <path id=\"SimHei-53d1\" d=\"M 3475 4925 \nQ 3350 4650 3275 4362 \nQ 3200 4075 3075 3575 \nL 5075 3575 \nQ 5325 3575 5825 3600 \nL 5825 3125 \nQ 5325 3150 5075 3150 \nL 2975 3150 \nQ 2825 2775 2650 2400 \nL 5300 2400 \nQ 4825 1250 3975 475 \nQ 4650 0 5950 -150 \nQ 5775 -350 5650 -650 \nQ 5150 -550 4625 -362 \nQ 4100 -175 3600 175 \nQ 3200 -75 2625 -312 \nQ 2050 -550 1450 -700 \nQ 1400 -450 1200 -225 \nQ 1750 -150 2300 37 \nQ 2850 225 3275 500 \nQ 2850 925 2325 1725 \nQ 2050 1275 1625 850 \nQ 1200 425 700 75 \nQ 600 250 300 450 \nQ 675 650 1037 975 \nQ 1400 1300 1800 1837 \nQ 2200 2375 2475 3150 \nQ 1825 3150 1475 3125 \nQ 1125 3100 950 3025 \nQ 875 3250 750 3500 \nQ 1000 3550 1112 3875 \nQ 1225 4200 1350 4875 \nQ 1550 4775 1900 4675 \nQ 1775 4425 1675 4162 \nQ 1575 3900 1450 3575 \nL 2600 3575 \nQ 2800 4375 2900 5100 \nQ 3175 4950 3475 4925 \nz\nM 2675 2000 \nQ 3025 1375 3650 750 \nQ 4200 1200 4625 2000 \nL 2675 2000 \nz\nM 4400 5075 \nQ 4825 4600 5250 4100 \nQ 5075 4000 4825 3775 \nQ 4425 4350 4050 4750 \nQ 4225 4875 4400 5075 \nz\n\" transform=\"scale(0.015625)\"/>\n      <path id=\"SimHei-5c55\" d=\"M 5450 5000 \nQ 5425 4625 5425 4275 \nQ 5425 3925 5450 3575 \nL 4375 3575 \nL 4375 2975 \nL 4800 2975 \nQ 5050 2975 5400 3000 \nL 5400 2550 \nQ 4975 2575 4825 2575 \nL 4375 2575 \nL 4375 1975 \nL 5275 1975 \nQ 5500 1975 5900 2000 \nL 5900 1550 \nQ 5500 1575 5300 1575 \nL 3725 1575 \nQ 3900 975 4325 625 \nQ 4725 1050 4975 1475 \nQ 5175 1325 5450 1175 \nQ 5225 1025 4625 375 \nQ 5200 -25 6025 -150 \nQ 5825 -325 5700 -625 \nQ 5000 -400 4562 -150 \nQ 4125 100 3800 500 \nQ 3475 900 3275 1575 \nL 2600 1575 \nL 2600 150 \nQ 3125 450 3300 600 \nQ 3350 325 3450 100 \nQ 3300 25 2937 -200 \nQ 2575 -425 2300 -675 \nQ 2125 -425 1975 -250 \nQ 2150 -50 2150 300 \nL 2150 1575 \nL 1350 1575 \nQ 1275 800 1087 225 \nQ 900 -350 725 -625 \nQ 525 -450 325 -350 \nQ 550 75 687 525 \nQ 825 975 875 1475 \nQ 925 1975 912 2587 \nQ 900 3200 900 3650 \nQ 900 4125 875 5000 \nL 5450 5000 \nz\nM 4975 3975 \nL 4975 4575 \nL 1350 4575 \nL 1350 3975 \nL 4975 3975 \nz\nM 2500 1975 \nL 2500 2575 \nL 2250 2575 \nQ 2025 2575 1625 2550 \nL 1625 3000 \nQ 2025 2975 2250 2975 \nL 2500 2975 \nL 2500 3575 \nL 1350 3575 \nL 1350 1975 \nL 2500 1975 \nz\nM 3925 2975 \nL 3925 3575 \nL 2950 3575 \nL 2950 2975 \nL 3925 2975 \nz\nM 3925 1975 \nL 3925 2575 \nL 2950 2575 \nL 2950 1975 \nL 3925 1975 \nz\n\" transform=\"scale(0.015625)\"/>\n     </defs>\n     <use xlink:href=\"#SimHei-4e00\"/>\n     <use xlink:href=\"#SimHei-822c\" x=\"100\"/>\n     <use xlink:href=\"#SimHei-53d1\" x=\"200\"/>\n     <use xlink:href=\"#SimHei-5c55\" x=\"300\"/>\n     <use xlink:href=\"#SimHei-7528\" x=\"400\"/>\n     <use xlink:href=\"#SimHei-6237\" x=\"500\"/>\n    </g>\n   </g>\n   <g id=\"text_5\">\n    <!-- 一般挽留用户 -->\n    <g transform=\"translate(7.2 154.113083) scale(0.1 -0.1)\">\n     <defs>\n      <path id=\"SimHei-633d\" d=\"M 3900 5050 \nQ 3625 4700 3475 4475 \nL 5275 4475 \nQ 5150 4225 4650 3300 \nL 5775 3300 \nQ 5750 3025 5750 2500 \nQ 5750 1975 5775 1725 \nL 4675 1725 \nL 4675 275 \nQ 4700 -25 4825 -62 \nQ 4950 -100 5125 -100 \nQ 5300 -100 5437 -37 \nQ 5575 25 5650 550 \nQ 5900 425 6175 350 \nQ 6025 -150 5900 -312 \nQ 5775 -475 5400 -475 \nL 4775 -475 \nQ 4250 -475 4225 25 \nL 4225 1725 \nL 4150 1725 \nQ 3925 850 3450 337 \nQ 2975 -175 2175 -625 \nQ 2100 -425 1800 -225 \nQ 2500 100 2975 562 \nQ 3450 1025 3675 1725 \nL 2550 1725 \nQ 2575 2050 2575 2475 \nQ 2575 2925 2550 3300 \nL 4150 3300 \nQ 4275 3500 4550 4075 \nL 3225 4075 \nQ 2900 3650 2650 3350 \nQ 2475 3475 2200 3550 \nQ 2700 4050 2987 4525 \nQ 3275 5000 3350 5225 \nQ 3625 5100 3900 5050 \nz\nM 1050 4450 \nQ 1050 4800 1025 5125 \nL 1525 5125 \nQ 1500 4825 1500 4450 \nL 1500 3825 \nQ 1800 3825 2150 3850 \nL 2150 3400 \nQ 1800 3425 1500 3425 \nL 1500 2350 \nQ 1850 2500 2125 2700 \nQ 2125 2475 2175 2250 \nQ 1900 2125 1500 1900 \nL 1500 25 \nQ 1500 -300 1287 -387 \nQ 1075 -475 625 -550 \nQ 625 -325 425 -25 \nQ 800 -50 925 -37 \nQ 1050 -25 1050 200 \nL 1050 1700 \nQ 600 1425 375 1275 \nQ 350 1550 225 1825 \nQ 450 1875 1050 2150 \nL 1050 3425 \nQ 650 3425 325 3400 \nL 325 3850 \nQ 725 3825 1050 3825 \nL 1050 4450 \nz\nM 5300 2125 \nL 5300 2900 \nL 4400 2900 \nQ 4350 2475 4250 2125 \nL 5300 2125 \nz\nM 3750 2125 \nQ 3875 2425 3925 2900 \nL 3000 2900 \nL 3000 2125 \nL 3750 2125 \nz\n\" transform=\"scale(0.015625)\"/>\n      <path id=\"SimHei-7559\" d=\"M 5575 2300 \nQ 5550 1900 5550 1275 \nL 5550 375 \nQ 5550 -50 5575 -650 \nL 5050 -650 \nL 5050 -150 \nL 1500 -150 \nL 1500 -650 \nL 975 -650 \nQ 1000 100 1000 450 \nL 1000 1275 \nQ 1000 1925 975 2300 \nL 5575 2300 \nz\nM 3350 2475 \nQ 3250 2650 2900 2850 \nQ 3325 3050 3625 3400 \nQ 3925 3750 4025 4450 \nQ 3675 4450 3225 4400 \nL 3225 4875 \nQ 3675 4850 4050 4850 \nL 5950 4850 \nQ 5875 4425 5825 3912 \nQ 5775 3400 5725 3125 \nQ 5675 2850 5462 2775 \nQ 5250 2700 4775 2600 \nQ 4675 2950 4525 3200 \nQ 4900 3200 5075 3225 \nQ 5250 3250 5287 3400 \nQ 5325 3550 5375 4450 \nL 4525 4450 \nQ 4425 3675 4112 3250 \nQ 3800 2825 3350 2475 \nz\nM 2200 3575 \nQ 2050 3800 1875 3975 \nQ 2125 4100 2275 4250 \nQ 2650 3750 3000 3250 \nQ 2800 3100 2575 2950 \nQ 2500 3100 2400 3250 \nQ 2000 3075 1587 2862 \nQ 1175 2650 800 2425 \nQ 675 2650 500 2850 \nQ 675 3000 675 3425 \nL 675 4125 \nQ 675 4550 650 4850 \nQ 1075 4850 1575 4925 \nQ 2075 5000 2550 5225 \nQ 2650 4975 2950 4700 \nQ 2775 4700 2287 4600 \nQ 1800 4500 1175 4450 \nL 1175 3125 \nQ 1600 3300 2200 3575 \nz\nM 3075 250 \nL 3075 875 \nL 1500 875 \nL 1500 250 \nL 3075 250 \nz\nM 3075 1275 \nL 3075 1900 \nL 1500 1900 \nL 1500 1275 \nL 3075 1275 \nz\nM 5050 1275 \nL 5050 1900 \nL 3550 1900 \nL 3550 1275 \nL 5050 1275 \nz\nM 5050 250 \nL 5050 875 \nL 3550 875 \nL 3550 250 \nL 5050 250 \nz\n\" transform=\"scale(0.015625)\"/>\n     </defs>\n     <use xlink:href=\"#SimHei-4e00\"/>\n     <use xlink:href=\"#SimHei-822c\" x=\"100\"/>\n     <use xlink:href=\"#SimHei-633d\" x=\"200\"/>\n     <use xlink:href=\"#SimHei-7559\" x=\"300\"/>\n     <use xlink:href=\"#SimHei-7528\" x=\"400\"/>\n     <use xlink:href=\"#SimHei-6237\" x=\"500\"/>\n    </g>\n   </g>\n   <g id=\"text_6\">\n    <!-- 重要价值用户 -->\n    <g transform=\"translate(109.855893 259.907693) scale(0.1 -0.1)\">\n     <defs>\n      <path id=\"SimHei-91cd\" d=\"M 5300 4575 \nQ 3900 4450 3425 4400 \nL 3425 3875 \nL 5150 3875 \nQ 5500 3875 6000 3900 \nL 6000 3450 \nQ 5500 3475 5150 3475 \nL 3425 3475 \nL 3425 3050 \nL 5150 3050 \nQ 5125 2675 5125 2125 \nQ 5125 1575 5150 1175 \nL 3425 1175 \nL 3425 750 \nL 4550 750 \nQ 5000 750 5500 775 \nL 5500 375 \nQ 5025 400 4575 400 \nL 3425 400 \nL 3425 -50 \nL 5050 -50 \nQ 5475 -50 5975 -25 \nL 5975 -450 \nQ 5475 -425 5075 -425 \nL 1475 -425 \nQ 975 -425 450 -450 \nL 450 -25 \nQ 975 -50 1450 -50 \nL 2925 -50 \nL 2925 400 \nL 2050 400 \nQ 1450 400 950 375 \nL 950 775 \nQ 1600 750 2075 750 \nL 2925 750 \nL 2925 1175 \nL 1250 1175 \nQ 1275 1800 1275 2125 \nQ 1275 2450 1250 3050 \nL 2925 3050 \nL 2925 3475 \nL 1225 3475 \nQ 875 3475 400 3450 \nL 400 3900 \nQ 875 3875 1225 3875 \nL 2925 3875 \nL 2925 4375 \nQ 2425 4350 1075 4250 \nQ 1000 4475 875 4675 \nQ 2275 4700 3362 4812 \nQ 4450 4925 4925 5075 \nQ 5025 4825 5300 4575 \nz\nM 4650 2300 \nL 4650 2650 \nL 3425 2650 \nL 3425 2300 \nL 4650 2300 \nz\nM 2925 2300 \nL 2925 2650 \nL 1750 2650 \nL 1750 2300 \nL 2925 2300 \nz\nM 4625 1575 \nL 4625 1900 \nL 3425 1900 \nL 3425 1575 \nL 4625 1575 \nz\nM 2925 1575 \nL 2925 1900 \nL 1750 1900 \nL 1750 1575 \nL 2925 1575 \nz\n\" transform=\"scale(0.015625)\"/>\n      <path id=\"SimHei-8981\" d=\"M 5100 5000 \nQ 5475 5000 5950 5025 \nL 5950 4600 \nQ 5475 4625 5100 4625 \nL 4100 4625 \nL 4100 3975 \nL 5500 3975 \nQ 5475 3550 5475 3175 \nQ 5475 2800 5500 2400 \nL 2850 2400 \nQ 3125 2225 3275 2125 \nQ 3050 1975 2950 1850 \nL 5300 1850 \nQ 5700 1850 6150 1900 \nL 6150 1425 \nQ 5700 1450 5275 1450 \nL 4550 1450 \nQ 4300 1025 3875 525 \nQ 5000 225 6000 -125 \nQ 5750 -300 5600 -550 \nQ 4650 -125 3500 200 \nQ 3150 -50 2612 -250 \nQ 2075 -450 1587 -525 \nQ 1100 -600 700 -650 \nQ 625 -325 375 -125 \nQ 850 -150 1375 -100 \nQ 1900 -50 2325 87 \nQ 2750 225 3000 375 \nQ 2175 575 1375 725 \nQ 1750 1100 2075 1450 \nL 1025 1450 \nQ 600 1450 200 1425 \nL 200 1875 \nQ 700 1850 1025 1850 \nL 2350 1850 \nQ 2600 2150 2750 2400 \nL 900 2400 \nQ 925 2800 925 3175 \nQ 925 3550 900 3975 \nL 2275 3975 \nL 2275 4625 \nL 1300 4625 \nQ 875 4625 400 4600 \nL 400 5025 \nQ 875 5000 1275 5000 \nL 5100 5000 \nz\nM 2225 975 \nQ 2625 900 3400 675 \nQ 3700 975 4025 1450 \nL 2675 1450 \nQ 2450 1225 2225 975 \nz\nM 3650 2775 \nL 3650 3575 \nL 2750 3575 \nL 2750 2775 \nL 3650 2775 \nz\nM 5000 2775 \nL 5000 3575 \nL 4100 3575 \nL 4100 2775 \nL 5000 2775 \nz\nM 2275 2775 \nL 2275 3575 \nL 1400 3575 \nL 1400 2775 \nL 2275 2775 \nz\nM 3650 3975 \nL 3650 4625 \nL 2750 4625 \nL 2750 3975 \nL 3650 3975 \nz\n\" transform=\"scale(0.015625)\"/>\n     </defs>\n     <use xlink:href=\"#SimHei-91cd\"/>\n     <use xlink:href=\"#SimHei-8981\" x=\"100\"/>\n     <use xlink:href=\"#SimHei-4ef7\" x=\"200\"/>\n     <use xlink:href=\"#SimHei-503c\" x=\"300\"/>\n     <use xlink:href=\"#SimHei-7528\" x=\"400\"/>\n     <use xlink:href=\"#SimHei-6237\" x=\"500\"/>\n    </g>\n   </g>\n   <g id=\"text_7\">\n    <!-- 重要保持用户 -->\n    <g transform=\"translate(229.554704 251.424103) scale(0.1 -0.1)\">\n     <use xlink:href=\"#SimHei-91cd\"/>\n     <use xlink:href=\"#SimHei-8981\" x=\"100\"/>\n     <use xlink:href=\"#SimHei-4fdd\" x=\"200\"/>\n     <use xlink:href=\"#SimHei-6301\" x=\"300\"/>\n     <use xlink:href=\"#SimHei-7528\" x=\"400\"/>\n     <use xlink:href=\"#SimHei-6237\" x=\"500\"/>\n    </g>\n   </g>\n   <g id=\"text_8\">\n    <!-- 重要发展用户 -->\n    <g transform=\"translate(264.408968 228.619842) scale(0.1 -0.1)\">\n     <use xlink:href=\"#SimHei-91cd\"/>\n     <use xlink:href=\"#SimHei-8981\" x=\"100\"/>\n     <use xlink:href=\"#SimHei-53d1\" x=\"200\"/>\n     <use xlink:href=\"#SimHei-5c55\" x=\"300\"/>\n     <use xlink:href=\"#SimHei-7528\" x=\"400\"/>\n     <use xlink:href=\"#SimHei-6237\" x=\"500\"/>\n    </g>\n   </g>\n   <g id=\"text_9\">\n    <!-- 重要挽留用户 -->\n    <g transform=\"translate(295.973836 177.281447) scale(0.1 -0.1)\">\n     <use xlink:href=\"#SimHei-91cd\"/>\n     <use xlink:href=\"#SimHei-8981\" x=\"100\"/>\n     <use xlink:href=\"#SimHei-633d\" x=\"200\"/>\n     <use xlink:href=\"#SimHei-7559\" x=\"300\"/>\n     <use xlink:href=\"#SimHei-7528\" x=\"400\"/>\n     <use xlink:href=\"#SimHei-6237\" x=\"500\"/>\n    </g>\n   </g>\n  </g>\n </g>\n</svg>\n"
     },
     "metadata": {},
     "output_type": "display_data"
    }
   ],
   "source": [
    "ser.plot(kind='pie')"
   ],
   "metadata": {
    "collapsed": false
   }
  },
  {
   "cell_type": "code",
   "execution_count": null,
   "outputs": [],
   "source": [],
   "metadata": {
    "collapsed": false
   }
  },
  {
   "cell_type": "markdown",
   "source": [
    "逻辑斯蒂回归\n",
    "锋云智慧 --> 注册\n",
    "http://pt.1000phone.com/joinClassroom/1560/1676971232178\n",
    "\n",
    "视频资源 python 课程  收看数据"
   ],
   "metadata": {
    "collapsed": false
   }
  },
  {
   "cell_type": "markdown",
   "source": [],
   "metadata": {
    "collapsed": false
   }
  },
  {
   "cell_type": "code",
   "execution_count": null,
   "outputs": [],
   "source": [],
   "metadata": {
    "collapsed": false
   }
  }
 ],
 "metadata": {
  "kernelspec": {
   "display_name": "Python 3 (ipykernel)",
   "language": "python",
   "name": "python3"
  },
  "language_info": {
   "codemirror_mode": {
    "name": "ipython",
    "version": 3
   },
   "file_extension": ".py",
   "mimetype": "text/x-python",
   "name": "python",
   "nbconvert_exporter": "python",
   "pygments_lexer": "ipython3",
   "version": "3.8.7"
  }
 },
 "nbformat": 4,
 "nbformat_minor": 1
}
