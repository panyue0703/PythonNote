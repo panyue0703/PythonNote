{
 "cells": [
  {
   "cell_type": "code",
   "execution_count": 1,
   "outputs": [],
   "source": [
    "from pyecharts.charts import Bar\n",
    "from pyecharts import options as opts\n",
    "import pandas as pd"
   ],
   "metadata": {
    "collapsed": false
   }
  },
  {
   "cell_type": "code",
   "execution_count": 6,
   "outputs": [],
   "source": [
    "# 读取文件\n",
    "df = pd.read_excel('./work_all_2.xls')"
   ],
   "metadata": {
    "collapsed": false
   }
  },
  {
   "cell_type": "code",
   "execution_count": 7,
   "outputs": [
    {
     "data": {
      "text/plain": "               job_title           company person_number     salary    path  \\\n0                  数据分析师     北京与车行信息技术有限公司       20-99人   1.2万-1.8万   北京-朝阳   \n1                数据处理工程师        南京思影科技有限公司       20-99人     1.2万-2万  北京-石景山   \n2                   数据分析   北京中关村科技融资担保有限公司     100-299人     2万-3.5万      北京   \n3                  数据分析师     内蒙古钛驰新迪商务有限公司       20-99人     8千-1.5万   北京-海淀   \n4          数据分析师（报告写作方向）     北京新媒体(集团)有限公司     100-299人     1万-1.5万   北京-朝阳   \n...                  ...               ...           ...        ...     ...   \n3670  数据开发工程师（2023届校园招聘）              新意科技     500-999人   150-200/天   福州-鼓楼   \n3671     软件开发中级工程师（数据仓库）             新大陆软件   1000-9999人     8千-1.4万      福州   \n3672    JAVA工程师（大数据开发方向）      福州飞豹电子商务有限公司       20-99人     1万-1.8万      福州   \n3673            大数据开发工程师      江苏正瑞信息科技有限公司       20-99人   1.3万-1.8万   福州-鼓楼   \n3674            大数据开发工程师  厦门至恒融兴信息技术股份有限公司   1000-9999人       1万-2万   福州-鼓楼   \n\n       work edu                                              skill  \n0      3-5年  本科                          数据挖掘数据采集行业分析大数据平台数据监控数据分析  \n1        不限  本科                               MATLABPython机器学习神经网络  \n2     5-10年  本科       PythonSQLSASPower BI商业数据分析金融数据分析风控数据分析财务数据分析  \n3      1年以下  大专           Java商业数据分析运营数据分析财务数据分析风控数据分析游戏数据分析销售数据分析  \n4      1-3年  本科                                         舆情分析运营数据分析  \n...     ...  ..                                                ...  \n3670    无经验  本科                                         JavaOracle  \n3671   3-5年  本科                                               数据仓库  \n3672   1-3年  本科  MySQLHTMLCSSMemcacheDBSpringBootSpringCloudJav...  \n3673   3-5年  大专             数据中台数仓开发JavaHadoopOracleMySQL数据平台HBase  \n3674  5-10年  本科                    PythonHadoopFlinkShellSparkHIVE  \n\n[3675 rows x 8 columns]",
      "text/html": "<div>\n<style scoped>\n    .dataframe tbody tr th:only-of-type {\n        vertical-align: middle;\n    }\n\n    .dataframe tbody tr th {\n        vertical-align: top;\n    }\n\n    .dataframe thead th {\n        text-align: right;\n    }\n</style>\n<table border=\"1\" class=\"dataframe\">\n  <thead>\n    <tr style=\"text-align: right;\">\n      <th></th>\n      <th>job_title</th>\n      <th>company</th>\n      <th>person_number</th>\n      <th>salary</th>\n      <th>path</th>\n      <th>work</th>\n      <th>edu</th>\n      <th>skill</th>\n    </tr>\n  </thead>\n  <tbody>\n    <tr>\n      <th>0</th>\n      <td>数据分析师</td>\n      <td>北京与车行信息技术有限公司</td>\n      <td>20-99人</td>\n      <td>1.2万-1.8万</td>\n      <td>北京-朝阳</td>\n      <td>3-5年</td>\n      <td>本科</td>\n      <td>数据挖掘数据采集行业分析大数据平台数据监控数据分析</td>\n    </tr>\n    <tr>\n      <th>1</th>\n      <td>数据处理工程师</td>\n      <td>南京思影科技有限公司</td>\n      <td>20-99人</td>\n      <td>1.2万-2万</td>\n      <td>北京-石景山</td>\n      <td>不限</td>\n      <td>本科</td>\n      <td>MATLABPython机器学习神经网络</td>\n    </tr>\n    <tr>\n      <th>2</th>\n      <td>数据分析</td>\n      <td>北京中关村科技融资担保有限公司</td>\n      <td>100-299人</td>\n      <td>2万-3.5万</td>\n      <td>北京</td>\n      <td>5-10年</td>\n      <td>本科</td>\n      <td>PythonSQLSASPower BI商业数据分析金融数据分析风控数据分析财务数据分析</td>\n    </tr>\n    <tr>\n      <th>3</th>\n      <td>数据分析师</td>\n      <td>内蒙古钛驰新迪商务有限公司</td>\n      <td>20-99人</td>\n      <td>8千-1.5万</td>\n      <td>北京-海淀</td>\n      <td>1年以下</td>\n      <td>大专</td>\n      <td>Java商业数据分析运营数据分析财务数据分析风控数据分析游戏数据分析销售数据分析</td>\n    </tr>\n    <tr>\n      <th>4</th>\n      <td>数据分析师（报告写作方向）</td>\n      <td>北京新媒体(集团)有限公司</td>\n      <td>100-299人</td>\n      <td>1万-1.5万</td>\n      <td>北京-朝阳</td>\n      <td>1-3年</td>\n      <td>本科</td>\n      <td>舆情分析运营数据分析</td>\n    </tr>\n    <tr>\n      <th>...</th>\n      <td>...</td>\n      <td>...</td>\n      <td>...</td>\n      <td>...</td>\n      <td>...</td>\n      <td>...</td>\n      <td>...</td>\n      <td>...</td>\n    </tr>\n    <tr>\n      <th>3670</th>\n      <td>数据开发工程师（2023届校园招聘）</td>\n      <td>新意科技</td>\n      <td>500-999人</td>\n      <td>150-200/天</td>\n      <td>福州-鼓楼</td>\n      <td>无经验</td>\n      <td>本科</td>\n      <td>JavaOracle</td>\n    </tr>\n    <tr>\n      <th>3671</th>\n      <td>软件开发中级工程师（数据仓库）</td>\n      <td>新大陆软件</td>\n      <td>1000-9999人</td>\n      <td>8千-1.4万</td>\n      <td>福州</td>\n      <td>3-5年</td>\n      <td>本科</td>\n      <td>数据仓库</td>\n    </tr>\n    <tr>\n      <th>3672</th>\n      <td>JAVA工程师（大数据开发方向）</td>\n      <td>福州飞豹电子商务有限公司</td>\n      <td>20-99人</td>\n      <td>1万-1.8万</td>\n      <td>福州</td>\n      <td>1-3年</td>\n      <td>本科</td>\n      <td>MySQLHTMLCSSMemcacheDBSpringBootSpringCloudJav...</td>\n    </tr>\n    <tr>\n      <th>3673</th>\n      <td>大数据开发工程师</td>\n      <td>江苏正瑞信息科技有限公司</td>\n      <td>20-99人</td>\n      <td>1.3万-1.8万</td>\n      <td>福州-鼓楼</td>\n      <td>3-5年</td>\n      <td>大专</td>\n      <td>数据中台数仓开发JavaHadoopOracleMySQL数据平台HBase</td>\n    </tr>\n    <tr>\n      <th>3674</th>\n      <td>大数据开发工程师</td>\n      <td>厦门至恒融兴信息技术股份有限公司</td>\n      <td>1000-9999人</td>\n      <td>1万-2万</td>\n      <td>福州-鼓楼</td>\n      <td>5-10年</td>\n      <td>本科</td>\n      <td>PythonHadoopFlinkShellSparkHIVE</td>\n    </tr>\n  </tbody>\n</table>\n<p>3675 rows × 8 columns</p>\n</div>"
     },
     "execution_count": 7,
     "metadata": {},
     "output_type": "execute_result"
    }
   ],
   "source": [
    "df"
   ],
   "metadata": {
    "collapsed": false
   }
  },
  {
   "cell_type": "code",
   "execution_count": 8,
   "outputs": [],
   "source": [
    "df.fillna(df.person_number.mode()[0])\n",
    "df.salary = df.salary.str.replace('面议', df.salary.mode()[0])"
   ],
   "metadata": {
    "collapsed": false
   }
  },
  {
   "cell_type": "code",
   "execution_count": 9,
   "outputs": [],
   "source": [
    "# 修改单位\n",
    "df.salary = df.salary.str.replace('180-240/天', '4千-5.2千')\n",
    "df.salary = df.salary.str.replace('100-150/天', '2.2千-3.3千')\n",
    "df.salary = df.salary.str.replace('150-200/天', '3.3千-4.4千')\n",
    "df.salary = df.salary.str.replace('190-200/天', '4千-4.4千')\n",
    "df.salary = df.salary.str.replace('100-200/天', '2.2千-4.4千')"
   ],
   "metadata": {
    "collapsed": false
   }
  },
  {
   "cell_type": "code",
   "execution_count": 10,
   "outputs": [
    {
     "name": "stderr",
     "output_type": "stream",
     "text": [
      "E:\\Users\\panyue\\AppData\\Local\\Temp\\ipykernel_17544\\18439938.py:12: FutureWarning: In a future version of pandas all arguments of StringMethods.split except for the argument 'pat' will be keyword-only.\n",
      "  df[['min_salary', 'max_salary']] = df.salary.str.split('-', 2, expand=True)\n"
     ]
    }
   ],
   "source": [
    "# 删除非必要\n",
    "def handle(salary):\n",
    "    if type(salary) == str:\n",
    "        if salary[-1] == '万':\n",
    "            salary = float(salary[:-1]) * 10000\n",
    "        elif salary[-1] == '千':\n",
    "            salary = float(salary[:-1]) * 1000\n",
    "        else:\n",
    "            salary = float(salary)\n",
    "    return salary\n",
    "\n",
    "df[['min_salary', 'max_salary']] = df.salary.str.split('-', 2, expand=True)\n",
    "df.min_salary = df.min_salary.map(lambda salary: handle(salary))\n",
    "df.max_salary = df.max_salary.map(lambda salary: handle(salary))\n",
    "df['avg_salary'] = (df.min_salary + df.max_salary) / 2"
   ],
   "metadata": {
    "collapsed": false
   }
  },
  {
   "cell_type": "code",
   "execution_count": 11,
   "outputs": [
    {
     "name": "stderr",
     "output_type": "stream",
     "text": [
      "E:\\Users\\panyue\\AppData\\Local\\Temp\\ipykernel_17544\\1952540481.py:4: SettingWithCopyWarning: \n",
      "A value is trying to be set on a copy of a slice from a DataFrame\n",
      "\n",
      "See the caveats in the documentation: https://pandas.pydata.org/pandas-docs/stable/user_guide/indexing.html#returning-a-view-versus-a-copy\n",
      "  df.drop(columns=['min_salary', 'salary', 'max_salary'], inplace=True)\n",
      "E:\\Users\\panyue\\AppData\\Local\\Temp\\ipykernel_17544\\1952540481.py:5: SettingWithCopyWarning: \n",
      "A value is trying to be set on a copy of a slice from a DataFrame.\n",
      "Try using .loc[row_indexer,col_indexer] = value instead\n",
      "\n",
      "See the caveats in the documentation: https://pandas.pydata.org/pandas-docs/stable/user_guide/indexing.html#returning-a-view-versus-a-copy\n",
      "  df['city'] = df.path.str[:2]\n"
     ]
    }
   ],
   "source": [
    "# 清楚不健康数据\n",
    "max_num = df.avg_salary.describe([.99])['99%']\n",
    "df = df[df.avg_salary < max_num]\n",
    "df.drop(columns=['min_salary', 'salary', 'max_salary'], inplace=True)\n",
    "df['city'] = df.path.str[:2]\n",
    "edu_salary = df.groupby(by='edu').avg_salary"
   ],
   "metadata": {
    "collapsed": false
   }
  },
  {
   "cell_type": "code",
   "execution_count": 18,
   "outputs": [
    {
     "name": "stdout",
     "output_type": "stream",
     "text": [
      "('中专/中技', 679      6000.0\n",
      "1035    21500.0\n",
      "1544    10500.0\n",
      "1808     5000.0\n",
      "1855     5000.0\n",
      "2246    22500.0\n",
      "2662    15500.0\n",
      "2910     7500.0\n",
      "Name: avg_salary, dtype: float64)\n",
      "('博士', 1778    25000.0\n",
      "2017    20000.0\n",
      "2021    25000.0\n",
      "2399    30000.0\n",
      "2404    30000.0\n",
      "2898    30000.0\n",
      "Name: avg_salary, dtype: float64)\n",
      "('大专', 3       11500.0\n",
      "5       10000.0\n",
      "8       10000.0\n",
      "9       10500.0\n",
      "10      12500.0\n",
      "         ...   \n",
      "3635     7500.0\n",
      "3636     5500.0\n",
      "3664    10000.0\n",
      "3668    15000.0\n",
      "3673    15500.0\n",
      "Name: avg_salary, Length: 1057, dtype: float64)\n",
      "('学历不限', 195     11500.0\n",
      "217     12500.0\n",
      "266      5500.0\n",
      "350     12500.0\n",
      "364     12500.0\n",
      "421      7500.0\n",
      "500      9500.0\n",
      "691      8000.0\n",
      "712     17000.0\n",
      "788     18000.0\n",
      "810      9000.0\n",
      "1014    12000.0\n",
      "1237    16500.0\n",
      "1246     9000.0\n",
      "1280    11500.0\n",
      "1447     3500.0\n",
      "1454    13000.0\n",
      "1480    16500.0\n",
      "1663    14500.0\n",
      "1707    23500.0\n",
      "1821     6000.0\n",
      "1836     6500.0\n",
      "1885    21500.0\n",
      "1896    12500.0\n",
      "1945    10500.0\n",
      "1971    10500.0\n",
      "2106     5500.0\n",
      "2460    20000.0\n",
      "2489     7000.0\n",
      "2490     8000.0\n",
      "2495     6000.0\n",
      "2510     7000.0\n",
      "2515     6500.0\n",
      "2783    20000.0\n",
      "2912     6500.0\n",
      "2992     7500.0\n",
      "3105     9500.0\n",
      "3244     7000.0\n",
      "3265     8500.0\n",
      "3280     7000.0\n",
      "3422     5000.0\n",
      "3429     8500.0\n",
      "3448    11500.0\n",
      "Name: avg_salary, dtype: float64)\n",
      "('本科', 0       15000.0\n",
      "1       16000.0\n",
      "2       27500.0\n",
      "4       12500.0\n",
      "6        8000.0\n",
      "         ...   \n",
      "3669    11500.0\n",
      "3670     3850.0\n",
      "3671    11000.0\n",
      "3672    14000.0\n",
      "3674    15000.0\n",
      "Name: avg_salary, Length: 2389, dtype: float64)\n",
      "('硕士', 39      11500.0\n",
      "62       9000.0\n",
      "64      11500.0\n",
      "80      22500.0\n",
      "82      16000.0\n",
      "         ...   \n",
      "3190    11500.0\n",
      "3208    11000.0\n",
      "3328    15500.0\n",
      "3417    10500.0\n",
      "3456    15000.0\n",
      "Name: avg_salary, Length: 128, dtype: float64)\n",
      "('高中', 3217     9000.0\n",
      "3228     6500.0\n",
      "3291    11500.0\n",
      "3565     7500.0\n",
      "Name: avg_salary, dtype: float64)\n"
     ]
    }
   ],
   "source": [
    "for i in edu_salary:\n",
    "    print(i)"
   ],
   "metadata": {
    "collapsed": false
   }
  },
  {
   "cell_type": "code",
   "execution_count": 12,
   "outputs": [
    {
     "data": {
      "text/plain": "               job_title           company person_number    path   work edu  \\\n0                  数据分析师     北京与车行信息技术有限公司       20-99人    北京-朝阳   3-5年  本科   \n1                数据处理工程师        南京思影科技有限公司       20-99人   北京-石景山     不限  本科   \n2                   数据分析   北京中关村科技融资担保有限公司     100-299人       北京  5-10年  本科   \n3                  数据分析师     内蒙古钛驰新迪商务有限公司       20-99人    北京-海淀   1年以下  大专   \n4          数据分析师（报告写作方向）     北京新媒体(集团)有限公司     100-299人    北京-朝阳   1-3年  本科   \n...                  ...               ...           ...     ...    ...  ..   \n3670  数据开发工程师（2023届校园招聘）              新意科技     500-999人    福州-鼓楼    无经验  本科   \n3671     软件开发中级工程师（数据仓库）             新大陆软件   1000-9999人       福州   3-5年  本科   \n3672    JAVA工程师（大数据开发方向）      福州飞豹电子商务有限公司       20-99人       福州   1-3年  本科   \n3673            大数据开发工程师      江苏正瑞信息科技有限公司       20-99人    福州-鼓楼   3-5年  大专   \n3674            大数据开发工程师  厦门至恒融兴信息技术股份有限公司   1000-9999人    福州-鼓楼  5-10年  本科   \n\n                                                  skill  avg_salary city  \n0                             数据挖掘数据采集行业分析大数据平台数据监控数据分析     15000.0   北京  \n1                                  MATLABPython机器学习神经网络     16000.0   北京  \n2          PythonSQLSASPower BI商业数据分析金融数据分析风控数据分析财务数据分析     27500.0   北京  \n3              Java商业数据分析运营数据分析财务数据分析风控数据分析游戏数据分析销售数据分析     11500.0   北京  \n4                                            舆情分析运营数据分析     12500.0   北京  \n...                                                 ...         ...  ...  \n3670                                         JavaOracle      3850.0   福州  \n3671                                               数据仓库     11000.0   福州  \n3672  MySQLHTMLCSSMemcacheDBSpringBootSpringCloudJav...     14000.0   福州  \n3673             数据中台数仓开发JavaHadoopOracleMySQL数据平台HBase     15500.0   福州  \n3674                    PythonHadoopFlinkShellSparkHIVE     15000.0   福州  \n\n[3635 rows x 9 columns]",
      "text/html": "<div>\n<style scoped>\n    .dataframe tbody tr th:only-of-type {\n        vertical-align: middle;\n    }\n\n    .dataframe tbody tr th {\n        vertical-align: top;\n    }\n\n    .dataframe thead th {\n        text-align: right;\n    }\n</style>\n<table border=\"1\" class=\"dataframe\">\n  <thead>\n    <tr style=\"text-align: right;\">\n      <th></th>\n      <th>job_title</th>\n      <th>company</th>\n      <th>person_number</th>\n      <th>path</th>\n      <th>work</th>\n      <th>edu</th>\n      <th>skill</th>\n      <th>avg_salary</th>\n      <th>city</th>\n    </tr>\n  </thead>\n  <tbody>\n    <tr>\n      <th>0</th>\n      <td>数据分析师</td>\n      <td>北京与车行信息技术有限公司</td>\n      <td>20-99人</td>\n      <td>北京-朝阳</td>\n      <td>3-5年</td>\n      <td>本科</td>\n      <td>数据挖掘数据采集行业分析大数据平台数据监控数据分析</td>\n      <td>15000.0</td>\n      <td>北京</td>\n    </tr>\n    <tr>\n      <th>1</th>\n      <td>数据处理工程师</td>\n      <td>南京思影科技有限公司</td>\n      <td>20-99人</td>\n      <td>北京-石景山</td>\n      <td>不限</td>\n      <td>本科</td>\n      <td>MATLABPython机器学习神经网络</td>\n      <td>16000.0</td>\n      <td>北京</td>\n    </tr>\n    <tr>\n      <th>2</th>\n      <td>数据分析</td>\n      <td>北京中关村科技融资担保有限公司</td>\n      <td>100-299人</td>\n      <td>北京</td>\n      <td>5-10年</td>\n      <td>本科</td>\n      <td>PythonSQLSASPower BI商业数据分析金融数据分析风控数据分析财务数据分析</td>\n      <td>27500.0</td>\n      <td>北京</td>\n    </tr>\n    <tr>\n      <th>3</th>\n      <td>数据分析师</td>\n      <td>内蒙古钛驰新迪商务有限公司</td>\n      <td>20-99人</td>\n      <td>北京-海淀</td>\n      <td>1年以下</td>\n      <td>大专</td>\n      <td>Java商业数据分析运营数据分析财务数据分析风控数据分析游戏数据分析销售数据分析</td>\n      <td>11500.0</td>\n      <td>北京</td>\n    </tr>\n    <tr>\n      <th>4</th>\n      <td>数据分析师（报告写作方向）</td>\n      <td>北京新媒体(集团)有限公司</td>\n      <td>100-299人</td>\n      <td>北京-朝阳</td>\n      <td>1-3年</td>\n      <td>本科</td>\n      <td>舆情分析运营数据分析</td>\n      <td>12500.0</td>\n      <td>北京</td>\n    </tr>\n    <tr>\n      <th>...</th>\n      <td>...</td>\n      <td>...</td>\n      <td>...</td>\n      <td>...</td>\n      <td>...</td>\n      <td>...</td>\n      <td>...</td>\n      <td>...</td>\n      <td>...</td>\n    </tr>\n    <tr>\n      <th>3670</th>\n      <td>数据开发工程师（2023届校园招聘）</td>\n      <td>新意科技</td>\n      <td>500-999人</td>\n      <td>福州-鼓楼</td>\n      <td>无经验</td>\n      <td>本科</td>\n      <td>JavaOracle</td>\n      <td>3850.0</td>\n      <td>福州</td>\n    </tr>\n    <tr>\n      <th>3671</th>\n      <td>软件开发中级工程师（数据仓库）</td>\n      <td>新大陆软件</td>\n      <td>1000-9999人</td>\n      <td>福州</td>\n      <td>3-5年</td>\n      <td>本科</td>\n      <td>数据仓库</td>\n      <td>11000.0</td>\n      <td>福州</td>\n    </tr>\n    <tr>\n      <th>3672</th>\n      <td>JAVA工程师（大数据开发方向）</td>\n      <td>福州飞豹电子商务有限公司</td>\n      <td>20-99人</td>\n      <td>福州</td>\n      <td>1-3年</td>\n      <td>本科</td>\n      <td>MySQLHTMLCSSMemcacheDBSpringBootSpringCloudJav...</td>\n      <td>14000.0</td>\n      <td>福州</td>\n    </tr>\n    <tr>\n      <th>3673</th>\n      <td>大数据开发工程师</td>\n      <td>江苏正瑞信息科技有限公司</td>\n      <td>20-99人</td>\n      <td>福州-鼓楼</td>\n      <td>3-5年</td>\n      <td>大专</td>\n      <td>数据中台数仓开发JavaHadoopOracleMySQL数据平台HBase</td>\n      <td>15500.0</td>\n      <td>福州</td>\n    </tr>\n    <tr>\n      <th>3674</th>\n      <td>大数据开发工程师</td>\n      <td>厦门至恒融兴信息技术股份有限公司</td>\n      <td>1000-9999人</td>\n      <td>福州-鼓楼</td>\n      <td>5-10年</td>\n      <td>本科</td>\n      <td>PythonHadoopFlinkShellSparkHIVE</td>\n      <td>15000.0</td>\n      <td>福州</td>\n    </tr>\n  </tbody>\n</table>\n<p>3635 rows × 9 columns</p>\n</div>"
     },
     "execution_count": 12,
     "metadata": {},
     "output_type": "execute_result"
    }
   ],
   "source": [
    "df"
   ],
   "metadata": {
    "collapsed": false
   }
  },
  {
   "cell_type": "code",
   "execution_count": 19,
   "outputs": [],
   "source": [
    "edu_salary_avg = edu_salary.mean()\n",
    "# 取出学历和对应平均薪资\n",
    "avg_salary_edu = edu_salary_avg.index.tolist()\n",
    "avg_value_edu = edu_salary_avg.values.tolist()"
   ],
   "metadata": {
    "collapsed": false
   }
  },
  {
   "cell_type": "code",
   "execution_count": 20,
   "outputs": [
    {
     "data": {
      "text/plain": "['中专/中技', '博士', '大专', '学历不限', '本科', '硕士', '高中']"
     },
     "execution_count": 20,
     "metadata": {},
     "output_type": "execute_result"
    }
   ],
   "source": [
    "avg_salary_edu"
   ],
   "metadata": {
    "collapsed": false
   }
  },
  {
   "cell_type": "code",
   "execution_count": 21,
   "outputs": [
    {
     "data": {
      "text/plain": "[11687.5,\n 26666.666666666668,\n 9761.684011352885,\n 10744.186046511628,\n 13345.123482628715,\n 14277.34375,\n 8625.0]"
     },
     "execution_count": 21,
     "metadata": {},
     "output_type": "execute_result"
    }
   ],
   "source": [
    "avg_value_edu"
   ],
   "metadata": {
    "collapsed": false
   }
  },
  {
   "cell_type": "code",
   "execution_count": 25,
   "outputs": [],
   "source": [
    "A = (\n",
    "    Bar()\n",
    "    .add_xaxis(avg_salary_edu)\n",
    "    .add_yaxis(\"平均薪资\",avg_value_edu)\n",
    "    .set_global_opts(\n",
    "        title_opts=opts.TitleOpts(title='学历水平对平均薪资的影响'),\n",
    "        yaxis_opts=opts.AxisOpts(name='平均薪资（单位：元）'),\n",
    "        xaxis_opts=opts.AxisOpts(name='学历水平')\n",
    "    )\n",
    "    .render_notebook()\n",
    "#    .render(\"学历水平对平均薪资的影响.html\")\n",
    ")"
   ],
   "metadata": {
    "collapsed": false
   }
  },
  {
   "cell_type": "code",
   "execution_count": 28,
   "outputs": [
    {
     "data": {
      "text/plain": "<pyecharts.render.display.HTML at 0x1c4549309a0>",
      "text/html": "\n<script>\n    require.config({\n        paths: {\n            'echarts':'https://assets.pyecharts.org/assets/v5/echarts.min'\n        }\n    });\n</script>\n\n        <div id=\"2ebaefef8d974f3baa5530f8fa1a77e6\" style=\"width:900px; height:500px;\"></div>\n\n<script>\n        require(['echarts'], function(echarts) {\n                var chart_2ebaefef8d974f3baa5530f8fa1a77e6 = echarts.init(\n                    document.getElementById('2ebaefef8d974f3baa5530f8fa1a77e6'), 'white', {renderer: 'canvas'});\n                var option_2ebaefef8d974f3baa5530f8fa1a77e6 = {\n    \"animation\": true,\n    \"animationThreshold\": 2000,\n    \"animationDuration\": 1000,\n    \"animationEasing\": \"cubicOut\",\n    \"animationDelay\": 0,\n    \"animationDurationUpdate\": 300,\n    \"animationEasingUpdate\": \"cubicOut\",\n    \"animationDelayUpdate\": 0,\n    \"aria\": {\n        \"enabled\": false\n    },\n    \"color\": [\n        \"#5470c6\",\n        \"#91cc75\",\n        \"#fac858\",\n        \"#ee6666\",\n        \"#73c0de\",\n        \"#3ba272\",\n        \"#fc8452\",\n        \"#9a60b4\",\n        \"#ea7ccc\"\n    ],\n    \"series\": [\n        {\n            \"type\": \"bar\",\n            \"name\": \"\\u5e73\\u5747\\u85aa\\u8d44\",\n            \"legendHoverLink\": true,\n            \"data\": [\n                11687.5,\n                26666.666666666668,\n                9761.684011352885,\n                10744.186046511628,\n                13345.123482628715,\n                14277.34375,\n                8625.0\n            ],\n            \"realtimeSort\": false,\n            \"showBackground\": false,\n            \"stackStrategy\": \"samesign\",\n            \"cursor\": \"pointer\",\n            \"barMinHeight\": 0,\n            \"barCategoryGap\": \"20%\",\n            \"barGap\": \"30%\",\n            \"large\": false,\n            \"largeThreshold\": 400,\n            \"seriesLayoutBy\": \"column\",\n            \"datasetIndex\": 0,\n            \"clip\": true,\n            \"zlevel\": 0,\n            \"z\": 2,\n            \"label\": {\n                \"show\": true,\n                \"margin\": 8\n            }\n        }\n    ],\n    \"legend\": [\n        {\n            \"data\": [\n                \"\\u5e73\\u5747\\u85aa\\u8d44\"\n            ],\n            \"selected\": {\n                \"\\u5e73\\u5747\\u85aa\\u8d44\": true\n            },\n            \"show\": true,\n            \"padding\": 5,\n            \"itemGap\": 10,\n            \"itemWidth\": 25,\n            \"itemHeight\": 14,\n            \"backgroundColor\": \"transparent\",\n            \"borderColor\": \"#ccc\",\n            \"borderWidth\": 1,\n            \"borderRadius\": 0,\n            \"pageButtonItemGap\": 5,\n            \"pageButtonPosition\": \"end\",\n            \"pageFormatter\": \"{current}/{total}\",\n            \"pageIconColor\": \"#2f4554\",\n            \"pageIconInactiveColor\": \"#aaa\",\n            \"pageIconSize\": 15,\n            \"animationDurationUpdate\": 800,\n            \"selector\": false,\n            \"selectorPosition\": \"auto\",\n            \"selectorItemGap\": 7,\n            \"selectorButtonGap\": 10\n        }\n    ],\n    \"tooltip\": {\n        \"show\": true,\n        \"trigger\": \"item\",\n        \"triggerOn\": \"mousemove|click\",\n        \"axisPointer\": {\n            \"type\": \"line\"\n        },\n        \"showContent\": true,\n        \"alwaysShowContent\": false,\n        \"showDelay\": 0,\n        \"hideDelay\": 100,\n        \"enterable\": false,\n        \"confine\": false,\n        \"appendToBody\": false,\n        \"transitionDuration\": 0.4,\n        \"textStyle\": {\n            \"fontSize\": 14\n        },\n        \"borderWidth\": 0,\n        \"padding\": 5,\n        \"order\": \"seriesAsc\"\n    },\n    \"xAxis\": [\n        {\n            \"name\": \"\\u5b66\\u5386\\u6c34\\u5e73\",\n            \"show\": true,\n            \"scale\": false,\n            \"nameLocation\": \"end\",\n            \"nameGap\": 15,\n            \"gridIndex\": 0,\n            \"inverse\": false,\n            \"offset\": 0,\n            \"splitNumber\": 5,\n            \"minInterval\": 0,\n            \"splitLine\": {\n                \"show\": true,\n                \"lineStyle\": {\n                    \"show\": true,\n                    \"width\": 1,\n                    \"opacity\": 1,\n                    \"curveness\": 0,\n                    \"type\": \"solid\"\n                }\n            },\n            \"data\": [\n                \"\\u4e2d\\u4e13/\\u4e2d\\u6280\",\n                \"\\u535a\\u58eb\",\n                \"\\u5927\\u4e13\",\n                \"\\u5b66\\u5386\\u4e0d\\u9650\",\n                \"\\u672c\\u79d1\",\n                \"\\u7855\\u58eb\",\n                \"\\u9ad8\\u4e2d\"\n            ]\n        }\n    ],\n    \"yAxis\": [\n        {\n            \"name\": \"\\u5e73\\u5747\\u85aa\\u8d44\\uff08\\u5355\\u4f4d\\uff1a\\u5143\\uff09\",\n            \"show\": true,\n            \"scale\": false,\n            \"nameLocation\": \"end\",\n            \"nameGap\": 15,\n            \"gridIndex\": 0,\n            \"inverse\": false,\n            \"offset\": 0,\n            \"splitNumber\": 5,\n            \"minInterval\": 0,\n            \"splitLine\": {\n                \"show\": true,\n                \"lineStyle\": {\n                    \"show\": true,\n                    \"width\": 1,\n                    \"opacity\": 1,\n                    \"curveness\": 0,\n                    \"type\": \"solid\"\n                }\n            }\n        }\n    ],\n    \"title\": [\n        {\n            \"show\": true,\n            \"text\": \"\\u5b66\\u5386\\u6c34\\u5e73\\u5bf9\\u5e73\\u5747\\u85aa\\u8d44\\u7684\\u5f71\\u54cd\",\n            \"target\": \"blank\",\n            \"subtarget\": \"blank\",\n            \"padding\": 5,\n            \"itemGap\": 10,\n            \"textAlign\": \"auto\",\n            \"textVerticalAlign\": \"auto\",\n            \"triggerEvent\": false\n        }\n    ]\n};\n                chart_2ebaefef8d974f3baa5530f8fa1a77e6.setOption(option_2ebaefef8d974f3baa5530f8fa1a77e6);\n        });\n    </script>\n"
     },
     "execution_count": 28,
     "metadata": {},
     "output_type": "execute_result"
    }
   ],
   "source": [
    "A"
   ],
   "metadata": {
    "collapsed": false
   }
  }
 ],
 "metadata": {
  "kernelspec": {
   "display_name": "Python 3",
   "language": "python",
   "name": "python3"
  },
  "language_info": {
   "codemirror_mode": {
    "name": "ipython",
    "version": 2
   },
   "file_extension": ".py",
   "mimetype": "text/x-python",
   "name": "python",
   "nbconvert_exporter": "python",
   "pygments_lexer": "ipython2",
   "version": "2.7.6"
  }
 },
 "nbformat": 4,
 "nbformat_minor": 0
}
